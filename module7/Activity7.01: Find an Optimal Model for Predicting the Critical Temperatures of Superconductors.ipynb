{
  "nbformat": 4,
  "nbformat_minor": 0,
  "metadata": {
    "kernelspec": {
      "display_name": "Python 3",
      "language": "python",
      "name": "python3"
    },
    "language_info": {
      "codemirror_mode": {
        "name": "ipython",
        "version": 3
      },
      "file_extension": ".py",
      "mimetype": "text/x-python",
      "name": "python",
      "nbconvert_exporter": "python",
      "pygments_lexer": "ipython3",
      "version": "3.7.4"
    },
    "colab": {
      "name": "Activity7.01.ipynb",
      "provenance": [],
      "include_colab_link": true
    }
  },
  "cells": [
    {
      "cell_type": "markdown",
      "metadata": {
        "id": "view-in-github",
        "colab_type": "text"
      },
      "source": [
        "<a href=\"https://colab.research.google.com/github/sandeep92134/The-Data-Science-Workshop-By-Packt/blob/master/module7/Activity7.01%3A%20Find%20an%20Optimal%20Model%20for%20Predicting%20the%20Critical%20Temperatures%20of%20Superconductors.ipynb\" target=\"_parent\"><img src=\"https://colab.research.google.com/assets/colab-badge.svg\" alt=\"Open In Colab\"/></a>"
      ]
    },
    {
      "cell_type": "markdown",
      "metadata": {
        "id": "Lrl8K6o0NcPt"
      },
      "source": [
        "# Superconductivity"
      ]
    },
    {
      "cell_type": "code",
      "metadata": {
        "id": "Ge9Hu2pXNcP6"
      },
      "source": [
        "import pandas as pd\n",
        "from sklearn.linear_model import LinearRegression, Lasso, Ridge\n",
        "from sklearn.model_selection import train_test_split\n",
        "from sklearn.metrics import mean_squared_error\n",
        "from sklearn.pipeline import Pipeline\n",
        "from sklearn.preprocessing import MinMaxScaler, PolynomialFeatures"
      ],
      "execution_count": null,
      "outputs": []
    },
    {
      "cell_type": "code",
      "metadata": {
        "id": "gFFDLZjYNcP8"
      },
      "source": [
        "_df = pd.read_csv('https://raw.githubusercontent.com/PacktWorkshops/The-Data-Science-Workshop/master/Chapter07/Dataset/superconduct/train.csv')"
      ],
      "execution_count": null,
      "outputs": []
    },
    {
      "cell_type": "code",
      "metadata": {
        "id": "ybHhYb6SNcP9",
        "outputId": "49a8ba54-fb18-49d9-f750-9dd239f82572"
      },
      "source": [
        "_df.info()"
      ],
      "execution_count": null,
      "outputs": [
        {
          "output_type": "stream",
          "text": [
            "<class 'pandas.core.frame.DataFrame'>\n",
            "RangeIndex: 21263 entries, 0 to 21262\n",
            "Data columns (total 82 columns):\n",
            "number_of_elements                 21263 non-null int64\n",
            "mean_atomic_mass                   21263 non-null float64\n",
            "wtd_mean_atomic_mass               21263 non-null float64\n",
            "gmean_atomic_mass                  21263 non-null float64\n",
            "wtd_gmean_atomic_mass              21263 non-null float64\n",
            "entropy_atomic_mass                21263 non-null float64\n",
            "wtd_entropy_atomic_mass            21263 non-null float64\n",
            "range_atomic_mass                  21263 non-null float64\n",
            "wtd_range_atomic_mass              21263 non-null float64\n",
            "std_atomic_mass                    21263 non-null float64\n",
            "wtd_std_atomic_mass                21263 non-null float64\n",
            "mean_fie                           21263 non-null float64\n",
            "wtd_mean_fie                       21263 non-null float64\n",
            "gmean_fie                          21263 non-null float64\n",
            "wtd_gmean_fie                      21263 non-null float64\n",
            "entropy_fie                        21263 non-null float64\n",
            "wtd_entropy_fie                    21263 non-null float64\n",
            "range_fie                          21263 non-null float64\n",
            "wtd_range_fie                      21263 non-null float64\n",
            "std_fie                            21263 non-null float64\n",
            "wtd_std_fie                        21263 non-null float64\n",
            "mean_atomic_radius                 21263 non-null float64\n",
            "wtd_mean_atomic_radius             21263 non-null float64\n",
            "gmean_atomic_radius                21263 non-null float64\n",
            "wtd_gmean_atomic_radius            21263 non-null float64\n",
            "entropy_atomic_radius              21263 non-null float64\n",
            "wtd_entropy_atomic_radius          21263 non-null float64\n",
            "range_atomic_radius                21263 non-null int64\n",
            "wtd_range_atomic_radius            21263 non-null float64\n",
            "std_atomic_radius                  21263 non-null float64\n",
            "wtd_std_atomic_radius              21263 non-null float64\n",
            "mean_Density                       21263 non-null float64\n",
            "wtd_mean_Density                   21263 non-null float64\n",
            "gmean_Density                      21263 non-null float64\n",
            "wtd_gmean_Density                  21263 non-null float64\n",
            "entropy_Density                    21263 non-null float64\n",
            "wtd_entropy_Density                21263 non-null float64\n",
            "range_Density                      21263 non-null float64\n",
            "wtd_range_Density                  21263 non-null float64\n",
            "std_Density                        21263 non-null float64\n",
            "wtd_std_Density                    21263 non-null float64\n",
            "mean_ElectronAffinity              21263 non-null float64\n",
            "wtd_mean_ElectronAffinity          21263 non-null float64\n",
            "gmean_ElectronAffinity             21263 non-null float64\n",
            "wtd_gmean_ElectronAffinity         21263 non-null float64\n",
            "entropy_ElectronAffinity           21263 non-null float64\n",
            "wtd_entropy_ElectronAffinity       21263 non-null float64\n",
            "range_ElectronAffinity             21263 non-null float64\n",
            "wtd_range_ElectronAffinity         21263 non-null float64\n",
            "std_ElectronAffinity               21263 non-null float64\n",
            "wtd_std_ElectronAffinity           21263 non-null float64\n",
            "mean_FusionHeat                    21263 non-null float64\n",
            "wtd_mean_FusionHeat                21263 non-null float64\n",
            "gmean_FusionHeat                   21263 non-null float64\n",
            "wtd_gmean_FusionHeat               21263 non-null float64\n",
            "entropy_FusionHeat                 21263 non-null float64\n",
            "wtd_entropy_FusionHeat             21263 non-null float64\n",
            "range_FusionHeat                   21263 non-null float64\n",
            "wtd_range_FusionHeat               21263 non-null float64\n",
            "std_FusionHeat                     21263 non-null float64\n",
            "wtd_std_FusionHeat                 21263 non-null float64\n",
            "mean_ThermalConductivity           21263 non-null float64\n",
            "wtd_mean_ThermalConductivity       21263 non-null float64\n",
            "gmean_ThermalConductivity          21263 non-null float64\n",
            "wtd_gmean_ThermalConductivity      21263 non-null float64\n",
            "entropy_ThermalConductivity        21263 non-null float64\n",
            "wtd_entropy_ThermalConductivity    21263 non-null float64\n",
            "range_ThermalConductivity          21263 non-null float64\n",
            "wtd_range_ThermalConductivity      21263 non-null float64\n",
            "std_ThermalConductivity            21263 non-null float64\n",
            "wtd_std_ThermalConductivity        21263 non-null float64\n",
            "mean_Valence                       21263 non-null float64\n",
            "wtd_mean_Valence                   21263 non-null float64\n",
            "gmean_Valence                      21263 non-null float64\n",
            "wtd_gmean_Valence                  21263 non-null float64\n",
            "entropy_Valence                    21263 non-null float64\n",
            "wtd_entropy_Valence                21263 non-null float64\n",
            "range_Valence                      21263 non-null int64\n",
            "wtd_range_Valence                  21263 non-null float64\n",
            "std_Valence                        21263 non-null float64\n",
            "wtd_std_Valence                    21263 non-null float64\n",
            "critical_temp                      21263 non-null float64\n",
            "dtypes: float64(79), int64(3)\n",
            "memory usage: 13.3 MB\n"
          ],
          "name": "stdout"
        }
      ]
    },
    {
      "cell_type": "code",
      "metadata": {
        "id": "iXazPNDQNcQA"
      },
      "source": [
        "X = _df.drop(['critical_temp'], axis=1).values"
      ],
      "execution_count": null,
      "outputs": []
    },
    {
      "cell_type": "code",
      "metadata": {
        "id": "NjO8kTWDNcQA"
      },
      "source": [
        "y = _df['critical_temp'].values"
      ],
      "execution_count": null,
      "outputs": []
    },
    {
      "cell_type": "code",
      "metadata": {
        "id": "8T4BxL5DNcQB"
      },
      "source": [
        "train_X, eval_X, train_y, eval_y = train_test_split(X, y, test_size=0.8, random_state=0)"
      ],
      "execution_count": null,
      "outputs": []
    },
    {
      "cell_type": "code",
      "metadata": {
        "id": "qO3x4ZFoNcQC"
      },
      "source": [
        "model_1 = LinearRegression()"
      ],
      "execution_count": null,
      "outputs": []
    },
    {
      "cell_type": "code",
      "metadata": {
        "id": "RjzECNxcNcQC",
        "outputId": "cfe6cb79-4bc1-43ea-bb5d-43f509bf6844"
      },
      "source": [
        "model_1.fit(train_X, train_y)"
      ],
      "execution_count": null,
      "outputs": [
        {
          "output_type": "execute_result",
          "data": {
            "text/plain": [
              "LinearRegression(copy_X=True, fit_intercept=True, n_jobs=None, normalize=False)"
            ]
          },
          "metadata": {
            "tags": []
          },
          "execution_count": 13
        }
      ]
    },
    {
      "cell_type": "code",
      "metadata": {
        "id": "flcIlkveNcQD",
        "outputId": "19abc1b5-27fe-410d-da2f-6d1f40bdfd36"
      },
      "source": [
        "print('Model 1 R2 Score: {}'.format(model_1.score(eval_X, eval_y)))"
      ],
      "execution_count": null,
      "outputs": [
        {
          "output_type": "stream",
          "text": [
            "Model 1 R2 Score: 0.7328447712730708\n"
          ],
          "name": "stdout"
        }
      ]
    },
    {
      "cell_type": "code",
      "metadata": {
        "id": "KmuTTdQCNcQE",
        "outputId": "686321ba-2f49-40d4-f65f-c7e8b80c7091"
      },
      "source": [
        "print(model_1.coef_)"
      ],
      "execution_count": null,
      "outputs": [
        {
          "output_type": "stream",
          "text": [
            "[-4.94346491e+00  8.70902756e-01 -9.98866501e-01 -5.83760774e-01\n",
            "  7.93953012e-01 -2.56095021e+01 -5.50632648e+00  1.27121023e-01\n",
            " -3.64947050e-02 -2.33513663e-01 -3.17000184e-02  3.10498264e-01\n",
            " -2.70341636e-01 -3.27264900e-01  3.01282843e-01 -8.31664513e+01\n",
            "  4.76913648e+01  8.40711399e-02  2.07050106e-02 -2.97568138e-01\n",
            "  3.97698378e-02 -1.06142981e+00  3.61994102e+00  6.70321650e-01\n",
            " -3.22006412e+00  4.02729358e+01  4.97586647e+01  1.91181858e-01\n",
            " -8.63617280e-02 -1.01111516e-01 -6.03489660e-01 -5.08255800e-03\n",
            "  1.01228657e-03  2.34243690e-03  6.57781429e-04  1.24587526e+01\n",
            " -1.10269822e+01 -1.30154742e-03  5.73536446e-04  4.95127593e-03\n",
            " -9.30322207e-04  5.82173815e-02  4.77320536e-01  5.07267163e-02\n",
            " -5.53776412e-01  5.02250052e+00 -1.96605153e+01 -3.58831794e-01\n",
            " -1.02331087e-01  1.14617678e+00 -5.43201942e-01  1.66517118e+00\n",
            " -1.86511975e+00 -1.18487297e+00  1.27906539e+00 -2.20915415e+01\n",
            "  2.34252719e+01 -4.11107209e-01  7.35352108e-01 -5.28505687e-01\n",
            "  7.74281630e-01 -1.78504148e-01  5.87315418e-01  4.71295603e-02\n",
            " -4.18163312e-01  7.81304600e+00  6.87307727e+00 -2.97522968e-02\n",
            " -2.06281413e-01  2.10538634e-01 -3.98675109e-02 -5.52756012e+00\n",
            "  8.24378449e+00  7.98555157e+00 -1.16791127e+01  8.10069280e+01\n",
            " -8.54657430e+01  4.87898207e+00 -2.42910779e+00  3.46557465e+00\n",
            " -2.07905810e+01]\n"
          ],
          "name": "stdout"
        }
      ]
    },
    {
      "cell_type": "code",
      "metadata": {
        "id": "pVGKOqrnNcQF"
      },
      "source": [
        "preds_1 = model_1.predict(eval_X)"
      ],
      "execution_count": null,
      "outputs": []
    },
    {
      "cell_type": "code",
      "metadata": {
        "id": "wWD1bhkONcQF",
        "outputId": "6d3e4d2f-2f69-4464-f178-2c23c8f7faed"
      },
      "source": [
        "print('Model 1 MSE: {}'.format(mean_squared_error(eval_y, preds_1)))"
      ],
      "execution_count": null,
      "outputs": [
        {
          "output_type": "stream",
          "text": [
            "Model 1 MSE: 314.1265890122019\n"
          ],
          "name": "stdout"
        }
      ]
    },
    {
      "cell_type": "code",
      "metadata": {
        "id": "k2c1yGWINcQG"
      },
      "source": [
        "steps = [\n",
        "    ('scaler', MinMaxScaler()),\n",
        "    ('poly', PolynomialFeatures(degree=3, interaction_only=True)),\n",
        "    ('model', LinearRegression())\n",
        "]"
      ],
      "execution_count": null,
      "outputs": []
    },
    {
      "cell_type": "code",
      "metadata": {
        "id": "_YsYI8f1NcQG"
      },
      "source": [
        "model_2 = Pipeline(steps)"
      ],
      "execution_count": null,
      "outputs": []
    },
    {
      "cell_type": "code",
      "metadata": {
        "id": "ZZEm7qLkNcQH",
        "outputId": "eabc8f96-e85e-4ad3-df25-57231fc86167"
      },
      "source": [
        "model_2.fit(train_X, train_y)"
      ],
      "execution_count": null,
      "outputs": [
        {
          "output_type": "execute_result",
          "data": {
            "text/plain": [
              "Pipeline(memory=None,\n",
              "         steps=[('scaler', MinMaxScaler(copy=True, feature_range=(0, 1))),\n",
              "                ('poly',\n",
              "                 PolynomialFeatures(degree=3, include_bias=True,\n",
              "                                    interaction_only=True, order='C')),\n",
              "                ('model',\n",
              "                 LinearRegression(copy_X=True, fit_intercept=True, n_jobs=None,\n",
              "                                  normalize=False))],\n",
              "         verbose=False)"
            ]
          },
          "metadata": {
            "tags": []
          },
          "execution_count": 57
        }
      ]
    },
    {
      "cell_type": "code",
      "metadata": {
        "id": "sOUPRXU8NcQI",
        "outputId": "8ed5f869-45da-4e2f-c70b-6db07871bd64"
      },
      "source": [
        "print('Model 2 R2 Score: {}'.format(model_2.score(eval_X, eval_y)))"
      ],
      "execution_count": null,
      "outputs": [
        {
          "output_type": "stream",
          "text": [
            "Model 2 R2 Score: -3.412098915405949e+18\n"
          ],
          "name": "stdout"
        }
      ]
    },
    {
      "cell_type": "code",
      "metadata": {
        "id": "HoqMlsYlNcQI",
        "outputId": "a6cf7cfb-6bd1-4fb6-d5a6-fab4f7817981"
      },
      "source": [
        "print('Number of coefficients: {}'.format(len(model_2[-1].coef_)))"
      ],
      "execution_count": null,
      "outputs": [
        {
          "output_type": "stream",
          "text": [
            "Number of coefficients: 88642\n"
          ],
          "name": "stdout"
        }
      ]
    },
    {
      "cell_type": "code",
      "metadata": {
        "id": "7mNsmBbNNcQJ"
      },
      "source": [
        "steps = [\n",
        "    ('scaler', MinMaxScaler()),\n",
        "    ('poly', PolynomialFeatures(degree=3, interaction_only=True)),\n",
        "    ('model', Lasso(alpha=0.001, max_iter=2000))\n",
        "]"
      ],
      "execution_count": null,
      "outputs": []
    },
    {
      "cell_type": "code",
      "metadata": {
        "id": "bOdbXH1oNcQJ"
      },
      "source": [
        "lasso_model = Pipeline(steps)"
      ],
      "execution_count": null,
      "outputs": []
    },
    {
      "cell_type": "code",
      "metadata": {
        "id": "XiJGJgvXNcQK",
        "outputId": "dd5c9798-6059-40e9-f070-f07dd0cc2a64"
      },
      "source": [
        "lasso_model.fit(train_X, train_y)"
      ],
      "execution_count": null,
      "outputs": [
        {
          "output_type": "stream",
          "text": [
            "/Users/robert/anaconda3/envs/tensorflow/lib/python3.7/site-packages/sklearn/linear_model/coordinate_descent.py:475: ConvergenceWarning: Objective did not converge. You might want to increase the number of iterations. Duality gap: 192283.14614944125, tolerance: 494.6126775402505\n",
            "  positive)\n"
          ],
          "name": "stderr"
        },
        {
          "output_type": "execute_result",
          "data": {
            "text/plain": [
              "Pipeline(memory=None,\n",
              "         steps=[('scaler', MinMaxScaler(copy=True, feature_range=(0, 1))),\n",
              "                ('poly',\n",
              "                 PolynomialFeatures(degree=3, include_bias=True,\n",
              "                                    interaction_only=True, order='C')),\n",
              "                ('model',\n",
              "                 Lasso(alpha=0.001, copy_X=True, fit_intercept=True,\n",
              "                       max_iter=2000, normalize=False, positive=False,\n",
              "                       precompute=False, random_state=None, selection='cyclic',\n",
              "                       tol=0.0001, warm_start=False))],\n",
              "         verbose=False)"
            ]
          },
          "metadata": {
            "tags": []
          },
          "execution_count": 66
        }
      ]
    },
    {
      "cell_type": "code",
      "metadata": {
        "id": "zN5LDF7HNcQK",
        "outputId": "78538f73-cc9a-4aba-b5af-ba763a40495f"
      },
      "source": [
        "print('Lasso Model R2 Score: {}'.format(lasso_model.score(eval_X, eval_y)))"
      ],
      "execution_count": null,
      "outputs": [
        {
          "output_type": "stream",
          "text": [
            "Lasso Model R2 Score: 0.8325230040978594\n"
          ],
          "name": "stdout"
        }
      ]
    },
    {
      "cell_type": "code",
      "metadata": {
        "id": "oPYgiDeFNcQL",
        "outputId": "03c78a62-1d10-4337-eba3-80e1de667adc"
      },
      "source": [
        "print(lasso_model[-1].coef_[:30])"
      ],
      "execution_count": null,
      "outputs": [
        {
          "output_type": "stream",
          "text": [
            "[ 0.00000000e+00  8.74340500e-02 -7.95095837e+00 -1.30139088e-01\n",
            " -0.00000000e+00  0.00000000e+00  0.00000000e+00  3.38565726e+01\n",
            "  0.00000000e+00 -0.00000000e+00 -4.13763260e+00 -2.65279487e-02\n",
            " -0.00000000e+00 -0.00000000e+00 -0.00000000e+00 -0.00000000e+00\n",
            " -0.00000000e+00  1.22329305e+01  0.00000000e+00 -0.00000000e+00\n",
            " -0.00000000e+00 -1.12633645e+01  0.00000000e+00  0.00000000e+00\n",
            "  0.00000000e+00  0.00000000e+00 -0.00000000e+00  0.00000000e+00\n",
            "  0.00000000e+00 -9.08364155e+00]\n"
          ],
          "name": "stdout"
        }
      ]
    },
    {
      "cell_type": "code",
      "metadata": {
        "id": "kYdNaA4WNcQM"
      },
      "source": [
        "steps = [\n",
        "    ('scaler', MinMaxScaler()),\n",
        "    ('poly', PolynomialFeatures(degree=3, interaction_only=True)),\n",
        "    ('model', Ridge(alpha=0.9))\n",
        "]"
      ],
      "execution_count": null,
      "outputs": []
    },
    {
      "cell_type": "code",
      "metadata": {
        "id": "o9eaD96TNcQM"
      },
      "source": [
        "ridge_model = Pipeline(steps)"
      ],
      "execution_count": null,
      "outputs": []
    },
    {
      "cell_type": "code",
      "metadata": {
        "id": "kx8cEHg_NcQM",
        "outputId": "508ac3fb-96e3-4598-f15d-57c2a8189cd7"
      },
      "source": [
        "ridge_model.fit(train_X, train_y)"
      ],
      "execution_count": null,
      "outputs": [
        {
          "output_type": "execute_result",
          "data": {
            "text/plain": [
              "Pipeline(memory=None,\n",
              "         steps=[('scaler', MinMaxScaler(copy=True, feature_range=(0, 1))),\n",
              "                ('poly',\n",
              "                 PolynomialFeatures(degree=3, include_bias=True,\n",
              "                                    interaction_only=True, order='C')),\n",
              "                ('model',\n",
              "                 Ridge(alpha=0.9, copy_X=True, fit_intercept=True,\n",
              "                       max_iter=None, normalize=False, random_state=None,\n",
              "                       solver='auto', tol=0.001))],\n",
              "         verbose=False)"
            ]
          },
          "metadata": {
            "tags": []
          },
          "execution_count": 88
        }
      ]
    },
    {
      "cell_type": "code",
      "metadata": {
        "id": "D1Fnm2opNcQN",
        "outputId": "df236360-f462-4b0d-8aa2-094640c52088"
      },
      "source": [
        "print('Ridge Model R2 score: {}'.format(ridge_model.score(eval_X, eval_y)))"
      ],
      "execution_count": null,
      "outputs": [
        {
          "output_type": "stream",
          "text": [
            "Ridge Model R2 score: 0.8322365420648976\n"
          ],
          "name": "stdout"
        }
      ]
    },
    {
      "cell_type": "code",
      "metadata": {
        "id": "7YwC5DykNcQO",
        "outputId": "e7eeb100-1254-456e-cdf8-ee9789927fc9"
      },
      "source": [
        "print(ridge_model[-1].coef_[:30])"
      ],
      "execution_count": null,
      "outputs": [
        {
          "output_type": "stream",
          "text": [
            "[ 0.         -0.42062418 -3.87358249 -4.24082447 -2.87059487 -1.42389767\n",
            " -1.74429581  4.28948862 -1.18107119 -1.92438245 -1.03653114 -0.28070952\n",
            "  0.49678614 -2.44639462  1.5030846  -0.84415353 -0.68920212  4.01266927\n",
            "  0.15348104 -1.39519727 -1.52030442 -4.20145985 -1.51392581  2.9521117\n",
            " -1.71399758  2.19445947 -1.57055309  2.43472526  0.55081481 -3.93851654]\n"
          ],
          "name": "stdout"
        }
      ]
    },
    {
      "cell_type": "code",
      "metadata": {
        "id": "wRZ_kOZzNcQO"
      },
      "source": [
        ""
      ],
      "execution_count": null,
      "outputs": []
    }
  ]
}