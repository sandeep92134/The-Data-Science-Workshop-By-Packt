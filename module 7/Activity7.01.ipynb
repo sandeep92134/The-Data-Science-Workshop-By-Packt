{
  "nbformat": 4,
  "nbformat_minor": 0,
  "metadata": {
    "kernelspec": {
      "display_name": "Python 3",
      "language": "python",
      "name": "python3"
    },
    "language_info": {
      "codemirror_mode": {
        "name": "ipython",
        "version": 3
      },
      "file_extension": ".py",
      "mimetype": "text/x-python",
      "name": "python",
      "nbconvert_exporter": "python",
      "pygments_lexer": "ipython3",
      "version": "3.7.4"
    },
    "colab": {
      "name": "Activity7.01.ipynb",
      "provenance": [],
      "include_colab_link": true
    }
  },
  "cells": [
    {
      "cell_type": "markdown",
      "metadata": {
        "id": "view-in-github",
        "colab_type": "text"
      },
      "source": [
        "<a href=\"https://colab.research.google.com/github/sandeep92134/The-Data-Science-Workshop-By-Packt/blob/master/module%207/Activity7.01.ipynb\" target=\"_parent\"><img src=\"https://colab.research.google.com/assets/colab-badge.svg\" alt=\"Open In Colab\"/></a>"
      ]
    },
    {
      "cell_type": "markdown",
      "metadata": {
        "id": "U6HwgvTNPXHa"
      },
      "source": [
        "# Superconductivity"
      ]
    },
    {
      "cell_type": "code",
      "metadata": {
        "id": "VVorwXCSPXHo"
      },
      "source": [
        "import pandas as pd\n",
        "from sklearn.linear_model import LinearRegression, Lasso, Ridge\n",
        "from sklearn.model_selection import train_test_split\n",
        "from sklearn.metrics import mean_squared_error\n",
        "from sklearn.pipeline import Pipeline\n",
        "from sklearn.preprocessing import MinMaxScaler, PolynomialFeatures"
      ],
      "execution_count": null,
      "outputs": []
    },
    {
      "cell_type": "code",
      "metadata": {
        "id": "UACbRCSDPXHr"
      },
      "source": [
        "_df = pd.read_csv('https://raw.githubusercontent.com/PacktWorkshops/The-Data-Science-Workshop/master/Chapter07/Dataset/superconduct/train.csv')"
      ],
      "execution_count": null,
      "outputs": []
    },
    {
      "cell_type": "code",
      "metadata": {
        "id": "gA4Mi5JcPXHr",
        "outputId": "c19f1a74-acf2-4213-b7bc-72a8adee6b30"
      },
      "source": [
        "_df.info()"
      ],
      "execution_count": null,
      "outputs": [
        {
          "output_type": "stream",
          "text": [
            "<class 'pandas.core.frame.DataFrame'>\n",
            "RangeIndex: 21263 entries, 0 to 21262\n",
            "Data columns (total 82 columns):\n",
            "number_of_elements                 21263 non-null int64\n",
            "mean_atomic_mass                   21263 non-null float64\n",
            "wtd_mean_atomic_mass               21263 non-null float64\n",
            "gmean_atomic_mass                  21263 non-null float64\n",
            "wtd_gmean_atomic_mass              21263 non-null float64\n",
            "entropy_atomic_mass                21263 non-null float64\n",
            "wtd_entropy_atomic_mass            21263 non-null float64\n",
            "range_atomic_mass                  21263 non-null float64\n",
            "wtd_range_atomic_mass              21263 non-null float64\n",
            "std_atomic_mass                    21263 non-null float64\n",
            "wtd_std_atomic_mass                21263 non-null float64\n",
            "mean_fie                           21263 non-null float64\n",
            "wtd_mean_fie                       21263 non-null float64\n",
            "gmean_fie                          21263 non-null float64\n",
            "wtd_gmean_fie                      21263 non-null float64\n",
            "entropy_fie                        21263 non-null float64\n",
            "wtd_entropy_fie                    21263 non-null float64\n",
            "range_fie                          21263 non-null float64\n",
            "wtd_range_fie                      21263 non-null float64\n",
            "std_fie                            21263 non-null float64\n",
            "wtd_std_fie                        21263 non-null float64\n",
            "mean_atomic_radius                 21263 non-null float64\n",
            "wtd_mean_atomic_radius             21263 non-null float64\n",
            "gmean_atomic_radius                21263 non-null float64\n",
            "wtd_gmean_atomic_radius            21263 non-null float64\n",
            "entropy_atomic_radius              21263 non-null float64\n",
            "wtd_entropy_atomic_radius          21263 non-null float64\n",
            "range_atomic_radius                21263 non-null int64\n",
            "wtd_range_atomic_radius            21263 non-null float64\n",
            "std_atomic_radius                  21263 non-null float64\n",
            "wtd_std_atomic_radius              21263 non-null float64\n",
            "mean_Density                       21263 non-null float64\n",
            "wtd_mean_Density                   21263 non-null float64\n",
            "gmean_Density                      21263 non-null float64\n",
            "wtd_gmean_Density                  21263 non-null float64\n",
            "entropy_Density                    21263 non-null float64\n",
            "wtd_entropy_Density                21263 non-null float64\n",
            "range_Density                      21263 non-null float64\n",
            "wtd_range_Density                  21263 non-null float64\n",
            "std_Density                        21263 non-null float64\n",
            "wtd_std_Density                    21263 non-null float64\n",
            "mean_ElectronAffinity              21263 non-null float64\n",
            "wtd_mean_ElectronAffinity          21263 non-null float64\n",
            "gmean_ElectronAffinity             21263 non-null float64\n",
            "wtd_gmean_ElectronAffinity         21263 non-null float64\n",
            "entropy_ElectronAffinity           21263 non-null float64\n",
            "wtd_entropy_ElectronAffinity       21263 non-null float64\n",
            "range_ElectronAffinity             21263 non-null float64\n",
            "wtd_range_ElectronAffinity         21263 non-null float64\n",
            "std_ElectronAffinity               21263 non-null float64\n",
            "wtd_std_ElectronAffinity           21263 non-null float64\n",
            "mean_FusionHeat                    21263 non-null float64\n",
            "wtd_mean_FusionHeat                21263 non-null float64\n",
            "gmean_FusionHeat                   21263 non-null float64\n",
            "wtd_gmean_FusionHeat               21263 non-null float64\n",
            "entropy_FusionHeat                 21263 non-null float64\n",
            "wtd_entropy_FusionHeat             21263 non-null float64\n",
            "range_FusionHeat                   21263 non-null float64\n",
            "wtd_range_FusionHeat               21263 non-null float64\n",
            "std_FusionHeat                     21263 non-null float64\n",
            "wtd_std_FusionHeat                 21263 non-null float64\n",
            "mean_ThermalConductivity           21263 non-null float64\n",
            "wtd_mean_ThermalConductivity       21263 non-null float64\n",
            "gmean_ThermalConductivity          21263 non-null float64\n",
            "wtd_gmean_ThermalConductivity      21263 non-null float64\n",
            "entropy_ThermalConductivity        21263 non-null float64\n",
            "wtd_entropy_ThermalConductivity    21263 non-null float64\n",
            "range_ThermalConductivity          21263 non-null float64\n",
            "wtd_range_ThermalConductivity      21263 non-null float64\n",
            "std_ThermalConductivity            21263 non-null float64\n",
            "wtd_std_ThermalConductivity        21263 non-null float64\n",
            "mean_Valence                       21263 non-null float64\n",
            "wtd_mean_Valence                   21263 non-null float64\n",
            "gmean_Valence                      21263 non-null float64\n",
            "wtd_gmean_Valence                  21263 non-null float64\n",
            "entropy_Valence                    21263 non-null float64\n",
            "wtd_entropy_Valence                21263 non-null float64\n",
            "range_Valence                      21263 non-null int64\n",
            "wtd_range_Valence                  21263 non-null float64\n",
            "std_Valence                        21263 non-null float64\n",
            "wtd_std_Valence                    21263 non-null float64\n",
            "critical_temp                      21263 non-null float64\n",
            "dtypes: float64(79), int64(3)\n",
            "memory usage: 13.3 MB\n"
          ],
          "name": "stdout"
        }
      ]
    },
    {
      "cell_type": "code",
      "metadata": {
        "id": "xgvh6B4rPXHu"
      },
      "source": [
        "X = _df.drop(['critical_temp'], axis=1).values"
      ],
      "execution_count": null,
      "outputs": []
    },
    {
      "cell_type": "code",
      "metadata": {
        "id": "YWAiZz7DPXHu"
      },
      "source": [
        "y = _df['critical_temp'].values"
      ],
      "execution_count": null,
      "outputs": []
    },
    {
      "cell_type": "code",
      "metadata": {
        "id": "Vn0ogDnXPXHv"
      },
      "source": [
        "train_X, eval_X, train_y, eval_y = train_test_split(X, y, test_size=0.8, random_state=0)"
      ],
      "execution_count": null,
      "outputs": []
    },
    {
      "cell_type": "code",
      "metadata": {
        "id": "Zapu8TbZPXHw"
      },
      "source": [
        "model_1 = LinearRegression()"
      ],
      "execution_count": null,
      "outputs": []
    },
    {
      "cell_type": "code",
      "metadata": {
        "id": "kDv36t7CPXHw",
        "outputId": "aa425721-b872-4267-86b9-a1862395059e"
      },
      "source": [
        "model_1.fit(train_X, train_y)"
      ],
      "execution_count": null,
      "outputs": [
        {
          "output_type": "execute_result",
          "data": {
            "text/plain": [
              "LinearRegression(copy_X=True, fit_intercept=True, n_jobs=None, normalize=False)"
            ]
          },
          "metadata": {
            "tags": []
          },
          "execution_count": 13
        }
      ]
    },
    {
      "cell_type": "code",
      "metadata": {
        "id": "nArbczTDPXHx",
        "outputId": "096436cb-55ac-4c33-cc67-a42082d99f05"
      },
      "source": [
        "print('Model 1 R2 Score: {}'.format(model_1.score(eval_X, eval_y)))"
      ],
      "execution_count": null,
      "outputs": [
        {
          "output_type": "stream",
          "text": [
            "Model 1 R2 Score: 0.7328447712730708\n"
          ],
          "name": "stdout"
        }
      ]
    },
    {
      "cell_type": "code",
      "metadata": {
        "id": "240rzFjIPXHy",
        "outputId": "9c277a81-4474-4c3c-d6a9-dd1359a2c23e"
      },
      "source": [
        "print(model_1.coef_)"
      ],
      "execution_count": null,
      "outputs": [
        {
          "output_type": "stream",
          "text": [
            "[-4.94346491e+00  8.70902756e-01 -9.98866501e-01 -5.83760774e-01\n",
            "  7.93953012e-01 -2.56095021e+01 -5.50632648e+00  1.27121023e-01\n",
            " -3.64947050e-02 -2.33513663e-01 -3.17000184e-02  3.10498264e-01\n",
            " -2.70341636e-01 -3.27264900e-01  3.01282843e-01 -8.31664513e+01\n",
            "  4.76913648e+01  8.40711399e-02  2.07050106e-02 -2.97568138e-01\n",
            "  3.97698378e-02 -1.06142981e+00  3.61994102e+00  6.70321650e-01\n",
            " -3.22006412e+00  4.02729358e+01  4.97586647e+01  1.91181858e-01\n",
            " -8.63617280e-02 -1.01111516e-01 -6.03489660e-01 -5.08255800e-03\n",
            "  1.01228657e-03  2.34243690e-03  6.57781429e-04  1.24587526e+01\n",
            " -1.10269822e+01 -1.30154742e-03  5.73536446e-04  4.95127593e-03\n",
            " -9.30322207e-04  5.82173815e-02  4.77320536e-01  5.07267163e-02\n",
            " -5.53776412e-01  5.02250052e+00 -1.96605153e+01 -3.58831794e-01\n",
            " -1.02331087e-01  1.14617678e+00 -5.43201942e-01  1.66517118e+00\n",
            " -1.86511975e+00 -1.18487297e+00  1.27906539e+00 -2.20915415e+01\n",
            "  2.34252719e+01 -4.11107209e-01  7.35352108e-01 -5.28505687e-01\n",
            "  7.74281630e-01 -1.78504148e-01  5.87315418e-01  4.71295603e-02\n",
            " -4.18163312e-01  7.81304600e+00  6.87307727e+00 -2.97522968e-02\n",
            " -2.06281413e-01  2.10538634e-01 -3.98675109e-02 -5.52756012e+00\n",
            "  8.24378449e+00  7.98555157e+00 -1.16791127e+01  8.10069280e+01\n",
            " -8.54657430e+01  4.87898207e+00 -2.42910779e+00  3.46557465e+00\n",
            " -2.07905810e+01]\n"
          ],
          "name": "stdout"
        }
      ]
    },
    {
      "cell_type": "code",
      "metadata": {
        "id": "9t8cplOHPXHz"
      },
      "source": [
        "preds_1 = model_1.predict(eval_X)"
      ],
      "execution_count": null,
      "outputs": []
    },
    {
      "cell_type": "code",
      "metadata": {
        "id": "DN2agJ7tPXHz",
        "outputId": "161ea865-665b-4148-db10-8668e0e5fa11"
      },
      "source": [
        "print('Model 1 MSE: {}'.format(mean_squared_error(eval_y, preds_1)))"
      ],
      "execution_count": null,
      "outputs": [
        {
          "output_type": "stream",
          "text": [
            "Model 1 MSE: 314.1265890122019\n"
          ],
          "name": "stdout"
        }
      ]
    },
    {
      "cell_type": "code",
      "metadata": {
        "id": "dwv5_V70PXH0"
      },
      "source": [
        "steps = [\n",
        "    ('scaler', MinMaxScaler()),\n",
        "    ('poly', PolynomialFeatures(degree=3, interaction_only=True)),\n",
        "    ('model', LinearRegression())\n",
        "]"
      ],
      "execution_count": null,
      "outputs": []
    },
    {
      "cell_type": "code",
      "metadata": {
        "id": "36YJrIvKPXH0"
      },
      "source": [
        "model_2 = Pipeline(steps)"
      ],
      "execution_count": null,
      "outputs": []
    },
    {
      "cell_type": "code",
      "metadata": {
        "id": "y2plrYn6PXH1",
        "outputId": "50250fdb-d1b8-47db-9cee-5f3a29426c40"
      },
      "source": [
        "model_2.fit(train_X, train_y)"
      ],
      "execution_count": null,
      "outputs": [
        {
          "output_type": "execute_result",
          "data": {
            "text/plain": [
              "Pipeline(memory=None,\n",
              "         steps=[('scaler', MinMaxScaler(copy=True, feature_range=(0, 1))),\n",
              "                ('poly',\n",
              "                 PolynomialFeatures(degree=3, include_bias=True,\n",
              "                                    interaction_only=True, order='C')),\n",
              "                ('model',\n",
              "                 LinearRegression(copy_X=True, fit_intercept=True, n_jobs=None,\n",
              "                                  normalize=False))],\n",
              "         verbose=False)"
            ]
          },
          "metadata": {
            "tags": []
          },
          "execution_count": 57
        }
      ]
    },
    {
      "cell_type": "code",
      "metadata": {
        "id": "i-c0ykC6PXH1",
        "outputId": "8b933a14-0c98-4c0d-8d30-ca48171145ea"
      },
      "source": [
        "print('Model 2 R2 Score: {}'.format(model_2.score(eval_X, eval_y)))"
      ],
      "execution_count": null,
      "outputs": [
        {
          "output_type": "stream",
          "text": [
            "Model 2 R2 Score: -3.412098915405949e+18\n"
          ],
          "name": "stdout"
        }
      ]
    },
    {
      "cell_type": "code",
      "metadata": {
        "id": "dpLvCzM0PXH2",
        "outputId": "940d8e02-a5e2-4a66-e27b-9b6ccbc6251c"
      },
      "source": [
        "print('Number of coefficients: {}'.format(len(model_2[-1].coef_)))"
      ],
      "execution_count": null,
      "outputs": [
        {
          "output_type": "stream",
          "text": [
            "Number of coefficients: 88642\n"
          ],
          "name": "stdout"
        }
      ]
    },
    {
      "cell_type": "code",
      "metadata": {
        "id": "f_xCP5KxPXH3"
      },
      "source": [
        "steps = [\n",
        "    ('scaler', MinMaxScaler()),\n",
        "    ('poly', PolynomialFeatures(degree=3, interaction_only=True)),\n",
        "    ('model', Lasso(alpha=0.001, max_iter=2000))\n",
        "]"
      ],
      "execution_count": null,
      "outputs": []
    },
    {
      "cell_type": "code",
      "metadata": {
        "id": "oL-pz1szPXH3"
      },
      "source": [
        "lasso_model = Pipeline(steps)"
      ],
      "execution_count": null,
      "outputs": []
    },
    {
      "cell_type": "code",
      "metadata": {
        "id": "vbwraB6IPXH6",
        "outputId": "07c5ca6f-3880-43fd-a9a8-6182626426b9"
      },
      "source": [
        "lasso_model.fit(train_X, train_y)"
      ],
      "execution_count": null,
      "outputs": [
        {
          "output_type": "stream",
          "text": [
            "/Users/robert/anaconda3/envs/tensorflow/lib/python3.7/site-packages/sklearn/linear_model/coordinate_descent.py:475: ConvergenceWarning: Objective did not converge. You might want to increase the number of iterations. Duality gap: 192283.14614944125, tolerance: 494.6126775402505\n",
            "  positive)\n"
          ],
          "name": "stderr"
        },
        {
          "output_type": "execute_result",
          "data": {
            "text/plain": [
              "Pipeline(memory=None,\n",
              "         steps=[('scaler', MinMaxScaler(copy=True, feature_range=(0, 1))),\n",
              "                ('poly',\n",
              "                 PolynomialFeatures(degree=3, include_bias=True,\n",
              "                                    interaction_only=True, order='C')),\n",
              "                ('model',\n",
              "                 Lasso(alpha=0.001, copy_X=True, fit_intercept=True,\n",
              "                       max_iter=2000, normalize=False, positive=False,\n",
              "                       precompute=False, random_state=None, selection='cyclic',\n",
              "                       tol=0.0001, warm_start=False))],\n",
              "         verbose=False)"
            ]
          },
          "metadata": {
            "tags": []
          },
          "execution_count": 66
        }
      ]
    },
    {
      "cell_type": "code",
      "metadata": {
        "id": "VForQt7MPXH6",
        "outputId": "df698468-9d0c-4d7c-c179-72f2c431a4c0"
      },
      "source": [
        "print('Lasso Model R2 Score: {}'.format(lasso_model.score(eval_X, eval_y)))"
      ],
      "execution_count": null,
      "outputs": [
        {
          "output_type": "stream",
          "text": [
            "Lasso Model R2 Score: 0.8325230040978594\n"
          ],
          "name": "stdout"
        }
      ]
    },
    {
      "cell_type": "code",
      "metadata": {
        "id": "4k6K3ONmPXH7",
        "outputId": "bd8ccda9-71d4-4fee-9c0c-e57e174649ea"
      },
      "source": [
        "print(lasso_model[-1].coef_[:30])"
      ],
      "execution_count": null,
      "outputs": [
        {
          "output_type": "stream",
          "text": [
            "[ 0.00000000e+00  8.74340500e-02 -7.95095837e+00 -1.30139088e-01\n",
            " -0.00000000e+00  0.00000000e+00  0.00000000e+00  3.38565726e+01\n",
            "  0.00000000e+00 -0.00000000e+00 -4.13763260e+00 -2.65279487e-02\n",
            " -0.00000000e+00 -0.00000000e+00 -0.00000000e+00 -0.00000000e+00\n",
            " -0.00000000e+00  1.22329305e+01  0.00000000e+00 -0.00000000e+00\n",
            " -0.00000000e+00 -1.12633645e+01  0.00000000e+00  0.00000000e+00\n",
            "  0.00000000e+00  0.00000000e+00 -0.00000000e+00  0.00000000e+00\n",
            "  0.00000000e+00 -9.08364155e+00]\n"
          ],
          "name": "stdout"
        }
      ]
    },
    {
      "cell_type": "code",
      "metadata": {
        "id": "hzK395iPPXH8"
      },
      "source": [
        "steps = [\n",
        "    ('scaler', MinMaxScaler()),\n",
        "    ('poly', PolynomialFeatures(degree=3, interaction_only=True)),\n",
        "    ('model', Ridge(alpha=0.9))\n",
        "]"
      ],
      "execution_count": null,
      "outputs": []
    },
    {
      "cell_type": "code",
      "metadata": {
        "id": "RXfri19fPXH8"
      },
      "source": [
        "ridge_model = Pipeline(steps)"
      ],
      "execution_count": null,
      "outputs": []
    },
    {
      "cell_type": "code",
      "metadata": {
        "id": "4CdUfGVJPXH9",
        "outputId": "799b00bd-5110-4da4-e2e4-3b20a1c7d52c"
      },
      "source": [
        "ridge_model.fit(train_X, train_y)"
      ],
      "execution_count": null,
      "outputs": [
        {
          "output_type": "execute_result",
          "data": {
            "text/plain": [
              "Pipeline(memory=None,\n",
              "         steps=[('scaler', MinMaxScaler(copy=True, feature_range=(0, 1))),\n",
              "                ('poly',\n",
              "                 PolynomialFeatures(degree=3, include_bias=True,\n",
              "                                    interaction_only=True, order='C')),\n",
              "                ('model',\n",
              "                 Ridge(alpha=0.9, copy_X=True, fit_intercept=True,\n",
              "                       max_iter=None, normalize=False, random_state=None,\n",
              "                       solver='auto', tol=0.001))],\n",
              "         verbose=False)"
            ]
          },
          "metadata": {
            "tags": []
          },
          "execution_count": 88
        }
      ]
    },
    {
      "cell_type": "code",
      "metadata": {
        "id": "LXiGgMNRPXH9",
        "outputId": "c5d03310-897e-4a75-ef92-7df03c79125e"
      },
      "source": [
        "print('Ridge Model R2 score: {}'.format(ridge_model.score(eval_X, eval_y)))"
      ],
      "execution_count": null,
      "outputs": [
        {
          "output_type": "stream",
          "text": [
            "Ridge Model R2 score: 0.8322365420648976\n"
          ],
          "name": "stdout"
        }
      ]
    },
    {
      "cell_type": "code",
      "metadata": {
        "id": "8zNuMX0YPXH-",
        "outputId": "8149b1a8-5163-4f55-9862-1bc9e45a70d6"
      },
      "source": [
        "print(ridge_model[-1].coef_[:30])"
      ],
      "execution_count": null,
      "outputs": [
        {
          "output_type": "stream",
          "text": [
            "[ 0.         -0.42062418 -3.87358249 -4.24082447 -2.87059487 -1.42389767\n",
            " -1.74429581  4.28948862 -1.18107119 -1.92438245 -1.03653114 -0.28070952\n",
            "  0.49678614 -2.44639462  1.5030846  -0.84415353 -0.68920212  4.01266927\n",
            "  0.15348104 -1.39519727 -1.52030442 -4.20145985 -1.51392581  2.9521117\n",
            " -1.71399758  2.19445947 -1.57055309  2.43472526  0.55081481 -3.93851654]\n"
          ],
          "name": "stdout"
        }
      ]
    },
    {
      "cell_type": "code",
      "metadata": {
        "id": "dtfrowmPPXH-"
      },
      "source": [
        ""
      ],
      "execution_count": null,
      "outputs": []
    }
  ]
}