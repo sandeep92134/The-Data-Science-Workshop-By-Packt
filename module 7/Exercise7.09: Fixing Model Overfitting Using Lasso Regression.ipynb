{
  "nbformat": 4,
  "nbformat_minor": 0,
  "metadata": {
    "kernelspec": {
      "display_name": "Python 3",
      "language": "python",
      "name": "python3"
    },
    "language_info": {
      "codemirror_mode": {
        "name": "ipython",
        "version": 3
      },
      "file_extension": ".py",
      "mimetype": "text/x-python",
      "name": "python",
      "nbconvert_exporter": "python",
      "pygments_lexer": "ipython3",
      "version": "3.7.4"
    },
    "colab": {
      "name": "Exercise7_09.ipynb",
      "provenance": [],
      "include_colab_link": true
    }
  },
  "cells": [
    {
      "cell_type": "markdown",
      "metadata": {
        "id": "view-in-github",
        "colab_type": "text"
      },
      "source": [
        "<a href=\"https://colab.research.google.com/github/sandeep92134/The-Data-Science-Workshop-By-Packt/blob/master/module%207/Exercise7.09%3A%20Fixing%20Model%20Overfitting%20Using%20Lasso%20Regression.ipynb\" target=\"_parent\"><img src=\"https://colab.research.google.com/assets/colab-badge.svg\" alt=\"Open In Colab\"/></a>"
      ]
    },
    {
      "cell_type": "markdown",
      "metadata": {
        "id": "2fCtd4kCt__z"
      },
      "source": [
        "# Lasso Regression"
      ]
    },
    {
      "cell_type": "code",
      "metadata": {
        "id": "jG6YpAbot__3"
      },
      "source": [
        "import pandas as pd\n",
        "from sklearn.model_selection import train_test_split\n",
        "from sklearn.linear_model import LinearRegression, Lasso\n",
        "from sklearn.metrics import mean_squared_error\n",
        "from sklearn.pipeline import Pipeline\n",
        "from sklearn.preprocessing import MinMaxScaler, PolynomialFeatures"
      ],
      "execution_count": 1,
      "outputs": []
    },
    {
      "cell_type": "code",
      "metadata": {
        "id": "sGKCHZb0t__8"
      },
      "source": [
        "_df = pd.read_csv('https://raw.githubusercontent.com/sandeep92134/The-Data-Science-Workshop-By-Packt/master/module%207/datasets/ccpp.csv')"
      ],
      "execution_count": 2,
      "outputs": []
    },
    {
      "cell_type": "code",
      "metadata": {
        "id": "MJzrSgbzuAAB",
        "colab": {
          "base_uri": "https://localhost:8080/"
        },
        "outputId": "92d67724-06c5-44de-a5a4-2d2554fd1742"
      },
      "source": [
        "_df.info()"
      ],
      "execution_count": 3,
      "outputs": [
        {
          "output_type": "stream",
          "text": [
            "<class 'pandas.core.frame.DataFrame'>\n",
            "RangeIndex: 9568 entries, 0 to 9567\n",
            "Data columns (total 5 columns):\n",
            " #   Column  Non-Null Count  Dtype  \n",
            "---  ------  --------------  -----  \n",
            " 0   AT      9568 non-null   float64\n",
            " 1   V       9568 non-null   float64\n",
            " 2   AP      9568 non-null   float64\n",
            " 3   RH      9568 non-null   float64\n",
            " 4   PE      9568 non-null   float64\n",
            "dtypes: float64(5)\n",
            "memory usage: 373.9 KB\n"
          ],
          "name": "stdout"
        }
      ]
    },
    {
      "cell_type": "code",
      "metadata": {
        "id": "WVkCs_VpuAAH"
      },
      "source": [
        "X = _df.drop(['PE'], axis=1).values"
      ],
      "execution_count": 4,
      "outputs": []
    },
    {
      "cell_type": "code",
      "metadata": {
        "id": "J4PHvpCzuAAM"
      },
      "source": [
        "y = _df['PE'].values"
      ],
      "execution_count": 5,
      "outputs": []
    },
    {
      "cell_type": "code",
      "metadata": {
        "id": "tFOurIZ-uAAW"
      },
      "source": [
        "train_X, eval_X, train_y, eval_y = train_test_split(X, y, train_size=0.8, random_state=0)"
      ],
      "execution_count": 6,
      "outputs": []
    },
    {
      "cell_type": "markdown",
      "metadata": {
        "id": "qChyCx_QuAAu"
      },
      "source": [
        "# Implement a LinearRegression model"
      ]
    },
    {
      "cell_type": "code",
      "metadata": {
        "id": "mp6CUsPDuAA0"
      },
      "source": [
        "lr_model_1 = LinearRegression()"
      ],
      "execution_count": 7,
      "outputs": []
    },
    {
      "cell_type": "code",
      "metadata": {
        "id": "f9w8TJiXuABY",
        "colab": {
          "base_uri": "https://localhost:8080/"
        },
        "outputId": "d93fbe8b-ba98-4578-e071-13417eef8e0c"
      },
      "source": [
        "lr_model_1.fit(train_X, train_y)"
      ],
      "execution_count": 8,
      "outputs": [
        {
          "output_type": "execute_result",
          "data": {
            "text/plain": [
              "LinearRegression(copy_X=True, fit_intercept=True, n_jobs=None, normalize=False)"
            ]
          },
          "metadata": {
            "tags": []
          },
          "execution_count": 8
        }
      ]
    },
    {
      "cell_type": "code",
      "metadata": {
        "id": "MEGafhCSuABo"
      },
      "source": [
        "lr_model_1_preds = lr_model_1.predict(eval_X)"
      ],
      "execution_count": 9,
      "outputs": []
    },
    {
      "cell_type": "code",
      "metadata": {
        "id": "WV0MFrBzuAB5",
        "colab": {
          "base_uri": "https://localhost:8080/"
        },
        "outputId": "225edbb8-c997-474a-894b-b3635951591c"
      },
      "source": [
        "print('lr_model_1 R2 Score: {}'.format(lr_model_1.score(eval_X, eval_y)))"
      ],
      "execution_count": 10,
      "outputs": [
        {
          "output_type": "stream",
          "text": [
            "lr_model_1 R2 Score: 0.9325315554761302\n"
          ],
          "name": "stdout"
        }
      ]
    },
    {
      "cell_type": "code",
      "metadata": {
        "id": "oKUggTVmuACA",
        "colab": {
          "base_uri": "https://localhost:8080/"
        },
        "outputId": "1c848e17-1ceb-41f0-fedd-e38944afeee1"
      },
      "source": [
        "print('lr_model_1 MSE: {}'.format(mean_squared_error(eval_y, lr_model_1_preds)))"
      ],
      "execution_count": 11,
      "outputs": [
        {
          "output_type": "stream",
          "text": [
            "lr_model_1 MSE: 19.733699303497648\n"
          ],
          "name": "stdout"
        }
      ]
    },
    {
      "cell_type": "markdown",
      "metadata": {
        "id": "jqtZ38VhuACE"
      },
      "source": [
        "# Engineer cubic features"
      ]
    },
    {
      "cell_type": "code",
      "metadata": {
        "id": "jc3PXN3buACG"
      },
      "source": [
        "steps = [\n",
        "    ('scaler', MinMaxScaler()),\n",
        "    ('poly', PolynomialFeatures(degree=3)),\n",
        "    ('lr', LinearRegression())\n",
        "]"
      ],
      "execution_count": 12,
      "outputs": []
    },
    {
      "cell_type": "code",
      "metadata": {
        "id": "SNCYPewxuACJ"
      },
      "source": [
        "lr_model_2 = Pipeline(steps)"
      ],
      "execution_count": 13,
      "outputs": []
    },
    {
      "cell_type": "code",
      "metadata": {
        "id": "0vr1LXSsuACM",
        "colab": {
          "base_uri": "https://localhost:8080/"
        },
        "outputId": "0079864b-5382-4578-b042-60cab98ac613"
      },
      "source": [
        "lr_model_2.fit(train_X, train_y)"
      ],
      "execution_count": 14,
      "outputs": [
        {
          "output_type": "execute_result",
          "data": {
            "text/plain": [
              "Pipeline(memory=None,\n",
              "         steps=[('scaler', MinMaxScaler(copy=True, feature_range=(0, 1))),\n",
              "                ('poly',\n",
              "                 PolynomialFeatures(degree=3, include_bias=True,\n",
              "                                    interaction_only=False, order='C')),\n",
              "                ('lr',\n",
              "                 LinearRegression(copy_X=True, fit_intercept=True, n_jobs=None,\n",
              "                                  normalize=False))],\n",
              "         verbose=False)"
            ]
          },
          "metadata": {
            "tags": []
          },
          "execution_count": 14
        }
      ]
    },
    {
      "cell_type": "code",
      "metadata": {
        "id": "0T__GpZEuACP",
        "colab": {
          "base_uri": "https://localhost:8080/"
        },
        "outputId": "0da76eed-ec9c-4512-bda6-8ab63366dd58"
      },
      "source": [
        "print('lr_model_2 R2 Score: {}'.format(lr_model_2.score(eval_X, eval_y)))"
      ],
      "execution_count": 15,
      "outputs": [
        {
          "output_type": "stream",
          "text": [
            "lr_model_2 R2 Score: 0.9443678654045208\n"
          ],
          "name": "stdout"
        }
      ]
    },
    {
      "cell_type": "code",
      "metadata": {
        "id": "hkcTjTXQuACT"
      },
      "source": [
        "lr_model_2_preds = lr_model_2.predict(eval_X)"
      ],
      "execution_count": 16,
      "outputs": []
    },
    {
      "cell_type": "code",
      "metadata": {
        "id": "ijQLoniluACX",
        "colab": {
          "base_uri": "https://localhost:8080/"
        },
        "outputId": "00f761e8-4cd9-4ed9-a674-6e2d7aa91855"
      },
      "source": [
        "print('lr_model_2 MSE: {}'.format(mean_squared_error(eval_y, lr_model_2_preds)))"
      ],
      "execution_count": 17,
      "outputs": [
        {
          "output_type": "stream",
          "text": [
            "lr_model_2 MSE: 16.27172263220767\n"
          ],
          "name": "stdout"
        }
      ]
    },
    {
      "cell_type": "code",
      "metadata": {
        "id": "2oCuH-VOuACa",
        "colab": {
          "base_uri": "https://localhost:8080/"
        },
        "outputId": "a5067524-7210-4d63-92df-1e794eca6eb1"
      },
      "source": [
        "print(lr_model_2[-1].coef_)"
      ],
      "execution_count": 18,
      "outputs": [
        {
          "output_type": "stream",
          "text": [
            "[ 7.72661789e-14 -1.77278028e+02 -4.60337188e+01 -1.60520675e+02\n",
            " -1.23076123e+02  6.23358210e+00  8.19655844e+00  1.45478576e+02\n",
            "  1.88658651e+02  2.43740192e+01  1.80553150e+02 -1.08058561e+02\n",
            "  1.09713294e+02  1.79121906e+02  1.06460596e+02  2.67290613e+01\n",
            "  7.79833654e+01  3.69241324e+01 -1.13863997e+02 -1.42673215e+02\n",
            " -9.69606773e+01  1.90706809e+02 -5.56429546e+01 -1.32595225e+02\n",
            " -9.41682917e+01  9.40112729e+01 -1.18732510e+02 -7.64871610e+01\n",
            " -4.18714081e+01  6.36772260e+01  4.42340977e+01 -3.81114691e+01\n",
            " -4.71547759e+01 -9.16797074e+01 -2.52346805e+01]\n"
          ],
          "name": "stdout"
        }
      ]
    },
    {
      "cell_type": "code",
      "metadata": {
        "id": "4pBIh88SuACf",
        "colab": {
          "base_uri": "https://localhost:8080/"
        },
        "outputId": "a48bd7fc-9032-4b9e-a8f8-4830b392e729"
      },
      "source": [
        "print(len(lr_model_2[-1].coef_))"
      ],
      "execution_count": 19,
      "outputs": [
        {
          "output_type": "stream",
          "text": [
            "35\n"
          ],
          "name": "stdout"
        }
      ]
    },
    {
      "cell_type": "markdown",
      "metadata": {
        "id": "sRnkygHkuACn"
      },
      "source": [
        "# Engineer polynomial features"
      ]
    },
    {
      "cell_type": "code",
      "metadata": {
        "id": "Fgc0hLuiuACn"
      },
      "source": [
        "steps = [\n",
        "    ('scaler', MinMaxScaler()),\n",
        "    ('poly', PolynomialFeatures(degree=10)),\n",
        "    ('lr', LinearRegression())\n",
        "]"
      ],
      "execution_count": 20,
      "outputs": []
    },
    {
      "cell_type": "code",
      "metadata": {
        "id": "ENi3637QuACr"
      },
      "source": [
        "lr_model_3 = Pipeline(steps)"
      ],
      "execution_count": 21,
      "outputs": []
    },
    {
      "cell_type": "code",
      "metadata": {
        "id": "6Fa3hJ4duACx",
        "colab": {
          "base_uri": "https://localhost:8080/"
        },
        "outputId": "8cf97079-aa61-4a6f-939b-a90ad15358b2"
      },
      "source": [
        "lr_model_3.fit(train_X, train_y)"
      ],
      "execution_count": 22,
      "outputs": [
        {
          "output_type": "execute_result",
          "data": {
            "text/plain": [
              "Pipeline(memory=None,\n",
              "         steps=[('scaler', MinMaxScaler(copy=True, feature_range=(0, 1))),\n",
              "                ('poly',\n",
              "                 PolynomialFeatures(degree=10, include_bias=True,\n",
              "                                    interaction_only=False, order='C')),\n",
              "                ('lr',\n",
              "                 LinearRegression(copy_X=True, fit_intercept=True, n_jobs=None,\n",
              "                                  normalize=False))],\n",
              "         verbose=False)"
            ]
          },
          "metadata": {
            "tags": []
          },
          "execution_count": 22
        }
      ]
    },
    {
      "cell_type": "code",
      "metadata": {
        "id": "dvVQIDtNuAC1",
        "colab": {
          "base_uri": "https://localhost:8080/"
        },
        "outputId": "9f3c9f62-2446-45e9-8c20-07061ecc795d"
      },
      "source": [
        "print('lr_model_3 R2 Score: {}'.format(lr_model_3.score(eval_X, eval_y)))"
      ],
      "execution_count": 23,
      "outputs": [
        {
          "output_type": "stream",
          "text": [
            "lr_model_3 R2 Score: 0.5683459493202315\n"
          ],
          "name": "stdout"
        }
      ]
    },
    {
      "cell_type": "code",
      "metadata": {
        "id": "g_J5KhfCuAC7"
      },
      "source": [
        "lr_model_3_preds = lr_model_3.predict(eval_X)"
      ],
      "execution_count": 24,
      "outputs": []
    },
    {
      "cell_type": "code",
      "metadata": {
        "id": "phBeRc0FuADC",
        "colab": {
          "base_uri": "https://localhost:8080/"
        },
        "outputId": "7fbc25e7-5a21-4323-84d8-69b3f6081979"
      },
      "source": [
        "print('lr_model_3 MSE: {}'.format(mean_squared_error(eval_y, lr_model_3_preds)))"
      ],
      "execution_count": 25,
      "outputs": [
        {
          "output_type": "stream",
          "text": [
            "lr_model_3 MSE: 126.25355896915106\n"
          ],
          "name": "stdout"
        }
      ]
    },
    {
      "cell_type": "code",
      "metadata": {
        "id": "Bx8QmaJduADL",
        "colab": {
          "base_uri": "https://localhost:8080/"
        },
        "outputId": "dbce1d23-1191-43f7-a515-bb80d8cd2212"
      },
      "source": [
        "print(len(lr_model_3[-1].coef_))"
      ],
      "execution_count": 26,
      "outputs": [
        {
          "output_type": "stream",
          "text": [
            "1001\n"
          ],
          "name": "stdout"
        }
      ]
    },
    {
      "cell_type": "code",
      "metadata": {
        "id": "omV4-ydJuADT",
        "colab": {
          "base_uri": "https://localhost:8080/"
        },
        "outputId": "396b0ae9-1882-46b0-c762-5a0354889360"
      },
      "source": [
        "print(lr_model_3[-1].coef_[:35])"
      ],
      "execution_count": 27,
      "outputs": [
        {
          "output_type": "stream",
          "text": [
            "[ 3.92417572e+05 -6.90884957e+07 -4.12728037e+07  2.27928559e+07\n",
            " -4.76788092e+07  2.96663457e+08  2.73267484e+08  1.07844757e+08\n",
            "  3.73718995e+08  8.79698968e+07 -2.35367959e+07  2.46251982e+08\n",
            " -2.61104947e+08  1.86087661e+07  1.41131196e+08 -6.53886924e+08\n",
            " -8.90633353e+08 -1.06074814e+09 -1.29264510e+09 -4.28435046e+08\n",
            "  5.31626843e+07 -1.30408977e+09  4.41024830e+08 -8.86228713e+08\n",
            " -8.78160515e+08 -1.97377311e+06 -5.39375259e+08 -3.68352714e+08\n",
            "  9.82113559e+08 -2.76718687e+08 -6.28824872e+08  8.14257203e+08\n",
            "  5.43205856e+08 -2.03045074e+08 -2.42929048e+08]\n"
          ],
          "name": "stdout"
        }
      ]
    },
    {
      "cell_type": "markdown",
      "metadata": {
        "id": "R3KTPZd5uADY"
      },
      "source": [
        "# Implement Lasso on the same pipeline"
      ]
    },
    {
      "cell_type": "code",
      "metadata": {
        "id": "wvtRmkOLuADc"
      },
      "source": [
        "steps = [\n",
        "    ('scaler', MinMaxScaler()),\n",
        "    ('poly', PolynomialFeatures(degree=10)),\n",
        "    ('lr', Lasso(alpha=0.01))\n",
        "]"
      ],
      "execution_count": 28,
      "outputs": []
    },
    {
      "cell_type": "code",
      "metadata": {
        "id": "VKkWpShFuADi"
      },
      "source": [
        "lasso_model = Pipeline(steps)"
      ],
      "execution_count": 29,
      "outputs": []
    },
    {
      "cell_type": "code",
      "metadata": {
        "id": "CFUKWqGSuAD9",
        "colab": {
          "base_uri": "https://localhost:8080/"
        },
        "outputId": "3e12194c-9d99-416d-fe09-6323152813b1"
      },
      "source": [
        "lasso_model.fit(train_X, train_y)"
      ],
      "execution_count": 30,
      "outputs": [
        {
          "output_type": "execute_result",
          "data": {
            "text/plain": [
              "Pipeline(memory=None,\n",
              "         steps=[('scaler', MinMaxScaler(copy=True, feature_range=(0, 1))),\n",
              "                ('poly',\n",
              "                 PolynomialFeatures(degree=10, include_bias=True,\n",
              "                                    interaction_only=False, order='C')),\n",
              "                ('lr',\n",
              "                 Lasso(alpha=0.01, copy_X=True, fit_intercept=True,\n",
              "                       max_iter=1000, normalize=False, positive=False,\n",
              "                       precompute=False, random_state=None, selection='cyclic',\n",
              "                       tol=0.0001, warm_start=False))],\n",
              "         verbose=False)"
            ]
          },
          "metadata": {
            "tags": []
          },
          "execution_count": 30
        }
      ]
    },
    {
      "cell_type": "code",
      "metadata": {
        "id": "_bOVRGGeuAEh",
        "colab": {
          "base_uri": "https://localhost:8080/"
        },
        "outputId": "63e320e8-7b63-4d60-977f-8bfa3a0d86ff"
      },
      "source": [
        "print('lasso_model R2 Score: {}'.format(lasso_model.score(eval_X, eval_y)))"
      ],
      "execution_count": 31,
      "outputs": [
        {
          "output_type": "stream",
          "text": [
            "lasso_model R2 Score: 0.9418109161488483\n"
          ],
          "name": "stdout"
        }
      ]
    },
    {
      "cell_type": "code",
      "metadata": {
        "id": "B0sCTyzxuAE1"
      },
      "source": [
        "lasso_preds = lasso_model.predict(eval_X)"
      ],
      "execution_count": 32,
      "outputs": []
    },
    {
      "cell_type": "code",
      "metadata": {
        "id": "terkLrI6uAE7",
        "colab": {
          "base_uri": "https://localhost:8080/"
        },
        "outputId": "1231a99c-a1cc-415d-86ce-178b8e493c21"
      },
      "source": [
        "print('lasso_model MSE: {}'.format(mean_squared_error(eval_y, lasso_preds)))"
      ],
      "execution_count": 33,
      "outputs": [
        {
          "output_type": "stream",
          "text": [
            "lasso_model MSE: 17.019599185488644\n"
          ],
          "name": "stdout"
        }
      ]
    },
    {
      "cell_type": "code",
      "metadata": {
        "id": "2y24Ljr_uAFG",
        "colab": {
          "base_uri": "https://localhost:8080/"
        },
        "outputId": "113135e7-ad75-446f-fb2a-fef86ce84978"
      },
      "source": [
        "print(len(lasso_model[-1].coef_))"
      ],
      "execution_count": 34,
      "outputs": [
        {
          "output_type": "stream",
          "text": [
            "1001\n"
          ],
          "name": "stdout"
        }
      ]
    },
    {
      "cell_type": "code",
      "metadata": {
        "id": "9fPTFs6CuAFV",
        "colab": {
          "base_uri": "https://localhost:8080/"
        },
        "outputId": "f3974a67-97ee-4f5a-a3e1-5b094f1e0d7e"
      },
      "source": [
        "print(lasso_model[-1].coef_[:35])"
      ],
      "execution_count": 35,
      "outputs": [
        {
          "output_type": "stream",
          "text": [
            "[  0.         -69.23283545 -12.97913161   5.59999369  -0.\n",
            "   0.          -0.           0.          -0.71670158  -0.53479946\n",
            "   0.          -1.25577296   0.          -0.          -0.\n",
            "   0.           0.           0.          -0.           0.\n",
            "   0.          -0.           0.          -0.          -9.10662876\n",
            "  -0.           0.          -0.           0.          -0.\n",
            "  -3.04193695  -0.          -0.          -0.          -0.        ]\n"
          ],
          "name": "stdout"
        }
      ]
    }
  ]
}