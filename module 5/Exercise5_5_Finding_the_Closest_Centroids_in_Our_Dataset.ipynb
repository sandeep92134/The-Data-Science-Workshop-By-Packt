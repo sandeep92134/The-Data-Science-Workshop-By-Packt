{
  "nbformat": 4,
  "nbformat_minor": 0,
  "metadata": {
    "colab": {
      "name": "Exercise5_5: Finding the Closest Centroids in Our Dataset.ipynb",
      "provenance": [],
      "collapsed_sections": [],
      "include_colab_link": true
    },
    "kernelspec": {
      "name": "python3",
      "display_name": "Python 3"
    }
  },
  "cells": [
    {
      "cell_type": "markdown",
      "metadata": {
        "id": "view-in-github",
        "colab_type": "text"
      },
      "source": [
        "<a href=\"https://colab.research.google.com/github/sandeep92134/The-Data-Science-Workshop-By-Packt/blob/master/module%205/Exercise5_5_Finding_the_Closest_Centroids_in_Our_Dataset.ipynb\" target=\"_parent\"><img src=\"https://colab.research.google.com/assets/colab-badge.svg\" alt=\"Open In Colab\"/></a>"
      ]
    },
    {
      "cell_type": "code",
      "metadata": {
        "id": "teVYTWp62NMf"
      },
      "source": [
        "import pandas as pd\n",
        "from sklearn.cluster import KMeans\n",
        "import altair as alt"
      ],
      "execution_count": 1,
      "outputs": []
    },
    {
      "cell_type": "code",
      "metadata": {
        "id": "b_w9MPzrszPF"
      },
      "source": [
        "file_url = 'https://raw.githubusercontent.com/PacktWorkshops/The-Data-Science-Workshop/master/Chapter05/DataSet/taxstats2015.csv'"
      ],
      "execution_count": 2,
      "outputs": []
    },
    {
      "cell_type": "code",
      "metadata": {
        "id": "9dP6E2ye3Jia"
      },
      "source": [
        "df = pd.read_csv(file_url, usecols=['Postcode', 'Average total business income', 'Average total business expenses'])"
      ],
      "execution_count": 3,
      "outputs": []
    },
    {
      "cell_type": "code",
      "metadata": {
        "id": "6sx1xL3h4Ffz"
      },
      "source": [
        "X = df[['Average total business income', 'Average total business expenses']]"
      ],
      "execution_count": 4,
      "outputs": []
    },
    {
      "cell_type": "code",
      "metadata": {
        "id": "k5zU1YmA4W-T"
      },
      "source": [
        "business_income_min = df['Average total business income'].min()\n",
        "business_income_max = df['Average total business income'].max()\n",
        "\n",
        "business_expenses_min = df['Average total business expenses'].min()\n",
        "business_expenses_max = df['Average total business expenses'].max()"
      ],
      "execution_count": 5,
      "outputs": []
    },
    {
      "cell_type": "code",
      "metadata": {
        "id": "2IQm7qpU4p_S",
        "colab": {
          "base_uri": "https://localhost:8080/"
        },
        "outputId": "332c2261-eedf-4041-f2f6-3cac4c2a8b20"
      },
      "source": [
        "print(business_income_min)\n",
        "print(business_income_max)\n",
        "print(business_expenses_min)\n",
        "print(business_expenses_max)"
      ],
      "execution_count": 6,
      "outputs": [
        {
          "output_type": "stream",
          "text": [
            "0\n",
            "876324\n",
            "0\n",
            "884659\n"
          ],
          "name": "stdout"
        }
      ]
    },
    {
      "cell_type": "code",
      "metadata": {
        "id": "UlHRqugF4unX"
      },
      "source": [
        "import random\n",
        "random.seed(42)"
      ],
      "execution_count": 7,
      "outputs": []
    },
    {
      "cell_type": "code",
      "metadata": {
        "id": "eqGlqkPi5Uo2"
      },
      "source": [
        "centroids = pd.DataFrame()"
      ],
      "execution_count": 8,
      "outputs": []
    },
    {
      "cell_type": "code",
      "metadata": {
        "id": "dMCfxYzA5Vv8"
      },
      "source": [
        "centroids['Average total business income'] = random.sample(range(business_income_min, business_income_max), 4)"
      ],
      "execution_count": 9,
      "outputs": []
    },
    {
      "cell_type": "code",
      "metadata": {
        "id": "CE7GGrvv5wBm"
      },
      "source": [
        "centroids['Average total business expenses'] = random.sample(range(business_expenses_min, business_expenses_max), 4)"
      ],
      "execution_count": 10,
      "outputs": []
    },
    {
      "cell_type": "code",
      "metadata": {
        "id": "zBW4apPX5xb2",
        "colab": {
          "base_uri": "https://localhost:8080/",
          "height": 173
        },
        "outputId": "3173365e-f0c6-4bb2-e2d6-56323cd53204"
      },
      "source": [
        "centroids['cluster'] = centroids.index\n",
        "centroids"
      ],
      "execution_count": 11,
      "outputs": [
        {
          "output_type": "execute_result",
          "data": {
            "text/html": [
              "<div>\n",
              "<style scoped>\n",
              "    .dataframe tbody tr th:only-of-type {\n",
              "        vertical-align: middle;\n",
              "    }\n",
              "\n",
              "    .dataframe tbody tr th {\n",
              "        vertical-align: top;\n",
              "    }\n",
              "\n",
              "    .dataframe thead th {\n",
              "        text-align: right;\n",
              "    }\n",
              "</style>\n",
              "<table border=\"1\" class=\"dataframe\">\n",
              "  <thead>\n",
              "    <tr style=\"text-align: right;\">\n",
              "      <th></th>\n",
              "      <th>Average total business income</th>\n",
              "      <th>Average total business expenses</th>\n",
              "      <th>cluster</th>\n",
              "    </tr>\n",
              "  </thead>\n",
              "  <tbody>\n",
              "    <tr>\n",
              "      <th>0</th>\n",
              "      <td>670487</td>\n",
              "      <td>288389</td>\n",
              "      <td>0</td>\n",
              "    </tr>\n",
              "    <tr>\n",
              "      <th>1</th>\n",
              "      <td>116739</td>\n",
              "      <td>256787</td>\n",
              "      <td>1</td>\n",
              "    </tr>\n",
              "    <tr>\n",
              "      <th>2</th>\n",
              "      <td>26225</td>\n",
              "      <td>234053</td>\n",
              "      <td>2</td>\n",
              "    </tr>\n",
              "    <tr>\n",
              "      <th>3</th>\n",
              "      <td>777572</td>\n",
              "      <td>146316</td>\n",
              "      <td>3</td>\n",
              "    </tr>\n",
              "  </tbody>\n",
              "</table>\n",
              "</div>"
            ],
            "text/plain": [
              "   Average total business income  Average total business expenses  cluster\n",
              "0                         670487                           288389        0\n",
              "1                         116739                           256787        1\n",
              "2                          26225                           234053        2\n",
              "3                         777572                           146316        3"
            ]
          },
          "metadata": {
            "tags": []
          },
          "execution_count": 11
        }
      ]
    },
    {
      "cell_type": "code",
      "metadata": {
        "id": "eIA0hzt16xx7"
      },
      "source": [
        "chart1 = alt.Chart(df.head()).mark_circle().encode(x='Average total business income', y='Average total business expenses', \n",
        "    color=alt.value('orange'),\n",
        "    tooltip=['Postcode', 'Average total business income', 'Average total business expenses']\n",
        ").interactive()"
      ],
      "execution_count": 12,
      "outputs": []
    },
    {
      "cell_type": "code",
      "metadata": {
        "id": "7PGvAyEL63_R"
      },
      "source": [
        "chart2 = alt.Chart(centroids).mark_circle(size=100).encode(x='Average total business income', y='Average total business expenses', \n",
        "    color=alt.value('black'),\n",
        "    tooltip=['cluster', 'Average total business income', 'Average total business expenses']\n",
        ").interactive()"
      ],
      "execution_count": 13,
      "outputs": []
    },
    {
      "cell_type": "code",
      "metadata": {
        "id": "Xm4FTXtp65ZB",
        "colab": {
          "base_uri": "https://localhost:8080/",
          "height": 363
        },
        "outputId": "edb5cd48-b6c8-416e-a505-325916b0341e"
      },
      "source": [
        "chart1 + chart2"
      ],
      "execution_count": 14,
      "outputs": [
        {
          "output_type": "execute_result",
          "data": {
            "text/plain": [
              "alt.LayerChart(...)"
            ],
            "text/html": [
              "\n",
              "<div id=\"altair-viz-c3316e9ed1c84ef0bf5107d45c77ed08\"></div>\n",
              "<script type=\"text/javascript\">\n",
              "  (function(spec, embedOpt){\n",
              "    let outputDiv = document.currentScript.previousElementSibling;\n",
              "    if (outputDiv.id !== \"altair-viz-c3316e9ed1c84ef0bf5107d45c77ed08\") {\n",
              "      outputDiv = document.getElementById(\"altair-viz-c3316e9ed1c84ef0bf5107d45c77ed08\");\n",
              "    }\n",
              "    const paths = {\n",
              "      \"vega\": \"https://cdn.jsdelivr.net/npm//vega@5?noext\",\n",
              "      \"vega-lib\": \"https://cdn.jsdelivr.net/npm//vega-lib?noext\",\n",
              "      \"vega-lite\": \"https://cdn.jsdelivr.net/npm//vega-lite@4.8.1?noext\",\n",
              "      \"vega-embed\": \"https://cdn.jsdelivr.net/npm//vega-embed@6?noext\",\n",
              "    };\n",
              "\n",
              "    function loadScript(lib) {\n",
              "      return new Promise(function(resolve, reject) {\n",
              "        var s = document.createElement('script');\n",
              "        s.src = paths[lib];\n",
              "        s.async = true;\n",
              "        s.onload = () => resolve(paths[lib]);\n",
              "        s.onerror = () => reject(`Error loading script: ${paths[lib]}`);\n",
              "        document.getElementsByTagName(\"head\")[0].appendChild(s);\n",
              "      });\n",
              "    }\n",
              "\n",
              "    function showError(err) {\n",
              "      outputDiv.innerHTML = `<div class=\"error\" style=\"color:red;\">${err}</div>`;\n",
              "      throw err;\n",
              "    }\n",
              "\n",
              "    function displayChart(vegaEmbed) {\n",
              "      vegaEmbed(outputDiv, spec, embedOpt)\n",
              "        .catch(err => showError(`Javascript Error: ${err.message}<br>This usually means there's a typo in your chart specification. See the javascript console for the full traceback.`));\n",
              "    }\n",
              "\n",
              "    if(typeof define === \"function\" && define.amd) {\n",
              "      requirejs.config({paths});\n",
              "      require([\"vega-embed\"], displayChart, err => showError(`Error loading script: ${err.message}`));\n",
              "    } else if (typeof vegaEmbed === \"function\") {\n",
              "      displayChart(vegaEmbed);\n",
              "    } else {\n",
              "      loadScript(\"vega\")\n",
              "        .then(() => loadScript(\"vega-lite\"))\n",
              "        .then(() => loadScript(\"vega-embed\"))\n",
              "        .catch(showError)\n",
              "        .then(() => displayChart(vegaEmbed));\n",
              "    }\n",
              "  })({\"config\": {\"view\": {\"continuousWidth\": 400, \"continuousHeight\": 300}}, \"layer\": [{\"data\": {\"name\": \"data-ee08fe22868040b6b3d88b7a2d94fff4\"}, \"mark\": \"circle\", \"encoding\": {\"color\": {\"value\": \"orange\"}, \"tooltip\": [{\"type\": \"quantitative\", \"field\": \"Postcode\"}, {\"type\": \"quantitative\", \"field\": \"Average total business income\"}, {\"type\": \"quantitative\", \"field\": \"Average total business expenses\"}], \"x\": {\"type\": \"quantitative\", \"field\": \"Average total business income\"}, \"y\": {\"type\": \"quantitative\", \"field\": \"Average total business expenses\"}}, \"selection\": {\"selector001\": {\"type\": \"interval\", \"bind\": \"scales\", \"encodings\": [\"x\", \"y\"]}}}, {\"data\": {\"name\": \"data-4af31deb9417aa0ac5e19a2ec313b795\"}, \"mark\": {\"type\": \"circle\", \"size\": 100}, \"encoding\": {\"color\": {\"value\": \"black\"}, \"tooltip\": [{\"type\": \"quantitative\", \"field\": \"cluster\"}, {\"type\": \"quantitative\", \"field\": \"Average total business income\"}, {\"type\": \"quantitative\", \"field\": \"Average total business expenses\"}], \"x\": {\"type\": \"quantitative\", \"field\": \"Average total business income\"}, \"y\": {\"type\": \"quantitative\", \"field\": \"Average total business expenses\"}}, \"selection\": {\"selector002\": {\"type\": \"interval\", \"bind\": \"scales\", \"encodings\": [\"x\", \"y\"]}}}], \"$schema\": \"https://vega.github.io/schema/vega-lite/v4.8.1.json\", \"datasets\": {\"data-ee08fe22868040b6b3d88b7a2d94fff4\": [{\"Postcode\": 2000, \"Average total business income\": 210901, \"Average total business expenses\": 222191}, {\"Postcode\": 2006, \"Average total business income\": 69983, \"Average total business expenses\": 48971}, {\"Postcode\": 2007, \"Average total business income\": 575099, \"Average total business expenses\": 639499}, {\"Postcode\": 2008, \"Average total business income\": 53329, \"Average total business expenses\": 32173}, {\"Postcode\": 2009, \"Average total business income\": 237539, \"Average total business expenses\": 222993}], \"data-4af31deb9417aa0ac5e19a2ec313b795\": [{\"Average total business income\": 670487, \"Average total business expenses\": 288389, \"cluster\": 0}, {\"Average total business income\": 116739, \"Average total business expenses\": 256787, \"cluster\": 1}, {\"Average total business income\": 26225, \"Average total business expenses\": 234053, \"cluster\": 2}, {\"Average total business income\": 777572, \"Average total business expenses\": 146316, \"cluster\": 3}]}}, {\"mode\": \"vega-lite\"});\n",
              "</script>"
            ]
          },
          "metadata": {
            "tags": []
          },
          "execution_count": 14
        }
      ]
    },
    {
      "cell_type": "code",
      "metadata": {
        "id": "eQKhecFQ66sa"
      },
      "source": [
        "def squared_euclidean(data_x, data_y, centroid_x, centroid_y, ):\n",
        "  return (data_x - centroid_x)**2 + (data_y - centroid_y)**2"
      ],
      "execution_count": 15,
      "outputs": []
    },
    {
      "cell_type": "code",
      "metadata": {
        "id": "ORuNfqEy7zB5"
      },
      "source": [
        "data_x = df.at[0, 'Average total business income']\n",
        "data_y = df.at[0, 'Average total business expenses']"
      ],
      "execution_count": 16,
      "outputs": []
    },
    {
      "cell_type": "code",
      "metadata": {
        "id": "yakWRQoN70iU",
        "colab": {
          "base_uri": "https://localhost:8080/"
        },
        "outputId": "f7e6d3d9-94bd-4268-9b11-c5ef9a5ad4c6"
      },
      "source": [
        "distances = [squared_euclidean(data_x, data_y, centroids.at[i, 'Average total business income'], centroids.at[i, 'Average total business expenses']) for i in range(4)]\n",
        "distances"
      ],
      "execution_count": 17,
      "outputs": [
        {
          "output_type": "execute_result",
          "data": {
            "text/plain": [
              "[215601466600, 10063365460, 34245932020, 326873037866]"
            ]
          },
          "metadata": {
            "tags": []
          },
          "execution_count": 17
        }
      ]
    },
    {
      "cell_type": "code",
      "metadata": {
        "id": "azLmJ_FB7189"
      },
      "source": [
        "cluster_index = distances.index(min(distances))"
      ],
      "execution_count": 18,
      "outputs": []
    },
    {
      "cell_type": "code",
      "metadata": {
        "id": "wA2OZBYb9NoJ"
      },
      "source": [
        "df.at[0, 'cluster'] = cluster_index"
      ],
      "execution_count": 19,
      "outputs": []
    },
    {
      "cell_type": "code",
      "metadata": {
        "id": "1kSpYhB89PBf",
        "colab": {
          "base_uri": "https://localhost:8080/",
          "height": 204
        },
        "outputId": "1ee823ce-7d58-463c-9fd6-31b66636acb6"
      },
      "source": [
        "df.head()"
      ],
      "execution_count": 20,
      "outputs": [
        {
          "output_type": "execute_result",
          "data": {
            "text/html": [
              "<div>\n",
              "<style scoped>\n",
              "    .dataframe tbody tr th:only-of-type {\n",
              "        vertical-align: middle;\n",
              "    }\n",
              "\n",
              "    .dataframe tbody tr th {\n",
              "        vertical-align: top;\n",
              "    }\n",
              "\n",
              "    .dataframe thead th {\n",
              "        text-align: right;\n",
              "    }\n",
              "</style>\n",
              "<table border=\"1\" class=\"dataframe\">\n",
              "  <thead>\n",
              "    <tr style=\"text-align: right;\">\n",
              "      <th></th>\n",
              "      <th>Postcode</th>\n",
              "      <th>Average total business income</th>\n",
              "      <th>Average total business expenses</th>\n",
              "      <th>cluster</th>\n",
              "    </tr>\n",
              "  </thead>\n",
              "  <tbody>\n",
              "    <tr>\n",
              "      <th>0</th>\n",
              "      <td>2000</td>\n",
              "      <td>210901</td>\n",
              "      <td>222191</td>\n",
              "      <td>1.0</td>\n",
              "    </tr>\n",
              "    <tr>\n",
              "      <th>1</th>\n",
              "      <td>2006</td>\n",
              "      <td>69983</td>\n",
              "      <td>48971</td>\n",
              "      <td>NaN</td>\n",
              "    </tr>\n",
              "    <tr>\n",
              "      <th>2</th>\n",
              "      <td>2007</td>\n",
              "      <td>575099</td>\n",
              "      <td>639499</td>\n",
              "      <td>NaN</td>\n",
              "    </tr>\n",
              "    <tr>\n",
              "      <th>3</th>\n",
              "      <td>2008</td>\n",
              "      <td>53329</td>\n",
              "      <td>32173</td>\n",
              "      <td>NaN</td>\n",
              "    </tr>\n",
              "    <tr>\n",
              "      <th>4</th>\n",
              "      <td>2009</td>\n",
              "      <td>237539</td>\n",
              "      <td>222993</td>\n",
              "      <td>NaN</td>\n",
              "    </tr>\n",
              "  </tbody>\n",
              "</table>\n",
              "</div>"
            ],
            "text/plain": [
              "   Postcode  ...  cluster\n",
              "0      2000  ...      1.0\n",
              "1      2006  ...      NaN\n",
              "2      2007  ...      NaN\n",
              "3      2008  ...      NaN\n",
              "4      2009  ...      NaN\n",
              "\n",
              "[5 rows x 4 columns]"
            ]
          },
          "metadata": {
            "tags": []
          },
          "execution_count": 20
        }
      ]
    },
    {
      "cell_type": "code",
      "metadata": {
        "id": "yj34XK-N9QKH",
        "colab": {
          "base_uri": "https://localhost:8080/",
          "height": 204
        },
        "outputId": "7cd27d44-8225-4d50-abc5-38452a4bd7d8"
      },
      "source": [
        "distances = [squared_euclidean(df.at[1, 'Average total business income'], df.at[1, 'Average total business expenses'], centroids.at[i, 'Average total business income'], centroids.at[i, 'Average total business expenses']) for i in range(4)]\n",
        "df.at[1, 'cluster'] = distances.index(min(distances))\n",
        "\n",
        "distances = [squared_euclidean(df.at[2, 'Average total business income'], df.at[2, 'Average total business expenses'], centroids.at[i, 'Average total business income'], centroids.at[i, 'Average total business expenses']) for i in range(4)]\n",
        "df.at[2, 'cluster'] = distances.index(min(distances))\n",
        "\n",
        "distances = [squared_euclidean(df.at[3, 'Average total business income'], df.at[3, 'Average total business expenses'], centroids.at[i, 'Average total business income'], centroids.at[i, 'Average total business expenses']) for i in range(4)]\n",
        "df.at[3, 'cluster'] = distances.index(min(distances))\n",
        "\n",
        "distances = [squared_euclidean(df.at[4, 'Average total business income'], df.at[4, 'Average total business expenses'], centroids.at[i, 'Average total business income'], centroids.at[i, 'Average total business expenses']) for i in range(4)]\n",
        "df.at[4, 'cluster'] = distances.index(min(distances))\n",
        "\n",
        "df.head()"
      ],
      "execution_count": 21,
      "outputs": [
        {
          "output_type": "execute_result",
          "data": {
            "text/html": [
              "<div>\n",
              "<style scoped>\n",
              "    .dataframe tbody tr th:only-of-type {\n",
              "        vertical-align: middle;\n",
              "    }\n",
              "\n",
              "    .dataframe tbody tr th {\n",
              "        vertical-align: top;\n",
              "    }\n",
              "\n",
              "    .dataframe thead th {\n",
              "        text-align: right;\n",
              "    }\n",
              "</style>\n",
              "<table border=\"1\" class=\"dataframe\">\n",
              "  <thead>\n",
              "    <tr style=\"text-align: right;\">\n",
              "      <th></th>\n",
              "      <th>Postcode</th>\n",
              "      <th>Average total business income</th>\n",
              "      <th>Average total business expenses</th>\n",
              "      <th>cluster</th>\n",
              "    </tr>\n",
              "  </thead>\n",
              "  <tbody>\n",
              "    <tr>\n",
              "      <th>0</th>\n",
              "      <td>2000</td>\n",
              "      <td>210901</td>\n",
              "      <td>222191</td>\n",
              "      <td>1.0</td>\n",
              "    </tr>\n",
              "    <tr>\n",
              "      <th>1</th>\n",
              "      <td>2006</td>\n",
              "      <td>69983</td>\n",
              "      <td>48971</td>\n",
              "      <td>2.0</td>\n",
              "    </tr>\n",
              "    <tr>\n",
              "      <th>2</th>\n",
              "      <td>2007</td>\n",
              "      <td>575099</td>\n",
              "      <td>639499</td>\n",
              "      <td>0.0</td>\n",
              "    </tr>\n",
              "    <tr>\n",
              "      <th>3</th>\n",
              "      <td>2008</td>\n",
              "      <td>53329</td>\n",
              "      <td>32173</td>\n",
              "      <td>2.0</td>\n",
              "    </tr>\n",
              "    <tr>\n",
              "      <th>4</th>\n",
              "      <td>2009</td>\n",
              "      <td>237539</td>\n",
              "      <td>222993</td>\n",
              "      <td>1.0</td>\n",
              "    </tr>\n",
              "  </tbody>\n",
              "</table>\n",
              "</div>"
            ],
            "text/plain": [
              "   Postcode  ...  cluster\n",
              "0      2000  ...      1.0\n",
              "1      2006  ...      2.0\n",
              "2      2007  ...      0.0\n",
              "3      2008  ...      2.0\n",
              "4      2009  ...      1.0\n",
              "\n",
              "[5 rows x 4 columns]"
            ]
          },
          "metadata": {
            "tags": []
          },
          "execution_count": 21
        }
      ]
    },
    {
      "cell_type": "code",
      "metadata": {
        "id": "Gbodvbg190ee",
        "colab": {
          "base_uri": "https://localhost:8080/",
          "height": 363
        },
        "outputId": "6b365fc4-7072-40e0-ce3b-7eab9721224f"
      },
      "source": [
        "chart1 = alt.Chart(df.head()).mark_circle().encode(x='Average total business income', y='Average total business expenses', \n",
        "    color='cluster:N',\n",
        "    tooltip=['Postcode', 'cluster', 'Average total business income', 'Average total business expenses']\n",
        ").interactive()\n",
        "\n",
        "chart2 = alt.Chart(centroids).mark_circle(size=100).encode(x='Average total business income', y='Average total business expenses', \n",
        "    color=alt.value('black'),\n",
        "    tooltip=['cluster', 'Average total business income', 'Average total business expenses']\n",
        ").interactive()\n",
        "chart1 + chart2"
      ],
      "execution_count": 22,
      "outputs": [
        {
          "output_type": "execute_result",
          "data": {
            "text/plain": [
              "alt.LayerChart(...)"
            ],
            "text/html": [
              "\n",
              "<div id=\"altair-viz-42f7f569e50f46d78199a73082b814b0\"></div>\n",
              "<script type=\"text/javascript\">\n",
              "  (function(spec, embedOpt){\n",
              "    let outputDiv = document.currentScript.previousElementSibling;\n",
              "    if (outputDiv.id !== \"altair-viz-42f7f569e50f46d78199a73082b814b0\") {\n",
              "      outputDiv = document.getElementById(\"altair-viz-42f7f569e50f46d78199a73082b814b0\");\n",
              "    }\n",
              "    const paths = {\n",
              "      \"vega\": \"https://cdn.jsdelivr.net/npm//vega@5?noext\",\n",
              "      \"vega-lib\": \"https://cdn.jsdelivr.net/npm//vega-lib?noext\",\n",
              "      \"vega-lite\": \"https://cdn.jsdelivr.net/npm//vega-lite@4.8.1?noext\",\n",
              "      \"vega-embed\": \"https://cdn.jsdelivr.net/npm//vega-embed@6?noext\",\n",
              "    };\n",
              "\n",
              "    function loadScript(lib) {\n",
              "      return new Promise(function(resolve, reject) {\n",
              "        var s = document.createElement('script');\n",
              "        s.src = paths[lib];\n",
              "        s.async = true;\n",
              "        s.onload = () => resolve(paths[lib]);\n",
              "        s.onerror = () => reject(`Error loading script: ${paths[lib]}`);\n",
              "        document.getElementsByTagName(\"head\")[0].appendChild(s);\n",
              "      });\n",
              "    }\n",
              "\n",
              "    function showError(err) {\n",
              "      outputDiv.innerHTML = `<div class=\"error\" style=\"color:red;\">${err}</div>`;\n",
              "      throw err;\n",
              "    }\n",
              "\n",
              "    function displayChart(vegaEmbed) {\n",
              "      vegaEmbed(outputDiv, spec, embedOpt)\n",
              "        .catch(err => showError(`Javascript Error: ${err.message}<br>This usually means there's a typo in your chart specification. See the javascript console for the full traceback.`));\n",
              "    }\n",
              "\n",
              "    if(typeof define === \"function\" && define.amd) {\n",
              "      requirejs.config({paths});\n",
              "      require([\"vega-embed\"], displayChart, err => showError(`Error loading script: ${err.message}`));\n",
              "    } else if (typeof vegaEmbed === \"function\") {\n",
              "      displayChart(vegaEmbed);\n",
              "    } else {\n",
              "      loadScript(\"vega\")\n",
              "        .then(() => loadScript(\"vega-lite\"))\n",
              "        .then(() => loadScript(\"vega-embed\"))\n",
              "        .catch(showError)\n",
              "        .then(() => displayChart(vegaEmbed));\n",
              "    }\n",
              "  })({\"config\": {\"view\": {\"continuousWidth\": 400, \"continuousHeight\": 300}}, \"layer\": [{\"data\": {\"name\": \"data-575f8a87cc33ee226fb970a0e7e31664\"}, \"mark\": \"circle\", \"encoding\": {\"color\": {\"type\": \"nominal\", \"field\": \"cluster\"}, \"tooltip\": [{\"type\": \"quantitative\", \"field\": \"Postcode\"}, {\"type\": \"quantitative\", \"field\": \"cluster\"}, {\"type\": \"quantitative\", \"field\": \"Average total business income\"}, {\"type\": \"quantitative\", \"field\": \"Average total business expenses\"}], \"x\": {\"type\": \"quantitative\", \"field\": \"Average total business income\"}, \"y\": {\"type\": \"quantitative\", \"field\": \"Average total business expenses\"}}, \"selection\": {\"selector003\": {\"type\": \"interval\", \"bind\": \"scales\", \"encodings\": [\"x\", \"y\"]}}}, {\"data\": {\"name\": \"data-4af31deb9417aa0ac5e19a2ec313b795\"}, \"mark\": {\"type\": \"circle\", \"size\": 100}, \"encoding\": {\"color\": {\"value\": \"black\"}, \"tooltip\": [{\"type\": \"quantitative\", \"field\": \"cluster\"}, {\"type\": \"quantitative\", \"field\": \"Average total business income\"}, {\"type\": \"quantitative\", \"field\": \"Average total business expenses\"}], \"x\": {\"type\": \"quantitative\", \"field\": \"Average total business income\"}, \"y\": {\"type\": \"quantitative\", \"field\": \"Average total business expenses\"}}, \"selection\": {\"selector004\": {\"type\": \"interval\", \"bind\": \"scales\", \"encodings\": [\"x\", \"y\"]}}}], \"$schema\": \"https://vega.github.io/schema/vega-lite/v4.8.1.json\", \"datasets\": {\"data-575f8a87cc33ee226fb970a0e7e31664\": [{\"Postcode\": 2000, \"Average total business income\": 210901, \"Average total business expenses\": 222191, \"cluster\": 1.0}, {\"Postcode\": 2006, \"Average total business income\": 69983, \"Average total business expenses\": 48971, \"cluster\": 2.0}, {\"Postcode\": 2007, \"Average total business income\": 575099, \"Average total business expenses\": 639499, \"cluster\": 0.0}, {\"Postcode\": 2008, \"Average total business income\": 53329, \"Average total business expenses\": 32173, \"cluster\": 2.0}, {\"Postcode\": 2009, \"Average total business income\": 237539, \"Average total business expenses\": 222993, \"cluster\": 1.0}], \"data-4af31deb9417aa0ac5e19a2ec313b795\": [{\"Average total business income\": 670487, \"Average total business expenses\": 288389, \"cluster\": 0}, {\"Average total business income\": 116739, \"Average total business expenses\": 256787, \"cluster\": 1}, {\"Average total business income\": 26225, \"Average total business expenses\": 234053, \"cluster\": 2}, {\"Average total business income\": 777572, \"Average total business expenses\": 146316, \"cluster\": 3}]}}, {\"mode\": \"vega-lite\"});\n",
              "</script>"
            ]
          },
          "metadata": {
            "tags": []
          },
          "execution_count": 22
        }
      ]
    },
    {
      "cell_type": "code",
      "metadata": {
        "id": "waR0wfwn-OjS"
      },
      "source": [
        ""
      ],
      "execution_count": null,
      "outputs": []
    }
  ]
}