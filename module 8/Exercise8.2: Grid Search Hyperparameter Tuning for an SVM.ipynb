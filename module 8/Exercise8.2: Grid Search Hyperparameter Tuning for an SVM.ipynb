{
  "nbformat": 4,
  "nbformat_minor": 0,
  "metadata": {
    "colab": {
      "name": "Exercise_8_2.ipynb",
      "provenance": [],
      "collapsed_sections": [],
      "include_colab_link": true
    },
    "kernelspec": {
      "display_name": "Python 3",
      "language": "python",
      "name": "python3"
    },
    "language_info": {
      "codemirror_mode": {
        "name": "ipython",
        "version": 3
      },
      "file_extension": ".py",
      "mimetype": "text/x-python",
      "name": "python",
      "nbconvert_exporter": "python",
      "pygments_lexer": "ipython3",
      "version": "3.7.3"
    }
  },
  "cells": [
    {
      "cell_type": "markdown",
      "metadata": {
        "id": "view-in-github",
        "colab_type": "text"
      },
      "source": [
        "<a href=\"https://colab.research.google.com/github/sandeep92134/The-Data-Science-Workshop-By-Packt/blob/master/module%208/Exercise8.2%3A%20Grid%20Search%20Hyperparameter%20Tuning%20for%20an%20SVM.ipynb\" target=\"_parent\"><img src=\"https://colab.research.google.com/assets/colab-badge.svg\" alt=\"Open In Colab\"/></a>"
      ]
    },
    {
      "cell_type": "code",
      "metadata": {
        "id": "kHxgHJ7M-USR"
      },
      "source": [
        "from sklearn import datasets, svm, model_selection"
      ],
      "execution_count": 1,
      "outputs": []
    },
    {
      "cell_type": "code",
      "metadata": {
        "id": "POj6Wyt9-jMf"
      },
      "source": [
        "# load data\n",
        "digits = datasets.load_digits()\n",
        "\n",
        "# target\n",
        "y = digits.target\n",
        "\n",
        "# features\n",
        "X = digits.data"
      ],
      "execution_count": 2,
      "outputs": []
    },
    {
      "cell_type": "code",
      "metadata": {
        "id": "REhQ33GDkyzP"
      },
      "source": [
        "# support vector machine classifier\n",
        "clr = svm.SVC(gamma='scale')"
      ],
      "execution_count": 3,
      "outputs": []
    },
    {
      "cell_type": "code",
      "metadata": {
        "id": "sqIcOIZLFQH3"
      },
      "source": [
        "# hyperparameter grid. contains linear and polynomial kernels\n",
        "grid = [\n",
        "  {'kernel': ['linear']},\n",
        "  {'kernel': ['poly'], 'degree': [2, 3, 4]}\n",
        " ]"
      ],
      "execution_count": 4,
      "outputs": []
    },
    {
      "cell_type": "code",
      "metadata": {
        "id": "_VVGUOSqLdRv"
      },
      "source": [
        "# setting up the grid search to score on accuracy and evaluate over 10 folds\n",
        "cv_spec = model_selection.GridSearchCV(estimator=clr, param_grid=grid, scoring='accuracy', cv=10)"
      ],
      "execution_count": 5,
      "outputs": []
    },
    {
      "cell_type": "code",
      "metadata": {
        "id": "YwxAHVSelu9X",
        "colab": {
          "base_uri": "https://localhost:8080/"
        },
        "outputId": "ca60645c-beb8-467a-b33c-c632c2cda5d7"
      },
      "source": [
        "# start the grid search\n",
        "cv_spec.fit(X, y)"
      ],
      "execution_count": 6,
      "outputs": [
        {
          "output_type": "execute_result",
          "data": {
            "text/plain": [
              "GridSearchCV(cv=10, error_score=nan,\n",
              "             estimator=SVC(C=1.0, break_ties=False, cache_size=200,\n",
              "                           class_weight=None, coef0=0.0,\n",
              "                           decision_function_shape='ovr', degree=3,\n",
              "                           gamma='scale', kernel='rbf', max_iter=-1,\n",
              "                           probability=False, random_state=None, shrinking=True,\n",
              "                           tol=0.001, verbose=False),\n",
              "             iid='deprecated', n_jobs=None,\n",
              "             param_grid=[{'kernel': ['linear']},\n",
              "                         {'degree': [2, 3, 4], 'kernel': ['poly']}],\n",
              "             pre_dispatch='2*n_jobs', refit=True, return_train_score=False,\n",
              "             scoring='accuracy', verbose=0)"
            ]
          },
          "metadata": {
            "tags": []
          },
          "execution_count": 6
        }
      ]
    },
    {
      "cell_type": "code",
      "metadata": {
        "id": "llqjhh0SPGom",
        "colab": {
          "base_uri": "https://localhost:8080/"
        },
        "outputId": "e63d641f-cb4e-48d4-d448-6350a995d4a9"
      },
      "source": [
        "# what is the available information\n",
        "print(cv_spec.cv_results_.keys())"
      ],
      "execution_count": 7,
      "outputs": [
        {
          "output_type": "stream",
          "text": [
            "dict_keys(['mean_fit_time', 'std_fit_time', 'mean_score_time', 'std_score_time', 'param_kernel', 'param_degree', 'params', 'split0_test_score', 'split1_test_score', 'split2_test_score', 'split3_test_score', 'split4_test_score', 'split5_test_score', 'split6_test_score', 'split7_test_score', 'split8_test_score', 'split9_test_score', 'mean_test_score', 'std_test_score', 'rank_test_score'])\n"
          ],
          "name": "stdout"
        }
      ]
    },
    {
      "cell_type": "code",
      "metadata": {
        "id": "e9-x48AYQqBG",
        "colab": {
          "base_uri": "https://localhost:8080/"
        },
        "outputId": "48b0928d-4da5-4a1e-acff-772faabddc46"
      },
      "source": [
        "cv_spec.cv_results_"
      ],
      "execution_count": 8,
      "outputs": [
        {
          "output_type": "execute_result",
          "data": {
            "text/plain": [
              "{'mean_fit_time': array([0.04787729, 0.05732846, 0.05814536, 0.06081934]),\n",
              " 'mean_score_time': array([0.00614762, 0.00815084, 0.00759757, 0.00792894]),\n",
              " 'mean_test_score': array([0.96048727, 0.97049969, 0.97773433, 0.97328367]),\n",
              " 'param_degree': masked_array(data=[--, 2, 3, 4],\n",
              "              mask=[ True, False, False, False],\n",
              "        fill_value='?',\n",
              "             dtype=object),\n",
              " 'param_kernel': masked_array(data=['linear', 'poly', 'poly', 'poly'],\n",
              "              mask=[False, False, False, False],\n",
              "        fill_value='?',\n",
              "             dtype=object),\n",
              " 'params': [{'kernel': 'linear'},\n",
              "  {'degree': 2, 'kernel': 'poly'},\n",
              "  {'degree': 3, 'kernel': 'poly'},\n",
              "  {'degree': 4, 'kernel': 'poly'}],\n",
              " 'rank_test_score': array([4, 3, 1, 2], dtype=int32),\n",
              " 'split0_test_score': array([0.93888889, 0.95      , 0.96111111, 0.96111111]),\n",
              " 'split1_test_score': array([0.99444444, 0.99444444, 1.        , 1.        ]),\n",
              " 'split2_test_score': array([0.93333333, 0.92222222, 0.93333333, 0.92222222]),\n",
              " 'split3_test_score': array([0.94444444, 0.97222222, 0.98333333, 0.98333333]),\n",
              " 'split4_test_score': array([0.96111111, 0.98888889, 0.99444444, 0.98333333]),\n",
              " 'split5_test_score': array([0.98888889, 0.99444444, 0.99444444, 0.98333333]),\n",
              " 'split6_test_score': array([0.96666667, 0.98333333, 0.98888889, 0.98888889]),\n",
              " 'split7_test_score': array([0.97765363, 0.99441341, 0.99441341, 0.99441341]),\n",
              " 'split8_test_score': array([0.93296089, 0.94413408, 0.96089385, 0.94972067]),\n",
              " 'split9_test_score': array([0.96648045, 0.96089385, 0.96648045, 0.96648045]),\n",
              " 'std_fit_time': array([0.00244896, 0.00259094, 0.00176485, 0.00293782]),\n",
              " 'std_score_time': array([0.00017093, 0.00017112, 0.00025476, 0.00280468]),\n",
              " 'std_test_score': array([0.02132561, 0.02400577, 0.02036225, 0.02250262])}"
            ]
          },
          "metadata": {
            "tags": []
          },
          "execution_count": 8
        }
      ]
    },
    {
      "cell_type": "code",
      "metadata": {
        "id": "YckzWb92QJt-",
        "colab": {
          "base_uri": "https://localhost:8080/"
        },
        "outputId": "4ea3cdf2-7c50-4511-ca2a-797ddb4b09e0"
      },
      "source": [
        "import pandas as pd\n",
        "\n",
        "# convert the dictionary of results to a pandas dataframe\n",
        "results = pd.DataFrame(cv_spec.cv_results_)\n",
        "\n",
        "print(\n",
        "# show the hyperparameterizations\n",
        "results.loc[:,['params','mean_test_score']].sort_values('mean_test_score', ascending=False)\n",
        ")"
      ],
      "execution_count": 9,
      "outputs": [
        {
          "output_type": "stream",
          "text": [
            "                            params  mean_test_score\n",
            "2  {'degree': 3, 'kernel': 'poly'}         0.977734\n",
            "3  {'degree': 4, 'kernel': 'poly'}         0.973284\n",
            "1  {'degree': 2, 'kernel': 'poly'}         0.970500\n",
            "0             {'kernel': 'linear'}         0.960487\n"
          ],
          "name": "stdout"
        }
      ]
    },
    {
      "cell_type": "code",
      "metadata": {
        "colab": {
          "base_uri": "https://localhost:8080/",
          "height": 282
        },
        "id": "TFF7NifDUslW",
        "outputId": "9aebf19d-bb14-4035-c145-10fcb04c5638"
      },
      "source": [
        "# visualize the result\r\n",
        "(\r\n",
        "    results.loc[:,['params','mean_test_score']]\r\n",
        "    .sort_values('mean_test_score', ascending=True)\r\n",
        "    .plot.barh(x='params', xlim=(0.8))\r\n",
        ")"
      ],
      "execution_count": 16,
      "outputs": [
        {
          "output_type": "execute_result",
          "data": {
            "text/plain": [
              "<matplotlib.axes._subplots.AxesSubplot at 0x7fde8df9efd0>"
            ]
          },
          "metadata": {
            "tags": []
          },
          "execution_count": 16
        },
        {
          "output_type": "display_data",
          "data": {
            "image/png": "[encoded data removed]",
            "text/plain": [
              "<Figure size 432x288 with 1 Axes>"
            ]
          },
          "metadata": {
            "tags": [],
            "needs_background": "light"
          }
        }
      ]
    },
    {
      "cell_type": "code",
      "metadata": {
        "id": "x3M7xWltUV3E"
      },
      "source": [
        "# visualize the result\r\n",
        "#(\r\n",
        "#    results.loc[:,['params','mean_test_score']]\r\n",
        "#    .sort_values('mean_test_score', ascending=True)\r\n",
        "#    .plot.barh(x='params', xlim=(0.8))\r\n",
        "#)"
      ],
      "execution_count": null,
      "outputs": []
    }
  ]
}