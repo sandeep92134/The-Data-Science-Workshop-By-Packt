{
  "nbformat": 4,
  "nbformat_minor": 0,
  "metadata": {
    "colab": {
      "name": "Exercise_8_1.ipynb",
      "provenance": [],
      "collapsed_sections": [],
      "include_colab_link": true
    },
    "kernelspec": {
      "display_name": "Python 3",
      "language": "python",
      "name": "python3"
    },
    "language_info": {
      "codemirror_mode": {
        "name": "ipython",
        "version": 3
      },
      "file_extension": ".py",
      "mimetype": "text/x-python",
      "name": "python",
      "nbconvert_exporter": "python",
      "pygments_lexer": "ipython3",
      "version": "3.7.3"
    }
  },
  "cells": [
    {
      "cell_type": "markdown",
      "metadata": {
        "id": "view-in-github",
        "colab_type": "text"
      },
      "source": [
        "<a href=\"https://colab.research.google.com/github/sandeep92134/The-Data-Science-Workshop-By-Packt/blob/master/module%208/Exercise8.01%3A%20Manual%20Hyperparameter%20Tuning%20for%20a%20k-NN%20Classifier.ipynb\" target=\"_parent\"><img src=\"https://colab.research.google.com/assets/colab-badge.svg\" alt=\"Open In Colab\"/></a>"
      ]
    },
    {
      "cell_type": "code",
      "metadata": {
        "id": "8AgQ_HS9i40B"
      },
      "source": [
        "from sklearn import neighbors, datasets, model_selection"
      ],
      "execution_count": 1,
      "outputs": []
    },
    {
      "cell_type": "code",
      "metadata": {
        "id": "TluW5qEojQHo"
      },
      "source": [
        "# dataset\n",
        "cancer = datasets.load_breast_cancer()\n",
        "\n",
        "# target\n",
        "y = cancer.target\n",
        "\n",
        "# features\n",
        "X = cancer.data"
      ],
      "execution_count": 3,
      "outputs": []
    },
    {
      "cell_type": "code",
      "metadata": {
        "id": "NBmvMbQ1j6zQ"
      },
      "source": [
        "# no arguments specified\n",
        "knn = neighbors.KNeighborsClassifier()"
      ],
      "execution_count": 4,
      "outputs": []
    },
    {
      "cell_type": "code",
      "metadata": {
        "id": "tWS3Dqfgj30k",
        "colab": {
          "base_uri": "https://localhost:8080/"
        },
        "outputId": "b7bf7e6f-dd53-4636-b40e-512bd4600c8d"
      },
      "source": [
        "# 10 folds, scored on precision\n",
        "cv = model_selection.cross_val_score(knn, X, y, cv=10, scoring='precision')\n",
        "\n",
        "# precision scores\n",
        "print(cv)"
      ],
      "execution_count": 5,
      "outputs": [
        {
          "output_type": "stream",
          "text": [
            "[0.91666667 0.85       0.91666667 0.94736842 0.94594595 0.94444444\n",
            " 0.97222222 0.92105263 0.96969697 0.97142857]\n"
          ],
          "name": "stdout"
        }
      ]
    },
    {
      "cell_type": "code",
      "metadata": {
        "id": "w_F9k2hdj_8V",
        "colab": {
          "base_uri": "https://localhost:8080/"
        },
        "outputId": "aa95f5f1-1db6-4a99-9732-9a8ab6623788"
      },
      "source": [
        "# average over all folds\n",
        "print(round(cv.mean(), 2))"
      ],
      "execution_count": 6,
      "outputs": [
        {
          "output_type": "stream",
          "text": [
            "0.94\n"
          ],
          "name": "stdout"
        }
      ]
    },
    {
      "cell_type": "code",
      "metadata": {
        "id": "mM_XnnNQkbrx",
        "colab": {
          "base_uri": "https://localhost:8080/"
        },
        "outputId": "99157750-f0c1-47ef-deb4-95e2c33d0a6f"
      },
      "source": [
        "# k = 15\n",
        "knn = neighbors.KNeighborsClassifier(n_neighbors=15)\n",
        "\n",
        "cv = model_selection.cross_val_score(knn, X, y, cv=10, scoring='precision')\n",
        "\n",
        "print(round(cv.mean(), 2))"
      ],
      "execution_count": 7,
      "outputs": [
        {
          "output_type": "stream",
          "text": [
            "0.93\n"
          ],
          "name": "stdout"
        }
      ]
    },
    {
      "cell_type": "code",
      "metadata": {
        "id": "VSpsCUkYog-B",
        "colab": {
          "base_uri": "https://localhost:8080/"
        },
        "outputId": "71be89be-e7d9-4d7e-bc70-864c740ed2e0"
      },
      "source": [
        "def evaluate_knn(k):\n",
        "    knn = neighbors.KNeighborsClassifier(n_neighbors=k)\n",
        "    cv = model_selection.cross_val_score(knn, X, y, cv=10, scoring='precision')\n",
        "    print(round(cv.mean(), 2))\n",
        "\n",
        "evaluate_knn(k=7)\n",
        "evaluate_knn(k=3)\n",
        "evaluate_knn(k=1)"
      ],
      "execution_count": 8,
      "outputs": [
        {
          "output_type": "stream",
          "text": [
            "0.93\n",
            "0.93\n",
            "0.92\n"
          ],
          "name": "stdout"
        }
      ]
    },
    {
      "cell_type": "code",
      "metadata": {
        "id": "oTu-nTHPsRfH",
        "colab": {
          "base_uri": "https://localhost:8080/"
        },
        "outputId": "a8a03631-39ce-4d7c-a175-2006dff07df5"
      },
      "source": [
        "# k =5, weights evaluated using distance\n",
        "knn = neighbors.KNeighborsClassifier(n_neighbors=5, weights='distance')\n",
        "\n",
        "cv = model_selection.cross_val_score(knn, X, y, cv=10, scoring='precision')\n",
        "\n",
        "print(round(cv.mean(), 2))"
      ],
      "execution_count": 9,
      "outputs": [
        {
          "output_type": "stream",
          "text": [
            "0.93\n"
          ],
          "name": "stdout"
        }
      ]
    },
    {
      "cell_type": "code",
      "metadata": {
        "id": "JwauOZv7RDoi"
      },
      "source": [
        ""
      ],
      "execution_count": null,
      "outputs": []
    }
  ]
}