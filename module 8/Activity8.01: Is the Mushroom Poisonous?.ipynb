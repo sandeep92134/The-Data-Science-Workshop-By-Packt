{
  "nbformat": 4,
  "nbformat_minor": 0,
  "metadata": {
    "colab": {
      "name": "Activity8_01.ipynb",
      "provenance": [],
      "include_colab_link": true
    },
    "kernelspec": {
      "display_name": "Python 3",
      "language": "python",
      "name": "python3"
    },
    "language_info": {
      "codemirror_mode": {
        "name": "ipython",
        "version": 3
      },
      "file_extension": ".py",
      "mimetype": "text/x-python",
      "name": "python",
      "nbconvert_exporter": "python",
      "pygments_lexer": "ipython3",
      "version": "3.7.6"
    }
  },
  "cells": [
    {
      "cell_type": "markdown",
      "metadata": {
        "id": "view-in-github",
        "colab_type": "text"
      },
      "source": [
        "<a href=\"https://colab.research.google.com/github/sandeep92134/The-Data-Science-Workshop-By-Packt/blob/master/module%208/Activity8.01%3A%20Is%20the%20Mushroom%20Poisonous%3F.ipynb\" target=\"_parent\"><img src=\"https://colab.research.google.com/assets/colab-badge.svg\" alt=\"Open In Colab\"/></a>"
      ]
    },
    {
      "cell_type": "code",
      "metadata": {
        "id": "D7JgAqboXaYz"
      },
      "source": [
        "import pandas as pd"
      ],
      "execution_count": 1,
      "outputs": []
    },
    {
      "cell_type": "code",
      "metadata": {
        "id": "rV4rlbk_X_Cx"
      },
      "source": [
        "mushrooms = pd.read_csv('https://raw.githubusercontent.com/sandeep92134/The-Data-Science-Workshop-By-Packt/master/module%208/datasets/agaricus-lepiota.data', header=None)"
      ],
      "execution_count": 2,
      "outputs": []
    },
    {
      "cell_type": "code",
      "metadata": {
        "id": "-nC04CscYImK"
      },
      "source": [
        "y_raw = mushrooms.iloc[:,0]\n",
        "X_raw = mushrooms.iloc[:,1:]\n",
        "y = (y_raw == 'p') * 1"
      ],
      "execution_count": 3,
      "outputs": []
    },
    {
      "cell_type": "code",
      "metadata": {
        "id": "_b7quE4PYLIZ"
      },
      "source": [
        "from sklearn import preprocessing\n",
        "encoder = preprocessing.OneHotEncoder()\n",
        "\n",
        "encoder.fit(X_raw)\n",
        "\n",
        "X = encoder.transform(X_raw).toarray()"
      ],
      "execution_count": 4,
      "outputs": []
    },
    {
      "cell_type": "code",
      "metadata": {
        "colab": {
          "base_uri": "https://localhost:8080/",
          "height": 889
        },
        "id": "gIdVSmXOYPuC",
        "outputId": "f8d610ca-3ce6-4fba-f2d5-209c0264a2d5"
      },
      "source": [
        "#Initialize the classifier.\n",
        "from sklearn import ensemble\n",
        "rfc = ensemble.RandomForestClassifier(n_estimators=100, random_state=100)\n",
        "\n",
        "#Conduct a grid search.\n",
        "from sklearn import model_selection\n",
        "grid = {\n",
        "    'criterion': ['gini', 'entropy'],\n",
        "    'max_features': [2, 4, 6, 8, 10, 12, 14]\n",
        "}\n",
        "gscv = model_selection.GridSearchCV(estimator=rfc, param_grid=grid, cv=5, scoring='accuracy')\n",
        "gscv.fit(X,y)\n",
        "results = pd.DataFrame(gscv.cv_results_)\n",
        "results.sort_values('rank_test_score', ascending=True).head(10)\n",
        "\n",
        "#Conduct a random search.\n",
        "from scipy import stats\n",
        "max_features = X.shape[1]\n",
        "param_dist = {\n",
        "    'criterion': ['gini', 'entropy'],\n",
        "    'max_features': stats.randint(low=1, high=max_features)\n",
        "}\n",
        "rscv = model_selection.RandomizedSearchCV(estimator=rfc, param_distributions=param_dist, n_iter=50, cv=5, scoring='accuracy', random_state=100)\n",
        "rscv.fit(X,y)\n",
        "results = pd.DataFrame(rscv.cv_results_)\n",
        "results.sort_values('rank_test_score', ascending=True).head(10)"
      ],
      "execution_count": 5,
      "outputs": [
        {
          "output_type": "execute_result",
          "data": {
            "text/html": [
              "<div>\n",
              "<style scoped>\n",
              "    .dataframe tbody tr th:only-of-type {\n",
              "        vertical-align: middle;\n",
              "    }\n",
              "\n",
              "    .dataframe tbody tr th {\n",
              "        vertical-align: top;\n",
              "    }\n",
              "\n",
              "    .dataframe thead th {\n",
              "        text-align: right;\n",
              "    }\n",
              "</style>\n",
              "<table border=\"1\" class=\"dataframe\">\n",
              "  <thead>\n",
              "    <tr style=\"text-align: right;\">\n",
              "      <th></th>\n",
              "      <th>mean_fit_time</th>\n",
              "      <th>std_fit_time</th>\n",
              "      <th>mean_score_time</th>\n",
              "      <th>std_score_time</th>\n",
              "      <th>param_criterion</th>\n",
              "      <th>param_max_features</th>\n",
              "      <th>params</th>\n",
              "      <th>split0_test_score</th>\n",
              "      <th>split1_test_score</th>\n",
              "      <th>split2_test_score</th>\n",
              "      <th>split3_test_score</th>\n",
              "      <th>split4_test_score</th>\n",
              "      <th>mean_test_score</th>\n",
              "      <th>std_test_score</th>\n",
              "      <th>rank_test_score</th>\n",
              "    </tr>\n",
              "  </thead>\n",
              "  <tbody>\n",
              "    <tr>\n",
              "      <th>6</th>\n",
              "      <td>1.308994</td>\n",
              "      <td>0.150930</td>\n",
              "      <td>0.020435</td>\n",
              "      <td>0.001423</td>\n",
              "      <td>gini</td>\n",
              "      <td>99</td>\n",
              "      <td>{'criterion': 'gini', 'max_features': 99}</td>\n",
              "      <td>1.000000</td>\n",
              "      <td>1.0</td>\n",
              "      <td>0.996308</td>\n",
              "      <td>1.0</td>\n",
              "      <td>0.745074</td>\n",
              "      <td>0.948276</td>\n",
              "      <td>0.101611</td>\n",
              "      <td>1</td>\n",
              "    </tr>\n",
              "    <tr>\n",
              "      <th>25</th>\n",
              "      <td>1.380693</td>\n",
              "      <td>0.145844</td>\n",
              "      <td>0.019590</td>\n",
              "      <td>0.000608</td>\n",
              "      <td>gini</td>\n",
              "      <td>106</td>\n",
              "      <td>{'criterion': 'gini', 'max_features': 106}</td>\n",
              "      <td>1.000000</td>\n",
              "      <td>1.0</td>\n",
              "      <td>0.996308</td>\n",
              "      <td>1.0</td>\n",
              "      <td>0.745074</td>\n",
              "      <td>0.948276</td>\n",
              "      <td>0.101611</td>\n",
              "      <td>1</td>\n",
              "    </tr>\n",
              "    <tr>\n",
              "      <th>29</th>\n",
              "      <td>1.469367</td>\n",
              "      <td>0.193419</td>\n",
              "      <td>0.021169</td>\n",
              "      <td>0.003002</td>\n",
              "      <td>gini</td>\n",
              "      <td>111</td>\n",
              "      <td>{'criterion': 'gini', 'max_features': 111}</td>\n",
              "      <td>1.000000</td>\n",
              "      <td>1.0</td>\n",
              "      <td>0.995692</td>\n",
              "      <td>1.0</td>\n",
              "      <td>0.739532</td>\n",
              "      <td>0.947045</td>\n",
              "      <td>0.103770</td>\n",
              "      <td>3</td>\n",
              "    </tr>\n",
              "    <tr>\n",
              "      <th>41</th>\n",
              "      <td>1.370670</td>\n",
              "      <td>0.145694</td>\n",
              "      <td>0.019686</td>\n",
              "      <td>0.001272</td>\n",
              "      <td>gini</td>\n",
              "      <td>105</td>\n",
              "      <td>{'criterion': 'gini', 'max_features': 105}</td>\n",
              "      <td>1.000000</td>\n",
              "      <td>1.0</td>\n",
              "      <td>0.996308</td>\n",
              "      <td>1.0</td>\n",
              "      <td>0.737685</td>\n",
              "      <td>0.946798</td>\n",
              "      <td>0.104567</td>\n",
              "      <td>4</td>\n",
              "    </tr>\n",
              "    <tr>\n",
              "      <th>10</th>\n",
              "      <td>1.390897</td>\n",
              "      <td>0.160060</td>\n",
              "      <td>0.019838</td>\n",
              "      <td>0.000787</td>\n",
              "      <td>gini</td>\n",
              "      <td>108</td>\n",
              "      <td>{'criterion': 'gini', 'max_features': 108}</td>\n",
              "      <td>1.000000</td>\n",
              "      <td>1.0</td>\n",
              "      <td>0.996308</td>\n",
              "      <td>1.0</td>\n",
              "      <td>0.737685</td>\n",
              "      <td>0.946798</td>\n",
              "      <td>0.104567</td>\n",
              "      <td>4</td>\n",
              "    </tr>\n",
              "    <tr>\n",
              "      <th>18</th>\n",
              "      <td>0.321956</td>\n",
              "      <td>0.009302</td>\n",
              "      <td>0.022839</td>\n",
              "      <td>0.000821</td>\n",
              "      <td>gini</td>\n",
              "      <td>5</td>\n",
              "      <td>{'criterion': 'gini', 'max_features': 5}</td>\n",
              "      <td>0.842462</td>\n",
              "      <td>1.0</td>\n",
              "      <td>1.000000</td>\n",
              "      <td>1.0</td>\n",
              "      <td>0.862685</td>\n",
              "      <td>0.941029</td>\n",
              "      <td>0.072507</td>\n",
              "      <td>6</td>\n",
              "    </tr>\n",
              "    <tr>\n",
              "      <th>15</th>\n",
              "      <td>0.323593</td>\n",
              "      <td>0.009478</td>\n",
              "      <td>0.023712</td>\n",
              "      <td>0.002325</td>\n",
              "      <td>gini</td>\n",
              "      <td>5</td>\n",
              "      <td>{'criterion': 'gini', 'max_features': 5}</td>\n",
              "      <td>0.842462</td>\n",
              "      <td>1.0</td>\n",
              "      <td>1.000000</td>\n",
              "      <td>1.0</td>\n",
              "      <td>0.862685</td>\n",
              "      <td>0.941029</td>\n",
              "      <td>0.072507</td>\n",
              "      <td>6</td>\n",
              "    </tr>\n",
              "    <tr>\n",
              "      <th>46</th>\n",
              "      <td>1.400850</td>\n",
              "      <td>0.167860</td>\n",
              "      <td>0.019894</td>\n",
              "      <td>0.000657</td>\n",
              "      <td>gini</td>\n",
              "      <td>107</td>\n",
              "      <td>{'criterion': 'gini', 'max_features': 107}</td>\n",
              "      <td>1.000000</td>\n",
              "      <td>1.0</td>\n",
              "      <td>0.996308</td>\n",
              "      <td>1.0</td>\n",
              "      <td>0.708128</td>\n",
              "      <td>0.940887</td>\n",
              "      <td>0.116388</td>\n",
              "      <td>8</td>\n",
              "    </tr>\n",
              "    <tr>\n",
              "      <th>49</th>\n",
              "      <td>0.394878</td>\n",
              "      <td>0.007581</td>\n",
              "      <td>0.021286</td>\n",
              "      <td>0.000485</td>\n",
              "      <td>entropy</td>\n",
              "      <td>11</td>\n",
              "      <td>{'criterion': 'entropy', 'max_features': 11}</td>\n",
              "      <td>0.842462</td>\n",
              "      <td>1.0</td>\n",
              "      <td>1.000000</td>\n",
              "      <td>1.0</td>\n",
              "      <td>0.860837</td>\n",
              "      <td>0.940660</td>\n",
              "      <td>0.072909</td>\n",
              "      <td>9</td>\n",
              "    </tr>\n",
              "    <tr>\n",
              "      <th>39</th>\n",
              "      <td>0.473196</td>\n",
              "      <td>0.021390</td>\n",
              "      <td>0.021065</td>\n",
              "      <td>0.001342</td>\n",
              "      <td>gini</td>\n",
              "      <td>18</td>\n",
              "      <td>{'criterion': 'gini', 'max_features': 18}</td>\n",
              "      <td>0.842462</td>\n",
              "      <td>1.0</td>\n",
              "      <td>1.000000</td>\n",
              "      <td>1.0</td>\n",
              "      <td>0.841749</td>\n",
              "      <td>0.936842</td>\n",
              "      <td>0.077353</td>\n",
              "      <td>10</td>\n",
              "    </tr>\n",
              "  </tbody>\n",
              "</table>\n",
              "</div>"
            ],
            "text/plain": [
              "    mean_fit_time  std_fit_time  ...  std_test_score  rank_test_score\n",
              "6        1.308994      0.150930  ...        0.101611                1\n",
              "25       1.380693      0.145844  ...        0.101611                1\n",
              "29       1.469367      0.193419  ...        0.103770                3\n",
              "41       1.370670      0.145694  ...        0.104567                4\n",
              "10       1.390897      0.160060  ...        0.104567                4\n",
              "18       0.321956      0.009302  ...        0.072507                6\n",
              "15       0.323593      0.009478  ...        0.072507                6\n",
              "46       1.400850      0.167860  ...        0.116388                8\n",
              "49       0.394878      0.007581  ...        0.072909                9\n",
              "39       0.473196      0.021390  ...        0.077353               10\n",
              "\n",
              "[10 rows x 15 columns]"
            ]
          },
          "metadata": {
            "tags": []
          },
          "execution_count": 5
        }
      ]
    },
    {
      "cell_type": "code",
      "metadata": {
        "colab": {
          "base_uri": "https://localhost:8080/",
          "height": 282
        },
        "id": "QVVAb9cjYfhh",
        "outputId": "c72ac8df-323c-4561-84c4-bb714b257402"
      },
      "source": [
        "results.loc[:,'params'] = results.loc[:,'params'].astype(str)\n",
        "\n",
        "(\n",
        "    results.sort_values('rank_test_score', ascending=False)\n",
        "    .loc[:,['params','mean_test_score']]\n",
        "    .drop_duplicates()\n",
        "    .head(10)\n",
        "    .plot.barh(x='params', xlim=(0.8))\n",
        ")"
      ],
      "execution_count": 6,
      "outputs": [
        {
          "output_type": "execute_result",
          "data": {
            "text/plain": [
              "<matplotlib.axes._subplots.AxesSubplot at 0x7fe58de905c0>"
            ]
          },
          "metadata": {
            "tags": []
          },
          "execution_count": 6
        },
        {
          "output_type": "display_data",
          "data": {
            "image/png": "[encoded data removed]",
            "text/plain": [
              "<Figure size 432x288 with 1 Axes>"
            ]
          },
          "metadata": {
            "tags": [],
            "needs_background": "light"
          }
        }
      ]
    },
    {
      "cell_type": "code",
      "metadata": {
        "id": "T7R8cVhpYs7e"
      },
      "source": [
        ""
      ],
      "execution_count": null,
      "outputs": []
    }
  ]
}