{
  "nbformat": 4,
  "nbformat_minor": 0,
  "metadata": {
    "colab": {
      "name": "Activity11_1.ipynb",
      "provenance": [],
      "collapsed_sections": [],
      "include_colab_link": true
    },
    "kernelspec": {
      "name": "python3",
      "display_name": "Python 3"
    }
  },
  "cells": [
    {
      "cell_type": "markdown",
      "metadata": {
        "id": "view-in-github",
        "colab_type": "text"
      },
      "source": [
        "<a href=\"https://colab.research.google.com/github/sandeep92134/The-Data-Science-Workshop-By-Packt/blob/master/module%2011/Activity11.01%3A%20Preparing%20the%20Speed%20Dating%20Datasets.ipynb\" target=\"_parent\"><img src=\"https://colab.research.google.com/assets/colab-badge.svg\" alt=\"Open In Colab\"/></a>"
      ]
    },
    {
      "cell_type": "markdown",
      "metadata": {
        "id": "R4yIYlkA_8Hr"
      },
      "source": [
        "Preparing the Speed Dating Dataset\r\n",
        "As an entrepreneur, you are planning to launch a new dating app into the market. The key feature that will differentiate your app from other competitors will be your high performing user-matching algorithm. Before building this model, you have partnered with a speed dating company to collect data from real events. You just received the dataset from your partner company but realized it is not as clean as you expected; there are missing and incorrect values. Your task is to fix the main data quality issues in this dataset.\r\n",
        "\r\n",
        "The following steps will help you complete this activity:\r\n",
        "\r\n",
        "1. Download and load the dataset into Python using .read_csv().\r\n",
        "2. Print out the dimensions of the DataFrame using .shape.\r\n",
        "3. Check for duplicate rows by using .duplicated() and .sum() on all the columns.\r\n",
        "4. Check for duplicate rows by using .duplicated() and .sum() for the identifier columns (iid, id, partner, and pid).\r\n",
        "5. Check for unexpected values for the following numerical variables: 'imprace', 'imprelig', 'sports', 'tvsports', 'exercise', 'dining', 'museums', 'art', 'hiking', 'gaming', 'clubbing', 'reading', 'tv', 'theater', 'movies', 'concerts', 'music', 'shopping', and 'yoga'.\r\n",
        "6. Replace the identified incorrect values.\r\n",
        "7. Check the data type of the different columns using .dtypes.\r\n",
        "8. Change the data types to categorical for the columns that don't contain numerical values using .astype().\r\n",
        "9. Check for any missing values using .isna() and .sum() for each numerical variable.\r\n",
        "10. Replace the missing values for each numerical variable with their corresponding mean or median values using .fillna(), .mean(), and .median()."
      ]
    },
    {
      "cell_type": "code",
      "metadata": {
        "id": "HEiOAwQPW0qb"
      },
      "source": [
        "import pandas as pd"
      ],
      "execution_count": 1,
      "outputs": []
    },
    {
      "cell_type": "code",
      "metadata": {
        "id": "j7whidfaYjns"
      },
      "source": [
        "file_url = 'https://raw.githubusercontent.com/sandeep92134/The-Data-Science-Workshop-By-Packt/master/module%2011/datasets/Speed_Dating_Data.csv'"
      ],
      "execution_count": 2,
      "outputs": []
    },
    {
      "cell_type": "code",
      "metadata": {
        "id": "nFMz2jNVt-xy"
      },
      "source": [
        "df = pd.read_csv(file_url)"
      ],
      "execution_count": 3,
      "outputs": []
    },
    {
      "cell_type": "code",
      "metadata": {
        "id": "n0xY9ATvN6-M",
        "colab": {
          "base_uri": "https://localhost:8080/",
          "height": 253
        },
        "outputId": "f3e89300-1ad3-4672-cd81-21e1fa508a93"
      },
      "source": [
        "df.head()"
      ],
      "execution_count": 4,
      "outputs": [
        {
          "output_type": "execute_result",
          "data": {
            "text/html": [
              "<div>\n",
              "<style scoped>\n",
              "    .dataframe tbody tr th:only-of-type {\n",
              "        vertical-align: middle;\n",
              "    }\n",
              "\n",
              "    .dataframe tbody tr th {\n",
              "        vertical-align: top;\n",
              "    }\n",
              "\n",
              "    .dataframe thead th {\n",
              "        text-align: right;\n",
              "    }\n",
              "</style>\n",
              "<table border=\"1\" class=\"dataframe\">\n",
              "  <thead>\n",
              "    <tr style=\"text-align: right;\">\n",
              "      <th></th>\n",
              "      <th>iid</th>\n",
              "      <th>id</th>\n",
              "      <th>gender</th>\n",
              "      <th>idg</th>\n",
              "      <th>condtn</th>\n",
              "      <th>wave</th>\n",
              "      <th>round</th>\n",
              "      <th>position</th>\n",
              "      <th>positin1</th>\n",
              "      <th>order</th>\n",
              "      <th>partner</th>\n",
              "      <th>pid</th>\n",
              "      <th>match</th>\n",
              "      <th>int_corr</th>\n",
              "      <th>samerace</th>\n",
              "      <th>age_o</th>\n",
              "      <th>race_o</th>\n",
              "      <th>pf_o_att</th>\n",
              "      <th>pf_o_sin</th>\n",
              "      <th>pf_o_int</th>\n",
              "      <th>pf_o_fun</th>\n",
              "      <th>pf_o_amb</th>\n",
              "      <th>pf_o_sha</th>\n",
              "      <th>dec_o</th>\n",
              "      <th>attr_o</th>\n",
              "      <th>sinc_o</th>\n",
              "      <th>intel_o</th>\n",
              "      <th>fun_o</th>\n",
              "      <th>amb_o</th>\n",
              "      <th>shar_o</th>\n",
              "      <th>like_o</th>\n",
              "      <th>prob_o</th>\n",
              "      <th>met_o</th>\n",
              "      <th>age</th>\n",
              "      <th>field</th>\n",
              "      <th>field_cd</th>\n",
              "      <th>undergra</th>\n",
              "      <th>mn_sat</th>\n",
              "      <th>tuition</th>\n",
              "      <th>race</th>\n",
              "      <th>...</th>\n",
              "      <th>amb5_2</th>\n",
              "      <th>you_call</th>\n",
              "      <th>them_cal</th>\n",
              "      <th>date_3</th>\n",
              "      <th>numdat_3</th>\n",
              "      <th>num_in_3</th>\n",
              "      <th>attr1_3</th>\n",
              "      <th>sinc1_3</th>\n",
              "      <th>intel1_3</th>\n",
              "      <th>fun1_3</th>\n",
              "      <th>amb1_3</th>\n",
              "      <th>shar1_3</th>\n",
              "      <th>attr7_3</th>\n",
              "      <th>sinc7_3</th>\n",
              "      <th>intel7_3</th>\n",
              "      <th>fun7_3</th>\n",
              "      <th>amb7_3</th>\n",
              "      <th>shar7_3</th>\n",
              "      <th>attr4_3</th>\n",
              "      <th>sinc4_3</th>\n",
              "      <th>intel4_3</th>\n",
              "      <th>fun4_3</th>\n",
              "      <th>amb4_3</th>\n",
              "      <th>shar4_3</th>\n",
              "      <th>attr2_3</th>\n",
              "      <th>sinc2_3</th>\n",
              "      <th>intel2_3</th>\n",
              "      <th>fun2_3</th>\n",
              "      <th>amb2_3</th>\n",
              "      <th>shar2_3</th>\n",
              "      <th>attr3_3</th>\n",
              "      <th>sinc3_3</th>\n",
              "      <th>intel3_3</th>\n",
              "      <th>fun3_3</th>\n",
              "      <th>amb3_3</th>\n",
              "      <th>attr5_3</th>\n",
              "      <th>sinc5_3</th>\n",
              "      <th>intel5_3</th>\n",
              "      <th>fun5_3</th>\n",
              "      <th>amb5_3</th>\n",
              "    </tr>\n",
              "  </thead>\n",
              "  <tbody>\n",
              "    <tr>\n",
              "      <th>0</th>\n",
              "      <td>1</td>\n",
              "      <td>1.0</td>\n",
              "      <td>0</td>\n",
              "      <td>1</td>\n",
              "      <td>1</td>\n",
              "      <td>1</td>\n",
              "      <td>10</td>\n",
              "      <td>7</td>\n",
              "      <td>NaN</td>\n",
              "      <td>4</td>\n",
              "      <td>1</td>\n",
              "      <td>11.0</td>\n",
              "      <td>0</td>\n",
              "      <td>0.14</td>\n",
              "      <td>0</td>\n",
              "      <td>27.0</td>\n",
              "      <td>2.0</td>\n",
              "      <td>35.0</td>\n",
              "      <td>20.0</td>\n",
              "      <td>20.0</td>\n",
              "      <td>20.0</td>\n",
              "      <td>0.0</td>\n",
              "      <td>5.0</td>\n",
              "      <td>0</td>\n",
              "      <td>6.0</td>\n",
              "      <td>8.0</td>\n",
              "      <td>8.0</td>\n",
              "      <td>8.0</td>\n",
              "      <td>8.0</td>\n",
              "      <td>6.0</td>\n",
              "      <td>7.0</td>\n",
              "      <td>4.0</td>\n",
              "      <td>2.0</td>\n",
              "      <td>21.0</td>\n",
              "      <td>Law</td>\n",
              "      <td>1.0</td>\n",
              "      <td>NaN</td>\n",
              "      <td>NaN</td>\n",
              "      <td>NaN</td>\n",
              "      <td>4.0</td>\n",
              "      <td>...</td>\n",
              "      <td>NaN</td>\n",
              "      <td>1.0</td>\n",
              "      <td>1.0</td>\n",
              "      <td>0.0</td>\n",
              "      <td>NaN</td>\n",
              "      <td>NaN</td>\n",
              "      <td>15.0</td>\n",
              "      <td>20.0</td>\n",
              "      <td>20.0</td>\n",
              "      <td>15.0</td>\n",
              "      <td>15.0</td>\n",
              "      <td>15.0</td>\n",
              "      <td>NaN</td>\n",
              "      <td>NaN</td>\n",
              "      <td>NaN</td>\n",
              "      <td>NaN</td>\n",
              "      <td>NaN</td>\n",
              "      <td>NaN</td>\n",
              "      <td>NaN</td>\n",
              "      <td>NaN</td>\n",
              "      <td>NaN</td>\n",
              "      <td>NaN</td>\n",
              "      <td>NaN</td>\n",
              "      <td>NaN</td>\n",
              "      <td>NaN</td>\n",
              "      <td>NaN</td>\n",
              "      <td>NaN</td>\n",
              "      <td>NaN</td>\n",
              "      <td>NaN</td>\n",
              "      <td>NaN</td>\n",
              "      <td>5.0</td>\n",
              "      <td>7.0</td>\n",
              "      <td>7.0</td>\n",
              "      <td>7.0</td>\n",
              "      <td>7.0</td>\n",
              "      <td>NaN</td>\n",
              "      <td>NaN</td>\n",
              "      <td>NaN</td>\n",
              "      <td>NaN</td>\n",
              "      <td>NaN</td>\n",
              "    </tr>\n",
              "    <tr>\n",
              "      <th>1</th>\n",
              "      <td>1</td>\n",
              "      <td>1.0</td>\n",
              "      <td>0</td>\n",
              "      <td>1</td>\n",
              "      <td>1</td>\n",
              "      <td>1</td>\n",
              "      <td>10</td>\n",
              "      <td>7</td>\n",
              "      <td>NaN</td>\n",
              "      <td>3</td>\n",
              "      <td>2</td>\n",
              "      <td>12.0</td>\n",
              "      <td>0</td>\n",
              "      <td>0.54</td>\n",
              "      <td>0</td>\n",
              "      <td>22.0</td>\n",
              "      <td>2.0</td>\n",
              "      <td>60.0</td>\n",
              "      <td>0.0</td>\n",
              "      <td>0.0</td>\n",
              "      <td>40.0</td>\n",
              "      <td>0.0</td>\n",
              "      <td>0.0</td>\n",
              "      <td>0</td>\n",
              "      <td>7.0</td>\n",
              "      <td>8.0</td>\n",
              "      <td>10.0</td>\n",
              "      <td>7.0</td>\n",
              "      <td>7.0</td>\n",
              "      <td>5.0</td>\n",
              "      <td>8.0</td>\n",
              "      <td>4.0</td>\n",
              "      <td>2.0</td>\n",
              "      <td>21.0</td>\n",
              "      <td>Law</td>\n",
              "      <td>1.0</td>\n",
              "      <td>NaN</td>\n",
              "      <td>NaN</td>\n",
              "      <td>NaN</td>\n",
              "      <td>4.0</td>\n",
              "      <td>...</td>\n",
              "      <td>NaN</td>\n",
              "      <td>1.0</td>\n",
              "      <td>1.0</td>\n",
              "      <td>0.0</td>\n",
              "      <td>NaN</td>\n",
              "      <td>NaN</td>\n",
              "      <td>15.0</td>\n",
              "      <td>20.0</td>\n",
              "      <td>20.0</td>\n",
              "      <td>15.0</td>\n",
              "      <td>15.0</td>\n",
              "      <td>15.0</td>\n",
              "      <td>NaN</td>\n",
              "      <td>NaN</td>\n",
              "      <td>NaN</td>\n",
              "      <td>NaN</td>\n",
              "      <td>NaN</td>\n",
              "      <td>NaN</td>\n",
              "      <td>NaN</td>\n",
              "      <td>NaN</td>\n",
              "      <td>NaN</td>\n",
              "      <td>NaN</td>\n",
              "      <td>NaN</td>\n",
              "      <td>NaN</td>\n",
              "      <td>NaN</td>\n",
              "      <td>NaN</td>\n",
              "      <td>NaN</td>\n",
              "      <td>NaN</td>\n",
              "      <td>NaN</td>\n",
              "      <td>NaN</td>\n",
              "      <td>5.0</td>\n",
              "      <td>7.0</td>\n",
              "      <td>7.0</td>\n",
              "      <td>7.0</td>\n",
              "      <td>7.0</td>\n",
              "      <td>NaN</td>\n",
              "      <td>NaN</td>\n",
              "      <td>NaN</td>\n",
              "      <td>NaN</td>\n",
              "      <td>NaN</td>\n",
              "    </tr>\n",
              "    <tr>\n",
              "      <th>2</th>\n",
              "      <td>1</td>\n",
              "      <td>1.0</td>\n",
              "      <td>0</td>\n",
              "      <td>1</td>\n",
              "      <td>1</td>\n",
              "      <td>1</td>\n",
              "      <td>10</td>\n",
              "      <td>7</td>\n",
              "      <td>NaN</td>\n",
              "      <td>10</td>\n",
              "      <td>3</td>\n",
              "      <td>13.0</td>\n",
              "      <td>1</td>\n",
              "      <td>0.16</td>\n",
              "      <td>1</td>\n",
              "      <td>22.0</td>\n",
              "      <td>4.0</td>\n",
              "      <td>19.0</td>\n",
              "      <td>18.0</td>\n",
              "      <td>19.0</td>\n",
              "      <td>18.0</td>\n",
              "      <td>14.0</td>\n",
              "      <td>12.0</td>\n",
              "      <td>1</td>\n",
              "      <td>10.0</td>\n",
              "      <td>10.0</td>\n",
              "      <td>10.0</td>\n",
              "      <td>10.0</td>\n",
              "      <td>10.0</td>\n",
              "      <td>10.0</td>\n",
              "      <td>10.0</td>\n",
              "      <td>10.0</td>\n",
              "      <td>1.0</td>\n",
              "      <td>21.0</td>\n",
              "      <td>Law</td>\n",
              "      <td>1.0</td>\n",
              "      <td>NaN</td>\n",
              "      <td>NaN</td>\n",
              "      <td>NaN</td>\n",
              "      <td>4.0</td>\n",
              "      <td>...</td>\n",
              "      <td>NaN</td>\n",
              "      <td>1.0</td>\n",
              "      <td>1.0</td>\n",
              "      <td>0.0</td>\n",
              "      <td>NaN</td>\n",
              "      <td>NaN</td>\n",
              "      <td>15.0</td>\n",
              "      <td>20.0</td>\n",
              "      <td>20.0</td>\n",
              "      <td>15.0</td>\n",
              "      <td>15.0</td>\n",
              "      <td>15.0</td>\n",
              "      <td>NaN</td>\n",
              "      <td>NaN</td>\n",
              "      <td>NaN</td>\n",
              "      <td>NaN</td>\n",
              "      <td>NaN</td>\n",
              "      <td>NaN</td>\n",
              "      <td>NaN</td>\n",
              "      <td>NaN</td>\n",
              "      <td>NaN</td>\n",
              "      <td>NaN</td>\n",
              "      <td>NaN</td>\n",
              "      <td>NaN</td>\n",
              "      <td>NaN</td>\n",
              "      <td>NaN</td>\n",
              "      <td>NaN</td>\n",
              "      <td>NaN</td>\n",
              "      <td>NaN</td>\n",
              "      <td>NaN</td>\n",
              "      <td>5.0</td>\n",
              "      <td>7.0</td>\n",
              "      <td>7.0</td>\n",
              "      <td>7.0</td>\n",
              "      <td>7.0</td>\n",
              "      <td>NaN</td>\n",
              "      <td>NaN</td>\n",
              "      <td>NaN</td>\n",
              "      <td>NaN</td>\n",
              "      <td>NaN</td>\n",
              "    </tr>\n",
              "    <tr>\n",
              "      <th>3</th>\n",
              "      <td>1</td>\n",
              "      <td>1.0</td>\n",
              "      <td>0</td>\n",
              "      <td>1</td>\n",
              "      <td>1</td>\n",
              "      <td>1</td>\n",
              "      <td>10</td>\n",
              "      <td>7</td>\n",
              "      <td>NaN</td>\n",
              "      <td>5</td>\n",
              "      <td>4</td>\n",
              "      <td>14.0</td>\n",
              "      <td>1</td>\n",
              "      <td>0.61</td>\n",
              "      <td>0</td>\n",
              "      <td>23.0</td>\n",
              "      <td>2.0</td>\n",
              "      <td>30.0</td>\n",
              "      <td>5.0</td>\n",
              "      <td>15.0</td>\n",
              "      <td>40.0</td>\n",
              "      <td>5.0</td>\n",
              "      <td>5.0</td>\n",
              "      <td>1</td>\n",
              "      <td>7.0</td>\n",
              "      <td>8.0</td>\n",
              "      <td>9.0</td>\n",
              "      <td>8.0</td>\n",
              "      <td>9.0</td>\n",
              "      <td>8.0</td>\n",
              "      <td>7.0</td>\n",
              "      <td>7.0</td>\n",
              "      <td>2.0</td>\n",
              "      <td>21.0</td>\n",
              "      <td>Law</td>\n",
              "      <td>1.0</td>\n",
              "      <td>NaN</td>\n",
              "      <td>NaN</td>\n",
              "      <td>NaN</td>\n",
              "      <td>4.0</td>\n",
              "      <td>...</td>\n",
              "      <td>NaN</td>\n",
              "      <td>1.0</td>\n",
              "      <td>1.0</td>\n",
              "      <td>0.0</td>\n",
              "      <td>NaN</td>\n",
              "      <td>NaN</td>\n",
              "      <td>15.0</td>\n",
              "      <td>20.0</td>\n",
              "      <td>20.0</td>\n",
              "      <td>15.0</td>\n",
              "      <td>15.0</td>\n",
              "      <td>15.0</td>\n",
              "      <td>NaN</td>\n",
              "      <td>NaN</td>\n",
              "      <td>NaN</td>\n",
              "      <td>NaN</td>\n",
              "      <td>NaN</td>\n",
              "      <td>NaN</td>\n",
              "      <td>NaN</td>\n",
              "      <td>NaN</td>\n",
              "      <td>NaN</td>\n",
              "      <td>NaN</td>\n",
              "      <td>NaN</td>\n",
              "      <td>NaN</td>\n",
              "      <td>NaN</td>\n",
              "      <td>NaN</td>\n",
              "      <td>NaN</td>\n",
              "      <td>NaN</td>\n",
              "      <td>NaN</td>\n",
              "      <td>NaN</td>\n",
              "      <td>5.0</td>\n",
              "      <td>7.0</td>\n",
              "      <td>7.0</td>\n",
              "      <td>7.0</td>\n",
              "      <td>7.0</td>\n",
              "      <td>NaN</td>\n",
              "      <td>NaN</td>\n",
              "      <td>NaN</td>\n",
              "      <td>NaN</td>\n",
              "      <td>NaN</td>\n",
              "    </tr>\n",
              "    <tr>\n",
              "      <th>4</th>\n",
              "      <td>1</td>\n",
              "      <td>1.0</td>\n",
              "      <td>0</td>\n",
              "      <td>1</td>\n",
              "      <td>1</td>\n",
              "      <td>1</td>\n",
              "      <td>10</td>\n",
              "      <td>7</td>\n",
              "      <td>NaN</td>\n",
              "      <td>7</td>\n",
              "      <td>5</td>\n",
              "      <td>15.0</td>\n",
              "      <td>1</td>\n",
              "      <td>0.21</td>\n",
              "      <td>0</td>\n",
              "      <td>24.0</td>\n",
              "      <td>3.0</td>\n",
              "      <td>30.0</td>\n",
              "      <td>10.0</td>\n",
              "      <td>20.0</td>\n",
              "      <td>10.0</td>\n",
              "      <td>10.0</td>\n",
              "      <td>20.0</td>\n",
              "      <td>1</td>\n",
              "      <td>8.0</td>\n",
              "      <td>7.0</td>\n",
              "      <td>9.0</td>\n",
              "      <td>6.0</td>\n",
              "      <td>9.0</td>\n",
              "      <td>7.0</td>\n",
              "      <td>8.0</td>\n",
              "      <td>6.0</td>\n",
              "      <td>2.0</td>\n",
              "      <td>21.0</td>\n",
              "      <td>Law</td>\n",
              "      <td>1.0</td>\n",
              "      <td>NaN</td>\n",
              "      <td>NaN</td>\n",
              "      <td>NaN</td>\n",
              "      <td>4.0</td>\n",
              "      <td>...</td>\n",
              "      <td>NaN</td>\n",
              "      <td>1.0</td>\n",
              "      <td>1.0</td>\n",
              "      <td>0.0</td>\n",
              "      <td>NaN</td>\n",
              "      <td>NaN</td>\n",
              "      <td>15.0</td>\n",
              "      <td>20.0</td>\n",
              "      <td>20.0</td>\n",
              "      <td>15.0</td>\n",
              "      <td>15.0</td>\n",
              "      <td>15.0</td>\n",
              "      <td>NaN</td>\n",
              "      <td>NaN</td>\n",
              "      <td>NaN</td>\n",
              "      <td>NaN</td>\n",
              "      <td>NaN</td>\n",
              "      <td>NaN</td>\n",
              "      <td>NaN</td>\n",
              "      <td>NaN</td>\n",
              "      <td>NaN</td>\n",
              "      <td>NaN</td>\n",
              "      <td>NaN</td>\n",
              "      <td>NaN</td>\n",
              "      <td>NaN</td>\n",
              "      <td>NaN</td>\n",
              "      <td>NaN</td>\n",
              "      <td>NaN</td>\n",
              "      <td>NaN</td>\n",
              "      <td>NaN</td>\n",
              "      <td>5.0</td>\n",
              "      <td>7.0</td>\n",
              "      <td>7.0</td>\n",
              "      <td>7.0</td>\n",
              "      <td>7.0</td>\n",
              "      <td>NaN</td>\n",
              "      <td>NaN</td>\n",
              "      <td>NaN</td>\n",
              "      <td>NaN</td>\n",
              "      <td>NaN</td>\n",
              "    </tr>\n",
              "  </tbody>\n",
              "</table>\n",
              "<p>5 rows × 195 columns</p>\n",
              "</div>"
            ],
            "text/plain": [
              "   iid   id  gender  idg  condtn  ...  attr5_3  sinc5_3  intel5_3  fun5_3  amb5_3\n",
              "0    1  1.0       0    1       1  ...      NaN      NaN       NaN     NaN     NaN\n",
              "1    1  1.0       0    1       1  ...      NaN      NaN       NaN     NaN     NaN\n",
              "2    1  1.0       0    1       1  ...      NaN      NaN       NaN     NaN     NaN\n",
              "3    1  1.0       0    1       1  ...      NaN      NaN       NaN     NaN     NaN\n",
              "4    1  1.0       0    1       1  ...      NaN      NaN       NaN     NaN     NaN\n",
              "\n",
              "[5 rows x 195 columns]"
            ]
          },
          "metadata": {
            "tags": []
          },
          "execution_count": 4
        }
      ]
    },
    {
      "cell_type": "code",
      "metadata": {
        "id": "_ciEFAv5atrV",
        "colab": {
          "base_uri": "https://localhost:8080/"
        },
        "outputId": "8a916d8c-5923-4979-faf0-4985b1201b15"
      },
      "source": [
        "df.shape"
      ],
      "execution_count": 5,
      "outputs": [
        {
          "output_type": "execute_result",
          "data": {
            "text/plain": [
              "(8378, 195)"
            ]
          },
          "metadata": {
            "tags": []
          },
          "execution_count": 5
        }
      ]
    },
    {
      "cell_type": "code",
      "metadata": {
        "id": "lqaDAiGzYrOS",
        "colab": {
          "base_uri": "https://localhost:8080/"
        },
        "outputId": "67ee057a-1465-4b34-e1ba-05f3400d1c1b"
      },
      "source": [
        "df.duplicated().sum()"
      ],
      "execution_count": 6,
      "outputs": [
        {
          "output_type": "execute_result",
          "data": {
            "text/plain": [
              "0"
            ]
          },
          "metadata": {
            "tags": []
          },
          "execution_count": 6
        }
      ]
    },
    {
      "cell_type": "code",
      "metadata": {
        "id": "d4ctPmu4ZWJ8",
        "colab": {
          "base_uri": "https://localhost:8080/"
        },
        "outputId": "fea6b7d3-ea32-4a64-e3b4-72cffc4a66b2"
      },
      "source": [
        "df.duplicated(subset=['iid','id','partner','pid']).sum()\n"
      ],
      "execution_count": 7,
      "outputs": [
        {
          "output_type": "execute_result",
          "data": {
            "text/plain": [
              "0"
            ]
          },
          "metadata": {
            "tags": []
          },
          "execution_count": 7
        }
      ]
    },
    {
      "cell_type": "code",
      "metadata": {
        "id": "zw6b3FrE6Z_-"
      },
      "source": [
        "scale_1_10 = ['imprace', 'imprelig', 'sports', 'tvsports', 'exercise', 'dining',\n",
        "'museums', 'art', 'hiking', 'gaming', 'clubbing', 'reading', 'tv', \n",
        "'theater', 'movies', 'concerts', 'music', 'shopping', 'yoga',\n",
        "'exphappy', 'satis_2']"
      ],
      "execution_count": 8,
      "outputs": []
    },
    {
      "cell_type": "code",
      "metadata": {
        "id": "T9mY-J2rN1eF"
      },
      "source": [
        "def check_range(column, min_value, max_value):\n",
        "  return (column < min_value) | (column >max_value)"
      ],
      "execution_count": 9,
      "outputs": []
    },
    {
      "cell_type": "code",
      "metadata": {
        "id": "-5aPwH8aUSvo",
        "colab": {
          "base_uri": "https://localhost:8080/"
        },
        "outputId": "67b73665-32bc-4b04-9d9d-2f2226f507d8"
      },
      "source": [
        "unexpected_mask = check_range(df['imprace'], 1, 10)\n",
        "unexpected_mask.sum()"
      ],
      "execution_count": 10,
      "outputs": [
        {
          "output_type": "execute_result",
          "data": {
            "text/plain": [
              "8"
            ]
          },
          "metadata": {
            "tags": []
          },
          "execution_count": 10
        }
      ]
    },
    {
      "cell_type": "code",
      "metadata": {
        "id": "AGvPiWPDTZXr"
      },
      "source": [
        "def print_unexpected(df, col_name, unexpected_mask):\n",
        "  if unexpected_mask.sum() > 0:\n",
        "    print(col_name)\n",
        "    print(unexpected_mask.sum())\n",
        "    print(df.loc[unexpected_mask,col_name].unique())"
      ],
      "execution_count": 11,
      "outputs": []
    },
    {
      "cell_type": "code",
      "metadata": {
        "id": "tIMHIsNqUjQ1",
        "colab": {
          "base_uri": "https://localhost:8080/"
        },
        "outputId": "5dfd676c-23a9-4c72-8148-7751650a4e9a"
      },
      "source": [
        "print_unexpected(df, 'imprace', unexpected_mask)"
      ],
      "execution_count": 12,
      "outputs": [
        {
          "output_type": "stream",
          "text": [
            "imprace\n",
            "8\n",
            "[0.]\n"
          ],
          "name": "stdout"
        }
      ]
    },
    {
      "cell_type": "code",
      "metadata": {
        "id": "KB4iQHewT4OZ"
      },
      "source": [
        "def check_ranges(df, col_list, min_value, max_value):\n",
        "  for col_name in col_list:\n",
        "    unexpected_mask = check_range(df[col_name], min_value, max_value)\n",
        "    print_unexpected(df, col_name, unexpected_mask)"
      ],
      "execution_count": 13,
      "outputs": []
    },
    {
      "cell_type": "code",
      "metadata": {
        "id": "bqzkToaoUII-",
        "colab": {
          "base_uri": "https://localhost:8080/"
        },
        "outputId": "bf399b23-8aca-4b82-dcd6-e21aeec266bd"
      },
      "source": [
        "check_ranges(df, scale_1_10, 1, 10)"
      ],
      "execution_count": 14,
      "outputs": [
        {
          "output_type": "stream",
          "text": [
            "imprace\n",
            "8\n",
            "[0.]\n",
            "museums\n",
            "18\n",
            "[0.]\n",
            "art\n",
            "18\n",
            "[0.]\n",
            "hiking\n",
            "18\n",
            "[0.]\n",
            "gaming\n",
            "137\n",
            "[14.  0.]\n",
            "clubbing\n",
            "18\n",
            "[0.]\n",
            "reading\n",
            "51\n",
            "[13.]\n",
            "theater\n",
            "18\n",
            "[0.]\n",
            "movies\n",
            "18\n",
            "[0.]\n",
            "concerts\n",
            "18\n",
            "[0.]\n",
            "yoga\n",
            "36\n",
            "[0.]\n"
          ],
          "name": "stdout"
        }
      ]
    },
    {
      "cell_type": "code",
      "metadata": {
        "id": "BIOoCo6zWqeZ"
      },
      "source": [
        "def replace_value(df, col_name, incorrect_value, new_value):\n",
        "  df.loc[df[col_name] == incorrect_value, col_name] = new_value\n",
        "  print(col_name)\n",
        "  print(df[col_name].unique())"
      ],
      "execution_count": 15,
      "outputs": []
    },
    {
      "cell_type": "code",
      "metadata": {
        "id": "a5u1zYGQP0X_",
        "colab": {
          "base_uri": "https://localhost:8080/"
        },
        "outputId": "455bbf88-c0d9-4fbe-ebae-8ff3f57db360"
      },
      "source": [
        "replace_value(df, 'gaming', 14, 10)"
      ],
      "execution_count": 16,
      "outputs": [
        {
          "output_type": "stream",
          "text": [
            "gaming\n",
            "[ 1.  5.  4.  6.  2.  3.  7.  8. 10. nan  9.  0.]\n"
          ],
          "name": "stdout"
        }
      ]
    },
    {
      "cell_type": "code",
      "metadata": {
        "id": "hplI-CLuW_ms",
        "colab": {
          "base_uri": "https://localhost:8080/"
        },
        "outputId": "a7feb3b5-573c-4d49-d10b-b59b7195d3c3"
      },
      "source": [
        "replace_value(df, 'reading', 13, 10)"
      ],
      "execution_count": 17,
      "outputs": [
        {
          "output_type": "stream",
          "text": [
            "reading\n",
            "[ 6. 10.  7.  9.  8.  4.  5. nan  2.  3.  1.]\n"
          ],
          "name": "stdout"
        }
      ]
    },
    {
      "cell_type": "code",
      "metadata": {
        "id": "H9TkNHqZSo03"
      },
      "source": [
        "for suffix in ['1_1', '1_2', '1_3', '1_s', '2_1', '2_2', '2_3', '4_1', '4_2', '4_3', '7_2', '7_3']:\n",
        "  suffix_cols = [col for col in df.columns if col.endswith(suffix)]\n",
        "  check_ranges(df, suffix_cols, 0, 100)"
      ],
      "execution_count": 18,
      "outputs": []
    },
    {
      "cell_type": "code",
      "metadata": {
        "id": "X8aBm1hTVK0Q",
        "colab": {
          "base_uri": "https://localhost:8080/"
        },
        "outputId": "653b07a2-1839-4068-e24e-276c78d9d023"
      },
      "source": [
        "for suffix in ['3_1', '3_2', '3_3', '5_1', '5_2', '5_3', '3_s']:\n",
        "  suffix_cols = [col for col in df.columns if col.endswith(suffix)]\n",
        "  check_ranges(df, suffix_cols, 1, 10)"
      ],
      "execution_count": 19,
      "outputs": [
        {
          "output_type": "stream",
          "text": [
            "attr3_3\n",
            "112\n",
            "[12.]\n",
            "sinc3_3\n",
            "173\n",
            "[12.]\n",
            "intel3_3\n",
            "233\n",
            "[12.]\n",
            "fun3_3\n",
            "153\n",
            "[12.]\n",
            "amb3_3\n",
            "147\n",
            "[12.]\n"
          ],
          "name": "stdout"
        }
      ]
    },
    {
      "cell_type": "code",
      "metadata": {
        "id": "EOmcJR8k6Kl8",
        "colab": {
          "base_uri": "https://localhost:8080/"
        },
        "outputId": "ac726e5f-17dd-4e16-a348-d9d4d4703494"
      },
      "source": [
        "for col_name in ['attr3_3', 'sinc3_3', 'intel3_3', 'fun3_3', 'amb3_3']:\n",
        "  replace_value(df, col_name, 12, 10)"
      ],
      "execution_count": 20,
      "outputs": [
        {
          "output_type": "stream",
          "text": [
            "attr3_3\n",
            "[ 5.  7. nan  6.  4.  9.  8.  3. 10.  2.]\n",
            "sinc3_3\n",
            "[ 7.  6. nan  5.  8.  9. 10.  4.  3.  2.]\n",
            "intel3_3\n",
            "[ 7.  9. nan  6. 10.  8.  5.  4.  3.]\n",
            "fun3_3\n",
            "[ 7.  9. nan  8.  6.  3.  5. 10.  2.  4.]\n",
            "amb3_3\n",
            "[ 7.  4. nan  5. 10.  9.  8.  6.  2.  3.  1.]\n"
          ],
          "name": "stdout"
        }
      ]
    },
    {
      "cell_type": "code",
      "metadata": {
        "id": "Rv1a7YLL63I8",
        "colab": {
          "base_uri": "https://localhost:8080/"
        },
        "outputId": "7f89815f-e2a7-4065-f86d-46c2132dee36"
      },
      "source": [
        "df.dtypes"
      ],
      "execution_count": 21,
      "outputs": [
        {
          "output_type": "execute_result",
          "data": {
            "text/plain": [
              "iid           int64\n",
              "id          float64\n",
              "gender        int64\n",
              "idg           int64\n",
              "condtn        int64\n",
              "             ...   \n",
              "attr5_3     float64\n",
              "sinc5_3     float64\n",
              "intel5_3    float64\n",
              "fun5_3      float64\n",
              "amb5_3      float64\n",
              "Length: 195, dtype: object"
            ]
          },
          "metadata": {
            "tags": []
          },
          "execution_count": 21
        }
      ]
    },
    {
      "cell_type": "code",
      "metadata": {
        "id": "uW87dAYWYp5F"
      },
      "source": [
        "num_cols = ['round', 'order', 'int_corr', 'age', 'mn_sat', 'income', 'expnum']"
      ],
      "execution_count": 22,
      "outputs": []
    },
    {
      "cell_type": "code",
      "metadata": {
        "id": "o25dBAOEdbv0"
      },
      "source": [
        "cat_cols = df.columns.difference(num_cols)"
      ],
      "execution_count": 23,
      "outputs": []
    },
    {
      "cell_type": "code",
      "metadata": {
        "id": "0AJNMy0Ec6ea"
      },
      "source": [
        "for col_name in cat_cols:\n",
        "  df[col_name] = df[col_name].astype('category')"
      ],
      "execution_count": 24,
      "outputs": []
    },
    {
      "cell_type": "code",
      "metadata": {
        "id": "973po6fCdCXa",
        "colab": {
          "base_uri": "https://localhost:8080/"
        },
        "outputId": "5504fa1f-deb7-4ffb-d7ee-2aab24853e42"
      },
      "source": [
        "df.dtypes"
      ],
      "execution_count": 25,
      "outputs": [
        {
          "output_type": "execute_result",
          "data": {
            "text/plain": [
              "iid         category\n",
              "id          category\n",
              "gender      category\n",
              "idg         category\n",
              "condtn      category\n",
              "              ...   \n",
              "attr5_3     category\n",
              "sinc5_3     category\n",
              "intel5_3    category\n",
              "fun5_3      category\n",
              "amb5_3      category\n",
              "Length: 195, dtype: object"
            ]
          },
          "metadata": {
            "tags": []
          },
          "execution_count": 25
        }
      ]
    },
    {
      "cell_type": "code",
      "metadata": {
        "id": "q1a8onHi79Z7",
        "colab": {
          "base_uri": "https://localhost:8080/"
        },
        "outputId": "4f2d6aa4-60f7-4a34-fbc8-159cd67873b6"
      },
      "source": [
        "df[num_cols].isna().sum()"
      ],
      "execution_count": 26,
      "outputs": [
        {
          "output_type": "execute_result",
          "data": {
            "text/plain": [
              "round          0\n",
              "order          0\n",
              "int_corr     158\n",
              "age           95\n",
              "mn_sat      5245\n",
              "income      4099\n",
              "expnum      6578\n",
              "dtype: int64"
            ]
          },
          "metadata": {
            "tags": []
          },
          "execution_count": 26
        }
      ]
    },
    {
      "cell_type": "code",
      "metadata": {
        "id": "XPAAELUR9_qX",
        "colab": {
          "base_uri": "https://localhost:8080/"
        },
        "outputId": "5ff47027-62c9-44d7-a5d1-fe5b6c0760ed"
      },
      "source": [
        "df['int_corr'].unique()"
      ],
      "execution_count": 27,
      "outputs": [
        {
          "output_type": "execute_result",
          "data": {
            "text/plain": [
              "array([ 0.14,  0.54,  0.16,  0.61,  0.21,  0.25,  0.34,  0.5 ,  0.28,\n",
              "       -0.36,  0.29,  0.18,  0.1 , -0.21,  0.32,  0.73,  0.6 ,  0.07,\n",
              "        0.11,  0.39, -0.24, -0.14,  0.09, -0.04, -0.3 , -0.26, -0.15,\n",
              "       -0.47, -0.18,  0.05,  0.37,  0.35,  0.15, -0.19, -0.43,  0.  ,\n",
              "       -0.17,  0.08, -0.16,  0.06, -0.05, -0.13, -0.06,  0.33, -0.51,\n",
              "        0.12,  0.19,  0.47,  0.03,  0.46,  0.43,  0.52, -0.46, -0.27,\n",
              "        0.59,  0.31, -0.34, -0.03, -0.11,  0.42, -0.4 , -0.23,  0.17,\n",
              "        0.68, -0.01, -0.35,  0.3 ,  0.65,  0.24,  0.41,  0.49,  0.01,\n",
              "        0.22, -0.08,  0.27,  0.44,  0.62, -0.2 , -0.02, -0.33, -0.52,\n",
              "       -0.1 ,  0.58, -0.57, -0.31, -0.07, -0.32,  0.04, -0.12,  0.48,\n",
              "       -0.22, -0.29,  0.38,  0.53, -0.38,  0.02, -0.28,  0.13,  0.2 ,\n",
              "         nan, -0.41, -0.44,  0.51, -0.48,  0.4 ,  0.26,  0.77, -0.49,\n",
              "       -0.25, -0.09,  0.45, -0.39,  0.83,  0.57, -0.61,  0.72, -0.37,\n",
              "        0.23, -0.58,  0.8 , -0.56,  0.63, -0.63,  0.71,  0.36,  0.56,\n",
              "        0.55,  0.76,  0.69,  0.79,  0.9 ,  0.67,  0.66,  0.81,  0.64,\n",
              "        0.74,  0.75,  0.85, -0.42, -0.5 , -0.59,  0.7 ,  0.82,  0.78,\n",
              "       -0.45, -0.83,  0.88, -0.7 , -0.62, -0.55,  0.87,  0.91,  0.84,\n",
              "       -0.64, -0.73, -0.54])"
            ]
          },
          "metadata": {
            "tags": []
          },
          "execution_count": 27
        }
      ]
    },
    {
      "cell_type": "code",
      "metadata": {
        "id": "1zTWk7dtBbMe"
      },
      "source": [
        "int_corr_mask = df['int_corr'].isna()"
      ],
      "execution_count": 28,
      "outputs": []
    },
    {
      "cell_type": "code",
      "metadata": {
        "id": "apH4JpnGBgNG",
        "colab": {
          "base_uri": "https://localhost:8080/"
        },
        "outputId": "80ea725e-aa46-4bd0-ecba-eea794041d35"
      },
      "source": [
        "int_corr_mask.sum()"
      ],
      "execution_count": 29,
      "outputs": [
        {
          "output_type": "execute_result",
          "data": {
            "text/plain": [
              "158"
            ]
          },
          "metadata": {
            "tags": []
          },
          "execution_count": 29
        }
      ]
    },
    {
      "cell_type": "code",
      "metadata": {
        "id": "I0wuvkFHBlml",
        "colab": {
          "base_uri": "https://localhost:8080/"
        },
        "outputId": "5b1fe011-6092-4aa2-858b-9773330b1ae7"
      },
      "source": [
        "int_corr_mean = df['int_corr'].mean()\n",
        "print(int_corr_mean)"
      ],
      "execution_count": 30,
      "outputs": [
        {
          "output_type": "stream",
          "text": [
            "0.19600973236009664\n"
          ],
          "name": "stdout"
        }
      ]
    },
    {
      "cell_type": "code",
      "metadata": {
        "id": "Q_m65ZKLB-jx"
      },
      "source": [
        "df['int_corr'].fillna(int_corr_mean, inplace=True)"
      ],
      "execution_count": 31,
      "outputs": []
    },
    {
      "cell_type": "code",
      "metadata": {
        "id": "Jr6BfU45CDQw",
        "colab": {
          "base_uri": "https://localhost:8080/"
        },
        "outputId": "47e83c64-834a-40c5-cc12-4fddf183edda"
      },
      "source": [
        "df['int_corr'].isna().sum()"
      ],
      "execution_count": 32,
      "outputs": [
        {
          "output_type": "execute_result",
          "data": {
            "text/plain": [
              "0"
            ]
          },
          "metadata": {
            "tags": []
          },
          "execution_count": 32
        }
      ]
    },
    {
      "cell_type": "code",
      "metadata": {
        "id": "BSsH50CEZaDg"
      },
      "source": [
        "missing_num_cols = ['age', 'mn_sat', 'income', 'expnum']"
      ],
      "execution_count": 33,
      "outputs": []
    },
    {
      "cell_type": "code",
      "metadata": {
        "id": "1SAofEd0CYdM",
        "colab": {
          "base_uri": "https://localhost:8080/"
        },
        "outputId": "31c479c5-b548-4136-d9ef-e66f5084f4d9"
      },
      "source": [
        "for col_name in missing_num_cols:\n",
        "  print(col_name)\n",
        "  print(df[col_name].unique())"
      ],
      "execution_count": 34,
      "outputs": [
        {
          "output_type": "stream",
          "text": [
            "age\n",
            "[21. 24. 25. 23. 22. 26. 27. 30. 28. nan 29. 34. 35. 32. 39. 20. 19. 18.\n",
            " 37. 33. 36. 31. 42. 38. 55.]\n",
            "mn_sat\n",
            "[  nan 1070. 1258. 1400. 1290. 1460. 1430. 1215. 1330. 1450. 1155. 1140.\n",
            " 1360. 1402. 1250. 1210. 1220. 1410. 1260. 1380. 1030. 1309. 1308. 1050.\n",
            " 1100. 1310. 1490. 1188. 1097. 1212. 1340. 1034. 1185. 1242. 1160. 1099.\n",
            " 1214. 1270. 1110. 1178. 1060. 1157. 1180. 1014. 1341.  990. 1320. 1159.\n",
            " 1370. 1105. 1365. 1011. 1130. 1206. 1331. 1191.  914. 1200. 1080. 1090.\n",
            " 1092. 1470. 1149. 1134. 1230. 1267. 1280. 1227. 1239.]\n",
            "income\n",
            "[ 69487.  65929.     nan  37754.  86340.  60304.  54620.  48652.  29237.\n",
            "  56580.  36782.  38548.  52010.  28418.  43185.  23152.  43664.  48441.\n",
            "  61152.  36485.  41507.  17134.  30038.  33772.  24997.  42096.  28891.\n",
            "  62635.  12063.  29809.  26482.  30147.  39919.  41466.  23988.  28989.\n",
            "  50948.  38022.  47559.  53539.  32159.  53940.  40753.  38207.  46166.\n",
            "  30973.  28317.  26645.  25589.  55223. 109031.  40409.  21597.  76624.\n",
            "  35968.  51725.  55419.  55550.  26682.  41547.  23361.  74893.  52804.\n",
            "  53923.  27094.  57213.  42390.  43636.  57887.  30768.  66699.  45360.\n",
            "  55080.  17378.  40375.  48929.  78193.  63351.  50745.  29279.  38774.\n",
            "  58802.  41831.  52186.  97857.  74624.  21590.  38832.  37248.  28240.\n",
            "  53771.  56096.  31560.  52467.  80006.  47572.  22439.  31383.  40749.\n",
            "  47997.  78704.  31143.  32129.  44195.  46837.  97972.  35960.  65708.\n",
            "  49466.  53229.  32649.  35867.  40244.  42640.  52388.  62875.  30855.\n",
            "  46800.  45695.  46792.  53501.  64716.  27248.  22805.  56118.  30146.\n",
            "  39123.  46153.  45300.  42397.  44346.  42225.  37405.  28524.  61141.\n",
            "   8607.  41476.  49841.  37240.  36594.  62997.  46608.  37881.  48944.\n",
            "  77112.  18283.  31432.  73073.  26706.  50060.  25401.  80608.  43844.\n",
            "  53196.  25786.  39394.  40695.  45788.  37315.  51663.  32563.  54303.\n",
            "  16908.  39729.  57316.  30587.  57513.  31857.  23207.  25831.  28759.\n",
            "  19264.  41778.  35963.  49409.  31516.  36223.  43367.  27503.  35187.\n",
            "  26298.  31148.  55704.  46138.  66827.  42897.  31809.  75347.  47005.\n",
            "  52805.  50725.  65693.  45736.  33906.  50501.  48785.  52318.  62844.\n",
            "  52586.  29236.  31486.  31632. 106663.  84043.  35224.  36381.  65498.\n",
            "  60000.  22669.  81266.  29746.  47556.  42651.  27794.  41737.  90225.\n",
            "  52280.  56056.  60835.  62829.  16767.  42967.  21488.  89977.  18619.\n",
            "  22161.  82734.  40163.  46185.  78844.  29575.  34752.  22173.  37994.\n",
            "  35409.  23707.  57501.  25314.  48876.  34870.  35848.  45017.  12416.\n",
            "  87789.  50572.  49642.  20000.  32508.  35627.  46280.  41191.  71787.\n",
            "  72412.  36510.  32386.  15863.  46272.  48137.  61686.  47624.  36673.\n",
            "  55138.]\n",
            "expnum\n",
            "[ 2.  5. 10.  3. 15. 20.  4.  9. 19.  0. nan  8. 12.  1.  7.  6. 18. 14.\n",
            " 13.]\n"
          ],
          "name": "stdout"
        }
      ]
    },
    {
      "cell_type": "code",
      "metadata": {
        "id": "MH3Qd9LIHeKF",
        "colab": {
          "base_uri": "https://localhost:8080/"
        },
        "outputId": "67ee9461-dd81-4b30-c50c-0142242e3552"
      },
      "source": [
        "for col_name in missing_num_cols:\n",
        "  col_median = df[col_name].median()\n",
        "  df[col_name].fillna(col_median, inplace=True)\n",
        "  print(col_name)\n",
        "  print(col_median)"
      ],
      "execution_count": 35,
      "outputs": [
        {
          "output_type": "stream",
          "text": [
            "age\n",
            "26.0\n",
            "mn_sat\n",
            "1310.0\n",
            "income\n",
            "43185.0\n",
            "expnum\n",
            "4.0\n"
          ],
          "name": "stdout"
        }
      ]
    },
    {
      "cell_type": "code",
      "metadata": {
        "id": "T-CLjjkVHrfq",
        "colab": {
          "base_uri": "https://localhost:8080/"
        },
        "outputId": "5e6959be-155e-428a-edeb-b62341ad9709"
      },
      "source": [
        "for col_name in missing_num_cols:\n",
        "  print(col_name)\n",
        "  print(df[col_name].isna().sum())"
      ],
      "execution_count": 36,
      "outputs": [
        {
          "output_type": "stream",
          "text": [
            "age\n",
            "0\n",
            "mn_sat\n",
            "0\n",
            "income\n",
            "0\n",
            "expnum\n",
            "0\n"
          ],
          "name": "stdout"
        }
      ]
    },
    {
      "cell_type": "code",
      "metadata": {
        "id": "WOlI5PkeBLxq"
      },
      "source": [
        ""
      ],
      "execution_count": null,
      "outputs": []
    }
  ]
}