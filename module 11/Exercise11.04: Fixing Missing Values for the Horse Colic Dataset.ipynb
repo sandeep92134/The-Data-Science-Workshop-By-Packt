{
  "nbformat": 4,
  "nbformat_minor": 0,
  "metadata": {
    "colab": {
      "name": "Exercise11_04.ipynb",
      "provenance": [],
      "collapsed_sections": [],
      "include_colab_link": true
    },
    "kernelspec": {
      "name": "python3",
      "display_name": "Python 3"
    }
  },
  "cells": [
    {
      "cell_type": "markdown",
      "metadata": {
        "id": "view-in-github",
        "colab_type": "text"
      },
      "source": [
        "<a href=\"https://colab.research.google.com/github/sandeep92134/The-Data-Science-Workshop-By-Packt/blob/master/module%2011/Exercise11.04%3A%20Fixing%20Missing%20Values%20for%20the%20Horse%20Colic%20Dataset.ipynb\" target=\"_parent\"><img src=\"https://colab.research.google.com/assets/colab-badge.svg\" alt=\"Open In Colab\"/></a>"
      ]
    },
    {
      "cell_type": "code",
      "metadata": {
        "id": "HEiOAwQPW0qb"
      },
      "source": [
        "import pandas as pd"
      ],
      "execution_count": 1,
      "outputs": []
    },
    {
      "cell_type": "code",
      "metadata": {
        "id": "j7whidfaYjns"
      },
      "source": [
        "file_url = 'https://raw.githubusercontent.com/sandeep92134/The-Data-Science-Workshop-By-Packt/master/module%2011/datasets/horse-colic.data'"
      ],
      "execution_count": 2,
      "outputs": []
    },
    {
      "cell_type": "code",
      "metadata": {
        "id": "nFMz2jNVt-xy"
      },
      "source": [
        "df = pd.read_csv(file_url, header=None, sep='\\s+', prefix='X')"
      ],
      "execution_count": 3,
      "outputs": []
    },
    {
      "cell_type": "code",
      "metadata": {
        "id": "n0xY9ATvN6-M",
        "colab": {
          "base_uri": "https://localhost:8080/",
          "height": 204
        },
        "outputId": "86c8c036-724f-4fc9-9df3-ad22aa54cfaf"
      },
      "source": [
        "df.head()"
      ],
      "execution_count": 4,
      "outputs": [
        {
          "output_type": "execute_result",
          "data": {
            "text/html": [
              "<div>\n",
              "<style scoped>\n",
              "    .dataframe tbody tr th:only-of-type {\n",
              "        vertical-align: middle;\n",
              "    }\n",
              "\n",
              "    .dataframe tbody tr th {\n",
              "        vertical-align: top;\n",
              "    }\n",
              "\n",
              "    .dataframe thead th {\n",
              "        text-align: right;\n",
              "    }\n",
              "</style>\n",
              "<table border=\"1\" class=\"dataframe\">\n",
              "  <thead>\n",
              "    <tr style=\"text-align: right;\">\n",
              "      <th></th>\n",
              "      <th>X0</th>\n",
              "      <th>X1</th>\n",
              "      <th>X2</th>\n",
              "      <th>X3</th>\n",
              "      <th>X4</th>\n",
              "      <th>X5</th>\n",
              "      <th>X6</th>\n",
              "      <th>X7</th>\n",
              "      <th>X8</th>\n",
              "      <th>X9</th>\n",
              "      <th>X10</th>\n",
              "      <th>X11</th>\n",
              "      <th>X12</th>\n",
              "      <th>X13</th>\n",
              "      <th>X14</th>\n",
              "      <th>X15</th>\n",
              "      <th>X16</th>\n",
              "      <th>X17</th>\n",
              "      <th>X18</th>\n",
              "      <th>X19</th>\n",
              "      <th>X20</th>\n",
              "      <th>X21</th>\n",
              "      <th>X22</th>\n",
              "      <th>X23</th>\n",
              "      <th>X24</th>\n",
              "      <th>X25</th>\n",
              "      <th>X26</th>\n",
              "      <th>X27</th>\n",
              "    </tr>\n",
              "  </thead>\n",
              "  <tbody>\n",
              "    <tr>\n",
              "      <th>0</th>\n",
              "      <td>2</td>\n",
              "      <td>1</td>\n",
              "      <td>530101</td>\n",
              "      <td>38.50</td>\n",
              "      <td>66</td>\n",
              "      <td>28</td>\n",
              "      <td>3</td>\n",
              "      <td>3</td>\n",
              "      <td>?</td>\n",
              "      <td>2</td>\n",
              "      <td>5</td>\n",
              "      <td>4</td>\n",
              "      <td>4</td>\n",
              "      <td>?</td>\n",
              "      <td>?</td>\n",
              "      <td>?</td>\n",
              "      <td>3</td>\n",
              "      <td>5</td>\n",
              "      <td>45.00</td>\n",
              "      <td>8.40</td>\n",
              "      <td>?</td>\n",
              "      <td>?</td>\n",
              "      <td>2</td>\n",
              "      <td>2</td>\n",
              "      <td>11300</td>\n",
              "      <td>0</td>\n",
              "      <td>0</td>\n",
              "      <td>2</td>\n",
              "    </tr>\n",
              "    <tr>\n",
              "      <th>1</th>\n",
              "      <td>1</td>\n",
              "      <td>1</td>\n",
              "      <td>534817</td>\n",
              "      <td>39.2</td>\n",
              "      <td>88</td>\n",
              "      <td>20</td>\n",
              "      <td>?</td>\n",
              "      <td>?</td>\n",
              "      <td>4</td>\n",
              "      <td>1</td>\n",
              "      <td>3</td>\n",
              "      <td>4</td>\n",
              "      <td>2</td>\n",
              "      <td>?</td>\n",
              "      <td>?</td>\n",
              "      <td>?</td>\n",
              "      <td>4</td>\n",
              "      <td>2</td>\n",
              "      <td>50</td>\n",
              "      <td>85</td>\n",
              "      <td>2</td>\n",
              "      <td>2</td>\n",
              "      <td>3</td>\n",
              "      <td>2</td>\n",
              "      <td>2208</td>\n",
              "      <td>0</td>\n",
              "      <td>0</td>\n",
              "      <td>2</td>\n",
              "    </tr>\n",
              "    <tr>\n",
              "      <th>2</th>\n",
              "      <td>2</td>\n",
              "      <td>1</td>\n",
              "      <td>530334</td>\n",
              "      <td>38.30</td>\n",
              "      <td>40</td>\n",
              "      <td>24</td>\n",
              "      <td>1</td>\n",
              "      <td>1</td>\n",
              "      <td>3</td>\n",
              "      <td>1</td>\n",
              "      <td>3</td>\n",
              "      <td>3</td>\n",
              "      <td>1</td>\n",
              "      <td>?</td>\n",
              "      <td>?</td>\n",
              "      <td>?</td>\n",
              "      <td>1</td>\n",
              "      <td>1</td>\n",
              "      <td>33.00</td>\n",
              "      <td>6.70</td>\n",
              "      <td>?</td>\n",
              "      <td>?</td>\n",
              "      <td>1</td>\n",
              "      <td>2</td>\n",
              "      <td>0</td>\n",
              "      <td>0</td>\n",
              "      <td>0</td>\n",
              "      <td>1</td>\n",
              "    </tr>\n",
              "    <tr>\n",
              "      <th>3</th>\n",
              "      <td>1</td>\n",
              "      <td>9</td>\n",
              "      <td>5290409</td>\n",
              "      <td>39.10</td>\n",
              "      <td>164</td>\n",
              "      <td>84</td>\n",
              "      <td>4</td>\n",
              "      <td>1</td>\n",
              "      <td>6</td>\n",
              "      <td>2</td>\n",
              "      <td>2</td>\n",
              "      <td>4</td>\n",
              "      <td>4</td>\n",
              "      <td>1</td>\n",
              "      <td>2</td>\n",
              "      <td>5.00</td>\n",
              "      <td>3</td>\n",
              "      <td>?</td>\n",
              "      <td>48.00</td>\n",
              "      <td>7.20</td>\n",
              "      <td>3</td>\n",
              "      <td>5.30</td>\n",
              "      <td>2</td>\n",
              "      <td>1</td>\n",
              "      <td>2208</td>\n",
              "      <td>0</td>\n",
              "      <td>0</td>\n",
              "      <td>1</td>\n",
              "    </tr>\n",
              "    <tr>\n",
              "      <th>4</th>\n",
              "      <td>2</td>\n",
              "      <td>1</td>\n",
              "      <td>530255</td>\n",
              "      <td>37.30</td>\n",
              "      <td>104</td>\n",
              "      <td>35</td>\n",
              "      <td>?</td>\n",
              "      <td>?</td>\n",
              "      <td>6</td>\n",
              "      <td>2</td>\n",
              "      <td>?</td>\n",
              "      <td>?</td>\n",
              "      <td>?</td>\n",
              "      <td>?</td>\n",
              "      <td>?</td>\n",
              "      <td>?</td>\n",
              "      <td>?</td>\n",
              "      <td>?</td>\n",
              "      <td>74.00</td>\n",
              "      <td>7.40</td>\n",
              "      <td>?</td>\n",
              "      <td>?</td>\n",
              "      <td>2</td>\n",
              "      <td>2</td>\n",
              "      <td>4300</td>\n",
              "      <td>0</td>\n",
              "      <td>0</td>\n",
              "      <td>2</td>\n",
              "    </tr>\n",
              "  </tbody>\n",
              "</table>\n",
              "</div>"
            ],
            "text/plain": [
              "  X0  X1       X2     X3   X4  X5 X6  ...   X21 X22 X23    X24 X25 X26 X27\n",
              "0  2   1   530101  38.50   66  28  3  ...     ?   2   2  11300   0   0   2\n",
              "1  1   1   534817   39.2   88  20  ?  ...     2   3   2   2208   0   0   2\n",
              "2  2   1   530334  38.30   40  24  1  ...     ?   1   2      0   0   0   1\n",
              "3  1   9  5290409  39.10  164  84  4  ...  5.30   2   1   2208   0   0   1\n",
              "4  2   1   530255  37.30  104  35  ?  ...     ?   2   2   4300   0   0   2\n",
              "\n",
              "[5 rows x 28 columns]"
            ]
          },
          "metadata": {
            "tags": []
          },
          "execution_count": 4
        }
      ]
    },
    {
      "cell_type": "code",
      "metadata": {
        "id": "ASEdozexcGbY"
      },
      "source": [
        "df = pd.read_csv(file_url, header=None, sep='\\s+', prefix='X', na_values='?')"
      ],
      "execution_count": 5,
      "outputs": []
    },
    {
      "cell_type": "code",
      "metadata": {
        "id": "NLiPeTsPcHpg",
        "colab": {
          "base_uri": "https://localhost:8080/",
          "height": 204
        },
        "outputId": "2a15a862-3d3d-4450-9baf-47730c4ed79d"
      },
      "source": [
        "df.head()"
      ],
      "execution_count": 6,
      "outputs": [
        {
          "output_type": "execute_result",
          "data": {
            "text/html": [
              "<div>\n",
              "<style scoped>\n",
              "    .dataframe tbody tr th:only-of-type {\n",
              "        vertical-align: middle;\n",
              "    }\n",
              "\n",
              "    .dataframe tbody tr th {\n",
              "        vertical-align: top;\n",
              "    }\n",
              "\n",
              "    .dataframe thead th {\n",
              "        text-align: right;\n",
              "    }\n",
              "</style>\n",
              "<table border=\"1\" class=\"dataframe\">\n",
              "  <thead>\n",
              "    <tr style=\"text-align: right;\">\n",
              "      <th></th>\n",
              "      <th>X0</th>\n",
              "      <th>X1</th>\n",
              "      <th>X2</th>\n",
              "      <th>X3</th>\n",
              "      <th>X4</th>\n",
              "      <th>X5</th>\n",
              "      <th>X6</th>\n",
              "      <th>X7</th>\n",
              "      <th>X8</th>\n",
              "      <th>X9</th>\n",
              "      <th>X10</th>\n",
              "      <th>X11</th>\n",
              "      <th>X12</th>\n",
              "      <th>X13</th>\n",
              "      <th>X14</th>\n",
              "      <th>X15</th>\n",
              "      <th>X16</th>\n",
              "      <th>X17</th>\n",
              "      <th>X18</th>\n",
              "      <th>X19</th>\n",
              "      <th>X20</th>\n",
              "      <th>X21</th>\n",
              "      <th>X22</th>\n",
              "      <th>X23</th>\n",
              "      <th>X24</th>\n",
              "      <th>X25</th>\n",
              "      <th>X26</th>\n",
              "      <th>X27</th>\n",
              "    </tr>\n",
              "  </thead>\n",
              "  <tbody>\n",
              "    <tr>\n",
              "      <th>0</th>\n",
              "      <td>2.0</td>\n",
              "      <td>1</td>\n",
              "      <td>530101</td>\n",
              "      <td>38.5</td>\n",
              "      <td>66.0</td>\n",
              "      <td>28.0</td>\n",
              "      <td>3.0</td>\n",
              "      <td>3.0</td>\n",
              "      <td>NaN</td>\n",
              "      <td>2.0</td>\n",
              "      <td>5.0</td>\n",
              "      <td>4.0</td>\n",
              "      <td>4.0</td>\n",
              "      <td>NaN</td>\n",
              "      <td>NaN</td>\n",
              "      <td>NaN</td>\n",
              "      <td>3.0</td>\n",
              "      <td>5.0</td>\n",
              "      <td>45.0</td>\n",
              "      <td>8.4</td>\n",
              "      <td>NaN</td>\n",
              "      <td>NaN</td>\n",
              "      <td>2.0</td>\n",
              "      <td>2</td>\n",
              "      <td>11300</td>\n",
              "      <td>0</td>\n",
              "      <td>0</td>\n",
              "      <td>2</td>\n",
              "    </tr>\n",
              "    <tr>\n",
              "      <th>1</th>\n",
              "      <td>1.0</td>\n",
              "      <td>1</td>\n",
              "      <td>534817</td>\n",
              "      <td>39.2</td>\n",
              "      <td>88.0</td>\n",
              "      <td>20.0</td>\n",
              "      <td>NaN</td>\n",
              "      <td>NaN</td>\n",
              "      <td>4.0</td>\n",
              "      <td>1.0</td>\n",
              "      <td>3.0</td>\n",
              "      <td>4.0</td>\n",
              "      <td>2.0</td>\n",
              "      <td>NaN</td>\n",
              "      <td>NaN</td>\n",
              "      <td>NaN</td>\n",
              "      <td>4.0</td>\n",
              "      <td>2.0</td>\n",
              "      <td>50.0</td>\n",
              "      <td>85.0</td>\n",
              "      <td>2.0</td>\n",
              "      <td>2.0</td>\n",
              "      <td>3.0</td>\n",
              "      <td>2</td>\n",
              "      <td>2208</td>\n",
              "      <td>0</td>\n",
              "      <td>0</td>\n",
              "      <td>2</td>\n",
              "    </tr>\n",
              "    <tr>\n",
              "      <th>2</th>\n",
              "      <td>2.0</td>\n",
              "      <td>1</td>\n",
              "      <td>530334</td>\n",
              "      <td>38.3</td>\n",
              "      <td>40.0</td>\n",
              "      <td>24.0</td>\n",
              "      <td>1.0</td>\n",
              "      <td>1.0</td>\n",
              "      <td>3.0</td>\n",
              "      <td>1.0</td>\n",
              "      <td>3.0</td>\n",
              "      <td>3.0</td>\n",
              "      <td>1.0</td>\n",
              "      <td>NaN</td>\n",
              "      <td>NaN</td>\n",
              "      <td>NaN</td>\n",
              "      <td>1.0</td>\n",
              "      <td>1.0</td>\n",
              "      <td>33.0</td>\n",
              "      <td>6.7</td>\n",
              "      <td>NaN</td>\n",
              "      <td>NaN</td>\n",
              "      <td>1.0</td>\n",
              "      <td>2</td>\n",
              "      <td>0</td>\n",
              "      <td>0</td>\n",
              "      <td>0</td>\n",
              "      <td>1</td>\n",
              "    </tr>\n",
              "    <tr>\n",
              "      <th>3</th>\n",
              "      <td>1.0</td>\n",
              "      <td>9</td>\n",
              "      <td>5290409</td>\n",
              "      <td>39.1</td>\n",
              "      <td>164.0</td>\n",
              "      <td>84.0</td>\n",
              "      <td>4.0</td>\n",
              "      <td>1.0</td>\n",
              "      <td>6.0</td>\n",
              "      <td>2.0</td>\n",
              "      <td>2.0</td>\n",
              "      <td>4.0</td>\n",
              "      <td>4.0</td>\n",
              "      <td>1.0</td>\n",
              "      <td>2.0</td>\n",
              "      <td>5.0</td>\n",
              "      <td>3.0</td>\n",
              "      <td>NaN</td>\n",
              "      <td>48.0</td>\n",
              "      <td>7.2</td>\n",
              "      <td>3.0</td>\n",
              "      <td>5.3</td>\n",
              "      <td>2.0</td>\n",
              "      <td>1</td>\n",
              "      <td>2208</td>\n",
              "      <td>0</td>\n",
              "      <td>0</td>\n",
              "      <td>1</td>\n",
              "    </tr>\n",
              "    <tr>\n",
              "      <th>4</th>\n",
              "      <td>2.0</td>\n",
              "      <td>1</td>\n",
              "      <td>530255</td>\n",
              "      <td>37.3</td>\n",
              "      <td>104.0</td>\n",
              "      <td>35.0</td>\n",
              "      <td>NaN</td>\n",
              "      <td>NaN</td>\n",
              "      <td>6.0</td>\n",
              "      <td>2.0</td>\n",
              "      <td>NaN</td>\n",
              "      <td>NaN</td>\n",
              "      <td>NaN</td>\n",
              "      <td>NaN</td>\n",
              "      <td>NaN</td>\n",
              "      <td>NaN</td>\n",
              "      <td>NaN</td>\n",
              "      <td>NaN</td>\n",
              "      <td>74.0</td>\n",
              "      <td>7.4</td>\n",
              "      <td>NaN</td>\n",
              "      <td>NaN</td>\n",
              "      <td>2.0</td>\n",
              "      <td>2</td>\n",
              "      <td>4300</td>\n",
              "      <td>0</td>\n",
              "      <td>0</td>\n",
              "      <td>2</td>\n",
              "    </tr>\n",
              "  </tbody>\n",
              "</table>\n",
              "</div>"
            ],
            "text/plain": [
              "    X0  X1       X2    X3     X4    X5  ...  X22  X23    X24  X25  X26  X27\n",
              "0  2.0   1   530101  38.5   66.0  28.0  ...  2.0    2  11300    0    0    2\n",
              "1  1.0   1   534817  39.2   88.0  20.0  ...  3.0    2   2208    0    0    2\n",
              "2  2.0   1   530334  38.3   40.0  24.0  ...  1.0    2      0    0    0    1\n",
              "3  1.0   9  5290409  39.1  164.0  84.0  ...  2.0    1   2208    0    0    1\n",
              "4  2.0   1   530255  37.3  104.0  35.0  ...  2.0    2   4300    0    0    2\n",
              "\n",
              "[5 rows x 28 columns]"
            ]
          },
          "metadata": {
            "tags": []
          },
          "execution_count": 6
        }
      ]
    },
    {
      "cell_type": "code",
      "metadata": {
        "id": "Rv1a7YLL63I8",
        "colab": {
          "base_uri": "https://localhost:8080/"
        },
        "outputId": "86c14e96-3e39-434c-e81f-898fd7a3ee01"
      },
      "source": [
        "df.dtypes"
      ],
      "execution_count": 7,
      "outputs": [
        {
          "output_type": "execute_result",
          "data": {
            "text/plain": [
              "X0     float64\n",
              "X1       int64\n",
              "X2       int64\n",
              "X3     float64\n",
              "X4     float64\n",
              "X5     float64\n",
              "X6     float64\n",
              "X7     float64\n",
              "X8     float64\n",
              "X9     float64\n",
              "X10    float64\n",
              "X11    float64\n",
              "X12    float64\n",
              "X13    float64\n",
              "X14    float64\n",
              "X15    float64\n",
              "X16    float64\n",
              "X17    float64\n",
              "X18    float64\n",
              "X19    float64\n",
              "X20    float64\n",
              "X21    float64\n",
              "X22    float64\n",
              "X23      int64\n",
              "X24      int64\n",
              "X25      int64\n",
              "X26      int64\n",
              "X27      int64\n",
              "dtype: object"
            ]
          },
          "metadata": {
            "tags": []
          },
          "execution_count": 7
        }
      ]
    },
    {
      "cell_type": "code",
      "metadata": {
        "id": "q1a8onHi79Z7",
        "colab": {
          "base_uri": "https://localhost:8080/"
        },
        "outputId": "a1cbea71-d029-40dc-8f00-b20e2a7eb5da"
      },
      "source": [
        "df.isna().sum()"
      ],
      "execution_count": 8,
      "outputs": [
        {
          "output_type": "execute_result",
          "data": {
            "text/plain": [
              "X0       1\n",
              "X1       0\n",
              "X2       0\n",
              "X3      60\n",
              "X4      24\n",
              "X5      58\n",
              "X6      56\n",
              "X7      69\n",
              "X8      47\n",
              "X9      32\n",
              "X10     55\n",
              "X11     44\n",
              "X12     56\n",
              "X13    104\n",
              "X14    106\n",
              "X15    247\n",
              "X16    102\n",
              "X17    118\n",
              "X18     29\n",
              "X19     33\n",
              "X20    165\n",
              "X21    198\n",
              "X22      1\n",
              "X23      0\n",
              "X24      0\n",
              "X25      0\n",
              "X26      0\n",
              "X27      0\n",
              "dtype: int64"
            ]
          },
          "metadata": {
            "tags": []
          },
          "execution_count": 8
        }
      ]
    },
    {
      "cell_type": "code",
      "metadata": {
        "id": "1zTWk7dtBbMe"
      },
      "source": [
        "x0_mask = df['X0'].isna()"
      ],
      "execution_count": 9,
      "outputs": []
    },
    {
      "cell_type": "code",
      "metadata": {
        "id": "apH4JpnGBgNG",
        "colab": {
          "base_uri": "https://localhost:8080/"
        },
        "outputId": "b6982fa7-b264-4601-9215-06cc3d65a14f"
      },
      "source": [
        "x0_mask.sum()"
      ],
      "execution_count": 10,
      "outputs": [
        {
          "output_type": "execute_result",
          "data": {
            "text/plain": [
              "1"
            ]
          },
          "metadata": {
            "tags": []
          },
          "execution_count": 10
        }
      ]
    },
    {
      "cell_type": "code",
      "metadata": {
        "id": "I0wuvkFHBlml",
        "colab": {
          "base_uri": "https://localhost:8080/"
        },
        "outputId": "e34d318a-3351-4e47-912c-2832ba945a9e"
      },
      "source": [
        "x0_median = df['X0'].median()\n",
        "print(x0_median)"
      ],
      "execution_count": 11,
      "outputs": [
        {
          "output_type": "stream",
          "text": [
            "1.0\n"
          ],
          "name": "stdout"
        }
      ]
    },
    {
      "cell_type": "code",
      "metadata": {
        "id": "Q_m65ZKLB-jx"
      },
      "source": [
        "df['X0'].fillna(x0_median, inplace=True)"
      ],
      "execution_count": 12,
      "outputs": []
    },
    {
      "cell_type": "code",
      "metadata": {
        "id": "Jr6BfU45CDQw",
        "colab": {
          "base_uri": "https://localhost:8080/"
        },
        "outputId": "08eeb3cf-8ed8-4455-daf5-85d63827773f"
      },
      "source": [
        "df['X0'].isna().sum()"
      ],
      "execution_count": 13,
      "outputs": [
        {
          "output_type": "execute_result",
          "data": {
            "text/plain": [
              "0"
            ]
          },
          "metadata": {
            "tags": []
          },
          "execution_count": 13
        }
      ]
    },
    {
      "cell_type": "code",
      "metadata": {
        "id": "MH3Qd9LIHeKF",
        "colab": {
          "base_uri": "https://localhost:8080/"
        },
        "outputId": "16c9fc56-a159-4f5d-cbbd-112306ae5cfc"
      },
      "source": [
        "for col_name in df.columns:\n",
        "  col_median = df[col_name].median()\n",
        "  df[col_name].fillna(col_median, inplace=True)\n",
        "  print(col_name)\n",
        "  print(col_median)"
      ],
      "execution_count": 14,
      "outputs": [
        {
          "output_type": "stream",
          "text": [
            "X0\n",
            "1.0\n",
            "X1\n",
            "1.0\n",
            "X2\n",
            "530305.5\n",
            "X3\n",
            "38.2\n",
            "X4\n",
            "64.0\n",
            "X5\n",
            "24.5\n",
            "X6\n",
            "3.0\n",
            "X7\n",
            "2.0\n",
            "X8\n",
            "3.0\n",
            "X9\n",
            "1.0\n",
            "X10\n",
            "3.0\n",
            "X11\n",
            "3.0\n",
            "X12\n",
            "2.0\n",
            "X13\n",
            "2.0\n",
            "X14\n",
            "1.0\n",
            "X15\n",
            "5.0\n",
            "X16\n",
            "3.0\n",
            "X17\n",
            "4.0\n",
            "X18\n",
            "45.0\n",
            "X19\n",
            "7.5\n",
            "X20\n",
            "2.0\n",
            "X21\n",
            "2.25\n",
            "X22\n",
            "1.0\n",
            "X23\n",
            "1.0\n",
            "X24\n",
            "2673.5\n",
            "X25\n",
            "0.0\n",
            "X26\n",
            "0.0\n",
            "X27\n",
            "2.0\n"
          ],
          "name": "stdout"
        }
      ]
    },
    {
      "cell_type": "code",
      "metadata": {
        "id": "T-CLjjkVHrfq",
        "colab": {
          "base_uri": "https://localhost:8080/"
        },
        "outputId": "6d4e7050-948b-403c-ee71-34792d714945"
      },
      "source": [
        "df.isna().sum()"
      ],
      "execution_count": 15,
      "outputs": [
        {
          "output_type": "execute_result",
          "data": {
            "text/plain": [
              "X0     0\n",
              "X1     0\n",
              "X2     0\n",
              "X3     0\n",
              "X4     0\n",
              "X5     0\n",
              "X6     0\n",
              "X7     0\n",
              "X8     0\n",
              "X9     0\n",
              "X10    0\n",
              "X11    0\n",
              "X12    0\n",
              "X13    0\n",
              "X14    0\n",
              "X15    0\n",
              "X16    0\n",
              "X17    0\n",
              "X18    0\n",
              "X19    0\n",
              "X20    0\n",
              "X21    0\n",
              "X22    0\n",
              "X23    0\n",
              "X24    0\n",
              "X25    0\n",
              "X26    0\n",
              "X27    0\n",
              "dtype: int64"
            ]
          },
          "metadata": {
            "tags": []
          },
          "execution_count": 15
        }
      ]
    },
    {
      "cell_type": "code",
      "metadata": {
        "id": "Ptzg31wl--LO"
      },
      "source": [
        ""
      ],
      "execution_count": null,
      "outputs": []
    }
  ]
}