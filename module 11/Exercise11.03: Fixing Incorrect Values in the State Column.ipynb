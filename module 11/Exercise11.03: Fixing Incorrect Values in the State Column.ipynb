{
  "nbformat": 4,
  "nbformat_minor": 0,
  "metadata": {
    "colab": {
      "name": "Exercise11_03.ipynb",
      "provenance": [],
      "collapsed_sections": [],
      "include_colab_link": true
    },
    "kernelspec": {
      "name": "python3",
      "display_name": "Python 3"
    }
  },
  "cells": [
    {
      "cell_type": "markdown",
      "metadata": {
        "id": "view-in-github",
        "colab_type": "text"
      },
      "source": [
        "<a href=\"https://colab.research.google.com/github/sandeep92134/The-Data-Science-Workshop-By-Packt/blob/master/module%2011/Exercise11.03%3A%20Fixing%20Incorrect%20Values%20in%20the%20State%20Column.ipynb\" target=\"_parent\"><img src=\"https://colab.research.google.com/assets/colab-badge.svg\" alt=\"Open In Colab\"/></a>"
      ]
    },
    {
      "cell_type": "code",
      "metadata": {
        "id": "HEiOAwQPW0qb"
      },
      "source": [
        "import pandas as pd"
      ],
      "execution_count": 1,
      "outputs": []
    },
    {
      "cell_type": "code",
      "metadata": {
        "id": "j7whidfaYjns"
      },
      "source": [
        "file_url = 'https://raw.githubusercontent.com/sandeep92134/The-Data-Science-Workshop-By-Packt/master/module%2011/datasets/officers.csv'"
      ],
      "execution_count": 2,
      "outputs": []
    },
    {
      "cell_type": "code",
      "metadata": {
        "id": "nFMz2jNVt-xy"
      },
      "source": [
        "df = pd.read_csv(file_url)"
      ],
      "execution_count": 3,
      "outputs": []
    },
    {
      "cell_type": "code",
      "metadata": {
        "id": "n0xY9ATvN6-M",
        "colab": {
          "base_uri": "https://localhost:8080/",
          "height": 204
        },
        "outputId": "b6142fb5-ed6a-4293-e5e5-5d0359a454dc"
      },
      "source": [
        "df.head()"
      ],
      "execution_count": 4,
      "outputs": [
        {
          "output_type": "execute_result",
          "data": {
            "text/html": [
              "<div>\n",
              "<style scoped>\n",
              "    .dataframe tbody tr th:only-of-type {\n",
              "        vertical-align: middle;\n",
              "    }\n",
              "\n",
              "    .dataframe tbody tr th {\n",
              "        vertical-align: top;\n",
              "    }\n",
              "\n",
              "    .dataframe thead th {\n",
              "        text-align: right;\n",
              "    }\n",
              "</style>\n",
              "<table border=\"1\" class=\"dataframe\">\n",
              "  <thead>\n",
              "    <tr style=\"text-align: right;\">\n",
              "      <th></th>\n",
              "      <th>ID</th>\n",
              "      <th>City</th>\n",
              "      <th>State</th>\n",
              "      <th>Zip</th>\n",
              "      <th>Title</th>\n",
              "      <th>RedactionRequested</th>\n",
              "    </tr>\n",
              "  </thead>\n",
              "  <tbody>\n",
              "    <tr>\n",
              "      <th>0</th>\n",
              "      <td>804</td>\n",
              "      <td>Glenview</td>\n",
              "      <td>IL</td>\n",
              "      <td>60025</td>\n",
              "      <td>Treasurer</td>\n",
              "      <td>False</td>\n",
              "    </tr>\n",
              "    <tr>\n",
              "      <th>1</th>\n",
              "      <td>9177</td>\n",
              "      <td>Harrisburg</td>\n",
              "      <td>IL</td>\n",
              "      <td>62946</td>\n",
              "      <td>Treasurer</td>\n",
              "      <td>False</td>\n",
              "    </tr>\n",
              "    <tr>\n",
              "      <th>2</th>\n",
              "      <td>53011</td>\n",
              "      <td>Chicago</td>\n",
              "      <td>IL</td>\n",
              "      <td>60606</td>\n",
              "      <td>Treasurer</td>\n",
              "      <td>False</td>\n",
              "    </tr>\n",
              "    <tr>\n",
              "      <th>3</th>\n",
              "      <td>9176</td>\n",
              "      <td>Harrisburg</td>\n",
              "      <td>IL</td>\n",
              "      <td>62946</td>\n",
              "      <td>Chairman</td>\n",
              "      <td>False</td>\n",
              "    </tr>\n",
              "    <tr>\n",
              "      <th>4</th>\n",
              "      <td>33020</td>\n",
              "      <td>Mechanicsburg</td>\n",
              "      <td>IL</td>\n",
              "      <td>62545</td>\n",
              "      <td>Chairman</td>\n",
              "      <td>False</td>\n",
              "    </tr>\n",
              "  </tbody>\n",
              "</table>\n",
              "</div>"
            ],
            "text/plain": [
              "      ID           City State    Zip      Title  RedactionRequested\n",
              "0    804       Glenview    IL  60025  Treasurer               False\n",
              "1   9177     Harrisburg    IL  62946  Treasurer               False\n",
              "2  53011        Chicago    IL  60606  Treasurer               False\n",
              "3   9176     Harrisburg    IL  62946   Chairman               False\n",
              "4  33020  Mechanicsburg    IL  62545   Chairman               False"
            ]
          },
          "metadata": {
            "tags": []
          },
          "execution_count": 4
        }
      ]
    },
    {
      "cell_type": "code",
      "metadata": {
        "id": "recrA9gLBmep",
        "colab": {
          "base_uri": "https://localhost:8080/"
        },
        "outputId": "291113cf-cbfd-4c80-9043-a585b6c265ba"
      },
      "source": [
        "df['State'].unique()"
      ],
      "execution_count": 5,
      "outputs": [
        {
          "output_type": "execute_result",
          "data": {
            "text/plain": [
              "array(['IL', 'PA', 'DC', 'Il', nan, 'WI', 'CA', 'MO', 'NC', 'IA', 'MA',\n",
              "       'IN', 'MI', 'TN', 'NY', 'ng', 'TX', 'CO', 'NV', 'il', 'WA', '8I',\n",
              "       'In', 'iL', 'OH', 'SC', 'VA', 'NM', 'FL', 'LA', 'GA', 'II', 'NJ',\n",
              "       'MD', 'I', 'AR', 'KS', 'DE', '60', 'SD', 'MN', 'VT', 'OK', 'KY',\n",
              "       'CT', 'NH', 'AZ', 'OR', 'PR', 'RI'], dtype=object)"
            ]
          },
          "metadata": {
            "tags": []
          },
          "execution_count": 5
        }
      ]
    },
    {
      "cell_type": "code",
      "metadata": {
        "id": "v9LJ8sZrRxuF",
        "colab": {
          "base_uri": "https://localhost:8080/",
          "height": 235
        },
        "outputId": "43e1db81-38b5-490a-fef2-f2f949f93229"
      },
      "source": [
        "df[df['State'].str.contains('il', na=False)]"
      ],
      "execution_count": 6,
      "outputs": [
        {
          "output_type": "execute_result",
          "data": {
            "text/html": [
              "<div>\n",
              "<style scoped>\n",
              "    .dataframe tbody tr th:only-of-type {\n",
              "        vertical-align: middle;\n",
              "    }\n",
              "\n",
              "    .dataframe tbody tr th {\n",
              "        vertical-align: top;\n",
              "    }\n",
              "\n",
              "    .dataframe thead th {\n",
              "        text-align: right;\n",
              "    }\n",
              "</style>\n",
              "<table border=\"1\" class=\"dataframe\">\n",
              "  <thead>\n",
              "    <tr style=\"text-align: right;\">\n",
              "      <th></th>\n",
              "      <th>ID</th>\n",
              "      <th>City</th>\n",
              "      <th>State</th>\n",
              "      <th>Zip</th>\n",
              "      <th>Title</th>\n",
              "      <th>RedactionRequested</th>\n",
              "    </tr>\n",
              "  </thead>\n",
              "  <tbody>\n",
              "    <tr>\n",
              "      <th>4245</th>\n",
              "      <td>47448</td>\n",
              "      <td>Chicago</td>\n",
              "      <td>il</td>\n",
              "      <td>60619</td>\n",
              "      <td>Treasurer</td>\n",
              "      <td>False</td>\n",
              "    </tr>\n",
              "    <tr>\n",
              "      <th>4651</th>\n",
              "      <td>47447</td>\n",
              "      <td>Chicago</td>\n",
              "      <td>il</td>\n",
              "      <td>60623-1614</td>\n",
              "      <td>Chairman</td>\n",
              "      <td>False</td>\n",
              "    </tr>\n",
              "    <tr>\n",
              "      <th>4652</th>\n",
              "      <td>54025</td>\n",
              "      <td>Chicago</td>\n",
              "      <td>il</td>\n",
              "      <td>60623-1614</td>\n",
              "      <td>Chairman</td>\n",
              "      <td>False</td>\n",
              "    </tr>\n",
              "    <tr>\n",
              "      <th>18939</th>\n",
              "      <td>39418</td>\n",
              "      <td>Kingston</td>\n",
              "      <td>il</td>\n",
              "      <td>60145</td>\n",
              "      <td>Chairman</td>\n",
              "      <td>False</td>\n",
              "    </tr>\n",
              "    <tr>\n",
              "      <th>29699</th>\n",
              "      <td>27124</td>\n",
              "      <td>Hampshire</td>\n",
              "      <td>il</td>\n",
              "      <td>60140</td>\n",
              "      <td>Chairman</td>\n",
              "      <td>False</td>\n",
              "    </tr>\n",
              "    <tr>\n",
              "      <th>43761</th>\n",
              "      <td>29179</td>\n",
              "      <td>McHenry</td>\n",
              "      <td>il</td>\n",
              "      <td>60050</td>\n",
              "      <td>Admin Asst</td>\n",
              "      <td>False</td>\n",
              "    </tr>\n",
              "  </tbody>\n",
              "</table>\n",
              "</div>"
            ],
            "text/plain": [
              "          ID       City State         Zip       Title  RedactionRequested\n",
              "4245   47448    Chicago    il       60619   Treasurer               False\n",
              "4651   47447    Chicago    il  60623-1614    Chairman               False\n",
              "4652   54025    Chicago    il  60623-1614    Chairman               False\n",
              "18939  39418   Kingston    il       60145    Chairman               False\n",
              "29699  27124  Hampshire    il       60140    Chairman               False\n",
              "43761  29179    McHenry    il       60050  Admin Asst               False"
            ]
          },
          "metadata": {
            "tags": []
          },
          "execution_count": 6
        }
      ]
    },
    {
      "cell_type": "code",
      "metadata": {
        "id": "km1miLj2Sdbz",
        "colab": {
          "base_uri": "https://localhost:8080/"
        },
        "outputId": "5b1fef7c-7197-42ef-923f-2e2d7e199e5c"
      },
      "source": [
        "for state in ['Il', 'iL', 'Il']:\n",
        "  print(df.loc[df['State'] == state, ['City', 'State']])"
      ],
      "execution_count": 7,
      "outputs": [
        {
          "output_type": "stream",
          "text": [
            "            City State\n",
            "43        Ottawa    Il\n",
            "44        Ottawa    Il\n",
            "493    Galesburg    Il\n",
            "613      Chicago    Il\n",
            "614      Chicago    Il\n",
            "...          ...   ...\n",
            "54915    Chicago    Il\n",
            "54916    Chicago    Il\n",
            "54918    Chicago    Il\n",
            "54919    Chicago    Il\n",
            "54921    Chicago    Il\n",
            "\n",
            "[665 rows x 2 columns]\n",
            "         City State\n",
            "7052  Wheaton    iL\n",
            "            City State\n",
            "43        Ottawa    Il\n",
            "44        Ottawa    Il\n",
            "493    Galesburg    Il\n",
            "613      Chicago    Il\n",
            "614      Chicago    Il\n",
            "...          ...   ...\n",
            "54915    Chicago    Il\n",
            "54916    Chicago    Il\n",
            "54918    Chicago    Il\n",
            "54919    Chicago    Il\n",
            "54921    Chicago    Il\n",
            "\n",
            "[665 rows x 2 columns]\n"
          ],
          "name": "stdout"
        }
      ]
    },
    {
      "cell_type": "code",
      "metadata": {
        "id": "gtzB7K0K4LBq"
      },
      "source": [
        "il_mask = df['State'].isin(['il', 'Il', 'iL', 'Il'])"
      ],
      "execution_count": 8,
      "outputs": []
    },
    {
      "cell_type": "code",
      "metadata": {
        "id": "wGEy6Ux17QNY",
        "colab": {
          "base_uri": "https://localhost:8080/"
        },
        "outputId": "0fc8f1af-9e54-4d8f-d893-c6a2bd7e6dda"
      },
      "source": [
        "il_mask.sum()"
      ],
      "execution_count": 9,
      "outputs": [
        {
          "output_type": "execute_result",
          "data": {
            "text/plain": [
              "672"
            ]
          },
          "metadata": {
            "tags": []
          },
          "execution_count": 9
        }
      ]
    },
    {
      "cell_type": "code",
      "metadata": {
        "id": "iTERX9A1SdZD"
      },
      "source": [
        "df.loc[il_mask, 'State'] = 'IL'"
      ],
      "execution_count": 10,
      "outputs": []
    },
    {
      "cell_type": "code",
      "metadata": {
        "id": "HRWrLS1y7mn5",
        "colab": {
          "base_uri": "https://localhost:8080/"
        },
        "outputId": "9726eec5-89d3-47e7-916a-d68f88cdbc51"
      },
      "source": [
        "df['State'].unique()"
      ],
      "execution_count": 11,
      "outputs": [
        {
          "output_type": "execute_result",
          "data": {
            "text/plain": [
              "array(['IL', 'PA', 'DC', nan, 'WI', 'CA', 'MO', 'NC', 'IA', 'MA', 'IN',\n",
              "       'MI', 'TN', 'NY', 'ng', 'TX', 'CO', 'NV', 'WA', '8I', 'In', 'OH',\n",
              "       'SC', 'VA', 'NM', 'FL', 'LA', 'GA', 'II', 'NJ', 'MD', 'I', 'AR',\n",
              "       'KS', 'DE', '60', 'SD', 'MN', 'VT', 'OK', 'KY', 'CT', 'NH', 'AZ',\n",
              "       'OR', 'PR', 'RI'], dtype=object)"
            ]
          },
          "metadata": {
            "tags": []
          },
          "execution_count": 11
        }
      ]
    },
    {
      "cell_type": "code",
      "metadata": {
        "id": "vJWBdglfSg32",
        "colab": {
          "base_uri": "https://localhost:8080/",
          "height": 111
        },
        "outputId": "f775f8c5-f04a-42b3-946f-369cb9747e75"
      },
      "source": [
        "df.loc[df['State'] == 'II',]"
      ],
      "execution_count": 12,
      "outputs": [
        {
          "output_type": "execute_result",
          "data": {
            "text/html": [
              "<div>\n",
              "<style scoped>\n",
              "    .dataframe tbody tr th:only-of-type {\n",
              "        vertical-align: middle;\n",
              "    }\n",
              "\n",
              "    .dataframe tbody tr th {\n",
              "        vertical-align: top;\n",
              "    }\n",
              "\n",
              "    .dataframe thead th {\n",
              "        text-align: right;\n",
              "    }\n",
              "</style>\n",
              "<table border=\"1\" class=\"dataframe\">\n",
              "  <thead>\n",
              "    <tr style=\"text-align: right;\">\n",
              "      <th></th>\n",
              "      <th>ID</th>\n",
              "      <th>City</th>\n",
              "      <th>State</th>\n",
              "      <th>Zip</th>\n",
              "      <th>Title</th>\n",
              "      <th>RedactionRequested</th>\n",
              "    </tr>\n",
              "  </thead>\n",
              "  <tbody>\n",
              "    <tr>\n",
              "      <th>14340</th>\n",
              "      <td>28039</td>\n",
              "      <td>Bloomington</td>\n",
              "      <td>II</td>\n",
              "      <td>61704</td>\n",
              "      <td>Co-Chairman</td>\n",
              "      <td>False</td>\n",
              "    </tr>\n",
              "    <tr>\n",
              "      <th>14341</th>\n",
              "      <td>31994</td>\n",
              "      <td>Bloomington</td>\n",
              "      <td>II</td>\n",
              "      <td>61704</td>\n",
              "      <td>Chairman</td>\n",
              "      <td>False</td>\n",
              "    </tr>\n",
              "  </tbody>\n",
              "</table>\n",
              "</div>"
            ],
            "text/plain": [
              "          ID         City State    Zip        Title  RedactionRequested\n",
              "14340  28039  Bloomington    II  61704  Co-Chairman               False\n",
              "14341  31994  Bloomington    II  61704     Chairman               False"
            ]
          },
          "metadata": {
            "tags": []
          },
          "execution_count": 12
        }
      ]
    },
    {
      "cell_type": "code",
      "metadata": {
        "id": "97iBIGphCH7D",
        "colab": {
          "base_uri": "https://localhost:8080/"
        },
        "outputId": "18429c64-e6f5-462c-8700-4363cd1a698e"
      },
      "source": [
        "for val in ['I', '8I', '60']:\n",
        "  print(df.loc[df['State'] == val, ['City', 'State']])"
      ],
      "execution_count": 13,
      "outputs": [
        {
          "output_type": "stream",
          "text": [
            "              City State\n",
            "17596  Bloomington     I\n",
            "             City State\n",
            "5513  Springfield    8I\n",
            "          City State\n",
            "28060  Chicago    60\n"
          ],
          "name": "stdout"
        }
      ]
    },
    {
      "cell_type": "code",
      "metadata": {
        "id": "ooHQO3ynBwHJ"
      },
      "source": [
        "for val in ['II', 'I', '8I', '60']:\n",
        "  df.loc[df['State'] == val, 'State'] = 'IL'"
      ],
      "execution_count": 14,
      "outputs": []
    },
    {
      "cell_type": "code",
      "metadata": {
        "id": "6S6K8zSJZPxy",
        "colab": {
          "base_uri": "https://localhost:8080/"
        },
        "outputId": "a7494380-573a-4389-e058-3a8c30640317"
      },
      "source": [
        "df['State'].unique()"
      ],
      "execution_count": 15,
      "outputs": [
        {
          "output_type": "execute_result",
          "data": {
            "text/plain": [
              "array(['IL', 'PA', 'DC', nan, 'WI', 'CA', 'MO', 'NC', 'IA', 'MA', 'IN',\n",
              "       'MI', 'TN', 'NY', 'ng', 'TX', 'CO', 'NV', 'WA', 'In', 'OH', 'SC',\n",
              "       'VA', 'NM', 'FL', 'LA', 'GA', 'NJ', 'MD', 'AR', 'KS', 'DE', 'SD',\n",
              "       'MN', 'VT', 'OK', 'KY', 'CT', 'NH', 'AZ', 'OR', 'PR', 'RI'],\n",
              "      dtype=object)"
            ]
          },
          "metadata": {
            "tags": []
          },
          "execution_count": 15
        }
      ]
    },
    {
      "cell_type": "code",
      "metadata": {
        "id": "owFR6OfLct8P",
        "colab": {
          "base_uri": "https://localhost:8080/"
        },
        "outputId": "8b7e22c0-94c0-410c-8f22-c1f6325d07d2"
      },
      "source": [
        "for val in ['In', 'ng']:\n",
        "  print(df.loc[df['State'] == val, ['City', 'State']])"
      ],
      "execution_count": 16,
      "outputs": [
        {
          "output_type": "stream",
          "text": [
            "           City State\n",
            "5733  Sherville    In\n",
            "            City State\n",
            "2428  none given    ng\n",
            "2961  none given    ng\n"
          ],
          "name": "stdout"
        }
      ]
    },
    {
      "cell_type": "code",
      "metadata": {
        "id": "OzdeI3BEdJ_C"
      },
      "source": [
        "df.loc[df['State'].str.contains('In', na=False), 'State'] = 'IN'"
      ],
      "execution_count": 17,
      "outputs": []
    },
    {
      "cell_type": "code",
      "metadata": {
        "id": "5wfMCwspd2YY",
        "colab": {
          "base_uri": "https://localhost:8080/"
        },
        "outputId": "32fb2c31-74b6-4add-9e59-2f11be87b5c9"
      },
      "source": [
        "df['State'].unique()"
      ],
      "execution_count": 18,
      "outputs": [
        {
          "output_type": "execute_result",
          "data": {
            "text/plain": [
              "array(['IL', 'PA', 'DC', nan, 'WI', 'CA', 'MO', 'NC', 'IA', 'MA', 'IN',\n",
              "       'MI', 'TN', 'NY', 'ng', 'TX', 'CO', 'NV', 'WA', 'OH', 'SC', 'VA',\n",
              "       'NM', 'FL', 'LA', 'GA', 'NJ', 'MD', 'AR', 'KS', 'DE', 'SD', 'MN',\n",
              "       'VT', 'OK', 'KY', 'CT', 'NH', 'AZ', 'OR', 'PR', 'RI'], dtype=object)"
            ]
          },
          "metadata": {
            "tags": []
          },
          "execution_count": 18
        }
      ]
    },
    {
      "cell_type": "code",
      "metadata": {
        "id": "08-zYeGt87oX"
      },
      "source": [
        ""
      ],
      "execution_count": null,
      "outputs": []
    }
  ]
}