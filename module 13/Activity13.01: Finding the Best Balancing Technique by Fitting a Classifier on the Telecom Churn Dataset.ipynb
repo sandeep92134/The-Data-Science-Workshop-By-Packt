{
  "nbformat": 4,
  "nbformat_minor": 0,
  "metadata": {
    "colab": {
      "name": "Activity_13_01_Comparison_of_all_methods_v2_0.ipynb",
      "provenance": [],
      "collapsed_sections": [],
      "include_colab_link": true
    },
    "kernelspec": {
      "display_name": "Python 3",
      "language": "python",
      "name": "python3"
    },
    "language_info": {
      "codemirror_mode": {
        "name": "ipython",
        "version": 3
      },
      "file_extension": ".py",
      "mimetype": "text/x-python",
      "name": "python",
      "nbconvert_exporter": "python",
      "pygments_lexer": "ipython3",
      "version": "3.7.6"
    }
  },
  "cells": [
    {
      "cell_type": "markdown",
      "metadata": {
        "id": "view-in-github",
        "colab_type": "text"
      },
      "source": [
        "<a href=\"https://colab.research.google.com/github/sandeep92134/The-Data-Science-Workshop-By-Packt/blob/master/module%2013/Activity13.01%3A%20Finding%20the%20Best%20Balancing%20Technique%20by%20Fitting%20a%20Classifier%20on%20the%20Telecom%20Churn%20Dataset.ipynb\" target=\"_parent\"><img src=\"https://colab.research.google.com/assets/colab-badge.svg\" alt=\"Open In Colab\"/></a>"
      ]
    },
    {
      "cell_type": "code",
      "metadata": {
        "colab": {
          "base_uri": "https://localhost:8080/"
        },
        "id": "LATcua1ja8I4",
        "outputId": "ac7073aa-efa2-4771-aeb3-41cc04974b4b"
      },
      "source": [
        "!pip install smote-variants"
      ],
      "execution_count": 21,
      "outputs": [
        {
          "output_type": "stream",
          "text": [
            "Collecting smote-variants\n",
            "\u001b[?25l  Downloading https://files.pythonhosted.org/packages/f6/be/15b4db362d53ded5960da7d439455d2efa4d99f85626145c4bb415fde153/smote_variants-0.4.0-py3-none-any.whl (134kB)\n",
            "\r\u001b[K     |██▍                             | 10kB 15.9MB/s eta 0:00:01\r\u001b[K     |████▉                           | 20kB 20.9MB/s eta 0:00:01\r\u001b[K     |███████▎                        | 30kB 11.2MB/s eta 0:00:01\r\u001b[K     |█████████▊                      | 40kB 9.4MB/s eta 0:00:01\r\u001b[K     |████████████▏                   | 51kB 7.6MB/s eta 0:00:01\r\u001b[K     |██████████████▋                 | 61kB 7.3MB/s eta 0:00:01\r\u001b[K     |█████████████████               | 71kB 7.4MB/s eta 0:00:01\r\u001b[K     |███████████████████▌            | 81kB 8.1MB/s eta 0:00:01\r\u001b[K     |██████████████████████          | 92kB 7.6MB/s eta 0:00:01\r\u001b[K     |████████████████████████▍       | 102kB 8.1MB/s eta 0:00:01\r\u001b[K     |██████████████████████████▉     | 112kB 8.1MB/s eta 0:00:01\r\u001b[K     |█████████████████████████████▎  | 122kB 8.1MB/s eta 0:00:01\r\u001b[K     |███████████████████████████████▊| 133kB 8.1MB/s eta 0:00:01\r\u001b[K     |████████████████████████████████| 143kB 8.1MB/s \n",
            "\u001b[?25hCollecting statistics\n",
            "  Downloading https://files.pythonhosted.org/packages/bb/3a/ae99a15e65636559d936dd2159d75af1619491e8cb770859fbc8aa62cef6/statistics-1.0.3.5.tar.gz\n",
            "Requirement already satisfied: scipy in /usr/local/lib/python3.6/dist-packages (from smote-variants) (1.4.1)\n",
            "Requirement already satisfied: joblib in /usr/local/lib/python3.6/dist-packages (from smote-variants) (1.0.0)\n",
            "Requirement already satisfied: pandas in /usr/local/lib/python3.6/dist-packages (from smote-variants) (1.1.5)\n",
            "Collecting minisom\n",
            "  Downloading https://files.pythonhosted.org/packages/69/3c/a5ad0d36137285cdffdd5cad105ec2eb3c3ddfbd3254a324993ab51d3401/MiniSom-2.2.7.tar.gz\n",
            "Requirement already satisfied: tensorflow in /usr/local/lib/python3.6/dist-packages (from smote-variants) (2.4.1)\n",
            "Requirement already satisfied: numpy>=1.13.0 in /usr/local/lib/python3.6/dist-packages (from smote-variants) (1.19.5)\n",
            "Requirement already satisfied: mkl in /usr/local/lib/python3.6/dist-packages (from smote-variants) (2019.0)\n",
            "Requirement already satisfied: keras in /usr/local/lib/python3.6/dist-packages (from smote-variants) (2.4.3)\n",
            "Requirement already satisfied: scikit-learn in /usr/local/lib/python3.6/dist-packages (from smote-variants) (0.22.2.post1)\n",
            "Requirement already satisfied: docutils>=0.3 in /usr/local/lib/python3.6/dist-packages (from statistics->smote-variants) (0.16)\n",
            "Requirement already satisfied: pytz>=2017.2 in /usr/local/lib/python3.6/dist-packages (from pandas->smote-variants) (2018.9)\n",
            "Requirement already satisfied: python-dateutil>=2.7.3 in /usr/local/lib/python3.6/dist-packages (from pandas->smote-variants) (2.8.1)\n",
            "Requirement already satisfied: keras-preprocessing~=1.1.2 in /usr/local/lib/python3.6/dist-packages (from tensorflow->smote-variants) (1.1.2)\n",
            "Requirement already satisfied: six~=1.15.0 in /usr/local/lib/python3.6/dist-packages (from tensorflow->smote-variants) (1.15.0)\n",
            "Requirement already satisfied: h5py~=2.10.0 in /usr/local/lib/python3.6/dist-packages (from tensorflow->smote-variants) (2.10.0)\n",
            "Requirement already satisfied: astunparse~=1.6.3 in /usr/local/lib/python3.6/dist-packages (from tensorflow->smote-variants) (1.6.3)\n",
            "Requirement already satisfied: flatbuffers~=1.12.0 in /usr/local/lib/python3.6/dist-packages (from tensorflow->smote-variants) (1.12)\n",
            "Requirement already satisfied: absl-py~=0.10 in /usr/local/lib/python3.6/dist-packages (from tensorflow->smote-variants) (0.10.0)\n",
            "Requirement already satisfied: protobuf>=3.9.2 in /usr/local/lib/python3.6/dist-packages (from tensorflow->smote-variants) (3.12.4)\n",
            "Requirement already satisfied: google-pasta~=0.2 in /usr/local/lib/python3.6/dist-packages (from tensorflow->smote-variants) (0.2.0)\n",
            "Requirement already satisfied: typing-extensions~=3.7.4 in /usr/local/lib/python3.6/dist-packages (from tensorflow->smote-variants) (3.7.4.3)\n",
            "Requirement already satisfied: opt-einsum~=3.3.0 in /usr/local/lib/python3.6/dist-packages (from tensorflow->smote-variants) (3.3.0)\n",
            "Requirement already satisfied: wheel~=0.35 in /usr/local/lib/python3.6/dist-packages (from tensorflow->smote-variants) (0.36.2)\n",
            "Requirement already satisfied: tensorboard~=2.4 in /usr/local/lib/python3.6/dist-packages (from tensorflow->smote-variants) (2.4.1)\n",
            "Requirement already satisfied: tensorflow-estimator<2.5.0,>=2.4.0 in /usr/local/lib/python3.6/dist-packages (from tensorflow->smote-variants) (2.4.0)\n",
            "Requirement already satisfied: grpcio~=1.32.0 in /usr/local/lib/python3.6/dist-packages (from tensorflow->smote-variants) (1.32.0)\n",
            "Requirement already satisfied: gast==0.3.3 in /usr/local/lib/python3.6/dist-packages (from tensorflow->smote-variants) (0.3.3)\n",
            "Requirement already satisfied: termcolor~=1.1.0 in /usr/local/lib/python3.6/dist-packages (from tensorflow->smote-variants) (1.1.0)\n",
            "Requirement already satisfied: wrapt~=1.12.1 in /usr/local/lib/python3.6/dist-packages (from tensorflow->smote-variants) (1.12.1)\n",
            "Requirement already satisfied: intel-openmp in /usr/local/lib/python3.6/dist-packages (from mkl->smote-variants) (2021.1.2)\n",
            "Requirement already satisfied: pyyaml in /usr/local/lib/python3.6/dist-packages (from keras->smote-variants) (3.13)\n",
            "Requirement already satisfied: setuptools in /usr/local/lib/python3.6/dist-packages (from protobuf>=3.9.2->tensorflow->smote-variants) (53.0.0)\n",
            "Requirement already satisfied: tensorboard-plugin-wit>=1.6.0 in /usr/local/lib/python3.6/dist-packages (from tensorboard~=2.4->tensorflow->smote-variants) (1.8.0)\n",
            "Requirement already satisfied: google-auth<2,>=1.6.3 in /usr/local/lib/python3.6/dist-packages (from tensorboard~=2.4->tensorflow->smote-variants) (1.24.0)\n",
            "Requirement already satisfied: google-auth-oauthlib<0.5,>=0.4.1 in /usr/local/lib/python3.6/dist-packages (from tensorboard~=2.4->tensorflow->smote-variants) (0.4.2)\n",
            "Requirement already satisfied: markdown>=2.6.8 in /usr/local/lib/python3.6/dist-packages (from tensorboard~=2.4->tensorflow->smote-variants) (3.3.3)\n",
            "Requirement already satisfied: requests<3,>=2.21.0 in /usr/local/lib/python3.6/dist-packages (from tensorboard~=2.4->tensorflow->smote-variants) (2.23.0)\n",
            "Requirement already satisfied: werkzeug>=0.11.15 in /usr/local/lib/python3.6/dist-packages (from tensorboard~=2.4->tensorflow->smote-variants) (1.0.1)\n",
            "Requirement already satisfied: pyasn1-modules>=0.2.1 in /usr/local/lib/python3.6/dist-packages (from google-auth<2,>=1.6.3->tensorboard~=2.4->tensorflow->smote-variants) (0.2.8)\n",
            "Requirement already satisfied: cachetools<5.0,>=2.0.0 in /usr/local/lib/python3.6/dist-packages (from google-auth<2,>=1.6.3->tensorboard~=2.4->tensorflow->smote-variants) (4.2.1)\n",
            "Requirement already satisfied: rsa<5,>=3.1.4; python_version >= \"3.6\" in /usr/local/lib/python3.6/dist-packages (from google-auth<2,>=1.6.3->tensorboard~=2.4->tensorflow->smote-variants) (4.7)\n",
            "Requirement already satisfied: requests-oauthlib>=0.7.0 in /usr/local/lib/python3.6/dist-packages (from google-auth-oauthlib<0.5,>=0.4.1->tensorboard~=2.4->tensorflow->smote-variants) (1.3.0)\n",
            "Requirement already satisfied: importlib-metadata; python_version < \"3.8\" in /usr/local/lib/python3.6/dist-packages (from markdown>=2.6.8->tensorboard~=2.4->tensorflow->smote-variants) (3.4.0)\n",
            "Requirement already satisfied: chardet<4,>=3.0.2 in /usr/local/lib/python3.6/dist-packages (from requests<3,>=2.21.0->tensorboard~=2.4->tensorflow->smote-variants) (3.0.4)\n",
            "Requirement already satisfied: idna<3,>=2.5 in /usr/local/lib/python3.6/dist-packages (from requests<3,>=2.21.0->tensorboard~=2.4->tensorflow->smote-variants) (2.10)\n",
            "Requirement already satisfied: urllib3!=1.25.0,!=1.25.1,<1.26,>=1.21.1 in /usr/local/lib/python3.6/dist-packages (from requests<3,>=2.21.0->tensorboard~=2.4->tensorflow->smote-variants) (1.24.3)\n",
            "Requirement already satisfied: certifi>=2017.4.17 in /usr/local/lib/python3.6/dist-packages (from requests<3,>=2.21.0->tensorboard~=2.4->tensorflow->smote-variants) (2020.12.5)\n",
            "Requirement already satisfied: pyasn1<0.5.0,>=0.4.6 in /usr/local/lib/python3.6/dist-packages (from pyasn1-modules>=0.2.1->google-auth<2,>=1.6.3->tensorboard~=2.4->tensorflow->smote-variants) (0.4.8)\n",
            "Requirement already satisfied: oauthlib>=3.0.0 in /usr/local/lib/python3.6/dist-packages (from requests-oauthlib>=0.7.0->google-auth-oauthlib<0.5,>=0.4.1->tensorboard~=2.4->tensorflow->smote-variants) (3.1.0)\n",
            "Requirement already satisfied: zipp>=0.5 in /usr/local/lib/python3.6/dist-packages (from importlib-metadata; python_version < \"3.8\"->markdown>=2.6.8->tensorboard~=2.4->tensorflow->smote-variants) (3.4.0)\n",
            "Building wheels for collected packages: statistics, minisom\n",
            "  Building wheel for statistics (setup.py) ... \u001b[?25l\u001b[?25hdone\n",
            "  Created wheel for statistics: filename=statistics-1.0.3.5-cp36-none-any.whl size=7454 sha256=c54ee027c7d8d861ed08d8fd84b0b14cff18fef0e267880f9531446add72d636\n",
            "  Stored in directory: /root/.cache/pip/wheels/75/55/90/73aa7662bfb4565b567618547a275f01372a678ca92ecd64f3\n",
            "  Building wheel for minisom (setup.py) ... \u001b[?25l\u001b[?25hdone\n",
            "  Created wheel for minisom: filename=MiniSom-2.2.7-cp36-none-any.whl size=8607 sha256=bbb12650008bac58c6bbc7049ca5f2c42d09c6c6f06803647b4ddeddf0918322\n",
            "  Stored in directory: /root/.cache/pip/wheels/db/9a/af/0fca4ced67fec66c00998c4bf55b13f0a4c882ee775f278862\n",
            "Successfully built statistics minisom\n",
            "Installing collected packages: statistics, minisom, smote-variants\n",
            "Successfully installed minisom-2.2.7 smote-variants-0.4.0 statistics-1.0.3.5\n"
          ],
          "name": "stdout"
        }
      ]
    },
    {
      "cell_type": "code",
      "metadata": {
        "colab": {
          "base_uri": "https://localhost:8080/",
          "height": 224
        },
        "id": "B4bxRZg_tqnp",
        "outputId": "75280188-2cb7-47a1-dfaf-e9f2c2d5feeb"
      },
      "source": [
        "# Loading data from the Github repository\n",
        "import pandas as pd\n",
        "filename = 'https://raw.githubusercontent.com/sandeep92134/The-Data-Science-Workshop-By-Packt/master/module%2013/datasets/churn.csv'\n",
        "# Loading the data using pandas\n",
        "\n",
        "churnData = pd.read_csv(filename,sep=\",\")\n",
        "churnData.head()"
      ],
      "execution_count": 1,
      "outputs": [
        {
          "output_type": "execute_result",
          "data": {
            "text/html": [
              "<div>\n",
              "<style scoped>\n",
              "    .dataframe tbody tr th:only-of-type {\n",
              "        vertical-align: middle;\n",
              "    }\n",
              "\n",
              "    .dataframe tbody tr th {\n",
              "        vertical-align: top;\n",
              "    }\n",
              "\n",
              "    .dataframe thead th {\n",
              "        text-align: right;\n",
              "    }\n",
              "</style>\n",
              "<table border=\"1\" class=\"dataframe\">\n",
              "  <thead>\n",
              "    <tr style=\"text-align: right;\">\n",
              "      <th></th>\n",
              "      <th>churn</th>\n",
              "      <th>accountlength</th>\n",
              "      <th>internationalplan</th>\n",
              "      <th>voicemailplan</th>\n",
              "      <th>numbervmailmessages</th>\n",
              "      <th>totaldayminutes</th>\n",
              "      <th>totaldaycalls</th>\n",
              "      <th>totaldaycharge</th>\n",
              "      <th>totaleveminutes</th>\n",
              "      <th>totalevecalls</th>\n",
              "      <th>totalevecharge</th>\n",
              "      <th>totalnightminutes</th>\n",
              "      <th>totalnightcalls</th>\n",
              "      <th>totalnightcharge</th>\n",
              "      <th>totalintlminutes</th>\n",
              "      <th>totalintlcalls</th>\n",
              "      <th>totalintlcharge</th>\n",
              "      <th>numbercustomerservicecalls</th>\n",
              "    </tr>\n",
              "  </thead>\n",
              "  <tbody>\n",
              "    <tr>\n",
              "      <th>0</th>\n",
              "      <td>No</td>\n",
              "      <td>128</td>\n",
              "      <td>no</td>\n",
              "      <td>yes</td>\n",
              "      <td>25</td>\n",
              "      <td>265.1</td>\n",
              "      <td>110</td>\n",
              "      <td>45.07</td>\n",
              "      <td>197.4</td>\n",
              "      <td>99</td>\n",
              "      <td>16.78</td>\n",
              "      <td>244.7</td>\n",
              "      <td>91</td>\n",
              "      <td>11.01</td>\n",
              "      <td>10.0</td>\n",
              "      <td>3</td>\n",
              "      <td>2.70</td>\n",
              "      <td>1</td>\n",
              "    </tr>\n",
              "    <tr>\n",
              "      <th>1</th>\n",
              "      <td>No</td>\n",
              "      <td>107</td>\n",
              "      <td>no</td>\n",
              "      <td>yes</td>\n",
              "      <td>26</td>\n",
              "      <td>161.6</td>\n",
              "      <td>123</td>\n",
              "      <td>27.47</td>\n",
              "      <td>195.5</td>\n",
              "      <td>103</td>\n",
              "      <td>16.62</td>\n",
              "      <td>254.4</td>\n",
              "      <td>103</td>\n",
              "      <td>11.45</td>\n",
              "      <td>13.7</td>\n",
              "      <td>3</td>\n",
              "      <td>3.70</td>\n",
              "      <td>1</td>\n",
              "    </tr>\n",
              "    <tr>\n",
              "      <th>2</th>\n",
              "      <td>No</td>\n",
              "      <td>137</td>\n",
              "      <td>no</td>\n",
              "      <td>no</td>\n",
              "      <td>0</td>\n",
              "      <td>243.4</td>\n",
              "      <td>114</td>\n",
              "      <td>41.38</td>\n",
              "      <td>121.2</td>\n",
              "      <td>110</td>\n",
              "      <td>10.30</td>\n",
              "      <td>162.6</td>\n",
              "      <td>104</td>\n",
              "      <td>7.32</td>\n",
              "      <td>12.2</td>\n",
              "      <td>5</td>\n",
              "      <td>3.29</td>\n",
              "      <td>0</td>\n",
              "    </tr>\n",
              "    <tr>\n",
              "      <th>3</th>\n",
              "      <td>No</td>\n",
              "      <td>84</td>\n",
              "      <td>yes</td>\n",
              "      <td>no</td>\n",
              "      <td>0</td>\n",
              "      <td>299.4</td>\n",
              "      <td>71</td>\n",
              "      <td>50.90</td>\n",
              "      <td>61.9</td>\n",
              "      <td>88</td>\n",
              "      <td>5.26</td>\n",
              "      <td>196.9</td>\n",
              "      <td>89</td>\n",
              "      <td>8.86</td>\n",
              "      <td>6.6</td>\n",
              "      <td>7</td>\n",
              "      <td>1.78</td>\n",
              "      <td>2</td>\n",
              "    </tr>\n",
              "    <tr>\n",
              "      <th>4</th>\n",
              "      <td>No</td>\n",
              "      <td>75</td>\n",
              "      <td>yes</td>\n",
              "      <td>no</td>\n",
              "      <td>0</td>\n",
              "      <td>166.7</td>\n",
              "      <td>113</td>\n",
              "      <td>28.34</td>\n",
              "      <td>148.3</td>\n",
              "      <td>122</td>\n",
              "      <td>12.61</td>\n",
              "      <td>186.9</td>\n",
              "      <td>121</td>\n",
              "      <td>8.41</td>\n",
              "      <td>10.1</td>\n",
              "      <td>3</td>\n",
              "      <td>2.73</td>\n",
              "      <td>3</td>\n",
              "    </tr>\n",
              "  </tbody>\n",
              "</table>\n",
              "</div>"
            ],
            "text/plain": [
              "  churn  accountlength  ... totalintlcharge numbercustomerservicecalls\n",
              "0    No            128  ...            2.70                          1\n",
              "1    No            107  ...            3.70                          1\n",
              "2    No            137  ...            3.29                          0\n",
              "3    No             84  ...            1.78                          2\n",
              "4    No             75  ...            2.73                          3\n",
              "\n",
              "[5 rows x 18 columns]"
            ]
          },
          "metadata": {
            "tags": []
          },
          "execution_count": 1
        }
      ]
    },
    {
      "cell_type": "markdown",
      "metadata": {
        "id": "3tLgOzokaNiH"
      },
      "source": [
        "**Feature engineering steps**\n",
        "\n",
        "Let us now do some feature engineering to the data. First we will scale the numerical data and then convert the ordinal data to \n",
        "dummy data"
      ]
    },
    {
      "cell_type": "code",
      "metadata": {
        "id": "LjcB4SaWiKp0"
      },
      "source": [
        "# Normalising data\n",
        "from sklearn import preprocessing\n",
        "\n",
        "minmaxScaler = preprocessing.MinMaxScaler()\n",
        "\n",
        "# Converting each of the columns to scaled version\n",
        "\n",
        "churnData['alScaled'] = minmaxScaler.fit_transform(churnData['accountlength'].values.reshape(-1,1))\n",
        "churnData['nvmmScaled'] = minmaxScaler.fit_transform(churnData['numbervmailmessages'].values.reshape(-1,1))\n",
        "churnData['tdmScaled'] = minmaxScaler.fit_transform(churnData['totaldayminutes'].values.reshape(-1,1))\n",
        "churnData['tdcScaled'] = minmaxScaler.fit_transform(churnData['totaldaycalls'].values.reshape(-1,1))\n",
        "churnData['tdchScaled'] = minmaxScaler.fit_transform(churnData['totaldaycharge'].values.reshape(-1,1))\n",
        "churnData['temScaled'] = minmaxScaler.fit_transform(churnData['totaleveminutes'].values.reshape(-1,1))\n",
        "churnData['tecScaled'] = minmaxScaler.fit_transform(churnData['totalevecalls'].values.reshape(-1,1))\n",
        "churnData['techScaled'] = minmaxScaler.fit_transform(churnData['totalevecharge'].values.reshape(-1,1))\n",
        "churnData['tnmScaled'] = minmaxScaler.fit_transform(churnData['totalnightminutes'].values.reshape(-1,1))\n",
        "churnData['tncScaled'] = minmaxScaler.fit_transform(churnData['totalnightcalls'].values.reshape(-1,1))\n",
        "churnData['tnchScaled'] = minmaxScaler.fit_transform(churnData['totalnightcharge'].values.reshape(-1,1))\n",
        "churnData['timScaled'] = minmaxScaler.fit_transform(churnData['totalintlminutes'].values.reshape(-1,1))\n",
        "churnData['ticScaled'] = minmaxScaler.fit_transform(churnData['totalintlcalls'].values.reshape(-1,1))\n",
        "churnData['tichScaled'] = minmaxScaler.fit_transform(churnData['totalintlcharge'].values.reshape(-1,1))\n",
        "churnData['ncscScaled'] = minmaxScaler.fit_transform(churnData['numbercustomerservicecalls'].values.reshape(-1,1))\n",
        "\n",
        "\n"
      ],
      "execution_count": 2,
      "outputs": []
    },
    {
      "cell_type": "code",
      "metadata": {
        "colab": {
          "base_uri": "https://localhost:8080/",
          "height": 204
        },
        "id": "CE1JqQ4bMPI8",
        "outputId": "bdcfc8ba-3c2d-430f-ab3b-a9780287fc0f"
      },
      "source": [
        "# Dropping the original columns\n",
        "\n",
        "churnData.drop(['accountlength','numbervmailmessages','totaldayminutes','totaldaycalls','totaldaycharge','totaleveminutes','totalevecalls','totalevecharge','totalnightminutes','totalnightcalls','totalnightcharge','totalintlminutes','totalintlcalls','totalintlcharge','numbercustomerservicecalls'], axis=1, inplace=True)\n",
        "\n",
        "# Print the head of the data\n",
        "\n",
        "churnData.head()"
      ],
      "execution_count": 3,
      "outputs": [
        {
          "output_type": "execute_result",
          "data": {
            "text/html": [
              "<div>\n",
              "<style scoped>\n",
              "    .dataframe tbody tr th:only-of-type {\n",
              "        vertical-align: middle;\n",
              "    }\n",
              "\n",
              "    .dataframe tbody tr th {\n",
              "        vertical-align: top;\n",
              "    }\n",
              "\n",
              "    .dataframe thead th {\n",
              "        text-align: right;\n",
              "    }\n",
              "</style>\n",
              "<table border=\"1\" class=\"dataframe\">\n",
              "  <thead>\n",
              "    <tr style=\"text-align: right;\">\n",
              "      <th></th>\n",
              "      <th>churn</th>\n",
              "      <th>internationalplan</th>\n",
              "      <th>voicemailplan</th>\n",
              "      <th>alScaled</th>\n",
              "      <th>nvmmScaled</th>\n",
              "      <th>tdmScaled</th>\n",
              "      <th>tdcScaled</th>\n",
              "      <th>tdchScaled</th>\n",
              "      <th>temScaled</th>\n",
              "      <th>tecScaled</th>\n",
              "      <th>techScaled</th>\n",
              "      <th>tnmScaled</th>\n",
              "      <th>tncScaled</th>\n",
              "      <th>tnchScaled</th>\n",
              "      <th>timScaled</th>\n",
              "      <th>ticScaled</th>\n",
              "      <th>tichScaled</th>\n",
              "      <th>ncscScaled</th>\n",
              "    </tr>\n",
              "  </thead>\n",
              "  <tbody>\n",
              "    <tr>\n",
              "      <th>0</th>\n",
              "      <td>No</td>\n",
              "      <td>no</td>\n",
              "      <td>yes</td>\n",
              "      <td>0.524793</td>\n",
              "      <td>0.480769</td>\n",
              "      <td>0.754196</td>\n",
              "      <td>0.666667</td>\n",
              "      <td>0.754183</td>\n",
              "      <td>0.542755</td>\n",
              "      <td>0.582353</td>\n",
              "      <td>0.542866</td>\n",
              "      <td>0.619494</td>\n",
              "      <td>0.520000</td>\n",
              "      <td>0.619584</td>\n",
              "      <td>0.500</td>\n",
              "      <td>0.15</td>\n",
              "      <td>0.500000</td>\n",
              "      <td>0.111111</td>\n",
              "    </tr>\n",
              "    <tr>\n",
              "      <th>1</th>\n",
              "      <td>No</td>\n",
              "      <td>no</td>\n",
              "      <td>yes</td>\n",
              "      <td>0.438017</td>\n",
              "      <td>0.500000</td>\n",
              "      <td>0.459744</td>\n",
              "      <td>0.745455</td>\n",
              "      <td>0.459672</td>\n",
              "      <td>0.537531</td>\n",
              "      <td>0.605882</td>\n",
              "      <td>0.537690</td>\n",
              "      <td>0.644051</td>\n",
              "      <td>0.588571</td>\n",
              "      <td>0.644344</td>\n",
              "      <td>0.685</td>\n",
              "      <td>0.15</td>\n",
              "      <td>0.685185</td>\n",
              "      <td>0.111111</td>\n",
              "    </tr>\n",
              "    <tr>\n",
              "      <th>2</th>\n",
              "      <td>No</td>\n",
              "      <td>no</td>\n",
              "      <td>no</td>\n",
              "      <td>0.561983</td>\n",
              "      <td>0.000000</td>\n",
              "      <td>0.692461</td>\n",
              "      <td>0.690909</td>\n",
              "      <td>0.692436</td>\n",
              "      <td>0.333242</td>\n",
              "      <td>0.647059</td>\n",
              "      <td>0.333225</td>\n",
              "      <td>0.411646</td>\n",
              "      <td>0.594286</td>\n",
              "      <td>0.411930</td>\n",
              "      <td>0.610</td>\n",
              "      <td>0.25</td>\n",
              "      <td>0.609259</td>\n",
              "      <td>0.000000</td>\n",
              "    </tr>\n",
              "    <tr>\n",
              "      <th>3</th>\n",
              "      <td>No</td>\n",
              "      <td>yes</td>\n",
              "      <td>no</td>\n",
              "      <td>0.342975</td>\n",
              "      <td>0.000000</td>\n",
              "      <td>0.851778</td>\n",
              "      <td>0.430303</td>\n",
              "      <td>0.851740</td>\n",
              "      <td>0.170195</td>\n",
              "      <td>0.517647</td>\n",
              "      <td>0.170171</td>\n",
              "      <td>0.498481</td>\n",
              "      <td>0.508571</td>\n",
              "      <td>0.498593</td>\n",
              "      <td>0.330</td>\n",
              "      <td>0.35</td>\n",
              "      <td>0.329630</td>\n",
              "      <td>0.222222</td>\n",
              "    </tr>\n",
              "    <tr>\n",
              "      <th>4</th>\n",
              "      <td>No</td>\n",
              "      <td>yes</td>\n",
              "      <td>no</td>\n",
              "      <td>0.305785</td>\n",
              "      <td>0.000000</td>\n",
              "      <td>0.474253</td>\n",
              "      <td>0.684848</td>\n",
              "      <td>0.474230</td>\n",
              "      <td>0.407754</td>\n",
              "      <td>0.717647</td>\n",
              "      <td>0.407959</td>\n",
              "      <td>0.473165</td>\n",
              "      <td>0.691429</td>\n",
              "      <td>0.473270</td>\n",
              "      <td>0.505</td>\n",
              "      <td>0.15</td>\n",
              "      <td>0.505556</td>\n",
              "      <td>0.333333</td>\n",
              "    </tr>\n",
              "  </tbody>\n",
              "</table>\n",
              "</div>"
            ],
            "text/plain": [
              "  churn internationalplan voicemailplan  ...  ticScaled  tichScaled  ncscScaled\n",
              "0    No                no           yes  ...       0.15    0.500000    0.111111\n",
              "1    No                no           yes  ...       0.15    0.685185    0.111111\n",
              "2    No                no            no  ...       0.25    0.609259    0.000000\n",
              "3    No               yes            no  ...       0.35    0.329630    0.222222\n",
              "4    No               yes            no  ...       0.15    0.505556    0.333333\n",
              "\n",
              "[5 rows x 18 columns]"
            ]
          },
          "metadata": {
            "tags": []
          },
          "execution_count": 3
        }
      ]
    },
    {
      "cell_type": "code",
      "metadata": {
        "id": "8glxMnxxN8NB"
      },
      "source": [
        "# Converting all the categorical variables to dummy variables\n",
        "churnCat = pd.get_dummies(churnData[['internationalplan','voicemailplan']])"
      ],
      "execution_count": 4,
      "outputs": []
    },
    {
      "cell_type": "code",
      "metadata": {
        "colab": {
          "base_uri": "https://localhost:8080/"
        },
        "id": "Ge2LlC_1ePzX",
        "outputId": "f7b79350-da0f-4d2a-9b79-1b0bacafdca9"
      },
      "source": [
        "# Seperating the numerical data\n",
        "churnNum = churnData[['alScaled','nvmmScaled','tdmScaled','tdcScaled','tdchScaled','temScaled','tecScaled','techScaled','tnmScaled','tncScaled','tnchScaled','timScaled','ticScaled','tichScaled','ncscScaled']]\n",
        "churnNum.shape"
      ],
      "execution_count": 5,
      "outputs": [
        {
          "output_type": "execute_result",
          "data": {
            "text/plain": [
              "(5000, 15)"
            ]
          },
          "metadata": {
            "tags": []
          },
          "execution_count": 5
        }
      ]
    },
    {
      "cell_type": "code",
      "metadata": {
        "colab": {
          "base_uri": "https://localhost:8080/",
          "height": 258
        },
        "id": "EsT4u_jDQ7Sv",
        "outputId": "c23f2a90-1d3f-496e-caa7-062b3945e125"
      },
      "source": [
        "# Merging with the original data frame\n",
        "# Preparing the X variables\n",
        "X = pd.concat([churnCat, churnNum], axis=1)\n",
        "print(X.shape)\n",
        "# Preparing the Y variable\n",
        "Y = churnData['churn']\n",
        "print(Y.shape)\n",
        "X.head()"
      ],
      "execution_count": 6,
      "outputs": [
        {
          "output_type": "stream",
          "text": [
            "(5000, 19)\n",
            "(5000,)\n"
          ],
          "name": "stdout"
        },
        {
          "output_type": "execute_result",
          "data": {
            "text/html": [
              "<div>\n",
              "<style scoped>\n",
              "    .dataframe tbody tr th:only-of-type {\n",
              "        vertical-align: middle;\n",
              "    }\n",
              "\n",
              "    .dataframe tbody tr th {\n",
              "        vertical-align: top;\n",
              "    }\n",
              "\n",
              "    .dataframe thead th {\n",
              "        text-align: right;\n",
              "    }\n",
              "</style>\n",
              "<table border=\"1\" class=\"dataframe\">\n",
              "  <thead>\n",
              "    <tr style=\"text-align: right;\">\n",
              "      <th></th>\n",
              "      <th>internationalplan_no</th>\n",
              "      <th>internationalplan_yes</th>\n",
              "      <th>voicemailplan_no</th>\n",
              "      <th>voicemailplan_yes</th>\n",
              "      <th>alScaled</th>\n",
              "      <th>nvmmScaled</th>\n",
              "      <th>tdmScaled</th>\n",
              "      <th>tdcScaled</th>\n",
              "      <th>tdchScaled</th>\n",
              "      <th>temScaled</th>\n",
              "      <th>tecScaled</th>\n",
              "      <th>techScaled</th>\n",
              "      <th>tnmScaled</th>\n",
              "      <th>tncScaled</th>\n",
              "      <th>tnchScaled</th>\n",
              "      <th>timScaled</th>\n",
              "      <th>ticScaled</th>\n",
              "      <th>tichScaled</th>\n",
              "      <th>ncscScaled</th>\n",
              "    </tr>\n",
              "  </thead>\n",
              "  <tbody>\n",
              "    <tr>\n",
              "      <th>0</th>\n",
              "      <td>1</td>\n",
              "      <td>0</td>\n",
              "      <td>0</td>\n",
              "      <td>1</td>\n",
              "      <td>0.524793</td>\n",
              "      <td>0.480769</td>\n",
              "      <td>0.754196</td>\n",
              "      <td>0.666667</td>\n",
              "      <td>0.754183</td>\n",
              "      <td>0.542755</td>\n",
              "      <td>0.582353</td>\n",
              "      <td>0.542866</td>\n",
              "      <td>0.619494</td>\n",
              "      <td>0.520000</td>\n",
              "      <td>0.619584</td>\n",
              "      <td>0.500</td>\n",
              "      <td>0.15</td>\n",
              "      <td>0.500000</td>\n",
              "      <td>0.111111</td>\n",
              "    </tr>\n",
              "    <tr>\n",
              "      <th>1</th>\n",
              "      <td>1</td>\n",
              "      <td>0</td>\n",
              "      <td>0</td>\n",
              "      <td>1</td>\n",
              "      <td>0.438017</td>\n",
              "      <td>0.500000</td>\n",
              "      <td>0.459744</td>\n",
              "      <td>0.745455</td>\n",
              "      <td>0.459672</td>\n",
              "      <td>0.537531</td>\n",
              "      <td>0.605882</td>\n",
              "      <td>0.537690</td>\n",
              "      <td>0.644051</td>\n",
              "      <td>0.588571</td>\n",
              "      <td>0.644344</td>\n",
              "      <td>0.685</td>\n",
              "      <td>0.15</td>\n",
              "      <td>0.685185</td>\n",
              "      <td>0.111111</td>\n",
              "    </tr>\n",
              "    <tr>\n",
              "      <th>2</th>\n",
              "      <td>1</td>\n",
              "      <td>0</td>\n",
              "      <td>1</td>\n",
              "      <td>0</td>\n",
              "      <td>0.561983</td>\n",
              "      <td>0.000000</td>\n",
              "      <td>0.692461</td>\n",
              "      <td>0.690909</td>\n",
              "      <td>0.692436</td>\n",
              "      <td>0.333242</td>\n",
              "      <td>0.647059</td>\n",
              "      <td>0.333225</td>\n",
              "      <td>0.411646</td>\n",
              "      <td>0.594286</td>\n",
              "      <td>0.411930</td>\n",
              "      <td>0.610</td>\n",
              "      <td>0.25</td>\n",
              "      <td>0.609259</td>\n",
              "      <td>0.000000</td>\n",
              "    </tr>\n",
              "    <tr>\n",
              "      <th>3</th>\n",
              "      <td>0</td>\n",
              "      <td>1</td>\n",
              "      <td>1</td>\n",
              "      <td>0</td>\n",
              "      <td>0.342975</td>\n",
              "      <td>0.000000</td>\n",
              "      <td>0.851778</td>\n",
              "      <td>0.430303</td>\n",
              "      <td>0.851740</td>\n",
              "      <td>0.170195</td>\n",
              "      <td>0.517647</td>\n",
              "      <td>0.170171</td>\n",
              "      <td>0.498481</td>\n",
              "      <td>0.508571</td>\n",
              "      <td>0.498593</td>\n",
              "      <td>0.330</td>\n",
              "      <td>0.35</td>\n",
              "      <td>0.329630</td>\n",
              "      <td>0.222222</td>\n",
              "    </tr>\n",
              "    <tr>\n",
              "      <th>4</th>\n",
              "      <td>0</td>\n",
              "      <td>1</td>\n",
              "      <td>1</td>\n",
              "      <td>0</td>\n",
              "      <td>0.305785</td>\n",
              "      <td>0.000000</td>\n",
              "      <td>0.474253</td>\n",
              "      <td>0.684848</td>\n",
              "      <td>0.474230</td>\n",
              "      <td>0.407754</td>\n",
              "      <td>0.717647</td>\n",
              "      <td>0.407959</td>\n",
              "      <td>0.473165</td>\n",
              "      <td>0.691429</td>\n",
              "      <td>0.473270</td>\n",
              "      <td>0.505</td>\n",
              "      <td>0.15</td>\n",
              "      <td>0.505556</td>\n",
              "      <td>0.333333</td>\n",
              "    </tr>\n",
              "  </tbody>\n",
              "</table>\n",
              "</div>"
            ],
            "text/plain": [
              "   internationalplan_no  internationalplan_yes  ...  tichScaled  ncscScaled\n",
              "0                     1                      0  ...    0.500000    0.111111\n",
              "1                     1                      0  ...    0.685185    0.111111\n",
              "2                     1                      0  ...    0.609259    0.000000\n",
              "3                     0                      1  ...    0.329630    0.222222\n",
              "4                     0                      1  ...    0.505556    0.333333\n",
              "\n",
              "[5 rows x 19 columns]"
            ]
          },
          "metadata": {
            "tags": []
          },
          "execution_count": 6
        }
      ]
    },
    {
      "cell_type": "code",
      "metadata": {
        "id": "xb1owBPNeQ-_"
      },
      "source": [
        "from sklearn.model_selection import train_test_split\n",
        "\n",
        "# Splitting the data into train and test sets\n",
        "X_train, X_test, y_train, y_test = train_test_split(X, Y, test_size=0.3, random_state=123)"
      ],
      "execution_count": 7,
      "outputs": []
    },
    {
      "cell_type": "markdown",
      "metadata": {
        "id": "WUDWDskEfUux"
      },
      "source": [
        "**Undersampling Method.**\n",
        "\n",
        "\n",
        "\n",
        "\n"
      ]
    },
    {
      "cell_type": "code",
      "metadata": {
        "colab": {
          "base_uri": "https://localhost:8080/",
          "height": 224
        },
        "id": "-Q_AHv77lTwk",
        "outputId": "28069a54-776c-4850-892f-936b5bb53f07"
      },
      "source": [
        "# let us first join the train_x and train_y for ease of operation\n",
        "\n",
        "trainData = pd.concat([X_train,y_train],axis=1)\n",
        "trainData.head()"
      ],
      "execution_count": 8,
      "outputs": [
        {
          "output_type": "execute_result",
          "data": {
            "text/html": [
              "<div>\n",
              "<style scoped>\n",
              "    .dataframe tbody tr th:only-of-type {\n",
              "        vertical-align: middle;\n",
              "    }\n",
              "\n",
              "    .dataframe tbody tr th {\n",
              "        vertical-align: top;\n",
              "    }\n",
              "\n",
              "    .dataframe thead th {\n",
              "        text-align: right;\n",
              "    }\n",
              "</style>\n",
              "<table border=\"1\" class=\"dataframe\">\n",
              "  <thead>\n",
              "    <tr style=\"text-align: right;\">\n",
              "      <th></th>\n",
              "      <th>internationalplan_no</th>\n",
              "      <th>internationalplan_yes</th>\n",
              "      <th>voicemailplan_no</th>\n",
              "      <th>voicemailplan_yes</th>\n",
              "      <th>alScaled</th>\n",
              "      <th>nvmmScaled</th>\n",
              "      <th>tdmScaled</th>\n",
              "      <th>tdcScaled</th>\n",
              "      <th>tdchScaled</th>\n",
              "      <th>temScaled</th>\n",
              "      <th>tecScaled</th>\n",
              "      <th>techScaled</th>\n",
              "      <th>tnmScaled</th>\n",
              "      <th>tncScaled</th>\n",
              "      <th>tnchScaled</th>\n",
              "      <th>timScaled</th>\n",
              "      <th>ticScaled</th>\n",
              "      <th>tichScaled</th>\n",
              "      <th>ncscScaled</th>\n",
              "      <th>churn</th>\n",
              "    </tr>\n",
              "  </thead>\n",
              "  <tbody>\n",
              "    <tr>\n",
              "      <th>4036</th>\n",
              "      <td>1</td>\n",
              "      <td>0</td>\n",
              "      <td>0</td>\n",
              "      <td>1</td>\n",
              "      <td>0.256198</td>\n",
              "      <td>0.500000</td>\n",
              "      <td>0.609388</td>\n",
              "      <td>0.484848</td>\n",
              "      <td>0.609270</td>\n",
              "      <td>0.695628</td>\n",
              "      <td>0.894118</td>\n",
              "      <td>0.695891</td>\n",
              "      <td>0.395949</td>\n",
              "      <td>0.622857</td>\n",
              "      <td>0.396173</td>\n",
              "      <td>0.515</td>\n",
              "      <td>0.10</td>\n",
              "      <td>0.514815</td>\n",
              "      <td>0.222222</td>\n",
              "      <td>No</td>\n",
              "    </tr>\n",
              "    <tr>\n",
              "      <th>2883</th>\n",
              "      <td>1</td>\n",
              "      <td>0</td>\n",
              "      <td>1</td>\n",
              "      <td>0</td>\n",
              "      <td>0.504132</td>\n",
              "      <td>0.000000</td>\n",
              "      <td>0.595733</td>\n",
              "      <td>0.296970</td>\n",
              "      <td>0.595716</td>\n",
              "      <td>0.652736</td>\n",
              "      <td>0.688235</td>\n",
              "      <td>0.652863</td>\n",
              "      <td>0.605570</td>\n",
              "      <td>0.560000</td>\n",
              "      <td>0.605515</td>\n",
              "      <td>0.490</td>\n",
              "      <td>0.55</td>\n",
              "      <td>0.490741</td>\n",
              "      <td>0.111111</td>\n",
              "      <td>No</td>\n",
              "    </tr>\n",
              "    <tr>\n",
              "      <th>4162</th>\n",
              "      <td>0</td>\n",
              "      <td>1</td>\n",
              "      <td>1</td>\n",
              "      <td>0</td>\n",
              "      <td>0.012397</td>\n",
              "      <td>0.000000</td>\n",
              "      <td>0.482788</td>\n",
              "      <td>0.581818</td>\n",
              "      <td>0.482764</td>\n",
              "      <td>0.362387</td>\n",
              "      <td>0.552941</td>\n",
              "      <td>0.362342</td>\n",
              "      <td>0.620506</td>\n",
              "      <td>0.491429</td>\n",
              "      <td>0.620709</td>\n",
              "      <td>0.710</td>\n",
              "      <td>0.20</td>\n",
              "      <td>0.709259</td>\n",
              "      <td>0.000000</td>\n",
              "      <td>Yes</td>\n",
              "    </tr>\n",
              "    <tr>\n",
              "      <th>4640</th>\n",
              "      <td>1</td>\n",
              "      <td>0</td>\n",
              "      <td>1</td>\n",
              "      <td>0</td>\n",
              "      <td>0.450413</td>\n",
              "      <td>0.000000</td>\n",
              "      <td>0.714936</td>\n",
              "      <td>0.551515</td>\n",
              "      <td>0.714859</td>\n",
              "      <td>0.569700</td>\n",
              "      <td>0.558824</td>\n",
              "      <td>0.569719</td>\n",
              "      <td>0.630380</td>\n",
              "      <td>0.400000</td>\n",
              "      <td>0.630838</td>\n",
              "      <td>0.645</td>\n",
              "      <td>0.10</td>\n",
              "      <td>0.644444</td>\n",
              "      <td>0.111111</td>\n",
              "      <td>Yes</td>\n",
              "    </tr>\n",
              "    <tr>\n",
              "      <th>2430</th>\n",
              "      <td>1</td>\n",
              "      <td>0</td>\n",
              "      <td>0</td>\n",
              "      <td>1</td>\n",
              "      <td>0.491736</td>\n",
              "      <td>0.769231</td>\n",
              "      <td>0.364438</td>\n",
              "      <td>0.600000</td>\n",
              "      <td>0.364458</td>\n",
              "      <td>0.681056</td>\n",
              "      <td>0.458824</td>\n",
              "      <td>0.681009</td>\n",
              "      <td>0.505570</td>\n",
              "      <td>0.691429</td>\n",
              "      <td>0.505909</td>\n",
              "      <td>0.780</td>\n",
              "      <td>0.15</td>\n",
              "      <td>0.779630</td>\n",
              "      <td>0.000000</td>\n",
              "      <td>No</td>\n",
              "    </tr>\n",
              "  </tbody>\n",
              "</table>\n",
              "</div>"
            ],
            "text/plain": [
              "      internationalplan_no  internationalplan_yes  ...  ncscScaled  churn\n",
              "4036                     1                      0  ...    0.222222     No\n",
              "2883                     1                      0  ...    0.111111     No\n",
              "4162                     0                      1  ...    0.000000    Yes\n",
              "4640                     1                      0  ...    0.111111    Yes\n",
              "2430                     1                      0  ...    0.000000     No\n",
              "\n",
              "[5 rows x 20 columns]"
            ]
          },
          "metadata": {
            "tags": []
          },
          "execution_count": 8
        }
      ]
    },
    {
      "cell_type": "code",
      "metadata": {
        "colab": {
          "base_uri": "https://localhost:8080/"
        },
        "id": "P_h-_8IpQXty",
        "outputId": "d6798adf-6eb4-4344-9991-079376658123"
      },
      "source": [
        "# Finding the indexes of the sample data set where the churn  is 'yes'\n",
        "ind = trainData[trainData['churn']=='Yes'].index\n",
        "print(len(ind))"
      ],
      "execution_count": 9,
      "outputs": [
        {
          "output_type": "stream",
          "text": [
            "490\n"
          ],
          "name": "stdout"
        }
      ]
    },
    {
      "cell_type": "code",
      "metadata": {
        "colab": {
          "base_uri": "https://localhost:8080/"
        },
        "id": "n9UBl--lQdRO",
        "outputId": "d034859d-1531-4c84-ddc8-dea09442798b"
      },
      "source": [
        "# Seperate the minority classes\n",
        "minData = trainData.loc[ind]\n",
        "print(minData.shape)"
      ],
      "execution_count": 10,
      "outputs": [
        {
          "output_type": "stream",
          "text": [
            "(490, 20)\n"
          ],
          "name": "stdout"
        }
      ]
    },
    {
      "cell_type": "code",
      "metadata": {
        "colab": {
          "base_uri": "https://localhost:8080/"
        },
        "id": "vYaAAk4vQmZ6",
        "outputId": "1ac91514-2df3-4e0f-bd03-fde509b33dc2"
      },
      "source": [
        "# Finding indexes of majority class\n",
        "ind1 = trainData[trainData['churn']=='No'].index\n",
        "print(len(ind1))"
      ],
      "execution_count": 11,
      "outputs": [
        {
          "output_type": "stream",
          "text": [
            "3010\n"
          ],
          "name": "stdout"
        }
      ]
    },
    {
      "cell_type": "code",
      "metadata": {
        "colab": {
          "base_uri": "https://localhost:8080/",
          "height": 241
        },
        "id": "ykfsvEdgfTtt",
        "outputId": "1a698af7-aca5-4765-9a87-48a3525541f4"
      },
      "source": [
        "# Seperating the majority class\n",
        "majData = trainData.loc[ind1]\n",
        "print(majData.shape)\n",
        "majData.head()"
      ],
      "execution_count": 12,
      "outputs": [
        {
          "output_type": "stream",
          "text": [
            "(3010, 20)\n"
          ],
          "name": "stdout"
        },
        {
          "output_type": "execute_result",
          "data": {
            "text/html": [
              "<div>\n",
              "<style scoped>\n",
              "    .dataframe tbody tr th:only-of-type {\n",
              "        vertical-align: middle;\n",
              "    }\n",
              "\n",
              "    .dataframe tbody tr th {\n",
              "        vertical-align: top;\n",
              "    }\n",
              "\n",
              "    .dataframe thead th {\n",
              "        text-align: right;\n",
              "    }\n",
              "</style>\n",
              "<table border=\"1\" class=\"dataframe\">\n",
              "  <thead>\n",
              "    <tr style=\"text-align: right;\">\n",
              "      <th></th>\n",
              "      <th>internationalplan_no</th>\n",
              "      <th>internationalplan_yes</th>\n",
              "      <th>voicemailplan_no</th>\n",
              "      <th>voicemailplan_yes</th>\n",
              "      <th>alScaled</th>\n",
              "      <th>nvmmScaled</th>\n",
              "      <th>tdmScaled</th>\n",
              "      <th>tdcScaled</th>\n",
              "      <th>tdchScaled</th>\n",
              "      <th>temScaled</th>\n",
              "      <th>tecScaled</th>\n",
              "      <th>techScaled</th>\n",
              "      <th>tnmScaled</th>\n",
              "      <th>tncScaled</th>\n",
              "      <th>tnchScaled</th>\n",
              "      <th>timScaled</th>\n",
              "      <th>ticScaled</th>\n",
              "      <th>tichScaled</th>\n",
              "      <th>ncscScaled</th>\n",
              "      <th>churn</th>\n",
              "    </tr>\n",
              "  </thead>\n",
              "  <tbody>\n",
              "    <tr>\n",
              "      <th>4036</th>\n",
              "      <td>1</td>\n",
              "      <td>0</td>\n",
              "      <td>0</td>\n",
              "      <td>1</td>\n",
              "      <td>0.256198</td>\n",
              "      <td>0.500000</td>\n",
              "      <td>0.609388</td>\n",
              "      <td>0.484848</td>\n",
              "      <td>0.609270</td>\n",
              "      <td>0.695628</td>\n",
              "      <td>0.894118</td>\n",
              "      <td>0.695891</td>\n",
              "      <td>0.395949</td>\n",
              "      <td>0.622857</td>\n",
              "      <td>0.396173</td>\n",
              "      <td>0.515</td>\n",
              "      <td>0.10</td>\n",
              "      <td>0.514815</td>\n",
              "      <td>0.222222</td>\n",
              "      <td>No</td>\n",
              "    </tr>\n",
              "    <tr>\n",
              "      <th>2883</th>\n",
              "      <td>1</td>\n",
              "      <td>0</td>\n",
              "      <td>1</td>\n",
              "      <td>0</td>\n",
              "      <td>0.504132</td>\n",
              "      <td>0.000000</td>\n",
              "      <td>0.595733</td>\n",
              "      <td>0.296970</td>\n",
              "      <td>0.595716</td>\n",
              "      <td>0.652736</td>\n",
              "      <td>0.688235</td>\n",
              "      <td>0.652863</td>\n",
              "      <td>0.605570</td>\n",
              "      <td>0.560000</td>\n",
              "      <td>0.605515</td>\n",
              "      <td>0.490</td>\n",
              "      <td>0.55</td>\n",
              "      <td>0.490741</td>\n",
              "      <td>0.111111</td>\n",
              "      <td>No</td>\n",
              "    </tr>\n",
              "    <tr>\n",
              "      <th>2430</th>\n",
              "      <td>1</td>\n",
              "      <td>0</td>\n",
              "      <td>0</td>\n",
              "      <td>1</td>\n",
              "      <td>0.491736</td>\n",
              "      <td>0.769231</td>\n",
              "      <td>0.364438</td>\n",
              "      <td>0.600000</td>\n",
              "      <td>0.364458</td>\n",
              "      <td>0.681056</td>\n",
              "      <td>0.458824</td>\n",
              "      <td>0.681009</td>\n",
              "      <td>0.505570</td>\n",
              "      <td>0.691429</td>\n",
              "      <td>0.505909</td>\n",
              "      <td>0.780</td>\n",
              "      <td>0.15</td>\n",
              "      <td>0.779630</td>\n",
              "      <td>0.000000</td>\n",
              "      <td>No</td>\n",
              "    </tr>\n",
              "    <tr>\n",
              "      <th>449</th>\n",
              "      <td>1</td>\n",
              "      <td>0</td>\n",
              "      <td>0</td>\n",
              "      <td>1</td>\n",
              "      <td>0.322314</td>\n",
              "      <td>0.403846</td>\n",
              "      <td>0.751920</td>\n",
              "      <td>0.478788</td>\n",
              "      <td>0.751841</td>\n",
              "      <td>0.557602</td>\n",
              "      <td>0.694118</td>\n",
              "      <td>0.557748</td>\n",
              "      <td>0.438987</td>\n",
              "      <td>0.525714</td>\n",
              "      <td>0.438942</td>\n",
              "      <td>0.315</td>\n",
              "      <td>0.15</td>\n",
              "      <td>0.314815</td>\n",
              "      <td>0.444444</td>\n",
              "      <td>No</td>\n",
              "    </tr>\n",
              "    <tr>\n",
              "      <th>4179</th>\n",
              "      <td>1</td>\n",
              "      <td>0</td>\n",
              "      <td>1</td>\n",
              "      <td>0</td>\n",
              "      <td>0.578512</td>\n",
              "      <td>0.000000</td>\n",
              "      <td>0.613940</td>\n",
              "      <td>0.478788</td>\n",
              "      <td>0.613956</td>\n",
              "      <td>0.309871</td>\n",
              "      <td>0.500000</td>\n",
              "      <td>0.309932</td>\n",
              "      <td>0.561519</td>\n",
              "      <td>0.622857</td>\n",
              "      <td>0.561621</td>\n",
              "      <td>0.280</td>\n",
              "      <td>0.20</td>\n",
              "      <td>0.279630</td>\n",
              "      <td>0.222222</td>\n",
              "      <td>No</td>\n",
              "    </tr>\n",
              "  </tbody>\n",
              "</table>\n",
              "</div>"
            ],
            "text/plain": [
              "      internationalplan_no  internationalplan_yes  ...  ncscScaled  churn\n",
              "4036                     1                      0  ...    0.222222     No\n",
              "2883                     1                      0  ...    0.111111     No\n",
              "2430                     1                      0  ...    0.000000     No\n",
              "449                      1                      0  ...    0.444444     No\n",
              "4179                     1                      0  ...    0.222222     No\n",
              "\n",
              "[5 rows x 20 columns]"
            ]
          },
          "metadata": {
            "tags": []
          },
          "execution_count": 12
        }
      ]
    },
    {
      "cell_type": "code",
      "metadata": {
        "colab": {
          "base_uri": "https://localhost:8080/",
          "height": 241
        },
        "id": "f2APbvt3ovEP",
        "outputId": "4d32f351-82c8-4ca4-af30-707292c6edf2"
      },
      "source": [
        "# Take a random sample equal to length of the minority class to make the data set balanced\n",
        "\n",
        "majSample = majData.sample(n=len(ind),random_state = 123)\n",
        "print(majSample.shape)\n",
        "majSample.head()\n",
        "\n"
      ],
      "execution_count": 13,
      "outputs": [
        {
          "output_type": "stream",
          "text": [
            "(490, 20)\n"
          ],
          "name": "stdout"
        },
        {
          "output_type": "execute_result",
          "data": {
            "text/html": [
              "<div>\n",
              "<style scoped>\n",
              "    .dataframe tbody tr th:only-of-type {\n",
              "        vertical-align: middle;\n",
              "    }\n",
              "\n",
              "    .dataframe tbody tr th {\n",
              "        vertical-align: top;\n",
              "    }\n",
              "\n",
              "    .dataframe thead th {\n",
              "        text-align: right;\n",
              "    }\n",
              "</style>\n",
              "<table border=\"1\" class=\"dataframe\">\n",
              "  <thead>\n",
              "    <tr style=\"text-align: right;\">\n",
              "      <th></th>\n",
              "      <th>internationalplan_no</th>\n",
              "      <th>internationalplan_yes</th>\n",
              "      <th>voicemailplan_no</th>\n",
              "      <th>voicemailplan_yes</th>\n",
              "      <th>alScaled</th>\n",
              "      <th>nvmmScaled</th>\n",
              "      <th>tdmScaled</th>\n",
              "      <th>tdcScaled</th>\n",
              "      <th>tdchScaled</th>\n",
              "      <th>temScaled</th>\n",
              "      <th>tecScaled</th>\n",
              "      <th>techScaled</th>\n",
              "      <th>tnmScaled</th>\n",
              "      <th>tncScaled</th>\n",
              "      <th>tnchScaled</th>\n",
              "      <th>timScaled</th>\n",
              "      <th>ticScaled</th>\n",
              "      <th>tichScaled</th>\n",
              "      <th>ncscScaled</th>\n",
              "      <th>churn</th>\n",
              "    </tr>\n",
              "  </thead>\n",
              "  <tbody>\n",
              "    <tr>\n",
              "      <th>1807</th>\n",
              "      <td>1</td>\n",
              "      <td>0</td>\n",
              "      <td>1</td>\n",
              "      <td>0</td>\n",
              "      <td>0.450413</td>\n",
              "      <td>0.000000</td>\n",
              "      <td>0.557895</td>\n",
              "      <td>0.624242</td>\n",
              "      <td>0.557898</td>\n",
              "      <td>0.549079</td>\n",
              "      <td>0.723529</td>\n",
              "      <td>0.549013</td>\n",
              "      <td>0.344051</td>\n",
              "      <td>0.405714</td>\n",
              "      <td>0.344401</td>\n",
              "      <td>0.645</td>\n",
              "      <td>0.05</td>\n",
              "      <td>0.644444</td>\n",
              "      <td>0.333333</td>\n",
              "      <td>No</td>\n",
              "    </tr>\n",
              "    <tr>\n",
              "      <th>4578</th>\n",
              "      <td>1</td>\n",
              "      <td>0</td>\n",
              "      <td>1</td>\n",
              "      <td>0</td>\n",
              "      <td>0.475207</td>\n",
              "      <td>0.000000</td>\n",
              "      <td>0.244097</td>\n",
              "      <td>0.533333</td>\n",
              "      <td>0.244143</td>\n",
              "      <td>0.318394</td>\n",
              "      <td>0.658824</td>\n",
              "      <td>0.318344</td>\n",
              "      <td>0.495949</td>\n",
              "      <td>0.520000</td>\n",
              "      <td>0.496342</td>\n",
              "      <td>0.550</td>\n",
              "      <td>0.10</td>\n",
              "      <td>0.550000</td>\n",
              "      <td>0.111111</td>\n",
              "      <td>No</td>\n",
              "    </tr>\n",
              "    <tr>\n",
              "      <th>355</th>\n",
              "      <td>1</td>\n",
              "      <td>0</td>\n",
              "      <td>1</td>\n",
              "      <td>0</td>\n",
              "      <td>0.123967</td>\n",
              "      <td>0.000000</td>\n",
              "      <td>0.472546</td>\n",
              "      <td>0.636364</td>\n",
              "      <td>0.472557</td>\n",
              "      <td>0.218037</td>\n",
              "      <td>0.547059</td>\n",
              "      <td>0.218052</td>\n",
              "      <td>0.541013</td>\n",
              "      <td>0.560000</td>\n",
              "      <td>0.541362</td>\n",
              "      <td>0.635</td>\n",
              "      <td>0.10</td>\n",
              "      <td>0.635185</td>\n",
              "      <td>0.111111</td>\n",
              "      <td>No</td>\n",
              "    </tr>\n",
              "    <tr>\n",
              "      <th>23</th>\n",
              "      <td>1</td>\n",
              "      <td>0</td>\n",
              "      <td>1</td>\n",
              "      <td>0</td>\n",
              "      <td>0.454545</td>\n",
              "      <td>0.000000</td>\n",
              "      <td>0.314083</td>\n",
              "      <td>0.624242</td>\n",
              "      <td>0.314090</td>\n",
              "      <td>0.377509</td>\n",
              "      <td>0.600000</td>\n",
              "      <td>0.377548</td>\n",
              "      <td>0.480000</td>\n",
              "      <td>0.600000</td>\n",
              "      <td>0.480023</td>\n",
              "      <td>0.385</td>\n",
              "      <td>0.30</td>\n",
              "      <td>0.385185</td>\n",
              "      <td>0.222222</td>\n",
              "      <td>No</td>\n",
              "    </tr>\n",
              "    <tr>\n",
              "      <th>1541</th>\n",
              "      <td>1</td>\n",
              "      <td>0</td>\n",
              "      <td>0</td>\n",
              "      <td>1</td>\n",
              "      <td>0.194215</td>\n",
              "      <td>0.692308</td>\n",
              "      <td>0.656899</td>\n",
              "      <td>0.557576</td>\n",
              "      <td>0.656794</td>\n",
              "      <td>0.460819</td>\n",
              "      <td>0.711765</td>\n",
              "      <td>0.461016</td>\n",
              "      <td>0.683544</td>\n",
              "      <td>0.497143</td>\n",
              "      <td>0.683737</td>\n",
              "      <td>0.380</td>\n",
              "      <td>0.20</td>\n",
              "      <td>0.379630</td>\n",
              "      <td>0.333333</td>\n",
              "      <td>No</td>\n",
              "    </tr>\n",
              "  </tbody>\n",
              "</table>\n",
              "</div>"
            ],
            "text/plain": [
              "      internationalplan_no  internationalplan_yes  ...  ncscScaled  churn\n",
              "1807                     1                      0  ...    0.333333     No\n",
              "4578                     1                      0  ...    0.111111     No\n",
              "355                      1                      0  ...    0.111111     No\n",
              "23                       1                      0  ...    0.222222     No\n",
              "1541                     1                      0  ...    0.333333     No\n",
              "\n",
              "[5 rows x 20 columns]"
            ]
          },
          "metadata": {
            "tags": []
          },
          "execution_count": 13
        }
      ]
    },
    {
      "cell_type": "code",
      "metadata": {
        "colab": {
          "base_uri": "https://localhost:8080/"
        },
        "id": "MA2xgYOyRPGT",
        "outputId": "c268c984-d0ef-47de-8198-7e9ae98b855f"
      },
      "source": [
        "# Concatenating both data sets\n",
        "\n",
        "balData = pd.concat([minData,majSample],axis = 0)\n",
        "print('balanced data set shape',balData.shape)"
      ],
      "execution_count": 14,
      "outputs": [
        {
          "output_type": "stream",
          "text": [
            "balanced data set shape (980, 20)\n"
          ],
          "name": "stdout"
        }
      ]
    },
    {
      "cell_type": "code",
      "metadata": {
        "id": "kPgQS0ZEp8qV"
      },
      "source": [
        "# Shuffling the data set\n",
        "\n",
        "from sklearn.utils import shuffle\n",
        "\n",
        "balData = shuffle(balData)\n"
      ],
      "execution_count": 15,
      "outputs": []
    },
    {
      "cell_type": "code",
      "metadata": {
        "colab": {
          "base_uri": "https://localhost:8080/"
        },
        "id": "tgvoKinpRmg1",
        "outputId": "33032a6a-e2b0-4798-cfbe-b1ef96a04f74"
      },
      "source": [
        "# Making the new X_train and y_train\n",
        "\n",
        "X_trainNew = balData.iloc[:,0:19]\n",
        "X_trainNew.shape"
      ],
      "execution_count": 16,
      "outputs": [
        {
          "output_type": "execute_result",
          "data": {
            "text/plain": [
              "(980, 19)"
            ]
          },
          "metadata": {
            "tags": []
          },
          "execution_count": 16
        }
      ]
    },
    {
      "cell_type": "code",
      "metadata": {
        "colab": {
          "base_uri": "https://localhost:8080/"
        },
        "id": "oKqn7nO8pDVX",
        "outputId": "522eb2be-54e1-42f6-c364-8a1a83d8e283"
      },
      "source": [
        "# Making the new y_train\n",
        "y_trainNew = balData['churn']\n",
        "y_trainNew.shape"
      ],
      "execution_count": 17,
      "outputs": [
        {
          "output_type": "execute_result",
          "data": {
            "text/plain": [
              "(980,)"
            ]
          },
          "metadata": {
            "tags": []
          },
          "execution_count": 17
        }
      ]
    },
    {
      "cell_type": "code",
      "metadata": {
        "colab": {
          "base_uri": "https://localhost:8080/"
        },
        "id": "WTmAGsxSerD7",
        "outputId": "e5f4a0a7-5352-4f2a-f237-f01f67627d8b"
      },
      "source": [
        "from sklearn.linear_model import LogisticRegression\n",
        "# Defining the LogisticRegression function for Undersampling\n",
        "churnModel1 = LogisticRegression()\n",
        "churnModel1.fit(X_trainNew, y_trainNew)"
      ],
      "execution_count": 18,
      "outputs": [
        {
          "output_type": "execute_result",
          "data": {
            "text/plain": [
              "LogisticRegression(C=1.0, class_weight=None, dual=False, fit_intercept=True,\n",
              "                   intercept_scaling=1, l1_ratio=None, max_iter=100,\n",
              "                   multi_class='auto', n_jobs=None, penalty='l2',\n",
              "                   random_state=None, solver='lbfgs', tol=0.0001, verbose=0,\n",
              "                   warm_start=False)"
            ]
          },
          "metadata": {
            "tags": []
          },
          "execution_count": 18
        }
      ]
    },
    {
      "cell_type": "markdown",
      "metadata": {
        "id": "tVageK142kfy"
      },
      "source": [
        "**SMOTE**\n",
        "\n"
      ]
    },
    {
      "cell_type": "code",
      "metadata": {
        "id": "0S4ENukMSFcU"
      },
      "source": [
        "import smote_variants as sv\n",
        "import numpy as np\n",
        "\n",
        "# Instantiating the SMOTE class\n",
        "oversampler= sv.SMOTE()"
      ],
      "execution_count": 22,
      "outputs": []
    },
    {
      "cell_type": "code",
      "metadata": {
        "colab": {
          "base_uri": "https://localhost:8080/"
        },
        "id": "dFVuB-2K83QE",
        "outputId": "7d6ddeab-245d-4ca1-9f8c-39ae20ab3007"
      },
      "source": [
        "# Creating new training set\n",
        "\n",
        "X_train_smote, y_train_smote = oversampler.sample(np.array(X_train), np.array(y_train))\n"
      ],
      "execution_count": 23,
      "outputs": [
        {
          "output_type": "stream",
          "text": [
            "2021-02-04 11:29:37,965:INFO:SMOTE: Running sampling via ('SMOTE', \"{'proportion': 1.0, 'n_neighbors': 5, 'n_jobs': 1, 'random_state': None}\")\n"
          ],
          "name": "stderr"
        }
      ]
    },
    {
      "cell_type": "code",
      "metadata": {
        "colab": {
          "base_uri": "https://localhost:8080/"
        },
        "id": "jX8q7PLjftrg",
        "outputId": "d66e578f-540e-4fbf-e0c7-7cadd0434972"
      },
      "source": [
        "# Training the model with Logistic regression model\n",
        "\n",
        "# Defining the LogisticRegression function\n",
        "\n",
        "churnModel2 = LogisticRegression()\n",
        "\n",
        "churnModel2.fit(X_train_smote, y_train_smote)"
      ],
      "execution_count": 24,
      "outputs": [
        {
          "output_type": "execute_result",
          "data": {
            "text/plain": [
              "LogisticRegression(C=1.0, class_weight=None, dual=False, fit_intercept=True,\n",
              "                   intercept_scaling=1, l1_ratio=None, max_iter=100,\n",
              "                   multi_class='auto', n_jobs=None, penalty='l2',\n",
              "                   random_state=None, solver='lbfgs', tol=0.0001, verbose=0,\n",
              "                   warm_start=False)"
            ]
          },
          "metadata": {
            "tags": []
          },
          "execution_count": 24
        }
      ]
    },
    {
      "cell_type": "markdown",
      "metadata": {
        "id": "XCpFjq2R_72o"
      },
      "source": [
        "**MSMOTE**\n",
        "\n"
      ]
    },
    {
      "cell_type": "code",
      "metadata": {
        "id": "bdGFGdXXSdm6"
      },
      "source": [
        "import smote_variants as sv\n",
        "import numpy as np\n",
        "# Instantiating the MSMOTE class\n",
        "oversampler= sv.MSMOTE()"
      ],
      "execution_count": 25,
      "outputs": []
    },
    {
      "cell_type": "code",
      "metadata": {
        "colab": {
          "base_uri": "https://localhost:8080/"
        },
        "id": "xOr_xeTnsXlD",
        "outputId": "215de379-07b5-4290-f486-6963f4b678f5"
      },
      "source": [
        "# Creating new training sets\n",
        "X_train_msmote, y_train_msmote = oversampler.sample(np.array(X_train), np.array(y_train))"
      ],
      "execution_count": 26,
      "outputs": [
        {
          "output_type": "stream",
          "text": [
            "2021-02-04 11:29:50,932:INFO:MSMOTE: Running sampling via ('MSMOTE', \"{'proportion': 1.0, 'n_neighbors': 5, 'n_jobs': 1, 'random_state': None}\")\n"
          ],
          "name": "stderr"
        }
      ]
    },
    {
      "cell_type": "code",
      "metadata": {
        "colab": {
          "base_uri": "https://localhost:8080/"
        },
        "id": "DBN6YWIUgVED",
        "outputId": "a3db5f2a-798d-4dcc-9b29-2dea6ba3d085"
      },
      "source": [
        "# Fitting model\n",
        "\n",
        "# Training the model with Logistic regression model\n",
        "\n",
        "# Defining the LogisticRegression function\n",
        "churnModel3 = LogisticRegression()\n",
        "churnModel3.fit(X_train_msmote, y_train_msmote)"
      ],
      "execution_count": 27,
      "outputs": [
        {
          "output_type": "execute_result",
          "data": {
            "text/plain": [
              "LogisticRegression(C=1.0, class_weight=None, dual=False, fit_intercept=True,\n",
              "                   intercept_scaling=1, l1_ratio=None, max_iter=100,\n",
              "                   multi_class='auto', n_jobs=None, penalty='l2',\n",
              "                   random_state=None, solver='lbfgs', tol=0.0001, verbose=0,\n",
              "                   warm_start=False)"
            ]
          },
          "metadata": {
            "tags": []
          },
          "execution_count": 27
        }
      ]
    },
    {
      "cell_type": "markdown",
      "metadata": {
        "id": "jl-ug1Opgy_Z"
      },
      "source": [
        "**Predictions with all three models**\n",
        "\n",
        "Let us create separate predictions with each model"
      ]
    },
    {
      "cell_type": "code",
      "metadata": {
        "id": "njWUrptHgxmb"
      },
      "source": [
        "# Predicting using Under sampler\n",
        "pred_us = churnModel1.predict(X_test)\n",
        "\n",
        "# Predicting using SMOTE\n",
        "pred_smote = churnModel2.predict(X_test)\n",
        "\n",
        "# Predicting using MSMOTE\n",
        "pred_msmote = churnModel3.predict(X_test)\n"
      ],
      "execution_count": 28,
      "outputs": []
    },
    {
      "cell_type": "code",
      "metadata": {
        "colab": {
          "base_uri": "https://localhost:8080/"
        },
        "id": "41cg5mPsijNh",
        "outputId": "cdc615d0-ce03-4fcc-dd04-b6938bcb8236"
      },
      "source": [
        "# Printing accuracy of each model\n",
        "\n",
        "print('Accuracy of Logistic regression model prediction on test set for Random Undersampled data set: {:.2f}'.format(churnModel1.score(X_test, y_test)))\n",
        "\n",
        "print('Accuracy of Logistic regression model prediction on test set for SMOTE data set: {:.2f}'.format(churnModel2.score(X_test, y_test)))\n",
        "\n",
        "print('Accuracy of Logistic regression model prediction on test set for MSMOTE data set: {:.2f}'.format(churnModel3.score(X_test, y_test)))"
      ],
      "execution_count": 29,
      "outputs": [
        {
          "output_type": "stream",
          "text": [
            "Accuracy of Logistic regression model prediction on test set for Random Undersampled data set: 0.79\n",
            "Accuracy of Logistic regression model prediction on test set for SMOTE data set: 0.78\n",
            "Accuracy of Logistic regression model prediction on test set for MSMOTE data set: 0.80\n"
          ],
          "name": "stdout"
        }
      ]
    },
    {
      "cell_type": "code",
      "metadata": {
        "id": "vpk8snnajLMD"
      },
      "source": [
        "# Confusion Matrix & Classification reports for the model\n",
        "from sklearn.metrics import confusion_matrix\n",
        "from sklearn.metrics import classification_report"
      ],
      "execution_count": 30,
      "outputs": []
    },
    {
      "cell_type": "code",
      "metadata": {
        "colab": {
          "base_uri": "https://localhost:8080/"
        },
        "id": "c-_FD6bGmu4S",
        "outputId": "a681444d-13b6-47ed-a8fe-0e954917ed26"
      },
      "source": [
        "# Metrics for Random undersample data set\n",
        "print(confusion_matrix(y_test, pred_us))\n",
        "\n",
        "print(classification_report(y_test, pred_us))"
      ],
      "execution_count": 31,
      "outputs": [
        {
          "output_type": "stream",
          "text": [
            "[[1032  251]\n",
            " [  57  160]]\n",
            "              precision    recall  f1-score   support\n",
            "\n",
            "          No       0.95      0.80      0.87      1283\n",
            "         Yes       0.39      0.74      0.51       217\n",
            "\n",
            "    accuracy                           0.79      1500\n",
            "   macro avg       0.67      0.77      0.69      1500\n",
            "weighted avg       0.87      0.79      0.82      1500\n",
            "\n"
          ],
          "name": "stdout"
        }
      ]
    },
    {
      "cell_type": "code",
      "metadata": {
        "colab": {
          "base_uri": "https://localhost:8080/"
        },
        "id": "cTvkrWSzjsTN",
        "outputId": "cae32534-6e24-425f-cc41-7f854600e1ff"
      },
      "source": [
        "# Metrics for SMOTE data set\n",
        "print(confusion_matrix(y_test, pred_smote))\n",
        "\n",
        "print(classification_report(y_test, pred_smote))"
      ],
      "execution_count": 32,
      "outputs": [
        {
          "output_type": "stream",
          "text": [
            "[[1001  282]\n",
            " [  52  165]]\n",
            "              precision    recall  f1-score   support\n",
            "\n",
            "          No       0.95      0.78      0.86      1283\n",
            "         Yes       0.37      0.76      0.50       217\n",
            "\n",
            "    accuracy                           0.78      1500\n",
            "   macro avg       0.66      0.77      0.68      1500\n",
            "weighted avg       0.87      0.78      0.80      1500\n",
            "\n"
          ],
          "name": "stdout"
        }
      ]
    },
    {
      "cell_type": "code",
      "metadata": {
        "colab": {
          "base_uri": "https://localhost:8080/"
        },
        "id": "WvBh_sxYj5er",
        "outputId": "2654152f-f10a-4ec8-c4ba-e43e1543cfe6"
      },
      "source": [
        "# Metrics for MSMOTE data set\n",
        "print(confusion_matrix(y_test, pred_msmote))\n",
        "\n",
        "print(classification_report(y_test, pred_msmote))"
      ],
      "execution_count": 33,
      "outputs": [
        {
          "output_type": "stream",
          "text": [
            "[[1033  250]\n",
            " [  53  164]]\n",
            "              precision    recall  f1-score   support\n",
            "\n",
            "          No       0.95      0.81      0.87      1283\n",
            "         Yes       0.40      0.76      0.52       217\n",
            "\n",
            "    accuracy                           0.80      1500\n",
            "   macro avg       0.67      0.78      0.70      1500\n",
            "weighted avg       0.87      0.80      0.82      1500\n",
            "\n"
          ],
          "name": "stdout"
        }
      ]
    },
    {
      "cell_type": "code",
      "metadata": {
        "id": "D4DH8kxNzrDt"
      },
      "source": [
        ""
      ],
      "execution_count": null,
      "outputs": []
    }
  ]
}