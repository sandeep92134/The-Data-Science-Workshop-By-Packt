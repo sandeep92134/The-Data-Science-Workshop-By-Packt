{
  "nbformat": 4,
  "nbformat_minor": 0,
  "metadata": {
    "colab": {
      "name": "Activity12_1.ipynb",
      "provenance": [],
      "collapsed_sections": [],
      "include_colab_link": true
    },
    "kernelspec": {
      "display_name": "Python 3",
      "language": "python",
      "name": "python3"
    },
    "language_info": {
      "codemirror_mode": {
        "name": "ipython",
        "version": 3
      },
      "file_extension": ".py",
      "mimetype": "text/x-python",
      "name": "python",
      "nbconvert_exporter": "python",
      "pygments_lexer": "ipython3",
      "version": "3.7.6"
    }
  },
  "cells": [
    {
      "cell_type": "markdown",
      "metadata": {
        "id": "view-in-github",
        "colab_type": "text"
      },
      "source": [
        "<a href=\"https://colab.research.google.com/github/sandeep92134/The-Data-Science-Workshop-By-Packt/blob/master/module%2012/Activity12.01%3A%20Feature%20Engineering%20on%20a%20Financial%20Dataset.ipynb\" target=\"_parent\"><img src=\"https://colab.research.google.com/assets/colab-badge.svg\" alt=\"Open In Colab\"/></a>"
      ]
    },
    {
      "cell_type": "markdown",
      "metadata": {
        "id": "Iw8S_4se3FwZ"
      },
      "source": [
        "Feature Engineering on a Financial Dataset\r\n",
        "You are working for a major bank in the Czech Republic and you have been tasked to analyze the transactions of existing customers. The data team has extracted all the tables from their database they think will be useful for you to analyze the dataset. You will need to consolidate the data from those tables into a single DataFrame and create new features in order to get an enriched dataset from which you will be able to perform an in-depth analysis of customers' banking transactions.\r\n",
        "\r\n",
        "You will be using only the following four tables:\r\n",
        "\r\n",
        "- account: The characteristics of a customer's bank account for a given branch\r\n",
        "- client: Personal information related to the bank's customers\r\n",
        "- disp: A table that links an account to a customer\r\n",
        "- trans: A list of all historical transactions by account\r\n",
        "\r\n",
        "The following steps will help you complete this activity:\r\n",
        "\r\n",
        "1. Download and load the different tables from this dataset into Python.\r\n",
        "2. Analyze each table with the .shape and .head() methods.\r\n",
        "3. Find the common/similar column(s) between tables that will be used for merging based on the analysis from Step 2.\r\n",
        "4. There should be four common tables. Merge the four tables together using pd.merge().\r\n",
        "5. Rename the column names after merging with .rename().\r\n",
        "6. Check there is no duplication after merging with .duplicated() and .sum().\r\n",
        "7. Transform the data type for date columns using .to_datetime().\r\n",
        "8. Create two separate features from birth_number to get the date of birth and sex for each customer.\r\n",
        "9. Fix data quality issues with .isna().\r\n",
        "10. Create a new feature that will calculate customers' ages when they opened an account using date operations"
      ]
    },
    {
      "cell_type": "code",
      "metadata": {
        "id": "HEiOAwQPW0qb"
      },
      "source": [
        "import pandas as pd"
      ],
      "execution_count": 1,
      "outputs": []
    },
    {
      "cell_type": "code",
      "metadata": {
        "id": "j7whidfaYjns"
      },
      "source": [
        "disp_url = 'https://raw.githubusercontent.com/sandeep92134/The-Data-Science-Workshop-By-Packt/master/module%2012/datasets/disp.csv'\n",
        "trans_url = 'https://raw.githubusercontent.com/PacktWorkshops/The-Data-Science-Workshop/master/Chapter12/Dataset/trans.csv'\n",
        "account_url = 'https://raw.githubusercontent.com/sandeep92134/The-Data-Science-Workshop-By-Packt/master/module%2012/datasets/account.csv'\n",
        "client_url = 'https://raw.githubusercontent.com/sandeep92134/The-Data-Science-Workshop-By-Packt/master/module%2012/datasets/client.csv'"
      ],
      "execution_count": 2,
      "outputs": []
    },
    {
      "cell_type": "code",
      "metadata": {
        "colab": {
          "base_uri": "https://localhost:8080/"
        },
        "id": "nFMz2jNVt-xy",
        "outputId": "5017f02e-a179-43ba-a3a9-1277d4e78537"
      },
      "source": [
        "df_disp = pd.read_csv(disp_url, sep=';')\n",
        "df_trans = pd.read_csv(trans_url, sep=';')\n",
        "df_account = pd.read_csv(account_url, sep=';')\n",
        "df_client = pd.read_csv(client_url, sep=';')"
      ],
      "execution_count": 3,
      "outputs": [
        {
          "output_type": "stream",
          "text": [
            "/usr/local/lib/python3.6/dist-packages/IPython/core/interactiveshell.py:2718: DtypeWarning: Columns (8) have mixed types.Specify dtype option on import or set low_memory=False.\n",
            "  interactivity=interactivity, compiler=compiler, result=result)\n"
          ],
          "name": "stderr"
        }
      ]
    },
    {
      "cell_type": "code",
      "metadata": {
        "colab": {
          "base_uri": "https://localhost:8080/",
          "height": 204
        },
        "id": "xAqQ7rpV0nkT",
        "outputId": "0573dbb7-3ad5-4b06-e75c-a435ccb241a4"
      },
      "source": [
        "df_trans.head()"
      ],
      "execution_count": 4,
      "outputs": [
        {
          "output_type": "execute_result",
          "data": {
            "text/html": [
              "<div>\n",
              "<style scoped>\n",
              "    .dataframe tbody tr th:only-of-type {\n",
              "        vertical-align: middle;\n",
              "    }\n",
              "\n",
              "    .dataframe tbody tr th {\n",
              "        vertical-align: top;\n",
              "    }\n",
              "\n",
              "    .dataframe thead th {\n",
              "        text-align: right;\n",
              "    }\n",
              "</style>\n",
              "<table border=\"1\" class=\"dataframe\">\n",
              "  <thead>\n",
              "    <tr style=\"text-align: right;\">\n",
              "      <th></th>\n",
              "      <th>trans_id</th>\n",
              "      <th>account_id</th>\n",
              "      <th>date</th>\n",
              "      <th>type</th>\n",
              "      <th>operation</th>\n",
              "      <th>amount</th>\n",
              "      <th>balance</th>\n",
              "      <th>k_symbol</th>\n",
              "      <th>bank</th>\n",
              "      <th>account</th>\n",
              "    </tr>\n",
              "  </thead>\n",
              "  <tbody>\n",
              "    <tr>\n",
              "      <th>0</th>\n",
              "      <td>695247</td>\n",
              "      <td>2378</td>\n",
              "      <td>930101</td>\n",
              "      <td>PRIJEM</td>\n",
              "      <td>VKLAD</td>\n",
              "      <td>700.0</td>\n",
              "      <td>700.0</td>\n",
              "      <td>NaN</td>\n",
              "      <td>NaN</td>\n",
              "      <td>NaN</td>\n",
              "    </tr>\n",
              "    <tr>\n",
              "      <th>1</th>\n",
              "      <td>171812</td>\n",
              "      <td>576</td>\n",
              "      <td>930101</td>\n",
              "      <td>PRIJEM</td>\n",
              "      <td>VKLAD</td>\n",
              "      <td>900.0</td>\n",
              "      <td>900.0</td>\n",
              "      <td>NaN</td>\n",
              "      <td>NaN</td>\n",
              "      <td>NaN</td>\n",
              "    </tr>\n",
              "    <tr>\n",
              "      <th>2</th>\n",
              "      <td>207264</td>\n",
              "      <td>704</td>\n",
              "      <td>930101</td>\n",
              "      <td>PRIJEM</td>\n",
              "      <td>VKLAD</td>\n",
              "      <td>1000.0</td>\n",
              "      <td>1000.0</td>\n",
              "      <td>NaN</td>\n",
              "      <td>NaN</td>\n",
              "      <td>NaN</td>\n",
              "    </tr>\n",
              "    <tr>\n",
              "      <th>3</th>\n",
              "      <td>1117247</td>\n",
              "      <td>3818</td>\n",
              "      <td>930101</td>\n",
              "      <td>PRIJEM</td>\n",
              "      <td>VKLAD</td>\n",
              "      <td>600.0</td>\n",
              "      <td>600.0</td>\n",
              "      <td>NaN</td>\n",
              "      <td>NaN</td>\n",
              "      <td>NaN</td>\n",
              "    </tr>\n",
              "    <tr>\n",
              "      <th>4</th>\n",
              "      <td>579373</td>\n",
              "      <td>1972</td>\n",
              "      <td>930102</td>\n",
              "      <td>PRIJEM</td>\n",
              "      <td>VKLAD</td>\n",
              "      <td>400.0</td>\n",
              "      <td>400.0</td>\n",
              "      <td>NaN</td>\n",
              "      <td>NaN</td>\n",
              "      <td>NaN</td>\n",
              "    </tr>\n",
              "  </tbody>\n",
              "</table>\n",
              "</div>"
            ],
            "text/plain": [
              "   trans_id  account_id    date    type  ... balance  k_symbol  bank account\n",
              "0    695247        2378  930101  PRIJEM  ...   700.0       NaN   NaN     NaN\n",
              "1    171812         576  930101  PRIJEM  ...   900.0       NaN   NaN     NaN\n",
              "2    207264         704  930101  PRIJEM  ...  1000.0       NaN   NaN     NaN\n",
              "3   1117247        3818  930101  PRIJEM  ...   600.0       NaN   NaN     NaN\n",
              "4    579373        1972  930102  PRIJEM  ...   400.0       NaN   NaN     NaN\n",
              "\n",
              "[5 rows x 10 columns]"
            ]
          },
          "metadata": {
            "tags": []
          },
          "execution_count": 4
        }
      ]
    },
    {
      "cell_type": "code",
      "metadata": {
        "colab": {
          "base_uri": "https://localhost:8080/"
        },
        "id": "zybRLGrd2bPf",
        "outputId": "c83e9d0a-e060-4b98-cf7d-566c45bc4852"
      },
      "source": [
        "df_trans.shape"
      ],
      "execution_count": 5,
      "outputs": [
        {
          "output_type": "execute_result",
          "data": {
            "text/plain": [
              "(1056320, 10)"
            ]
          },
          "metadata": {
            "tags": []
          },
          "execution_count": 5
        }
      ]
    },
    {
      "cell_type": "code",
      "metadata": {
        "colab": {
          "base_uri": "https://localhost:8080/",
          "height": 204
        },
        "id": "IvvSvYl42Koi",
        "outputId": "8ef8d762-8813-4b21-fa2c-d6ff7192682f"
      },
      "source": [
        "df_account.head()"
      ],
      "execution_count": 6,
      "outputs": [
        {
          "output_type": "execute_result",
          "data": {
            "text/html": [
              "<div>\n",
              "<style scoped>\n",
              "    .dataframe tbody tr th:only-of-type {\n",
              "        vertical-align: middle;\n",
              "    }\n",
              "\n",
              "    .dataframe tbody tr th {\n",
              "        vertical-align: top;\n",
              "    }\n",
              "\n",
              "    .dataframe thead th {\n",
              "        text-align: right;\n",
              "    }\n",
              "</style>\n",
              "<table border=\"1\" class=\"dataframe\">\n",
              "  <thead>\n",
              "    <tr style=\"text-align: right;\">\n",
              "      <th></th>\n",
              "      <th>account_id</th>\n",
              "      <th>district_id</th>\n",
              "      <th>frequency</th>\n",
              "      <th>date</th>\n",
              "    </tr>\n",
              "  </thead>\n",
              "  <tbody>\n",
              "    <tr>\n",
              "      <th>0</th>\n",
              "      <td>576</td>\n",
              "      <td>55</td>\n",
              "      <td>POPLATEK MESICNE</td>\n",
              "      <td>930101</td>\n",
              "    </tr>\n",
              "    <tr>\n",
              "      <th>1</th>\n",
              "      <td>3818</td>\n",
              "      <td>74</td>\n",
              "      <td>POPLATEK MESICNE</td>\n",
              "      <td>930101</td>\n",
              "    </tr>\n",
              "    <tr>\n",
              "      <th>2</th>\n",
              "      <td>704</td>\n",
              "      <td>55</td>\n",
              "      <td>POPLATEK MESICNE</td>\n",
              "      <td>930101</td>\n",
              "    </tr>\n",
              "    <tr>\n",
              "      <th>3</th>\n",
              "      <td>2378</td>\n",
              "      <td>16</td>\n",
              "      <td>POPLATEK MESICNE</td>\n",
              "      <td>930101</td>\n",
              "    </tr>\n",
              "    <tr>\n",
              "      <th>4</th>\n",
              "      <td>2632</td>\n",
              "      <td>24</td>\n",
              "      <td>POPLATEK MESICNE</td>\n",
              "      <td>930102</td>\n",
              "    </tr>\n",
              "  </tbody>\n",
              "</table>\n",
              "</div>"
            ],
            "text/plain": [
              "   account_id  district_id         frequency    date\n",
              "0         576           55  POPLATEK MESICNE  930101\n",
              "1        3818           74  POPLATEK MESICNE  930101\n",
              "2         704           55  POPLATEK MESICNE  930101\n",
              "3        2378           16  POPLATEK MESICNE  930101\n",
              "4        2632           24  POPLATEK MESICNE  930102"
            ]
          },
          "metadata": {
            "tags": []
          },
          "execution_count": 6
        }
      ]
    },
    {
      "cell_type": "code",
      "metadata": {
        "id": "Fk2bTvEp17Bp"
      },
      "source": [
        "df_trans_acc = pd.merge(df_trans, df_account, how='left', on='account_id')"
      ],
      "execution_count": 7,
      "outputs": []
    },
    {
      "cell_type": "code",
      "metadata": {
        "colab": {
          "base_uri": "https://localhost:8080/"
        },
        "id": "9BN6zHeL2lOx",
        "outputId": "84500603-9048-4aa2-c7ae-4fd054b145bc"
      },
      "source": [
        "df_trans_acc.shape"
      ],
      "execution_count": 8,
      "outputs": [
        {
          "output_type": "execute_result",
          "data": {
            "text/plain": [
              "(1056320, 13)"
            ]
          },
          "metadata": {
            "tags": []
          },
          "execution_count": 8
        }
      ]
    },
    {
      "cell_type": "code",
      "metadata": {
        "colab": {
          "base_uri": "https://localhost:8080/",
          "height": 204
        },
        "id": "98f8YCkO2q41",
        "outputId": "12e4f96a-f1f9-4bcc-e775-0c33b4fdaad5"
      },
      "source": [
        "df_disp.head()"
      ],
      "execution_count": 9,
      "outputs": [
        {
          "output_type": "execute_result",
          "data": {
            "text/html": [
              "<div>\n",
              "<style scoped>\n",
              "    .dataframe tbody tr th:only-of-type {\n",
              "        vertical-align: middle;\n",
              "    }\n",
              "\n",
              "    .dataframe tbody tr th {\n",
              "        vertical-align: top;\n",
              "    }\n",
              "\n",
              "    .dataframe thead th {\n",
              "        text-align: right;\n",
              "    }\n",
              "</style>\n",
              "<table border=\"1\" class=\"dataframe\">\n",
              "  <thead>\n",
              "    <tr style=\"text-align: right;\">\n",
              "      <th></th>\n",
              "      <th>disp_id</th>\n",
              "      <th>client_id</th>\n",
              "      <th>account_id</th>\n",
              "      <th>type</th>\n",
              "    </tr>\n",
              "  </thead>\n",
              "  <tbody>\n",
              "    <tr>\n",
              "      <th>0</th>\n",
              "      <td>1</td>\n",
              "      <td>1</td>\n",
              "      <td>1</td>\n",
              "      <td>OWNER</td>\n",
              "    </tr>\n",
              "    <tr>\n",
              "      <th>1</th>\n",
              "      <td>2</td>\n",
              "      <td>2</td>\n",
              "      <td>2</td>\n",
              "      <td>OWNER</td>\n",
              "    </tr>\n",
              "    <tr>\n",
              "      <th>2</th>\n",
              "      <td>3</td>\n",
              "      <td>3</td>\n",
              "      <td>2</td>\n",
              "      <td>DISPONENT</td>\n",
              "    </tr>\n",
              "    <tr>\n",
              "      <th>3</th>\n",
              "      <td>4</td>\n",
              "      <td>4</td>\n",
              "      <td>3</td>\n",
              "      <td>OWNER</td>\n",
              "    </tr>\n",
              "    <tr>\n",
              "      <th>4</th>\n",
              "      <td>5</td>\n",
              "      <td>5</td>\n",
              "      <td>3</td>\n",
              "      <td>DISPONENT</td>\n",
              "    </tr>\n",
              "  </tbody>\n",
              "</table>\n",
              "</div>"
            ],
            "text/plain": [
              "   disp_id  client_id  account_id       type\n",
              "0        1          1           1      OWNER\n",
              "1        2          2           2      OWNER\n",
              "2        3          3           2  DISPONENT\n",
              "3        4          4           3      OWNER\n",
              "4        5          5           3  DISPONENT"
            ]
          },
          "metadata": {
            "tags": []
          },
          "execution_count": 9
        }
      ]
    },
    {
      "cell_type": "code",
      "metadata": {
        "id": "ap--Zddi3KYG"
      },
      "source": [
        "df_disp_owner = df_disp[df_disp['type'] == 'OWNER']"
      ],
      "execution_count": 10,
      "outputs": []
    },
    {
      "cell_type": "code",
      "metadata": {
        "colab": {
          "base_uri": "https://localhost:8080/"
        },
        "id": "8rvJpD6V3VWU",
        "outputId": "a634e3d5-3925-480b-fa9e-a5eb6c5b2df2"
      },
      "source": [
        "df_disp_owner.duplicated(subset='account_id').sum()"
      ],
      "execution_count": 11,
      "outputs": [
        {
          "output_type": "execute_result",
          "data": {
            "text/plain": [
              "0"
            ]
          },
          "metadata": {
            "tags": []
          },
          "execution_count": 11
        }
      ]
    },
    {
      "cell_type": "code",
      "metadata": {
        "colab": {
          "base_uri": "https://localhost:8080/"
        },
        "id": "aeshCYj63Ezw",
        "outputId": "3cb1e750-b655-4872-f667-b3f83544e2d7"
      },
      "source": [
        "df_trans_acc_disp = pd.merge(df_trans_acc, df_disp_owner, how='left', on='account_id')\n",
        "df_trans_acc_disp.shape"
      ],
      "execution_count": 12,
      "outputs": [
        {
          "output_type": "execute_result",
          "data": {
            "text/plain": [
              "(1056320, 16)"
            ]
          },
          "metadata": {
            "tags": []
          },
          "execution_count": 12
        }
      ]
    },
    {
      "cell_type": "code",
      "metadata": {
        "colab": {
          "base_uri": "https://localhost:8080/",
          "height": 204
        },
        "id": "J-_jUOwP3GGJ",
        "outputId": "92ed937a-6e3c-475b-fa44-1ead54309627"
      },
      "source": [
        "df_client.head()"
      ],
      "execution_count": 13,
      "outputs": [
        {
          "output_type": "execute_result",
          "data": {
            "text/html": [
              "<div>\n",
              "<style scoped>\n",
              "    .dataframe tbody tr th:only-of-type {\n",
              "        vertical-align: middle;\n",
              "    }\n",
              "\n",
              "    .dataframe tbody tr th {\n",
              "        vertical-align: top;\n",
              "    }\n",
              "\n",
              "    .dataframe thead th {\n",
              "        text-align: right;\n",
              "    }\n",
              "</style>\n",
              "<table border=\"1\" class=\"dataframe\">\n",
              "  <thead>\n",
              "    <tr style=\"text-align: right;\">\n",
              "      <th></th>\n",
              "      <th>client_id</th>\n",
              "      <th>birth_number</th>\n",
              "      <th>district_id</th>\n",
              "    </tr>\n",
              "  </thead>\n",
              "  <tbody>\n",
              "    <tr>\n",
              "      <th>0</th>\n",
              "      <td>1</td>\n",
              "      <td>706213</td>\n",
              "      <td>18</td>\n",
              "    </tr>\n",
              "    <tr>\n",
              "      <th>1</th>\n",
              "      <td>2</td>\n",
              "      <td>450204</td>\n",
              "      <td>1</td>\n",
              "    </tr>\n",
              "    <tr>\n",
              "      <th>2</th>\n",
              "      <td>3</td>\n",
              "      <td>406009</td>\n",
              "      <td>1</td>\n",
              "    </tr>\n",
              "    <tr>\n",
              "      <th>3</th>\n",
              "      <td>4</td>\n",
              "      <td>561201</td>\n",
              "      <td>5</td>\n",
              "    </tr>\n",
              "    <tr>\n",
              "      <th>4</th>\n",
              "      <td>5</td>\n",
              "      <td>605703</td>\n",
              "      <td>5</td>\n",
              "    </tr>\n",
              "  </tbody>\n",
              "</table>\n",
              "</div>"
            ],
            "text/plain": [
              "   client_id  birth_number  district_id\n",
              "0          1        706213           18\n",
              "1          2        450204            1\n",
              "2          3        406009            1\n",
              "3          4        561201            5\n",
              "4          5        605703            5"
            ]
          },
          "metadata": {
            "tags": []
          },
          "execution_count": 13
        }
      ]
    },
    {
      "cell_type": "code",
      "metadata": {
        "colab": {
          "base_uri": "https://localhost:8080/"
        },
        "id": "35JidayO4C5X",
        "outputId": "7b525a6a-cd5d-47b4-c89a-31ecefd5468f"
      },
      "source": [
        "df_merged = pd.merge(df_trans_acc_disp, df_client, how='left', on=['client_id', 'district_id'])\n",
        "df_merged.shape"
      ],
      "execution_count": 14,
      "outputs": [
        {
          "output_type": "execute_result",
          "data": {
            "text/plain": [
              "(1056320, 17)"
            ]
          },
          "metadata": {
            "tags": []
          },
          "execution_count": 14
        }
      ]
    },
    {
      "cell_type": "code",
      "metadata": {
        "colab": {
          "base_uri": "https://localhost:8080/"
        },
        "id": "8wGMCNV547RR",
        "outputId": "ec6dc866-e031-4bbc-a0e3-2e3d3d0e82ef"
      },
      "source": [
        "df_merged.columns"
      ],
      "execution_count": 15,
      "outputs": [
        {
          "output_type": "execute_result",
          "data": {
            "text/plain": [
              "Index(['trans_id', 'account_id', 'date_x', 'type_x', 'operation', 'amount',\n",
              "       'balance', 'k_symbol', 'bank', 'account', 'district_id', 'frequency',\n",
              "       'date_y', 'disp_id', 'client_id', 'type_y', 'birth_number'],\n",
              "      dtype='object')"
            ]
          },
          "metadata": {
            "tags": []
          },
          "execution_count": 15
        }
      ]
    },
    {
      "cell_type": "code",
      "metadata": {
        "id": "2oyeYQnB5ODm"
      },
      "source": [
        "df_merged.rename(columns={'date_x': 'trans_date', 'type_x': 'trans_type', 'date_y':'account_creation', 'type_y':'client_type'}, inplace=True)"
      ],
      "execution_count": 16,
      "outputs": []
    },
    {
      "cell_type": "code",
      "metadata": {
        "colab": {
          "base_uri": "https://localhost:8080/",
          "height": 204
        },
        "id": "tiPA68we6G-v",
        "outputId": "4b107fa8-56b3-450b-9502-a25264caf259"
      },
      "source": [
        "df_merged.head()"
      ],
      "execution_count": 17,
      "outputs": [
        {
          "output_type": "execute_result",
          "data": {
            "text/html": [
              "<div>\n",
              "<style scoped>\n",
              "    .dataframe tbody tr th:only-of-type {\n",
              "        vertical-align: middle;\n",
              "    }\n",
              "\n",
              "    .dataframe tbody tr th {\n",
              "        vertical-align: top;\n",
              "    }\n",
              "\n",
              "    .dataframe thead th {\n",
              "        text-align: right;\n",
              "    }\n",
              "</style>\n",
              "<table border=\"1\" class=\"dataframe\">\n",
              "  <thead>\n",
              "    <tr style=\"text-align: right;\">\n",
              "      <th></th>\n",
              "      <th>trans_id</th>\n",
              "      <th>account_id</th>\n",
              "      <th>trans_date</th>\n",
              "      <th>trans_type</th>\n",
              "      <th>operation</th>\n",
              "      <th>amount</th>\n",
              "      <th>balance</th>\n",
              "      <th>k_symbol</th>\n",
              "      <th>bank</th>\n",
              "      <th>account</th>\n",
              "      <th>district_id</th>\n",
              "      <th>frequency</th>\n",
              "      <th>account_creation</th>\n",
              "      <th>disp_id</th>\n",
              "      <th>client_id</th>\n",
              "      <th>client_type</th>\n",
              "      <th>birth_number</th>\n",
              "    </tr>\n",
              "  </thead>\n",
              "  <tbody>\n",
              "    <tr>\n",
              "      <th>0</th>\n",
              "      <td>695247</td>\n",
              "      <td>2378</td>\n",
              "      <td>930101</td>\n",
              "      <td>PRIJEM</td>\n",
              "      <td>VKLAD</td>\n",
              "      <td>700.0</td>\n",
              "      <td>700.0</td>\n",
              "      <td>NaN</td>\n",
              "      <td>NaN</td>\n",
              "      <td>NaN</td>\n",
              "      <td>16</td>\n",
              "      <td>POPLATEK MESICNE</td>\n",
              "      <td>930101</td>\n",
              "      <td>2873</td>\n",
              "      <td>2873</td>\n",
              "      <td>OWNER</td>\n",
              "      <td>755324.0</td>\n",
              "    </tr>\n",
              "    <tr>\n",
              "      <th>1</th>\n",
              "      <td>171812</td>\n",
              "      <td>576</td>\n",
              "      <td>930101</td>\n",
              "      <td>PRIJEM</td>\n",
              "      <td>VKLAD</td>\n",
              "      <td>900.0</td>\n",
              "      <td>900.0</td>\n",
              "      <td>NaN</td>\n",
              "      <td>NaN</td>\n",
              "      <td>NaN</td>\n",
              "      <td>55</td>\n",
              "      <td>POPLATEK MESICNE</td>\n",
              "      <td>930101</td>\n",
              "      <td>692</td>\n",
              "      <td>692</td>\n",
              "      <td>OWNER</td>\n",
              "      <td>NaN</td>\n",
              "    </tr>\n",
              "    <tr>\n",
              "      <th>2</th>\n",
              "      <td>207264</td>\n",
              "      <td>704</td>\n",
              "      <td>930101</td>\n",
              "      <td>PRIJEM</td>\n",
              "      <td>VKLAD</td>\n",
              "      <td>1000.0</td>\n",
              "      <td>1000.0</td>\n",
              "      <td>NaN</td>\n",
              "      <td>NaN</td>\n",
              "      <td>NaN</td>\n",
              "      <td>55</td>\n",
              "      <td>POPLATEK MESICNE</td>\n",
              "      <td>930101</td>\n",
              "      <td>844</td>\n",
              "      <td>844</td>\n",
              "      <td>OWNER</td>\n",
              "      <td>NaN</td>\n",
              "    </tr>\n",
              "    <tr>\n",
              "      <th>3</th>\n",
              "      <td>1117247</td>\n",
              "      <td>3818</td>\n",
              "      <td>930101</td>\n",
              "      <td>PRIJEM</td>\n",
              "      <td>VKLAD</td>\n",
              "      <td>600.0</td>\n",
              "      <td>600.0</td>\n",
              "      <td>NaN</td>\n",
              "      <td>NaN</td>\n",
              "      <td>NaN</td>\n",
              "      <td>74</td>\n",
              "      <td>POPLATEK MESICNE</td>\n",
              "      <td>930101</td>\n",
              "      <td>4601</td>\n",
              "      <td>4601</td>\n",
              "      <td>OWNER</td>\n",
              "      <td>NaN</td>\n",
              "    </tr>\n",
              "    <tr>\n",
              "      <th>4</th>\n",
              "      <td>579373</td>\n",
              "      <td>1972</td>\n",
              "      <td>930102</td>\n",
              "      <td>PRIJEM</td>\n",
              "      <td>VKLAD</td>\n",
              "      <td>400.0</td>\n",
              "      <td>400.0</td>\n",
              "      <td>NaN</td>\n",
              "      <td>NaN</td>\n",
              "      <td>NaN</td>\n",
              "      <td>77</td>\n",
              "      <td>POPLATEK MESICNE</td>\n",
              "      <td>930102</td>\n",
              "      <td>2397</td>\n",
              "      <td>2397</td>\n",
              "      <td>OWNER</td>\n",
              "      <td>NaN</td>\n",
              "    </tr>\n",
              "  </tbody>\n",
              "</table>\n",
              "</div>"
            ],
            "text/plain": [
              "   trans_id  account_id  trans_date  ... client_id client_type  birth_number\n",
              "0    695247        2378      930101  ...      2873       OWNER      755324.0\n",
              "1    171812         576      930101  ...       692       OWNER           NaN\n",
              "2    207264         704      930101  ...       844       OWNER           NaN\n",
              "3   1117247        3818      930101  ...      4601       OWNER           NaN\n",
              "4    579373        1972      930102  ...      2397       OWNER           NaN\n",
              "\n",
              "[5 rows x 17 columns]"
            ]
          },
          "metadata": {
            "tags": []
          },
          "execution_count": 17
        }
      ]
    },
    {
      "cell_type": "code",
      "metadata": {
        "colab": {
          "base_uri": "https://localhost:8080/"
        },
        "id": "GV_1Jh4H6Qy4",
        "outputId": "431b0c53-dbba-4a11-b3ac-914d0b6fb8d9"
      },
      "source": [
        "df_merged.dtypes"
      ],
      "execution_count": 18,
      "outputs": [
        {
          "output_type": "execute_result",
          "data": {
            "text/plain": [
              "trans_id              int64\n",
              "account_id            int64\n",
              "trans_date            int64\n",
              "trans_type           object\n",
              "operation            object\n",
              "amount              float64\n",
              "balance             float64\n",
              "k_symbol             object\n",
              "bank                 object\n",
              "account             float64\n",
              "district_id           int64\n",
              "frequency            object\n",
              "account_creation      int64\n",
              "disp_id               int64\n",
              "client_id             int64\n",
              "client_type          object\n",
              "birth_number        float64\n",
              "dtype: object"
            ]
          },
          "metadata": {
            "tags": []
          },
          "execution_count": 18
        }
      ]
    },
    {
      "cell_type": "code",
      "metadata": {
        "id": "tLCnpFRU5lna"
      },
      "source": [
        "df_merged['trans_date'] = pd.to_datetime(df_merged['trans_date'], format=\"%y%m%d\")\n",
        "df_merged['account_creation'] = pd.to_datetime(df_merged['account_creation'], format=\"%y%m%d\")"
      ],
      "execution_count": 19,
      "outputs": []
    },
    {
      "cell_type": "code",
      "metadata": {
        "colab": {
          "base_uri": "https://localhost:8080/"
        },
        "id": "6f791uGS6P25",
        "outputId": "d74df7b0-00de-4e10-987c-bedadf60ea06"
      },
      "source": [
        "df_merged.dtypes"
      ],
      "execution_count": 20,
      "outputs": [
        {
          "output_type": "execute_result",
          "data": {
            "text/plain": [
              "trans_id                     int64\n",
              "account_id                   int64\n",
              "trans_date          datetime64[ns]\n",
              "trans_type                  object\n",
              "operation                   object\n",
              "amount                     float64\n",
              "balance                    float64\n",
              "k_symbol                    object\n",
              "bank                        object\n",
              "account                    float64\n",
              "district_id                  int64\n",
              "frequency                   object\n",
              "account_creation    datetime64[ns]\n",
              "disp_id                      int64\n",
              "client_id                    int64\n",
              "client_type                 object\n",
              "birth_number               float64\n",
              "dtype: object"
            ]
          },
          "metadata": {
            "tags": []
          },
          "execution_count": 20
        }
      ]
    },
    {
      "cell_type": "code",
      "metadata": {
        "id": "p3Z3dB8h7lXd"
      },
      "source": [
        "df_merged['is_female'] = (df_merged['birth_number'] % 10000) / 5000 > 1"
      ],
      "execution_count": 22,
      "outputs": []
    },
    {
      "cell_type": "code",
      "metadata": {
        "colab": {
          "base_uri": "https://localhost:8080/"
        },
        "id": "4_Ml3J8f7PI_",
        "outputId": "0bcb3f5f-7672-4f2e-bcda-47d0cb213f51"
      },
      "source": [
        "df_merged['birth_number'].head()"
      ],
      "execution_count": 23,
      "outputs": [
        {
          "output_type": "execute_result",
          "data": {
            "text/plain": [
              "0    755324.0\n",
              "1         NaN\n",
              "2         NaN\n",
              "3         NaN\n",
              "4         NaN\n",
              "Name: birth_number, dtype: float64"
            ]
          },
          "metadata": {
            "tags": []
          },
          "execution_count": 23
        }
      ]
    },
    {
      "cell_type": "code",
      "metadata": {
        "id": "X4yKolNl8ys8"
      },
      "source": [
        "df_merged.loc[df_merged['is_female'] == True, 'birth_number'] -= 5000"
      ],
      "execution_count": 24,
      "outputs": []
    },
    {
      "cell_type": "code",
      "metadata": {
        "colab": {
          "base_uri": "https://localhost:8080/"
        },
        "id": "HxWTe7zS91aB",
        "outputId": "c4271ab7-ab07-449f-f4c0-ed6d786e7b66"
      },
      "source": [
        "df_merged['birth_number'].head()"
      ],
      "execution_count": 25,
      "outputs": [
        {
          "output_type": "execute_result",
          "data": {
            "text/plain": [
              "0    750324.0\n",
              "1         NaN\n",
              "2         NaN\n",
              "3         NaN\n",
              "4         NaN\n",
              "Name: birth_number, dtype: float64"
            ]
          },
          "metadata": {
            "tags": []
          },
          "execution_count": 25
        }
      ]
    },
    {
      "cell_type": "code",
      "metadata": {
        "colab": {
          "base_uri": "https://localhost:8080/"
        },
        "id": "A8cKsZf86v9u",
        "outputId": "c8bddfd1-2fb3-4c24-a488-ca12c1100cb4"
      },
      "source": [
        "pd.to_datetime(df_merged['birth_number'], format=\"%y%m%d\", errors='coerce')"
      ],
      "execution_count": 26,
      "outputs": [
        {
          "output_type": "execute_result",
          "data": {
            "text/plain": [
              "0         1975-03-24\n",
              "1                NaT\n",
              "2                NaT\n",
              "3                NaT\n",
              "4                NaT\n",
              "             ...    \n",
              "1056315   2046-05-25\n",
              "1056316   2066-11-01\n",
              "1056317   2033-12-31\n",
              "1056318   2022-07-20\n",
              "1056319   2046-12-02\n",
              "Name: birth_number, Length: 1056320, dtype: datetime64[ns]"
            ]
          },
          "metadata": {
            "tags": []
          },
          "execution_count": 26
        }
      ]
    },
    {
      "cell_type": "code",
      "metadata": {
        "colab": {
          "base_uri": "https://localhost:8080/"
        },
        "id": "F6YkBC4eClRA",
        "outputId": "483856c6-d22d-40f0-a011-c1a8a87d6058"
      },
      "source": [
        "df_merged['birth_number'] = df_merged['birth_number'].astype(str)\n",
        "df_merged['birth_number'].head()"
      ],
      "execution_count": 27,
      "outputs": [
        {
          "output_type": "execute_result",
          "data": {
            "text/plain": [
              "0    750324.0\n",
              "1         nan\n",
              "2         nan\n",
              "3         nan\n",
              "4         nan\n",
              "Name: birth_number, dtype: object"
            ]
          },
          "metadata": {
            "tags": []
          },
          "execution_count": 27
        }
      ]
    },
    {
      "cell_type": "code",
      "metadata": {
        "colab": {
          "base_uri": "https://localhost:8080/"
        },
        "id": "RkEYHyd4Dtz7",
        "outputId": "c69dda4c-a5cc-4b44-cf52-3c4a2b7d8610"
      },
      "source": [
        "import numpy as np\n",
        "df_merged.loc[df_merged['birth_number'] == 'nan', 'birth_number'] = np.nan\n",
        "df_merged['birth_number'].head()"
      ],
      "execution_count": 28,
      "outputs": [
        {
          "output_type": "execute_result",
          "data": {
            "text/plain": [
              "0    750324.0\n",
              "1         NaN\n",
              "2         NaN\n",
              "3         NaN\n",
              "4         NaN\n",
              "Name: birth_number, dtype: object"
            ]
          },
          "metadata": {
            "tags": []
          },
          "execution_count": 28
        }
      ]
    },
    {
      "cell_type": "code",
      "metadata": {
        "colab": {
          "base_uri": "https://localhost:8080/"
        },
        "id": "y2LZf7Q3CIU7",
        "outputId": "64a0185a-e79e-4940-c732-f887e2cc481d"
      },
      "source": [
        "df_merged.loc[~df_merged['birth_number'].isna(), 'birth_number'] = '19' + df_merged.loc[~df_merged['birth_number'].isna(), 'birth_number']\n",
        "df_merged['birth_number'].head()"
      ],
      "execution_count": 29,
      "outputs": [
        {
          "output_type": "execute_result",
          "data": {
            "text/plain": [
              "0    19750324.0\n",
              "1           NaN\n",
              "2           NaN\n",
              "3           NaN\n",
              "4           NaN\n",
              "Name: birth_number, dtype: object"
            ]
          },
          "metadata": {
            "tags": []
          },
          "execution_count": 29
        }
      ]
    },
    {
      "cell_type": "code",
      "metadata": {
        "colab": {
          "base_uri": "https://localhost:8080/"
        },
        "id": "14FMFck_D5pE",
        "outputId": "ba16b6ad-b2e8-4991-b13a-38c2dfd9ee9d"
      },
      "source": [
        "df_merged['birth_number'] = pd.to_datetime(df_merged['birth_number'], format=\"%Y%m%d\", errors='coerce')\n",
        "df_merged['birth_number'].head(20)"
      ],
      "execution_count": 30,
      "outputs": [
        {
          "output_type": "execute_result",
          "data": {
            "text/plain": [
              "0    1975-03-24\n",
              "1           NaT\n",
              "2           NaT\n",
              "3           NaT\n",
              "4           NaT\n",
              "5    1938-08-12\n",
              "6           NaT\n",
              "7    1979-03-24\n",
              "8    1971-03-02\n",
              "9           NaT\n",
              "10   1970-06-24\n",
              "11          NaT\n",
              "12          NaT\n",
              "13   1928-04-02\n",
              "14   1940-12-02\n",
              "15          NaT\n",
              "16   1925-08-30\n",
              "17          NaT\n",
              "18          NaT\n",
              "19   1978-06-27\n",
              "Name: birth_number, dtype: datetime64[ns]"
            ]
          },
          "metadata": {
            "tags": []
          },
          "execution_count": 30
        }
      ]
    },
    {
      "cell_type": "code",
      "metadata": {
        "id": "UnOMNI5w5-jD"
      },
      "source": [
        "df_merged['age_at_creation'] = df_merged['account_creation'] - df_merged['birth_number']"
      ],
      "execution_count": 31,
      "outputs": []
    },
    {
      "cell_type": "code",
      "metadata": {
        "id": "DFt1MP-6E7cI"
      },
      "source": [
        "df_merged['age_at_creation'] = df_merged['age_at_creation'] / np.timedelta64(1,'Y')"
      ],
      "execution_count": 32,
      "outputs": []
    },
    {
      "cell_type": "code",
      "metadata": {
        "colab": {
          "base_uri": "https://localhost:8080/",
          "height": 204
        },
        "id": "a_c3aRiiFzga",
        "outputId": "5dd2da2d-44b7-4378-b1b7-2e346fef8ea2"
      },
      "source": [
        "df_merged['age_at_creation'] = df_merged['age_at_creation'].round()\n",
        "df_merged.head()"
      ],
      "execution_count": 33,
      "outputs": [
        {
          "output_type": "execute_result",
          "data": {
            "text/html": [
              "<div>\n",
              "<style scoped>\n",
              "    .dataframe tbody tr th:only-of-type {\n",
              "        vertical-align: middle;\n",
              "    }\n",
              "\n",
              "    .dataframe tbody tr th {\n",
              "        vertical-align: top;\n",
              "    }\n",
              "\n",
              "    .dataframe thead th {\n",
              "        text-align: right;\n",
              "    }\n",
              "</style>\n",
              "<table border=\"1\" class=\"dataframe\">\n",
              "  <thead>\n",
              "    <tr style=\"text-align: right;\">\n",
              "      <th></th>\n",
              "      <th>trans_id</th>\n",
              "      <th>account_id</th>\n",
              "      <th>trans_date</th>\n",
              "      <th>trans_type</th>\n",
              "      <th>operation</th>\n",
              "      <th>amount</th>\n",
              "      <th>balance</th>\n",
              "      <th>k_symbol</th>\n",
              "      <th>bank</th>\n",
              "      <th>account</th>\n",
              "      <th>district_id</th>\n",
              "      <th>frequency</th>\n",
              "      <th>account_creation</th>\n",
              "      <th>disp_id</th>\n",
              "      <th>client_id</th>\n",
              "      <th>client_type</th>\n",
              "      <th>birth_number</th>\n",
              "      <th>is_female</th>\n",
              "      <th>age_at_creation</th>\n",
              "    </tr>\n",
              "  </thead>\n",
              "  <tbody>\n",
              "    <tr>\n",
              "      <th>0</th>\n",
              "      <td>695247</td>\n",
              "      <td>2378</td>\n",
              "      <td>1993-01-01</td>\n",
              "      <td>PRIJEM</td>\n",
              "      <td>VKLAD</td>\n",
              "      <td>700.0</td>\n",
              "      <td>700.0</td>\n",
              "      <td>NaN</td>\n",
              "      <td>NaN</td>\n",
              "      <td>NaN</td>\n",
              "      <td>16</td>\n",
              "      <td>POPLATEK MESICNE</td>\n",
              "      <td>1993-01-01</td>\n",
              "      <td>2873</td>\n",
              "      <td>2873</td>\n",
              "      <td>OWNER</td>\n",
              "      <td>1975-03-24</td>\n",
              "      <td>True</td>\n",
              "      <td>18.0</td>\n",
              "    </tr>\n",
              "    <tr>\n",
              "      <th>1</th>\n",
              "      <td>171812</td>\n",
              "      <td>576</td>\n",
              "      <td>1993-01-01</td>\n",
              "      <td>PRIJEM</td>\n",
              "      <td>VKLAD</td>\n",
              "      <td>900.0</td>\n",
              "      <td>900.0</td>\n",
              "      <td>NaN</td>\n",
              "      <td>NaN</td>\n",
              "      <td>NaN</td>\n",
              "      <td>55</td>\n",
              "      <td>POPLATEK MESICNE</td>\n",
              "      <td>1993-01-01</td>\n",
              "      <td>692</td>\n",
              "      <td>692</td>\n",
              "      <td>OWNER</td>\n",
              "      <td>NaT</td>\n",
              "      <td>False</td>\n",
              "      <td>NaN</td>\n",
              "    </tr>\n",
              "    <tr>\n",
              "      <th>2</th>\n",
              "      <td>207264</td>\n",
              "      <td>704</td>\n",
              "      <td>1993-01-01</td>\n",
              "      <td>PRIJEM</td>\n",
              "      <td>VKLAD</td>\n",
              "      <td>1000.0</td>\n",
              "      <td>1000.0</td>\n",
              "      <td>NaN</td>\n",
              "      <td>NaN</td>\n",
              "      <td>NaN</td>\n",
              "      <td>55</td>\n",
              "      <td>POPLATEK MESICNE</td>\n",
              "      <td>1993-01-01</td>\n",
              "      <td>844</td>\n",
              "      <td>844</td>\n",
              "      <td>OWNER</td>\n",
              "      <td>NaT</td>\n",
              "      <td>False</td>\n",
              "      <td>NaN</td>\n",
              "    </tr>\n",
              "    <tr>\n",
              "      <th>3</th>\n",
              "      <td>1117247</td>\n",
              "      <td>3818</td>\n",
              "      <td>1993-01-01</td>\n",
              "      <td>PRIJEM</td>\n",
              "      <td>VKLAD</td>\n",
              "      <td>600.0</td>\n",
              "      <td>600.0</td>\n",
              "      <td>NaN</td>\n",
              "      <td>NaN</td>\n",
              "      <td>NaN</td>\n",
              "      <td>74</td>\n",
              "      <td>POPLATEK MESICNE</td>\n",
              "      <td>1993-01-01</td>\n",
              "      <td>4601</td>\n",
              "      <td>4601</td>\n",
              "      <td>OWNER</td>\n",
              "      <td>NaT</td>\n",
              "      <td>False</td>\n",
              "      <td>NaN</td>\n",
              "    </tr>\n",
              "    <tr>\n",
              "      <th>4</th>\n",
              "      <td>579373</td>\n",
              "      <td>1972</td>\n",
              "      <td>1993-01-02</td>\n",
              "      <td>PRIJEM</td>\n",
              "      <td>VKLAD</td>\n",
              "      <td>400.0</td>\n",
              "      <td>400.0</td>\n",
              "      <td>NaN</td>\n",
              "      <td>NaN</td>\n",
              "      <td>NaN</td>\n",
              "      <td>77</td>\n",
              "      <td>POPLATEK MESICNE</td>\n",
              "      <td>1993-01-02</td>\n",
              "      <td>2397</td>\n",
              "      <td>2397</td>\n",
              "      <td>OWNER</td>\n",
              "      <td>NaT</td>\n",
              "      <td>False</td>\n",
              "      <td>NaN</td>\n",
              "    </tr>\n",
              "  </tbody>\n",
              "</table>\n",
              "</div>"
            ],
            "text/plain": [
              "   trans_id  account_id trans_date  ... birth_number is_female  age_at_creation\n",
              "0    695247        2378 1993-01-01  ...   1975-03-24      True             18.0\n",
              "1    171812         576 1993-01-01  ...          NaT     False              NaN\n",
              "2    207264         704 1993-01-01  ...          NaT     False              NaN\n",
              "3   1117247        3818 1993-01-01  ...          NaT     False              NaN\n",
              "4    579373        1972 1993-01-02  ...          NaT     False              NaN\n",
              "\n",
              "[5 rows x 19 columns]"
            ]
          },
          "metadata": {
            "tags": []
          },
          "execution_count": 33
        }
      ]
    },
    {
      "cell_type": "code",
      "metadata": {
        "id": "0zz7GwE084Vf"
      },
      "source": [
        ""
      ],
      "execution_count": null,
      "outputs": []
    }
  ]
}