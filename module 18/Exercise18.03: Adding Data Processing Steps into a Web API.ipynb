{
  "nbformat": 4,
  "nbformat_minor": 0,
  "metadata": {
    "colab": {
      "name": "Exercise18_03.ipynb",
      "provenance": [],
      "collapsed_sections": [],
      "include_colab_link": true
    },
    "kernelspec": {
      "name": "python3",
      "display_name": "Python 3"
    }
  },
  "cells": [
    {
      "cell_type": "markdown",
      "metadata": {
        "id": "view-in-github",
        "colab_type": "text"
      },
      "source": [
        "<a href=\"https://colab.research.google.com/github/sandeep92134/The-Data-Science-Workshop-By-Packt/blob/master/module%2018/Exercise18.03%3A%20Adding%20Data%20Processing%20Steps%20into%20a%20Web%20API.ipynb\" target=\"_parent\"><img src=\"https://colab.research.google.com/assets/colab-badge.svg\" alt=\"Open In Colab\"/></a>"
      ]
    },
    {
      "cell_type": "code",
      "metadata": {
        "id": "_b0A-ElAnHj2"
      },
      "source": [
        "import pandas as pd\n",
        "import joblib\n",
        "from sklearn.ensemble import RandomForestClassifier"
      ],
      "execution_count": 1,
      "outputs": []
    },
    {
      "cell_type": "code",
      "metadata": {
        "id": "xuyNn2VlnHm9"
      },
      "source": [
        "file_url = 'https://raw.githubusercontent.com/sandeep92134/The-Data-Science-Workshop-By-Packt/master/module%2011/datasets/breast-cancer-wisconsin.data'"
      ],
      "execution_count": 2,
      "outputs": []
    },
    {
      "cell_type": "code",
      "metadata": {
        "id": "MSH55O2Qn3nn"
      },
      "source": [
        "col_names = ['Sample code number','Clump Thickness','Uniformity of Cell Size','Uniformity of Cell Shape','Marginal Adhesion','Single Epithelial Cell Size',\n",
        "'Bare Nuclei','Bland Chromatin','Normal Nucleoli','Mitoses','Class']"
      ],
      "execution_count": 3,
      "outputs": []
    },
    {
      "cell_type": "code",
      "metadata": {
        "id": "qHM7W8jTnHye"
      },
      "source": [
        "df = pd.read_csv(file_url, header=None, names=col_names, na_values='?')"
      ],
      "execution_count": 4,
      "outputs": []
    },
    {
      "cell_type": "code",
      "metadata": {
        "id": "ZOV3ihu0dnnG"
      },
      "source": [
        "y = df.pop('Class')"
      ],
      "execution_count": 5,
      "outputs": []
    },
    {
      "cell_type": "code",
      "metadata": {
        "id": "hnADQ-gGfGk4"
      },
      "source": [
        "df.drop('Sample code number', axis=1, inplace=True)"
      ],
      "execution_count": 6,
      "outputs": []
    },
    {
      "cell_type": "code",
      "metadata": {
        "id": "mtp9sRXbdnpx",
        "colab": {
          "base_uri": "https://localhost:8080/"
        },
        "outputId": "4f70bf95-967f-4793-b936-a771a3c2907d"
      },
      "source": [
        "training_rows = int(df.shape[0] * 0.7)\n",
        "training_rows"
      ],
      "execution_count": 7,
      "outputs": [
        {
          "output_type": "execute_result",
          "data": {
            "text/plain": [
              "489"
            ]
          },
          "metadata": {
            "tags": []
          },
          "execution_count": 7
        }
      ]
    },
    {
      "cell_type": "code",
      "metadata": {
        "id": "5QiCAi94dnsE"
      },
      "source": [
        "X_train = df[:training_rows]\n",
        "y_train = y[:training_rows]\n",
        "X_test = df[training_rows:]\n",
        "y_test = y[training_rows:]"
      ],
      "execution_count": 8,
      "outputs": []
    },
    {
      "cell_type": "code",
      "metadata": {
        "id": "APxUiwuLdnzH",
        "colab": {
          "base_uri": "https://localhost:8080/"
        },
        "outputId": "5a5e8088-620f-4a64-a1ca-abfb96a56f1f"
      },
      "source": [
        "X_train.isna().sum()"
      ],
      "execution_count": 9,
      "outputs": [
        {
          "output_type": "execute_result",
          "data": {
            "text/plain": [
              "Clump Thickness                 0\n",
              "Uniformity of Cell Size         0\n",
              "Uniformity of Cell Shape        0\n",
              "Marginal Adhesion               0\n",
              "Single Epithelial Cell Size     0\n",
              "Bare Nuclei                    15\n",
              "Bland Chromatin                 0\n",
              "Normal Nucleoli                 0\n",
              "Mitoses                         0\n",
              "dtype: int64"
            ]
          },
          "metadata": {
            "tags": []
          },
          "execution_count": 9
        }
      ]
    },
    {
      "cell_type": "code",
      "metadata": {
        "id": "ChSTYAQHdn16",
        "colab": {
          "base_uri": "https://localhost:8080/"
        },
        "outputId": "b0f82ff0-279b-4062-e458-cc6c83086411"
      },
      "source": [
        "num_columns = [col for col in X_train.columns if X_train[col].dtype != 'object']\n",
        "num_columns"
      ],
      "execution_count": 10,
      "outputs": [
        {
          "output_type": "execute_result",
          "data": {
            "text/plain": [
              "['Clump Thickness',\n",
              " 'Uniformity of Cell Size',\n",
              " 'Uniformity of Cell Shape',\n",
              " 'Marginal Adhesion',\n",
              " 'Single Epithelial Cell Size',\n",
              " 'Bare Nuclei',\n",
              " 'Bland Chromatin',\n",
              " 'Normal Nucleoli',\n",
              " 'Mitoses']"
            ]
          },
          "metadata": {
            "tags": []
          },
          "execution_count": 10
        }
      ]
    },
    {
      "cell_type": "code",
      "metadata": {
        "id": "C3rO4euNekF3",
        "colab": {
          "base_uri": "https://localhost:8080/"
        },
        "outputId": "6ecf3bf8-2d0a-4b53-e915-76aea12cf8c5"
      },
      "source": [
        "column_mean = {}\n",
        "for col in num_columns:\n",
        "  column_mean[col] = X_train[col].mean()\n",
        "column_mean"
      ],
      "execution_count": 11,
      "outputs": [
        {
          "output_type": "execute_result",
          "data": {
            "text/plain": [
              "{'Bare Nuclei': 4.0042194092827,\n",
              " 'Bland Chromatin': 3.61758691206544,\n",
              " 'Clump Thickness': 4.644171779141105,\n",
              " 'Marginal Adhesion': 2.9529652351738243,\n",
              " 'Mitoses': 1.7198364008179958,\n",
              " 'Normal Nucleoli': 3.1533742331288344,\n",
              " 'Single Epithelial Cell Size': 3.462167689161554,\n",
              " 'Uniformity of Cell Shape': 3.4478527607361964,\n",
              " 'Uniformity of Cell Size': 3.347648261758691}"
            ]
          },
          "metadata": {
            "tags": []
          },
          "execution_count": 11
        }
      ]
    },
    {
      "cell_type": "code",
      "metadata": {
        "id": "XNPAWdnNe_ug"
      },
      "source": [
        "import pickle\n",
        "pickle.dump(column_mean, open(\"columns_mean.pkl\", \"wb\" ) )"
      ],
      "execution_count": 12,
      "outputs": []
    },
    {
      "cell_type": "code",
      "metadata": {
        "id": "V1vXPXzie_rt",
        "colab": {
          "base_uri": "https://localhost:8080/"
        },
        "outputId": "672d3a73-2460-43eb-98b2-43bf795a0aed"
      },
      "source": [
        "for col in num_columns:\n",
        "  X_train[col].fillna(column_mean[col], inplace=True)"
      ],
      "execution_count": 13,
      "outputs": [
        {
          "output_type": "stream",
          "text": [
            "/usr/local/lib/python3.6/dist-packages/pandas/core/series.py:4536: SettingWithCopyWarning: \n",
            "A value is trying to be set on a copy of a slice from a DataFrame\n",
            "\n",
            "See the caveats in the documentation: https://pandas.pydata.org/pandas-docs/stable/user_guide/indexing.html#returning-a-view-versus-a-copy\n",
            "  downcast=downcast,\n"
          ],
          "name": "stderr"
        }
      ]
    },
    {
      "cell_type": "code",
      "metadata": {
        "id": "QkFwEdz-ficr",
        "colab": {
          "base_uri": "https://localhost:8080/"
        },
        "outputId": "969d236f-7c08-49a8-f7c4-33d9e3258d34"
      },
      "source": [
        "rf_model = RandomForestClassifier(random_state=1)\n",
        "rf_model.fit(X_train, y_train)\n",
        "joblib.dump(rf_model, \"model.pkl\") "
      ],
      "execution_count": 14,
      "outputs": [
        {
          "output_type": "execute_result",
          "data": {
            "text/plain": [
              "['model.pkl']"
            ]
          },
          "metadata": {
            "tags": []
          },
          "execution_count": 14
        }
      ]
    },
    {
      "cell_type": "code",
      "metadata": {
        "id": "7E2YdRNef1eP"
      },
      "source": [
        "import socket\n",
        "import threading\n",
        "import requests\n",
        "import json\n",
        "from flask import Flask, jsonify, request\n",
        "import numpy as np"
      ],
      "execution_count": 15,
      "outputs": []
    },
    {
      "cell_type": "code",
      "metadata": {
        "id": "eo2FtaYSf1kw"
      },
      "source": [
        "app = Flask(__name__)"
      ],
      "execution_count": 16,
      "outputs": []
    },
    {
      "cell_type": "code",
      "metadata": {
        "id": "ketUKpP0f1nE"
      },
      "source": [
        "trained_model = joblib.load(\"model.pkl\")\n",
        "var_means = pickle.load(open(\"columns_mean.pkl\", \"rb\" ) )"
      ],
      "execution_count": 17,
      "outputs": []
    },
    {
      "cell_type": "code",
      "metadata": {
        "id": "hYSIZLGxf1pb"
      },
      "source": [
        "@app.route('/api', methods=['POST'])\n",
        "def predict():\n",
        "  data = request.get_json()\n",
        "  df_test = pd.DataFrame(data, index=[0])\n",
        "  for col, avg_value in var_means.items():\n",
        "    df_test[col].fillna(avg_value, inplace=True)\n",
        "  prediction = trained_model.predict(df_test)\n",
        "  str_pred = np.array2string(prediction)\n",
        "  return jsonify(str_pred)"
      ],
      "execution_count": 18,
      "outputs": []
    },
    {
      "cell_type": "code",
      "metadata": {
        "id": "d-8fz7aFf1jm",
        "colab": {
          "base_uri": "https://localhost:8080/"
        },
        "outputId": "6cb95b15-76fa-4268-e8f9-9e7be8a1c208"
      },
      "source": [
        "flask_thread = threading.Thread(target=app.run, kwargs={'host':'0.0.0.0','port':80})\n",
        "flask_thread.start()"
      ],
      "execution_count": 19,
      "outputs": [
        {
          "output_type": "stream",
          "text": [
            " * Serving Flask app \"__main__\" (lazy loading)\n",
            " * Environment: production\n",
            "\u001b[31m   WARNING: This is a development server. Do not use it in a production deployment.\u001b[0m\n",
            "\u001b[2m   Use a production WSGI server instead.\u001b[0m\n",
            " * Debug mode: off\n"
          ],
          "name": "stdout"
        },
        {
          "output_type": "stream",
          "text": [
            " * Running on http://0.0.0.0:80/ (Press CTRL+C to quit)\n"
          ],
          "name": "stderr"
        }
      ]
    },
    {
      "cell_type": "code",
      "metadata": {
        "id": "AF4eiCKugmZ1",
        "colab": {
          "base_uri": "https://localhost:8080/",
          "height": 35
        },
        "outputId": "41ed3eeb-2278-477b-a21e-38cc19ab6244"
      },
      "source": [
        "record = X_test[X_test['Bare Nuclei'].isna()].iloc[0].to_json()\n",
        "record"
      ],
      "execution_count": 20,
      "outputs": [
        {
          "output_type": "execute_result",
          "data": {
            "application/vnd.google.colaboratory.intrinsic+json": {
              "type": "string"
            },
            "text/plain": [
              "'{\"Clump Thickness\":1.0,\"Uniformity of Cell Size\":1.0,\"Uniformity of Cell Shape\":1.0,\"Marginal Adhesion\":1.0,\"Single Epithelial Cell Size\":1.0,\"Bare Nuclei\":null,\"Bland Chromatin\":1.0,\"Normal Nucleoli\":1.0,\"Mitoses\":1.0}'"
            ]
          },
          "metadata": {
            "tags": []
          },
          "execution_count": 20
        }
      ]
    },
    {
      "cell_type": "code",
      "metadata": {
        "id": "-GLgAVCTf1g3"
      },
      "source": [
        "headers = {'content-type': 'application/json', 'Accept-Charset': 'UTF-8'}\n",
        "ip_address = socket.gethostbyname(socket.gethostname())"
      ],
      "execution_count": 21,
      "outputs": []
    },
    {
      "cell_type": "code",
      "metadata": {
        "id": "DR7wNIjkgmfa",
        "colab": {
          "base_uri": "https://localhost:8080/",
          "height": 52
        },
        "outputId": "554ad3be-0567-4340-8d58-259712934bb6"
      },
      "source": [
        "r = requests.post(f\"http://{ip_address}/api\", data=record, headers=headers)\n",
        "r.text"
      ],
      "execution_count": 22,
      "outputs": [
        {
          "output_type": "stream",
          "text": [
            "172.28.0.2 - - [19/Feb/2021 12:35:41] \"\u001b[37mPOST /api HTTP/1.1\u001b[0m\" 200 -\n"
          ],
          "name": "stderr"
        },
        {
          "output_type": "execute_result",
          "data": {
            "application/vnd.google.colaboratory.intrinsic+json": {
              "type": "string"
            },
            "text/plain": [
              "'\"[2]\"\\n'"
            ]
          },
          "metadata": {
            "tags": []
          },
          "execution_count": 22
        }
      ]
    },
    {
      "cell_type": "code",
      "metadata": {
        "id": "i1gvTIoVSfpk"
      },
      "source": [
        ""
      ],
      "execution_count": null,
      "outputs": []
    }
  ]
}