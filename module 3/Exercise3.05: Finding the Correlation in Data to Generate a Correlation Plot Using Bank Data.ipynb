{
  "nbformat": 4,
  "nbformat_minor": 0,
  "metadata": {
    "colab": {
      "name": "Exercise3_05.ipynb",
      "provenance": [],
      "collapsed_sections": [],
      "include_colab_link": true
    },
    "kernelspec": {
      "name": "python3",
      "display_name": "Python 3"
    }
  },
  "cells": [
    {
      "cell_type": "markdown",
      "metadata": {
        "id": "view-in-github",
        "colab_type": "text"
      },
      "source": [
        "<a href=\"https://colab.research.google.com/github/sandeep92134/The-Data-Science-Workshop-By-Packt/blob/master/module%203/Exercise3.05%3A%20Finding%20the%20Correlation%20in%20Data%20to%20Generate%20a%20Correlation%20Plot%20Using%20Bank%20Data.ipynb\" target=\"_parent\"><img src=\"https://colab.research.google.com/assets/colab-badge.svg\" alt=\"Open In Colab\"/></a>"
      ]
    },
    {
      "cell_type": "code",
      "metadata": {
        "id": "8UMFqsCD0xyF"
      },
      "source": [
        "# Importing necessary packages\n",
        "import pandas as pd"
      ],
      "execution_count": 1,
      "outputs": []
    },
    {
      "cell_type": "code",
      "metadata": {
        "id": "HSXgY0ze09cY"
      },
      "source": [
        "file_url = 'https://raw.githubusercontent.com/PacktWorkshops/The-Data-Science-Workshop/master/Chapter03/bank-full.csv'\n",
        "bankData = pd.read_csv(file_url, sep=\";\")"
      ],
      "execution_count": 2,
      "outputs": []
    },
    {
      "cell_type": "code",
      "metadata": {
        "id": "NiRh58PlaJoZ"
      },
      "source": [
        "from pandas import set_option"
      ],
      "execution_count": 3,
      "outputs": []
    },
    {
      "cell_type": "code",
      "metadata": {
        "id": "9wn-4MiPabSL"
      },
      "source": [
        "bankNumeric = bankData[['age','balance','day','duration','campaign','pdays','previous']]"
      ],
      "execution_count": 4,
      "outputs": []
    },
    {
      "cell_type": "code",
      "metadata": {
        "id": "deI0ALoiaL3i",
        "colab": {
          "base_uri": "https://localhost:8080/",
          "height": 266
        },
        "outputId": "bf52094d-4602-40a7-c4a4-7447f8d3b448"
      },
      "source": [
        "set_option('display.width',150)\n",
        "set_option('precision',3)\n",
        "bankCorr = bankNumeric.corr(method = 'pearson')\n",
        "bankCorr"
      ],
      "execution_count": 5,
      "outputs": [
        {
          "output_type": "execute_result",
          "data": {
            "text/html": [
              "<div>\n",
              "<style scoped>\n",
              "    .dataframe tbody tr th:only-of-type {\n",
              "        vertical-align: middle;\n",
              "    }\n",
              "\n",
              "    .dataframe tbody tr th {\n",
              "        vertical-align: top;\n",
              "    }\n",
              "\n",
              "    .dataframe thead th {\n",
              "        text-align: right;\n",
              "    }\n",
              "</style>\n",
              "<table border=\"1\" class=\"dataframe\">\n",
              "  <thead>\n",
              "    <tr style=\"text-align: right;\">\n",
              "      <th></th>\n",
              "      <th>age</th>\n",
              "      <th>balance</th>\n",
              "      <th>day</th>\n",
              "      <th>duration</th>\n",
              "      <th>campaign</th>\n",
              "      <th>pdays</th>\n",
              "      <th>previous</th>\n",
              "    </tr>\n",
              "  </thead>\n",
              "  <tbody>\n",
              "    <tr>\n",
              "      <th>age</th>\n",
              "      <td>1.000</td>\n",
              "      <td>0.098</td>\n",
              "      <td>-0.009</td>\n",
              "      <td>-0.005</td>\n",
              "      <td>0.005</td>\n",
              "      <td>-0.024</td>\n",
              "      <td>0.001</td>\n",
              "    </tr>\n",
              "    <tr>\n",
              "      <th>balance</th>\n",
              "      <td>0.098</td>\n",
              "      <td>1.000</td>\n",
              "      <td>0.005</td>\n",
              "      <td>0.022</td>\n",
              "      <td>-0.015</td>\n",
              "      <td>0.003</td>\n",
              "      <td>0.017</td>\n",
              "    </tr>\n",
              "    <tr>\n",
              "      <th>day</th>\n",
              "      <td>-0.009</td>\n",
              "      <td>0.005</td>\n",
              "      <td>1.000</td>\n",
              "      <td>-0.030</td>\n",
              "      <td>0.162</td>\n",
              "      <td>-0.093</td>\n",
              "      <td>-0.052</td>\n",
              "    </tr>\n",
              "    <tr>\n",
              "      <th>duration</th>\n",
              "      <td>-0.005</td>\n",
              "      <td>0.022</td>\n",
              "      <td>-0.030</td>\n",
              "      <td>1.000</td>\n",
              "      <td>-0.085</td>\n",
              "      <td>-0.002</td>\n",
              "      <td>0.001</td>\n",
              "    </tr>\n",
              "    <tr>\n",
              "      <th>campaign</th>\n",
              "      <td>0.005</td>\n",
              "      <td>-0.015</td>\n",
              "      <td>0.162</td>\n",
              "      <td>-0.085</td>\n",
              "      <td>1.000</td>\n",
              "      <td>-0.089</td>\n",
              "      <td>-0.033</td>\n",
              "    </tr>\n",
              "    <tr>\n",
              "      <th>pdays</th>\n",
              "      <td>-0.024</td>\n",
              "      <td>0.003</td>\n",
              "      <td>-0.093</td>\n",
              "      <td>-0.002</td>\n",
              "      <td>-0.089</td>\n",
              "      <td>1.000</td>\n",
              "      <td>0.455</td>\n",
              "    </tr>\n",
              "    <tr>\n",
              "      <th>previous</th>\n",
              "      <td>0.001</td>\n",
              "      <td>0.017</td>\n",
              "      <td>-0.052</td>\n",
              "      <td>0.001</td>\n",
              "      <td>-0.033</td>\n",
              "      <td>0.455</td>\n",
              "      <td>1.000</td>\n",
              "    </tr>\n",
              "  </tbody>\n",
              "</table>\n",
              "</div>"
            ],
            "text/plain": [
              "            age  balance    day  duration  campaign  pdays  previous\n",
              "age       1.000    0.098 -0.009    -0.005     0.005 -0.024     0.001\n",
              "balance   0.098    1.000  0.005     0.022    -0.015  0.003     0.017\n",
              "day      -0.009    0.005  1.000    -0.030     0.162 -0.093    -0.052\n",
              "duration -0.005    0.022 -0.030     1.000    -0.085 -0.002     0.001\n",
              "campaign  0.005   -0.015  0.162    -0.085     1.000 -0.089    -0.033\n",
              "pdays    -0.024    0.003 -0.093    -0.002    -0.089  1.000     0.455\n",
              "previous  0.001    0.017 -0.052     0.001    -0.033  0.455     1.000"
            ]
          },
          "metadata": {
            "tags": []
          },
          "execution_count": 5
        }
      ]
    },
    {
      "cell_type": "code",
      "metadata": {
        "id": "F8JT-MtWb6eY",
        "colab": {
          "base_uri": "https://localhost:8080/",
          "height": 271
        },
        "outputId": "b47d4e92-e4f0-42aa-a64c-0fdc473b924c"
      },
      "source": [
        "# Plotting the correlation matrix\n",
        "\n",
        "from matplotlib import pyplot\n",
        "\n",
        "corFig = pyplot.figure()\n",
        "figAxis = corFig.add_subplot(111)\n",
        "corAx = figAxis.matshow(bankCorr,vmin=-1,vmax=1)\n",
        "corFig.colorbar(corAx)\n",
        "pyplot.show()"
      ],
      "execution_count": 6,
      "outputs": [
        {
          "output_type": "display_data",
          "data": {
            "image/png": "[encoded data removed]",
            "text/plain": [
              "<Figure size 432x288 with 2 Axes>"
            ]
          },
          "metadata": {
            "tags": [],
            "needs_background": "light"
          }
        }
      ]
    },
    {
      "cell_type": "code",
      "metadata": {
        "id": "MP0iSNxmGoRq"
      },
      "source": [
        ""
      ],
      "execution_count": null,
      "outputs": []
    }
  ]
}