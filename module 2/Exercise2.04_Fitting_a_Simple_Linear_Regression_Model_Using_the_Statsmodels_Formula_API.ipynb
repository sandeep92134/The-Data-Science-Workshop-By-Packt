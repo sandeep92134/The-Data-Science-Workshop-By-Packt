{
  "nbformat": 4,
  "nbformat_minor": 0,
  "metadata": {
    "colab": {
      "name": "Exercise2_04: Fitting a Simple Linear Regression Model Using the Statsmodels Formula API.ipynb",
      "provenance": [],
      "include_colab_link": true
    },
    "kernelspec": {
      "display_name": "Python 3",
      "language": "python",
      "name": "python3"
    },
    "language_info": {
      "codemirror_mode": {
        "name": "ipython",
        "version": 3
      },
      "file_extension": ".py",
      "mimetype": "text/x-python",
      "name": "python",
      "nbconvert_exporter": "python",
      "pygments_lexer": "ipython3",
      "version": "3.7.4"
    }
  },
  "cells": [
    {
      "cell_type": "markdown",
      "metadata": {
        "id": "view-in-github",
        "colab_type": "text"
      },
      "source": [
        "<a href=\"https://colab.research.google.com/github/sandeep92134/The-Data-Science-Workshop-By-Packt/blob/master/module%202/Exercise2.04_Fitting_a_Simple_Linear_Regression_Model_Using_the_Statsmodels_Formula_API.ipynb\" target=\"_parent\"><img src=\"https://colab.research.google.com/assets/colab-badge.svg\" alt=\"Open In Colab\"/></a>"
      ]
    },
    {
      "cell_type": "markdown",
      "metadata": {
        "id": "ZPK9fWz0xGeD"
      },
      "source": [
        "**Import the necessary modules and prepare the data**"
      ]
    },
    {
      "cell_type": "code",
      "metadata": {
        "id": "k5QR71xFLGkh",
        "colab": {
          "base_uri": "https://localhost:8080/"
        },
        "outputId": "8ee809e0-df34-46b7-f964-5de04d43e070"
      },
      "source": [
        "import pandas as pd\n",
        "import pandas.util.testing as tm\n",
        "import statsmodels.formula.api as smf\n",
        "from sklearn.model_selection import train_test_split"
      ],
      "execution_count": 1,
      "outputs": [
        {
          "output_type": "stream",
          "text": [
            "/usr/local/lib/python3.6/dist-packages/ipykernel_launcher.py:2: FutureWarning: pandas.util.testing is deprecated. Use the functions in the public API at pandas.testing instead.\n",
            "  \n"
          ],
          "name": "stderr"
        }
      ]
    },
    {
      "cell_type": "code",
      "metadata": {
        "id": "RpkR60AxLNkl"
      },
      "source": [
        "rawBostonData = pd.read_csv('https://raw.githubusercontent.com/PacktWorkshops/The-Data-Science-Workshop/master/Chapter02/Dataset/Boston.csv')"
      ],
      "execution_count": 2,
      "outputs": []
    },
    {
      "cell_type": "code",
      "metadata": {
        "id": "2Qwjq3ODLWUF"
      },
      "source": [
        "rawBostonData = rawBostonData.dropna()\n",
        "rawBostonData = rawBostonData.drop_duplicates() \n",
        "renamedBostonData = rawBostonData.rename(columns = {'CRIM':'crimeRatePerCapita',\n",
        " ' ZN ':'landOver25K_sqft',\n",
        " 'INDUS ':'non-retailLandProptn',\n",
        " 'CHAS':'riverDummy',\n",
        " 'NOX':'nitrixOxide_pp10m',\n",
        " 'RM':'AvgNo.RoomsPerDwelling',\n",
        " 'AGE':'ProptnOwnerOccupied',\n",
        " 'DIS':'weightedDist',\n",
        " 'RAD':'radialHighwaysAccess',\n",
        " 'TAX':'propTaxRate_per10K',\n",
        " 'PTRATIO':'pupilTeacherRatio',\n",
        " 'LSTAT':'pctLowerStatus',\n",
        " 'MEDV':'medianValue_Ks'})\n",
        "X = renamedBostonData.drop('crimeRatePerCapita', axis = 1)\n",
        "y = renamedBostonData[['crimeRatePerCapita']]\n",
        "seed = 10 \n",
        "test_data_size = 0.3 \n",
        "X_train, X_test, y_train, y_test = train_test_split(X, y, test_size = test_data_size, random_state = seed)\n",
        "train_data = pd.concat([X_train, y_train], axis = 1)\n",
        "test_data = pd.concat([X_test, y_test], axis = 1)"
      ],
      "execution_count": 3,
      "outputs": []
    },
    {
      "cell_type": "markdown",
      "metadata": {
        "id": "3B9t1_oXO6GB"
      },
      "source": [
        "**Exercise 2.04: Fit a simple linear regression model using the Statsmodels formula API**"
      ]
    },
    {
      "cell_type": "code",
      "metadata": {
        "id": "o_CbjkexLfyy",
        "colab": {
          "base_uri": "https://localhost:8080/"
        },
        "outputId": "fe068683-52df-4e4c-9060-c560e02e1829"
      },
      "source": [
        "# Use the statsmodels API to create a simple linear regression\n",
        "\n",
        "linearModel = smf.ols(formula='crimeRatePerCapita ~ medianValue_Ks',\\\n",
        "data=train_data)\n",
        "linearModelResult = linearModel.fit()\n",
        "print(linearModelResult.summary())"
      ],
      "execution_count": 4,
      "outputs": [
        {
          "output_type": "stream",
          "text": [
            "                            OLS Regression Results                            \n",
            "==============================================================================\n",
            "Dep. Variable:     crimeRatePerCapita   R-squared:                       0.144\n",
            "Model:                            OLS   Adj. R-squared:                  0.141\n",
            "Method:                 Least Squares   F-statistic:                     59.02\n",
            "Date:                Tue, 19 Jan 2021   Prob (F-statistic):           1.56e-13\n",
            "Time:                        15:38:44   Log-Likelihood:                -1217.4\n",
            "No. Observations:                 354   AIC:                             2439.\n",
            "Df Residuals:                     352   BIC:                             2447.\n",
            "Df Model:                           1                                         \n",
            "Covariance Type:            nonrobust                                         \n",
            "==================================================================================\n",
            "                     coef    std err          t      P>|t|      [0.025      0.975]\n",
            "----------------------------------------------------------------------------------\n",
            "Intercept         11.2094      1.079     10.386      0.000       9.087      13.332\n",
            "medianValue_Ks    -0.3502      0.046     -7.683      0.000      -0.440      -0.261\n",
            "==============================================================================\n",
            "Omnibus:                      447.354   Durbin-Watson:                   1.928\n",
            "Prob(Omnibus):                  0.000   Jarque-Bera (JB):            39791.431\n",
            "Skew:                           5.897   Prob(JB):                         0.00\n",
            "Kurtosis:                      53.583   Cond. No.                         63.7\n",
            "==============================================================================\n",
            "\n",
            "Warnings:\n",
            "[1] Standard Errors assume that the covariance matrix of the errors is correctly specified.\n"
          ],
          "name": "stdout"
        }
      ]
    },
    {
      "cell_type": "code",
      "metadata": {
        "id": "jwUDeB3QS8uc"
      },
      "source": [
        ""
      ],
      "execution_count": 4,
      "outputs": []
    }
  ]
}