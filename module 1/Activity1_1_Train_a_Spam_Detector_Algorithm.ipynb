{
  "nbformat": 4,
  "nbformat_minor": 0,
  "metadata": {
    "colab": {
      "name": "Activity1.1 : Train a Spam Detector Algorithm.ipynb",
      "provenance": [],
      "collapsed_sections": [],
      "include_colab_link": true
    },
    "kernelspec": {
      "name": "python3",
      "display_name": "Python 3"
    }
  },
  "cells": [
    {
      "cell_type": "markdown",
      "metadata": {
        "id": "view-in-github",
        "colab_type": "text"
      },
      "source": [
        "<a href=\"https://colab.research.google.com/github/sandeep92134/The-Data-Science-Workshop-By-Packt/blob/master/module%201/Activity1_1_Train_a_Spam_Detector_Algorithm.ipynb\" target=\"_parent\"><img src=\"https://colab.research.google.com/assets/colab-badge.svg\" alt=\"Open In Colab\"/></a>"
      ]
    },
    {
      "cell_type": "code",
      "metadata": {
        "id": "erRKYnEAzvoF"
      },
      "source": [
        "import pandas as pd"
      ],
      "execution_count": 1,
      "outputs": []
    },
    {
      "cell_type": "code",
      "metadata": {
        "id": "jY6Aar2MzzPO"
      },
      "source": [
        "file_url = 'https://raw.githubusercontent.com/PacktWorkshops/The-Data-Science-Workshop/master/Chapter01/Dataset/dataset_44_spambase.csv'"
      ],
      "execution_count": 2,
      "outputs": []
    },
    {
      "cell_type": "code",
      "metadata": {
        "id": "61kW2l6DzzS5"
      },
      "source": [
        "df = pd.read_csv(file_url)"
      ],
      "execution_count": 3,
      "outputs": []
    },
    {
      "cell_type": "code",
      "metadata": {
        "id": "VFjr_puO5GBs",
        "colab": {
          "base_uri": "https://localhost:8080/"
        },
        "outputId": "1b213876-a747-4438-fe52-5d931aa03c7f"
      },
      "source": [
        "print(df)"
      ],
      "execution_count": 4,
      "outputs": [
        {
          "output_type": "stream",
          "text": [
            "      word_freq_make  word_freq_address  ...  capital_run_length_total  class\n",
            "0               0.00               0.64  ...                       278      1\n",
            "1               0.21               0.28  ...                      1028      1\n",
            "2               0.06               0.00  ...                      2259      1\n",
            "3               0.00               0.00  ...                       191      1\n",
            "4               0.00               0.00  ...                       191      1\n",
            "...              ...                ...  ...                       ...    ...\n",
            "4596            0.31               0.00  ...                        88      0\n",
            "4597            0.00               0.00  ...                        14      0\n",
            "4598            0.30               0.00  ...                       118      0\n",
            "4599            0.96               0.00  ...                        78      0\n",
            "4600            0.00               0.00  ...                        40      0\n",
            "\n",
            "[4601 rows x 58 columns]\n"
          ],
          "name": "stdout"
        }
      ]
    },
    {
      "cell_type": "code",
      "metadata": {
        "id": "2UG8KAbF7wZD"
      },
      "source": [
        "target = df.pop('class')"
      ],
      "execution_count": 5,
      "outputs": []
    },
    {
      "cell_type": "code",
      "metadata": {
        "id": "sl-jGqPF71Lc",
        "colab": {
          "base_uri": "https://localhost:8080/"
        },
        "outputId": "1d016d0d-a2a4-4fb4-ff86-2ac41632d17d"
      },
      "source": [
        "print(target)"
      ],
      "execution_count": 6,
      "outputs": [
        {
          "output_type": "stream",
          "text": [
            "0       1\n",
            "1       1\n",
            "2       1\n",
            "3       1\n",
            "4       1\n",
            "       ..\n",
            "4596    0\n",
            "4597    0\n",
            "4598    0\n",
            "4599    0\n",
            "4600    0\n",
            "Name: class, Length: 4601, dtype: int64\n"
          ],
          "name": "stdout"
        }
      ]
    },
    {
      "cell_type": "code",
      "metadata": {
        "id": "FMhAVQp676Pp"
      },
      "source": [
        "from sklearn.ensemble import RandomForestClassifier"
      ],
      "execution_count": 7,
      "outputs": []
    },
    {
      "cell_type": "code",
      "metadata": {
        "id": "PC1vgs2a8DWi"
      },
      "source": [
        "seed = 168"
      ],
      "execution_count": 8,
      "outputs": []
    },
    {
      "cell_type": "code",
      "metadata": {
        "id": "M_NSuDKU8BQq"
      },
      "source": [
        "rf_model = RandomForestClassifier(random_state=seed)"
      ],
      "execution_count": 9,
      "outputs": []
    },
    {
      "cell_type": "code",
      "metadata": {
        "id": "H4p4BC6D8GD1",
        "colab": {
          "base_uri": "https://localhost:8080/"
        },
        "outputId": "6bc2485e-5af0-4783-bcff-dcac8f1f7cc0"
      },
      "source": [
        "rf_model.fit(df, target)"
      ],
      "execution_count": 10,
      "outputs": [
        {
          "output_type": "execute_result",
          "data": {
            "text/plain": [
              "RandomForestClassifier(bootstrap=True, ccp_alpha=0.0, class_weight=None,\n",
              "                       criterion='gini', max_depth=None, max_features='auto',\n",
              "                       max_leaf_nodes=None, max_samples=None,\n",
              "                       min_impurity_decrease=0.0, min_impurity_split=None,\n",
              "                       min_samples_leaf=1, min_samples_split=2,\n",
              "                       min_weight_fraction_leaf=0.0, n_estimators=100,\n",
              "                       n_jobs=None, oob_score=False, random_state=168,\n",
              "                       verbose=0, warm_start=False)"
            ]
          },
          "metadata": {
            "tags": []
          },
          "execution_count": 10
        }
      ]
    },
    {
      "cell_type": "code",
      "metadata": {
        "id": "4udU7PC68KSM"
      },
      "source": [
        "preds = rf_model.predict(df)"
      ],
      "execution_count": 11,
      "outputs": []
    },
    {
      "cell_type": "code",
      "metadata": {
        "id": "Fe6XUUSf_YbP",
        "colab": {
          "base_uri": "https://localhost:8080/"
        },
        "outputId": "c0a30a84-f6a1-4564-e94c-bedbd5e84168"
      },
      "source": [
        "print(preds)"
      ],
      "execution_count": 12,
      "outputs": [
        {
          "output_type": "stream",
          "text": [
            "[1 1 1 ... 0 0 0]\n"
          ],
          "name": "stdout"
        }
      ]
    },
    {
      "cell_type": "code",
      "metadata": {
        "id": "7UtNAj-d-1JC"
      },
      "source": [
        "from sklearn.metrics import accuracy_score"
      ],
      "execution_count": 13,
      "outputs": []
    },
    {
      "cell_type": "code",
      "metadata": {
        "id": "Pi0wiBZ9_j6y"
      },
      "source": [
        "acc_score = accuracy_score(target, preds)"
      ],
      "execution_count": 14,
      "outputs": []
    },
    {
      "cell_type": "code",
      "metadata": {
        "id": "NxfBXpEB-4Bw",
        "colab": {
          "base_uri": "https://localhost:8080/"
        },
        "outputId": "a0235937-89d0-4e93-aed0-869969a32f36"
      },
      "source": [
        "print(acc_score)"
      ],
      "execution_count": 15,
      "outputs": [
        {
          "output_type": "stream",
          "text": [
            "0.9993479678330798\n"
          ],
          "name": "stdout"
        }
      ]
    }
  ]
}