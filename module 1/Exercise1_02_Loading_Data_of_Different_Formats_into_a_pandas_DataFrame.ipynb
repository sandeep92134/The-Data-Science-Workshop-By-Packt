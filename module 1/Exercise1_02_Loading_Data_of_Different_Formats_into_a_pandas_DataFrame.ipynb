{
  "nbformat": 4,
  "nbformat_minor": 0,
  "metadata": {
    "colab": {
      "name": "Exercise1.02 : Loading Data of Different Formats into a pandas DataFrame.ipynb",
      "provenance": [],
      "collapsed_sections": [],
      "include_colab_link": true
    },
    "kernelspec": {
      "name": "python3",
      "display_name": "Python 3"
    }
  },
  "cells": [
    {
      "cell_type": "markdown",
      "metadata": {
        "id": "view-in-github",
        "colab_type": "text"
      },
      "source": [
        "<a href=\"https://colab.research.google.com/github/sandeep92134/The-Data-Science-Workshop-By-Packt/blob/master/module%201/Exercise1_02_Loading_Data_of_Different_Formats_into_a_pandas_DataFrame.ipynb\" target=\"_parent\"><img src=\"https://colab.research.google.com/assets/colab-badge.svg\" alt=\"Open In Colab\"/></a>"
      ]
    },
    {
      "cell_type": "code",
      "metadata": {
        "id": "bPe8tlE4ShtQ"
      },
      "source": [
        "import pandas as pd"
      ],
      "execution_count": 1,
      "outputs": []
    },
    {
      "cell_type": "code",
      "metadata": {
        "id": "0RJHtTTTS8ak"
      },
      "source": [
        "csv_url = 'https://raw.githubusercontent.com/PacktWorkshops/The-Data-Science-Workshop/master/Chapter01/Dataset/overall_topten_2012-2013.csv'"
      ],
      "execution_count": 2,
      "outputs": []
    },
    {
      "cell_type": "code",
      "metadata": {
        "id": "V5PMuIMCVv3S",
        "colab": {
          "base_uri": "https://localhost:8080/",
          "height": 359
        },
        "outputId": "bd8c8244-c7cb-400b-b510-312918185a67"
      },
      "source": [
        "csv_df = pd.read_csv(csv_url, skiprows=1)\n",
        "csv_df"
      ],
      "execution_count": 3,
      "outputs": [
        {
          "output_type": "execute_result",
          "data": {
            "text/html": [
              "<div>\n",
              "<style scoped>\n",
              "    .dataframe tbody tr th:only-of-type {\n",
              "        vertical-align: middle;\n",
              "    }\n",
              "\n",
              "    .dataframe tbody tr th {\n",
              "        vertical-align: top;\n",
              "    }\n",
              "\n",
              "    .dataframe thead th {\n",
              "        text-align: right;\n",
              "    }\n",
              "</style>\n",
              "<table border=\"1\" class=\"dataframe\">\n",
              "  <thead>\n",
              "    <tr style=\"text-align: right;\">\n",
              "      <th></th>\n",
              "      <th>Number</th>\n",
              "      <th>Postcode</th>\n",
              "      <th>Suburbs</th>\n",
              "      <th>Number of Applications</th>\n",
              "    </tr>\n",
              "  </thead>\n",
              "  <tbody>\n",
              "    <tr>\n",
              "      <th>0</th>\n",
              "      <td>1</td>\n",
              "      <td>3029</td>\n",
              "      <td>Hoppers Crossing, Tarneit</td>\n",
              "      <td>1069</td>\n",
              "    </tr>\n",
              "    <tr>\n",
              "      <th>1</th>\n",
              "      <td>2</td>\n",
              "      <td>3977</td>\n",
              "      <td>Cranbourne, Devon Meadows, Skye</td>\n",
              "      <td>1037</td>\n",
              "    </tr>\n",
              "    <tr>\n",
              "      <th>2</th>\n",
              "      <td>3</td>\n",
              "      <td>3064</td>\n",
              "      <td>Craigieburn, Donnybrook, Roxburgh Park, Mickleham</td>\n",
              "      <td>821</td>\n",
              "    </tr>\n",
              "    <tr>\n",
              "      <th>3</th>\n",
              "      <td>4</td>\n",
              "      <td>3030</td>\n",
              "      <td>Point Cook, Werribee, Derrimut</td>\n",
              "      <td>816</td>\n",
              "    </tr>\n",
              "    <tr>\n",
              "      <th>4</th>\n",
              "      <td>5</td>\n",
              "      <td>3754</td>\n",
              "      <td>Doreen, Mernda</td>\n",
              "      <td>530</td>\n",
              "    </tr>\n",
              "    <tr>\n",
              "      <th>5</th>\n",
              "      <td>6</td>\n",
              "      <td>3810</td>\n",
              "      <td>Pakenham, Rythdale</td>\n",
              "      <td>479</td>\n",
              "    </tr>\n",
              "    <tr>\n",
              "      <th>6</th>\n",
              "      <td>7</td>\n",
              "      <td>3350</td>\n",
              "      <td>Alfredton, Ballarat, Canadian, Invermay Park, ...</td>\n",
              "      <td>383</td>\n",
              "    </tr>\n",
              "    <tr>\n",
              "      <th>7</th>\n",
              "      <td>8</td>\n",
              "      <td>3216</td>\n",
              "      <td>Belmont, Grovedale, Highton, Marshall, Waurn P...</td>\n",
              "      <td>351</td>\n",
              "    </tr>\n",
              "    <tr>\n",
              "      <th>8</th>\n",
              "      <td>9</td>\n",
              "      <td>3136</td>\n",
              "      <td>Croydon, Croydon Hills, Croydon North, Croydon...</td>\n",
              "      <td>344</td>\n",
              "    </tr>\n",
              "    <tr>\n",
              "      <th>9</th>\n",
              "      <td>10</td>\n",
              "      <td>3805</td>\n",
              "      <td>Fountain Gate, Narre Warren, Narre Warren South</td>\n",
              "      <td>335</td>\n",
              "    </tr>\n",
              "  </tbody>\n",
              "</table>\n",
              "</div>"
            ],
            "text/plain": [
              "   Number  ...  Number of Applications\n",
              "0       1  ...                    1069\n",
              "1       2  ...                    1037\n",
              "2       3  ...                     821\n",
              "3       4  ...                     816\n",
              "4       5  ...                     530\n",
              "5       6  ...                     479\n",
              "6       7  ...                     383\n",
              "7       8  ...                     351\n",
              "8       9  ...                     344\n",
              "9      10  ...                     335\n",
              "\n",
              "[10 rows x 4 columns]"
            ]
          },
          "metadata": {
            "tags": []
          },
          "execution_count": 3
        }
      ]
    },
    {
      "cell_type": "code",
      "metadata": {
        "id": "DzO8pIA3Vwe1"
      },
      "source": [
        "tsv_url = 'https://raw.githubusercontent.com/PacktWorkshops/The-Data-Science-Workshop/master/Chapter01/Dataset/overall_topten_2012-2013.tsv'"
      ],
      "execution_count": 4,
      "outputs": []
    },
    {
      "cell_type": "code",
      "metadata": {
        "id": "p8zUaSDuV3zp",
        "colab": {
          "base_uri": "https://localhost:8080/",
          "height": 359
        },
        "outputId": "16f05781-c3b4-43c7-aead-75d60793a13c"
      },
      "source": [
        "tsv_df = pd.read_csv(tsv_url, skiprows=1, sep='\\t')\n",
        "tsv_df"
      ],
      "execution_count": 5,
      "outputs": [
        {
          "output_type": "execute_result",
          "data": {
            "text/html": [
              "<div>\n",
              "<style scoped>\n",
              "    .dataframe tbody tr th:only-of-type {\n",
              "        vertical-align: middle;\n",
              "    }\n",
              "\n",
              "    .dataframe tbody tr th {\n",
              "        vertical-align: top;\n",
              "    }\n",
              "\n",
              "    .dataframe thead th {\n",
              "        text-align: right;\n",
              "    }\n",
              "</style>\n",
              "<table border=\"1\" class=\"dataframe\">\n",
              "  <thead>\n",
              "    <tr style=\"text-align: right;\">\n",
              "      <th></th>\n",
              "      <th>Number</th>\n",
              "      <th>Postcode</th>\n",
              "      <th>Suburbs</th>\n",
              "      <th>Number of Applications</th>\n",
              "    </tr>\n",
              "  </thead>\n",
              "  <tbody>\n",
              "    <tr>\n",
              "      <th>0</th>\n",
              "      <td>1</td>\n",
              "      <td>3029</td>\n",
              "      <td>Hoppers Crossing, Tarneit</td>\n",
              "      <td>1069</td>\n",
              "    </tr>\n",
              "    <tr>\n",
              "      <th>1</th>\n",
              "      <td>2</td>\n",
              "      <td>3977</td>\n",
              "      <td>Cranbourne, Devon Meadows, Skye</td>\n",
              "      <td>1037</td>\n",
              "    </tr>\n",
              "    <tr>\n",
              "      <th>2</th>\n",
              "      <td>3</td>\n",
              "      <td>3064</td>\n",
              "      <td>Craigieburn, Donnybrook, Roxburgh Park, Mickleham</td>\n",
              "      <td>821</td>\n",
              "    </tr>\n",
              "    <tr>\n",
              "      <th>3</th>\n",
              "      <td>4</td>\n",
              "      <td>3030</td>\n",
              "      <td>Point Cook, Werribee, Derrimut</td>\n",
              "      <td>816</td>\n",
              "    </tr>\n",
              "    <tr>\n",
              "      <th>4</th>\n",
              "      <td>5</td>\n",
              "      <td>3754</td>\n",
              "      <td>Doreen, Mernda</td>\n",
              "      <td>530</td>\n",
              "    </tr>\n",
              "    <tr>\n",
              "      <th>5</th>\n",
              "      <td>6</td>\n",
              "      <td>3810</td>\n",
              "      <td>Pakenham, Rythdale</td>\n",
              "      <td>479</td>\n",
              "    </tr>\n",
              "    <tr>\n",
              "      <th>6</th>\n",
              "      <td>7</td>\n",
              "      <td>3350</td>\n",
              "      <td>Alfredton, Ballarat, Canadian, Invermay Park, ...</td>\n",
              "      <td>383</td>\n",
              "    </tr>\n",
              "    <tr>\n",
              "      <th>7</th>\n",
              "      <td>8</td>\n",
              "      <td>3216</td>\n",
              "      <td>Belmont, Grovedale, Highton, Marshall, Waurn P...</td>\n",
              "      <td>351</td>\n",
              "    </tr>\n",
              "    <tr>\n",
              "      <th>8</th>\n",
              "      <td>9</td>\n",
              "      <td>3136</td>\n",
              "      <td>Croydon, Croydon Hills, Croydon North, Croydon...</td>\n",
              "      <td>344</td>\n",
              "    </tr>\n",
              "    <tr>\n",
              "      <th>9</th>\n",
              "      <td>10</td>\n",
              "      <td>3805</td>\n",
              "      <td>Fountain Gate, Narre Warren, Narre Warren South</td>\n",
              "      <td>335</td>\n",
              "    </tr>\n",
              "  </tbody>\n",
              "</table>\n",
              "</div>"
            ],
            "text/plain": [
              "   Number  ...  Number of Applications\n",
              "0       1  ...                    1069\n",
              "1       2  ...                    1037\n",
              "2       3  ...                     821\n",
              "3       4  ...                     816\n",
              "4       5  ...                     530\n",
              "5       6  ...                     479\n",
              "6       7  ...                     383\n",
              "7       8  ...                     351\n",
              "8       9  ...                     344\n",
              "9      10  ...                     335\n",
              "\n",
              "[10 rows x 4 columns]"
            ]
          },
          "metadata": {
            "tags": []
          },
          "execution_count": 5
        }
      ]
    },
    {
      "cell_type": "code",
      "metadata": {
        "id": "wgswI12UV3-m"
      },
      "source": [
        "xlsx_url = 'https://github.com/PacktWorkshops/The-Data-Science-Workshop/blob/master/Chapter01/Dataset/overall_topten_2012-2013.xlsx?raw=true'"
      ],
      "execution_count": 6,
      "outputs": []
    },
    {
      "cell_type": "code",
      "metadata": {
        "id": "j2iQakbMYK_t",
        "colab": {
          "base_uri": "https://localhost:8080/",
          "height": 49
        },
        "outputId": "20db63e2-f1f6-44dd-b12a-f21138c6c825"
      },
      "source": [
        "xlsx_df = pd.read_excel(xlsx_url)\n",
        "xlsx_df"
      ],
      "execution_count": 7,
      "outputs": [
        {
          "output_type": "execute_result",
          "data": {
            "text/html": [
              "<div>\n",
              "<style scoped>\n",
              "    .dataframe tbody tr th:only-of-type {\n",
              "        vertical-align: middle;\n",
              "    }\n",
              "\n",
              "    .dataframe tbody tr th {\n",
              "        vertical-align: top;\n",
              "    }\n",
              "\n",
              "    .dataframe thead th {\n",
              "        text-align: right;\n",
              "    }\n",
              "</style>\n",
              "<table border=\"1\" class=\"dataframe\">\n",
              "  <thead>\n",
              "    <tr style=\"text-align: right;\">\n",
              "      <th></th>\n",
              "      <th>This tab doesn't contain the data we are looking for</th>\n",
              "    </tr>\n",
              "  </thead>\n",
              "  <tbody>\n",
              "  </tbody>\n",
              "</table>\n",
              "</div>"
            ],
            "text/plain": [
              "Empty DataFrame\n",
              "Columns: [This tab doesn't contain the data we are looking for]\n",
              "Index: []"
            ]
          },
          "metadata": {
            "tags": []
          },
          "execution_count": 7
        }
      ]
    },
    {
      "cell_type": "code",
      "metadata": {
        "id": "OZb8mM7_W5bM",
        "colab": {
          "base_uri": "https://localhost:8080/",
          "height": 359
        },
        "outputId": "db89b4e6-adf5-4091-fa6e-687f01c50571"
      },
      "source": [
        "xlsx_df1 = pd.read_excel(xlsx_url, skiprows=1, sheet_name=1)\n",
        "xlsx_df1"
      ],
      "execution_count": 8,
      "outputs": [
        {
          "output_type": "execute_result",
          "data": {
            "text/html": [
              "<div>\n",
              "<style scoped>\n",
              "    .dataframe tbody tr th:only-of-type {\n",
              "        vertical-align: middle;\n",
              "    }\n",
              "\n",
              "    .dataframe tbody tr th {\n",
              "        vertical-align: top;\n",
              "    }\n",
              "\n",
              "    .dataframe thead th {\n",
              "        text-align: right;\n",
              "    }\n",
              "</style>\n",
              "<table border=\"1\" class=\"dataframe\">\n",
              "  <thead>\n",
              "    <tr style=\"text-align: right;\">\n",
              "      <th></th>\n",
              "      <th>Number</th>\n",
              "      <th>Postcode</th>\n",
              "      <th>Suburbs</th>\n",
              "      <th>Number of Applications</th>\n",
              "    </tr>\n",
              "  </thead>\n",
              "  <tbody>\n",
              "    <tr>\n",
              "      <th>0</th>\n",
              "      <td>1</td>\n",
              "      <td>3029</td>\n",
              "      <td>Hoppers Crossing, Tarneit</td>\n",
              "      <td>1069</td>\n",
              "    </tr>\n",
              "    <tr>\n",
              "      <th>1</th>\n",
              "      <td>2</td>\n",
              "      <td>3977</td>\n",
              "      <td>Cranbourne, Devon Meadows, Skye</td>\n",
              "      <td>1037</td>\n",
              "    </tr>\n",
              "    <tr>\n",
              "      <th>2</th>\n",
              "      <td>3</td>\n",
              "      <td>3064</td>\n",
              "      <td>Craigieburn, Donnybrook, Roxburgh Park, Mickleham</td>\n",
              "      <td>821</td>\n",
              "    </tr>\n",
              "    <tr>\n",
              "      <th>3</th>\n",
              "      <td>4</td>\n",
              "      <td>3030</td>\n",
              "      <td>Point Cook, Werribee, Derrimut</td>\n",
              "      <td>816</td>\n",
              "    </tr>\n",
              "    <tr>\n",
              "      <th>4</th>\n",
              "      <td>5</td>\n",
              "      <td>3754</td>\n",
              "      <td>Doreen, Mernda</td>\n",
              "      <td>530</td>\n",
              "    </tr>\n",
              "    <tr>\n",
              "      <th>5</th>\n",
              "      <td>6</td>\n",
              "      <td>3810</td>\n",
              "      <td>Pakenham, Rythdale</td>\n",
              "      <td>479</td>\n",
              "    </tr>\n",
              "    <tr>\n",
              "      <th>6</th>\n",
              "      <td>7</td>\n",
              "      <td>3350</td>\n",
              "      <td>Alfredton, Ballarat, Canadian, Invermay Park, ...</td>\n",
              "      <td>383</td>\n",
              "    </tr>\n",
              "    <tr>\n",
              "      <th>7</th>\n",
              "      <td>8</td>\n",
              "      <td>3216</td>\n",
              "      <td>Belmont, Grovedale, Highton, Marshall, Waurn P...</td>\n",
              "      <td>351</td>\n",
              "    </tr>\n",
              "    <tr>\n",
              "      <th>8</th>\n",
              "      <td>9</td>\n",
              "      <td>3136</td>\n",
              "      <td>Croydon, Croydon Hills, Croydon North, Croydon...</td>\n",
              "      <td>344</td>\n",
              "    </tr>\n",
              "    <tr>\n",
              "      <th>9</th>\n",
              "      <td>10</td>\n",
              "      <td>3805</td>\n",
              "      <td>Fountain Gate, Narre Warren, Narre Warren South</td>\n",
              "      <td>335</td>\n",
              "    </tr>\n",
              "  </tbody>\n",
              "</table>\n",
              "</div>"
            ],
            "text/plain": [
              "   Number  ...  Number of Applications\n",
              "0       1  ...                    1069\n",
              "1       2  ...                    1037\n",
              "2       3  ...                     821\n",
              "3       4  ...                     816\n",
              "4       5  ...                     530\n",
              "5       6  ...                     479\n",
              "6       7  ...                     383\n",
              "7       8  ...                     351\n",
              "8       9  ...                     344\n",
              "9      10  ...                     335\n",
              "\n",
              "[10 rows x 4 columns]"
            ]
          },
          "metadata": {
            "tags": []
          },
          "execution_count": 8
        }
      ]
    }
  ]
}