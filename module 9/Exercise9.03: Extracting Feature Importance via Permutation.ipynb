{
  "nbformat": 4,
  "nbformat_minor": 0,
  "metadata": {
    "colab": {
      "name": "Exercise9_03.ipynb",
      "provenance": [],
      "collapsed_sections": [],
      "include_colab_link": true
    },
    "kernelspec": {
      "name": "python3",
      "display_name": "Python 3"
    }
  },
  "cells": [
    {
      "cell_type": "markdown",
      "metadata": {
        "id": "view-in-github",
        "colab_type": "text"
      },
      "source": [
        "<a href=\"https://colab.research.google.com/github/sandeep92134/The-Data-Science-Workshop-By-Packt/blob/master/module%209/Exercise9.03%3A%20Extracting%20Feature%20Importance%20via%20Permutation.ipynb\" target=\"_parent\"><img src=\"https://colab.research.google.com/assets/colab-badge.svg\" alt=\"Open In Colab\"/></a>"
      ]
    },
    {
      "cell_type": "code",
      "metadata": {
        "id": "RCQKxdZOjw_2"
      },
      "source": [
        "import pandas as pd\n",
        "from sklearn.model_selection import train_test_split\n",
        "from sklearn.ensemble import RandomForestRegressor\n",
        "from mlxtend.evaluate import feature_importance_permutation\n",
        "import altair as alt"
      ],
      "execution_count": 1,
      "outputs": []
    },
    {
      "cell_type": "code",
      "metadata": {
        "id": "tm5mPWzJkRLO"
      },
      "source": [
        "file_url = 'https://raw.githubusercontent.com/sandeep92134/The-Data-Science-Workshop-By-Packt/master/module%209/datasets/phpYYZ4Qc.csv'"
      ],
      "execution_count": 2,
      "outputs": []
    },
    {
      "cell_type": "code",
      "metadata": {
        "id": "FEC78ZbAj3Vb"
      },
      "source": [
        "df = pd.read_csv(file_url)"
      ],
      "execution_count": 3,
      "outputs": []
    },
    {
      "cell_type": "code",
      "metadata": {
        "id": "IxiwVfiJq8KL"
      },
      "source": [
        "y = df.pop('rej')"
      ],
      "execution_count": 4,
      "outputs": []
    },
    {
      "cell_type": "code",
      "metadata": {
        "id": "ifR4fTCIrJBe"
      },
      "source": [
        "X_train, X_test, y_train, y_test = train_test_split(df, y, test_size=0.3, random_state=1)"
      ],
      "execution_count": 5,
      "outputs": []
    },
    {
      "cell_type": "code",
      "metadata": {
        "id": "LF-qSSFXCaHa"
      },
      "source": [
        "rf_model = RandomForestRegressor(random_state=1, n_estimators=50, max_depth=6, min_samples_leaf=60)"
      ],
      "execution_count": 6,
      "outputs": []
    },
    {
      "cell_type": "code",
      "metadata": {
        "id": "CB2JS9B2CaJ8",
        "colab": {
          "base_uri": "https://localhost:8080/"
        },
        "outputId": "fce6e94d-61ab-4a59-9feb-3f908db31f59"
      },
      "source": [
        "rf_model.fit(X_train, y_train)"
      ],
      "execution_count": 7,
      "outputs": [
        {
          "output_type": "execute_result",
          "data": {
            "text/plain": [
              "RandomForestRegressor(bootstrap=True, ccp_alpha=0.0, criterion='mse',\n",
              "                      max_depth=6, max_features='auto', max_leaf_nodes=None,\n",
              "                      max_samples=None, min_impurity_decrease=0.0,\n",
              "                      min_impurity_split=None, min_samples_leaf=60,\n",
              "                      min_samples_split=2, min_weight_fraction_leaf=0.0,\n",
              "                      n_estimators=50, n_jobs=None, oob_score=False,\n",
              "                      random_state=1, verbose=0, warm_start=False)"
            ]
          },
          "metadata": {
            "tags": []
          },
          "execution_count": 7
        }
      ]
    },
    {
      "cell_type": "code",
      "metadata": {
        "id": "K3QQ305yvYWM",
        "colab": {
          "base_uri": "https://localhost:8080/"
        },
        "outputId": "d092c93a-c6c4-4c95-90e8-4a447e96def7"
      },
      "source": [
        "imp_vals, _ = feature_importance_permutation(predict_method=rf_model.predict, X=X_test.values, y=y_test.values, metric='r2', num_rounds=1, seed=2)\n",
        "imp_vals"
      ],
      "execution_count": 8,
      "outputs": [
        {
          "output_type": "execute_result",
          "data": {
            "text/plain": [
              "array([ 0.00000000e+00, -3.34728428e-05, -2.83476215e-05,  1.03738033e-04,\n",
              "        4.61246775e-06,  1.96879681e-01,  8.71635991e-05, -7.16980150e-05,\n",
              "        3.28788126e-04,  1.05860288e-03,  0.00000000e+00,  5.56589408e-01,\n",
              "       -4.31208212e-05,  1.13215046e-04,  2.22409533e-05,  5.96895938e-05,\n",
              "        5.35704113e-05,  1.76990072e-01,  2.81084956e-03,  6.79193119e-05,\n",
              "        0.00000000e+00,  0.00000000e+00,  1.16553234e-02,  2.77582324e-05,\n",
              "        1.40812233e-04,  1.96362926e-06,  3.66606090e-04, -1.82522826e-04,\n",
              "        1.14460108e-05,  3.72080724e-05,  0.00000000e+00,  5.54878998e-04])"
            ]
          },
          "metadata": {
            "tags": []
          },
          "execution_count": 8
        }
      ]
    },
    {
      "cell_type": "code",
      "metadata": {
        "id": "dNumrsgTwcTH"
      },
      "source": [
        "varimp_df = pd.DataFrame({'feature': df.columns, 'importance': imp_vals})"
      ],
      "execution_count": 9,
      "outputs": []
    },
    {
      "cell_type": "code",
      "metadata": {
        "id": "0INCKVEIwkFB",
        "colab": {
          "base_uri": "https://localhost:8080/",
          "height": 703
        },
        "outputId": "da9a5878-0bc1-452d-880e-4124dbef0e6e"
      },
      "source": [
        "alt.Chart(varimp_df).mark_bar().encode(\n",
        "    x='importance',\n",
        "    y=\"feature\"\n",
        ")"
      ],
      "execution_count": 10,
      "outputs": [
        {
          "output_type": "execute_result",
          "data": {
            "text/plain": [
              "alt.Chart(...)"
            ],
            "text/html": [
              "\n",
              "<div id=\"altair-viz-eb45fb77f66b4c3eba2214b53cea1b54\"></div>\n",
              "<script type=\"text/javascript\">\n",
              "  (function(spec, embedOpt){\n",
              "    let outputDiv = document.currentScript.previousElementSibling;\n",
              "    if (outputDiv.id !== \"altair-viz-eb45fb77f66b4c3eba2214b53cea1b54\") {\n",
              "      outputDiv = document.getElementById(\"altair-viz-eb45fb77f66b4c3eba2214b53cea1b54\");\n",
              "    }\n",
              "    const paths = {\n",
              "      \"vega\": \"https://cdn.jsdelivr.net/npm//vega@5?noext\",\n",
              "      \"vega-lib\": \"https://cdn.jsdelivr.net/npm//vega-lib?noext\",\n",
              "      \"vega-lite\": \"https://cdn.jsdelivr.net/npm//vega-lite@4.8.1?noext\",\n",
              "      \"vega-embed\": \"https://cdn.jsdelivr.net/npm//vega-embed@6?noext\",\n",
              "    };\n",
              "\n",
              "    function loadScript(lib) {\n",
              "      return new Promise(function(resolve, reject) {\n",
              "        var s = document.createElement('script');\n",
              "        s.src = paths[lib];\n",
              "        s.async = true;\n",
              "        s.onload = () => resolve(paths[lib]);\n",
              "        s.onerror = () => reject(`Error loading script: ${paths[lib]}`);\n",
              "        document.getElementsByTagName(\"head\")[0].appendChild(s);\n",
              "      });\n",
              "    }\n",
              "\n",
              "    function showError(err) {\n",
              "      outputDiv.innerHTML = `<div class=\"error\" style=\"color:red;\">${err}</div>`;\n",
              "      throw err;\n",
              "    }\n",
              "\n",
              "    function displayChart(vegaEmbed) {\n",
              "      vegaEmbed(outputDiv, spec, embedOpt)\n",
              "        .catch(err => showError(`Javascript Error: ${err.message}<br>This usually means there's a typo in your chart specification. See the javascript console for the full traceback.`));\n",
              "    }\n",
              "\n",
              "    if(typeof define === \"function\" && define.amd) {\n",
              "      requirejs.config({paths});\n",
              "      require([\"vega-embed\"], displayChart, err => showError(`Error loading script: ${err.message}`));\n",
              "    } else if (typeof vegaEmbed === \"function\") {\n",
              "      displayChart(vegaEmbed);\n",
              "    } else {\n",
              "      loadScript(\"vega\")\n",
              "        .then(() => loadScript(\"vega-lite\"))\n",
              "        .then(() => loadScript(\"vega-embed\"))\n",
              "        .catch(showError)\n",
              "        .then(() => displayChart(vegaEmbed));\n",
              "    }\n",
              "  })({\"config\": {\"view\": {\"continuousWidth\": 400, \"continuousHeight\": 300}}, \"data\": {\"name\": \"data-20b2d33f372c2499f1fac7ed482c83f2\"}, \"mark\": \"bar\", \"encoding\": {\"x\": {\"type\": \"quantitative\", \"field\": \"importance\"}, \"y\": {\"type\": \"nominal\", \"field\": \"feature\"}}, \"$schema\": \"https://vega.github.io/schema/vega-lite/v4.8.1.json\", \"datasets\": {\"data-20b2d33f372c2499f1fac7ed482c83f2\": [{\"feature\": \"a1cx\", \"importance\": 0.0}, {\"feature\": \"a1cy\", \"importance\": -3.3472842758230925e-05}, {\"feature\": \"a1sx\", \"importance\": -2.8347621479074547e-05}, {\"feature\": \"a1sy\", \"importance\": 0.00010373803256680247}, {\"feature\": \"a1rho\", \"importance\": 4.6124677544057135e-06}, {\"feature\": \"a1pop\", \"importance\": 0.1968796809326493}, {\"feature\": \"a2cx\", \"importance\": 8.71635991112063e-05}, {\"feature\": \"a2cy\", \"importance\": -7.169801497908246e-05}, {\"feature\": \"a2sx\", \"importance\": 0.000328788125539492}, {\"feature\": \"a2sy\", \"importance\": 0.0010586028816667037}, {\"feature\": \"a2rho\", \"importance\": 0.0}, {\"feature\": \"a2pop\", \"importance\": 0.5565894075374841}, {\"feature\": \"a3cx\", \"importance\": -4.312082118473892e-05}, {\"feature\": \"a3cy\", \"importance\": 0.0001132150459201009}, {\"feature\": \"a3sx\", \"importance\": 2.2240953344243586e-05}, {\"feature\": \"a3sy\", \"importance\": 5.968959376490002e-05}, {\"feature\": \"a3rho\", \"importance\": 5.357041130316098e-05}, {\"feature\": \"a3pop\", \"importance\": 0.1769900724933482}, {\"feature\": \"temp\", \"importance\": 0.0028108495620101648}, {\"feature\": \"b1x\", \"importance\": 6.7919311896536e-05}, {\"feature\": \"b1y\", \"importance\": 0.0}, {\"feature\": \"b1call\", \"importance\": 0.0}, {\"feature\": \"b1eff\", \"importance\": 0.01165532340291986}, {\"feature\": \"b2x\", \"importance\": 2.7758232422958606e-05}, {\"feature\": \"b2y\", \"importance\": 0.00014081223328088477}, {\"feature\": \"b2call\", \"importance\": 1.9636292638569586e-06}, {\"feature\": \"b2eff\", \"importance\": 0.00036660609007155287}, {\"feature\": \"b3x\", \"importance\": -0.00018252282577280177}, {\"feature\": \"b3y\", \"importance\": 1.1446010768523251e-05}, {\"feature\": \"b3call\", \"importance\": 3.7208072350969346e-05}, {\"feature\": \"b3eff\", \"importance\": 0.0}, {\"feature\": \"mxql\", \"importance\": 0.0005548789984545222}]}}, {\"mode\": \"vega-lite\"});\n",
              "</script>"
            ]
          },
          "metadata": {
            "tags": []
          },
          "execution_count": 10
        }
      ]
    }
  ]
}